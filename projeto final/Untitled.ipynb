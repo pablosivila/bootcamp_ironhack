{
 "cells": [
  {
   "cell_type": "code",
   "execution_count": 58,
   "metadata": {},
   "outputs": [],
   "source": [
    "import flatlib\n",
    "import geopy"
   ]
  },
  {
   "cell_type": "code",
   "execution_count": 2,
   "metadata": {},
   "outputs": [
    {
     "data": {
      "text/plain": [
       "<module 'flatlib' from 'C:\\\\Users\\\\ferna\\\\Anaconda3\\\\lib\\\\site-packages\\\\flatlib\\\\__init__.py'>"
      ]
     },
     "execution_count": 2,
     "metadata": {},
     "output_type": "execute_result"
    }
   ],
   "source": [
    "flatlib"
   ]
  },
  {
   "cell_type": "code",
   "execution_count": 59,
   "metadata": {},
   "outputs": [],
   "source": [
    "from flatlib.datetime import Datetime\n",
    "from flatlib.geopos import GeoPos\n",
    "from flatlib.chart import Chart\n",
    "from geopy.geocoders import Nominatim"
   ]
  },
  {
   "cell_type": "code",
   "execution_count": 17,
   "metadata": {},
   "outputs": [],
   "source": [
    "date_rog = Datetime('1994/10/03', '12:45', '-03:00')"
   ]
  },
  {
   "cell_type": "code",
   "execution_count": 18,
   "metadata": {},
   "outputs": [],
   "source": [
    "pos_rog = GeoPos('23s41', '46w33')"
   ]
  },
  {
   "cell_type": "code",
   "execution_count": 19,
   "metadata": {},
   "outputs": [],
   "source": [
    "chart_rog = Chart(date_rog,pos_rog)"
   ]
  },
  {
   "cell_type": "code",
   "execution_count": 20,
   "metadata": {},
   "outputs": [
    {
     "name": "stdout",
     "output_type": "stream",
     "text": [
      "<Sun Libra +10:12:10 +00:59:06>\n",
      "<Moon Virgo +19:33:53 +14:27:22>\n",
      "<Mercury Scorpio +04:48:15 +00:33:23>\n",
      "<Venus Scorpio +16:19:25 +00:20:13>\n",
      "<Mars Cancer +29:25:56 +00:34:04>\n",
      "<Jupiter Scorpio +15:35:34 +00:11:53>\n",
      "<Saturn Pisces +06:47:07 -00:03:24>\n",
      "<North Node Scorpio +16:29:56 -00:03:11>\n",
      "<South Node Taurus +16:29:56 -00:03:11>\n",
      "<Syzygy Pisces +26:38:51 +12:26:16>\n",
      "<Pars Fortuna Capricorn +08:24:07 +00:00:00>\n"
     ]
    }
   ],
   "source": [
    "for obj in chart_rog.objects:\n",
    "     print(obj)"
   ]
  },
  {
   "cell_type": "code",
   "execution_count": null,
   "metadata": {},
   "outputs": [],
   "source": []
  },
  {
   "cell_type": "code",
   "execution_count": 25,
   "metadata": {},
   "outputs": [],
   "source": [
    "date_molena = Datetime('1995/02/12', '09:30', '-03:00')"
   ]
  },
  {
   "cell_type": "code",
   "execution_count": 22,
   "metadata": {},
   "outputs": [],
   "source": [
    "pos_molena = GeoPos('23s11', '46w53')"
   ]
  },
  {
   "cell_type": "code",
   "execution_count": 26,
   "metadata": {},
   "outputs": [],
   "source": [
    "chart_molena = Chart(date_molena,pos_molena)"
   ]
  },
  {
   "cell_type": "code",
   "execution_count": 27,
   "metadata": {},
   "outputs": [
    {
     "name": "stdout",
     "output_type": "stream",
     "text": [
      "<Sun Aquarius +23:19:30 +01:00:40>\n",
      "<Moon Cancer +17:57:35 +12:25:18>\n",
      "<Mercury Aquarius +06:28:27 -00:28:21>\n",
      "<Venus Capricorn +08:40:47 +01:08:24>\n",
      "<Mars Leo +22:44:19 -00:23:57>\n",
      "<Jupiter Sagittarius +12:00:06 +00:07:58>\n",
      "<Saturn Pisces +12:23:50 +00:07:06>\n",
      "<North Node Scorpio +09:30:59 -00:03:11>\n",
      "<South Node Taurus +09:30:59 -00:03:11>\n",
      "<Syzygy Aquarius +10:35:00 +14:13:09>\n",
      "<Pars Fortuna Virgo +06:18:00 +00:00:00>\n"
     ]
    }
   ],
   "source": [
    "for obj in chart_molena.objects:\n",
    "     print(obj)"
   ]
  },
  {
   "cell_type": "code",
   "execution_count": null,
   "metadata": {},
   "outputs": [],
   "source": []
  },
  {
   "cell_type": "code",
   "execution_count": 64,
   "metadata": {},
   "outputs": [],
   "source": [
    "locator = Nominatim(user_agent='myGeocoder')\n",
    "location = locator.geocode('São Paulo, SP')"
   ]
  },
  {
   "cell_type": "code",
   "execution_count": 65,
   "metadata": {},
   "outputs": [
    {
     "name": "stdout",
     "output_type": "stream",
     "text": [
      "Latitude = -23.5506507, Longitude = -46.6333824\n"
     ]
    }
   ],
   "source": [
    "print('Latitude = {}, Longitude = {}'.format(location.latitude, location.longitude))"
   ]
  },
  {
   "cell_type": "code",
   "execution_count": 70,
   "metadata": {},
   "outputs": [
    {
     "data": {
      "text/plain": [
       "-23.5506507"
      ]
     },
     "execution_count": 70,
     "metadata": {},
     "output_type": "execute_result"
    }
   ],
   "source": [
    "location.latitude"
   ]
  },
  {
   "cell_type": "code",
   "execution_count": 28,
   "metadata": {},
   "outputs": [],
   "source": [
    "date_fernanda = Datetime('1992/08/15', ':30', '-03:00')"
   ]
  },
  {
   "cell_type": "code",
   "execution_count": 29,
   "metadata": {},
   "outputs": [],
   "source": [
    "pos_fernanda = GeoPos('23s33', '46w38')"
   ]
  },
  {
   "cell_type": "code",
   "execution_count": 74,
   "metadata": {},
   "outputs": [],
   "source": [
    "pos_fernanda_float = GeoPos(-23.55, -46.63)"
   ]
  },
  {
   "cell_type": "code",
   "execution_count": 75,
   "metadata": {},
   "outputs": [],
   "source": [
    "pos_fernanda_location = GeoPos(location.latitude, location.longitude)"
   ]
  },
  {
   "cell_type": "code",
   "execution_count": 76,
   "metadata": {},
   "outputs": [],
   "source": [
    "chart_fernanda_float = Chart(date_fernanda,pos_fernanda_float)"
   ]
  },
  {
   "cell_type": "code",
   "execution_count": 77,
   "metadata": {},
   "outputs": [
    {
     "name": "stdout",
     "output_type": "stream",
     "text": [
      "<Sun Leo +23:04:36 +00:57:39>\n",
      "<Moon Pisces +17:40:20 +11:56:25>\n",
      "<Mercury Leo +06:21:35 +00:18:28>\n",
      "<Venus Virgo +10:21:16 +01:13:46>\n",
      "<Mars Gemini +13:11:41 +00:38:36>\n",
      "<Jupiter Virgo +18:04:09 +00:12:18>\n",
      "<Saturn Aquarius +14:31:15 -00:04:25>\n",
      "<North Node Sagittarius +27:45:00 -00:03:11>\n",
      "<South Node Gemini +27:45:00 -00:03:11>\n",
      "<Syzygy Aquarius +20:54:51 +11:50:50>\n",
      "<Pars Fortuna Cancer +20:59:12 +00:00:00>\n"
     ]
    }
   ],
   "source": [
    "for obj in chart_fernanda_float.objects:\n",
    "     print(obj)"
   ]
  },
  {
   "cell_type": "code",
   "execution_count": null,
   "metadata": {},
   "outputs": [],
   "source": []
  },
  {
   "cell_type": "code",
   "execution_count": 78,
   "metadata": {},
   "outputs": [],
   "source": [
    "chart_fernanda_location = Chart(date_fernanda,pos_fernanda_location)"
   ]
  },
  {
   "cell_type": "code",
   "execution_count": 79,
   "metadata": {},
   "outputs": [
    {
     "name": "stdout",
     "output_type": "stream",
     "text": [
      "<Sun Leo +23:04:36 +00:57:39>\n",
      "<Moon Pisces +17:40:20 +11:56:25>\n",
      "<Mercury Leo +06:21:35 +00:18:28>\n",
      "<Venus Virgo +10:21:16 +01:13:46>\n",
      "<Mars Gemini +13:11:41 +00:38:36>\n",
      "<Jupiter Virgo +18:04:09 +00:12:18>\n",
      "<Saturn Aquarius +14:31:15 -00:04:25>\n",
      "<North Node Sagittarius +27:45:00 -00:03:11>\n",
      "<South Node Gemini +27:45:00 -00:03:11>\n",
      "<Syzygy Aquarius +20:54:51 +11:50:50>\n",
      "<Pars Fortuna Cancer +20:59:01 +00:00:00>\n"
     ]
    }
   ],
   "source": [
    "for obj in chart_fernanda_location.objects:\n",
    "     print(obj)"
   ]
  },
  {
   "cell_type": "code",
   "execution_count": null,
   "metadata": {},
   "outputs": [],
   "source": []
  }
 ],
 "metadata": {
  "kernelspec": {
   "display_name": "Python 3",
   "language": "python",
   "name": "python3"
  },
  "language_info": {
   "codemirror_mode": {
    "name": "ipython",
    "version": 3
   },
   "file_extension": ".py",
   "mimetype": "text/x-python",
   "name": "python",
   "nbconvert_exporter": "python",
   "pygments_lexer": "ipython3",
   "version": "3.7.3"
  }
 },
 "nbformat": 4,
 "nbformat_minor": 4
}
