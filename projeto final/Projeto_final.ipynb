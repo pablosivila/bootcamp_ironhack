{
 "cells": [
  {
   "cell_type": "code",
   "execution_count": 29,
   "metadata": {},
   "outputs": [],
   "source": [
    "import pandas as pd\n",
    "import flatlib\n",
    "import geopy\n",
    "import pyaztro"
   ]
  },
  {
   "cell_type": "code",
   "execution_count": 9,
   "metadata": {},
   "outputs": [],
   "source": [
    "from flatlib.datetime import Datetime\n",
    "from flatlib.geopos import GeoPos\n",
    "from flatlib.chart import Chart\n",
    "from geopy.geocoders import Nominatim\n",
    "from timezonefinder import TimezoneFinder"
   ]
  },
  {
   "cell_type": "code",
   "execution_count": 17,
   "metadata": {},
   "outputs": [],
   "source": [
    "date_rog = Datetime('1994/10/03', '12:45', '-03:00')"
   ]
  },
  {
   "cell_type": "code",
   "execution_count": 18,
   "metadata": {},
   "outputs": [],
   "source": [
    "pos_rog = GeoPos('23s41', '46w33')"
   ]
  },
  {
   "cell_type": "code",
   "execution_count": 19,
   "metadata": {},
   "outputs": [],
   "source": [
    "chart_rog = Chart(date_rog,pos_rog)"
   ]
  },
  {
   "cell_type": "code",
   "execution_count": 20,
   "metadata": {},
   "outputs": [
    {
     "name": "stdout",
     "output_type": "stream",
     "text": [
      "<Sun Libra +10:12:10 +00:59:06>\n",
      "<Moon Virgo +19:33:53 +14:27:22>\n",
      "<Mercury Scorpio +04:48:15 +00:33:23>\n",
      "<Venus Scorpio +16:19:25 +00:20:13>\n",
      "<Mars Cancer +29:25:56 +00:34:04>\n",
      "<Jupiter Scorpio +15:35:34 +00:11:53>\n",
      "<Saturn Pisces +06:47:07 -00:03:24>\n",
      "<North Node Scorpio +16:29:56 -00:03:11>\n",
      "<South Node Taurus +16:29:56 -00:03:11>\n",
      "<Syzygy Pisces +26:38:51 +12:26:16>\n",
      "<Pars Fortuna Capricorn +08:24:07 +00:00:00>\n"
     ]
    }
   ],
   "source": [
    "for obj in chart_rog.objects:\n",
    "     print(obj)"
   ]
  },
  {
   "cell_type": "code",
   "execution_count": null,
   "metadata": {},
   "outputs": [],
   "source": []
  },
  {
   "cell_type": "code",
   "execution_count": 25,
   "metadata": {},
   "outputs": [],
   "source": [
    "date_molena = Datetime('1995/02/12', '09:30', '-03:00')"
   ]
  },
  {
   "cell_type": "code",
   "execution_count": 22,
   "metadata": {},
   "outputs": [],
   "source": [
    "pos_molena = GeoPos('23s11', '46w53')"
   ]
  },
  {
   "cell_type": "code",
   "execution_count": 26,
   "metadata": {},
   "outputs": [],
   "source": [
    "chart_molena = Chart(date_molena,pos_molena)"
   ]
  },
  {
   "cell_type": "code",
   "execution_count": 27,
   "metadata": {},
   "outputs": [
    {
     "name": "stdout",
     "output_type": "stream",
     "text": [
      "<Sun Aquarius +23:19:30 +01:00:40>\n",
      "<Moon Cancer +17:57:35 +12:25:18>\n",
      "<Mercury Aquarius +06:28:27 -00:28:21>\n",
      "<Venus Capricorn +08:40:47 +01:08:24>\n",
      "<Mars Leo +22:44:19 -00:23:57>\n",
      "<Jupiter Sagittarius +12:00:06 +00:07:58>\n",
      "<Saturn Pisces +12:23:50 +00:07:06>\n",
      "<North Node Scorpio +09:30:59 -00:03:11>\n",
      "<South Node Taurus +09:30:59 -00:03:11>\n",
      "<Syzygy Aquarius +10:35:00 +14:13:09>\n",
      "<Pars Fortuna Virgo +06:18:00 +00:00:00>\n"
     ]
    }
   ],
   "source": [
    "for obj in chart_molena.objects:\n",
    "     print(obj)"
   ]
  },
  {
   "cell_type": "code",
   "execution_count": null,
   "metadata": {},
   "outputs": [],
   "source": []
  },
  {
   "cell_type": "code",
   "execution_count": 51,
   "metadata": {},
   "outputs": [],
   "source": [
    "teste = pd.read_csv(\"teste.csv\")"
   ]
  },
  {
   "cell_type": "code",
   "execution_count": 52,
   "metadata": {},
   "outputs": [
    {
     "data": {
      "text/html": [
       "<div>\n",
       "<style scoped>\n",
       "    .dataframe tbody tr th:only-of-type {\n",
       "        vertical-align: middle;\n",
       "    }\n",
       "\n",
       "    .dataframe tbody tr th {\n",
       "        vertical-align: top;\n",
       "    }\n",
       "\n",
       "    .dataframe thead th {\n",
       "        text-align: right;\n",
       "    }\n",
       "</style>\n",
       "<table border=\"1\" class=\"dataframe\">\n",
       "  <thead>\n",
       "    <tr style=\"text-align: right;\">\n",
       "      <th></th>\n",
       "      <th>name</th>\n",
       "      <th>data</th>\n",
       "      <th>horario</th>\n",
       "      <th>lat</th>\n",
       "      <th>long</th>\n",
       "      <th>bio</th>\n",
       "      <th>url</th>\n",
       "    </tr>\n",
       "  </thead>\n",
       "  <tbody>\n",
       "    <tr>\n",
       "      <th>0</th>\n",
       "      <td>Bablet, Denis</td>\n",
       "      <td>19 March 1930</td>\n",
       "      <td>01:30</td>\n",
       "      <td>48n52</td>\n",
       "      <td>2e20</td>\n",
       "      <td>&lt;p&gt;French theorist of the theatre. \\n&lt;/p&gt;</td>\n",
       "      <td>https://www.astro.com/astro-databank/Bablet,_D...</td>\n",
       "    </tr>\n",
       "    <tr>\n",
       "      <th>1</th>\n",
       "      <td>Babin Cortes, Maria Teresa</td>\n",
       "      <td>31 May 1910</td>\n",
       "      <td>05:30</td>\n",
       "      <td>18n01</td>\n",
       "      <td>66w37</td>\n",
       "      <td>&lt;p&gt;Puerto Rican educator, literary critic, and...</td>\n",
       "      <td>https://www.astro.com/astro-databank/Babin_Cor...</td>\n",
       "    </tr>\n",
       "    <tr>\n",
       "      <th>2</th>\n",
       "      <td>Babonneau, René</td>\n",
       "      <td>18 June 1904</td>\n",
       "      <td>09:30</td>\n",
       "      <td>47n13</td>\n",
       "      <td>1w33</td>\n",
       "      <td>&lt;p&gt;French legionnaire, awarded the title of 'C...</td>\n",
       "      <td>https://www.astro.com/astro-databank/Babonneau...</td>\n",
       "    </tr>\n",
       "    <tr>\n",
       "      <th>3</th>\n",
       "      <td>Babonneau, René</td>\n",
       "      <td>18 June 1904</td>\n",
       "      <td>09:30</td>\n",
       "      <td>47n13</td>\n",
       "      <td>1w33</td>\n",
       "      <td>&lt;p&gt;French legionnaire, awarded the title of 'C...</td>\n",
       "      <td>https://www.astro.com/astro-databank/Babonneau...</td>\n",
       "    </tr>\n",
       "    <tr>\n",
       "      <th>4</th>\n",
       "      <td>Baboul, Eudoxie</td>\n",
       "      <td>1 October 1901</td>\n",
       "      <td>03:00</td>\n",
       "      <td>5n23</td>\n",
       "      <td>52w57</td>\n",
       "      <td>&lt;p&gt;French supercentenarian, for a while the ol...</td>\n",
       "      <td>https://www.astro.com/astro-databank/Baboul,_E...</td>\n",
       "    </tr>\n",
       "  </tbody>\n",
       "</table>\n",
       "</div>"
      ],
      "text/plain": [
       "                         name            data  horario    lat   long  \\\n",
       "0               Bablet, Denis   19 March 1930  01:30    48n52   2e20   \n",
       "1  Babin Cortes, Maria Teresa     31 May 1910  05:30    18n01  66w37   \n",
       "2             Babonneau, René    18 June 1904  09:30    47n13   1w33   \n",
       "3             Babonneau, René    18 June 1904  09:30    47n13   1w33   \n",
       "4             Baboul, Eudoxie  1 October 1901  03:00     5n23  52w57   \n",
       "\n",
       "                                                 bio  \\\n",
       "0          <p>French theorist of the theatre. \\n</p>   \n",
       "1  <p>Puerto Rican educator, literary critic, and...   \n",
       "2  <p>French legionnaire, awarded the title of 'C...   \n",
       "3  <p>French legionnaire, awarded the title of 'C...   \n",
       "4  <p>French supercentenarian, for a while the ol...   \n",
       "\n",
       "                                                 url  \n",
       "0  https://www.astro.com/astro-databank/Bablet,_D...  \n",
       "1  https://www.astro.com/astro-databank/Babin_Cor...  \n",
       "2  https://www.astro.com/astro-databank/Babonneau...  \n",
       "3  https://www.astro.com/astro-databank/Babonneau...  \n",
       "4  https://www.astro.com/astro-databank/Baboul,_E...  "
      ]
     },
     "execution_count": 52,
     "metadata": {},
     "output_type": "execute_result"
    }
   ],
   "source": [
    "teste.head()"
   ]
  },
  {
   "cell_type": "code",
   "execution_count": 53,
   "metadata": {},
   "outputs": [
    {
     "name": "stdout",
     "output_type": "stream",
     "text": [
      "<class 'pandas.core.frame.DataFrame'>\n",
      "RangeIndex: 65417 entries, 0 to 65416\n",
      "Data columns (total 7 columns):\n",
      "name       65417 non-null object\n",
      "data       65417 non-null object\n",
      "horario    65417 non-null object\n",
      "lat        65417 non-null object\n",
      "long       65417 non-null object\n",
      "bio        65417 non-null object\n",
      "url        65417 non-null object\n",
      "dtypes: object(7)\n",
      "memory usage: 3.5+ MB\n"
     ]
    }
   ],
   "source": [
    "teste.info()"
   ]
  },
  {
   "cell_type": "code",
   "execution_count": 45,
   "metadata": {},
   "outputs": [
    {
     "data": {
      "text/html": [
       "<div>\n",
       "<style scoped>\n",
       "    .dataframe tbody tr th:only-of-type {\n",
       "        vertical-align: middle;\n",
       "    }\n",
       "\n",
       "    .dataframe tbody tr th {\n",
       "        vertical-align: top;\n",
       "    }\n",
       "\n",
       "    .dataframe thead th {\n",
       "        text-align: right;\n",
       "    }\n",
       "</style>\n",
       "<table border=\"1\" class=\"dataframe\">\n",
       "  <thead>\n",
       "    <tr style=\"text-align: right;\">\n",
       "      <th></th>\n",
       "      <th>name</th>\n",
       "      <th>data</th>\n",
       "      <th>horario</th>\n",
       "      <th>lat</th>\n",
       "      <th>long</th>\n",
       "      <th>bio</th>\n",
       "      <th>url</th>\n",
       "    </tr>\n",
       "  </thead>\n",
       "  <tbody>\n",
       "    <tr>\n",
       "      <th>319</th>\n",
       "      <td>Accidents: West Fertilizer Company explosion (...</td>\n",
       "      <td>17 April 2013</td>\n",
       "      <td>07:50:38</td>\n",
       "      <td>31n33</td>\n",
       "      <td>97w09</td>\n",
       "      <td>&lt;p&gt;On April 17, 2013, an ammonium nitrate expl...</td>\n",
       "      <td>https://www.astro.com/astro-databank/Accidents...</td>\n",
       "    </tr>\n",
       "    <tr>\n",
       "      <th>320</th>\n",
       "      <td>Accident: wreck Air France flight 447</td>\n",
       "      <td>1 June 2009</td>\n",
       "      <td>05:14</td>\n",
       "      <td>3s5025</td>\n",
       "      <td>32w2439</td>\n",
       "      <td>&lt;p&gt;This plane (Rio-Paris) sank into the Atlant...</td>\n",
       "      <td>https://www.astro.com/astro-databank/Accident:...</td>\n",
       "    </tr>\n",
       "    <tr>\n",
       "      <th>322</th>\n",
       "      <td>Accident: great fire of Valparaiso</td>\n",
       "      <td>12 April 2014</td>\n",
       "      <td>16:40</td>\n",
       "      <td>33s02</td>\n",
       "      <td>71w38</td>\n",
       "      <td>&lt;p&gt;Great wildfire, it began on 12 April 2914 i...</td>\n",
       "      <td>https://www.astro.com/astro-databank/Accident:...</td>\n",
       "    </tr>\n",
       "    <tr>\n",
       "      <th>323</th>\n",
       "      <td>Accident: gas explosion Mulhouse</td>\n",
       "      <td>31 August 2014</td>\n",
       "      <td>07:00</td>\n",
       "      <td>47n45</td>\n",
       "      <td>7e20</td>\n",
       "      <td>&lt;p&gt;&lt;br&gt;\\n&lt;/p&gt;</td>\n",
       "      <td>https://www.astro.com/astro-databank/Accident:...</td>\n",
       "    </tr>\n",
       "    <tr>\n",
       "      <th>327</th>\n",
       "      <td>Accident: wreck Air France flight 447</td>\n",
       "      <td>1 June 2009</td>\n",
       "      <td>05:14</td>\n",
       "      <td>3s5025</td>\n",
       "      <td>32w2439</td>\n",
       "      <td>&lt;p&gt;This plane (Rio-Paris) sank into the Atlant...</td>\n",
       "      <td>https://www.astro.com/astro-databank/Accident:...</td>\n",
       "    </tr>\n",
       "  </tbody>\n",
       "</table>\n",
       "</div>"
      ],
      "text/plain": [
       "                                                  name            data  \\\n",
       "319  Accidents: West Fertilizer Company explosion (...   17 April 2013   \n",
       "320              Accident: wreck Air France flight 447     1 June 2009   \n",
       "322                 Accident: great fire of Valparaiso   12 April 2014   \n",
       "323                   Accident: gas explosion Mulhouse  31 August 2014   \n",
       "327              Accident: wreck Air France flight 447     1 June 2009   \n",
       "\n",
       "        horario     lat     long  \\\n",
       "319  07:50:38     31n33    97w09   \n",
       "320     05:14    3s5025  32w2439   \n",
       "322     16:40     33s02    71w38   \n",
       "323     07:00     47n45     7e20   \n",
       "327     05:14    3s5025  32w2439   \n",
       "\n",
       "                                                   bio  \\\n",
       "319  <p>On April 17, 2013, an ammonium nitrate expl...   \n",
       "320  <p>This plane (Rio-Paris) sank into the Atlant...   \n",
       "322  <p>Great wildfire, it began on 12 April 2914 i...   \n",
       "323                                      <p><br>\\n</p>   \n",
       "327  <p>This plane (Rio-Paris) sank into the Atlant...   \n",
       "\n",
       "                                                   url  \n",
       "319  https://www.astro.com/astro-databank/Accidents...  \n",
       "320  https://www.astro.com/astro-databank/Accident:...  \n",
       "322  https://www.astro.com/astro-databank/Accident:...  \n",
       "323  https://www.astro.com/astro-databank/Accident:...  \n",
       "327  https://www.astro.com/astro-databank/Accident:...  "
      ]
     },
     "execution_count": 45,
     "metadata": {},
     "output_type": "execute_result"
    }
   ],
   "source": [
    "mask = teste['name'].str.contains('Accident')\n",
    "teste[mask].head()"
   ]
  },
  {
   "cell_type": "code",
   "execution_count": 47,
   "metadata": {},
   "outputs": [
    {
     "data": {
      "text/html": [
       "<div>\n",
       "<style scoped>\n",
       "    .dataframe tbody tr th:only-of-type {\n",
       "        vertical-align: middle;\n",
       "    }\n",
       "\n",
       "    .dataframe tbody tr th {\n",
       "        vertical-align: top;\n",
       "    }\n",
       "\n",
       "    .dataframe thead th {\n",
       "        text-align: right;\n",
       "    }\n",
       "</style>\n",
       "<table border=\"1\" class=\"dataframe\">\n",
       "  <thead>\n",
       "    <tr style=\"text-align: right;\">\n",
       "      <th></th>\n",
       "      <th>name</th>\n",
       "      <th>data</th>\n",
       "      <th>horario</th>\n",
       "      <th>lat</th>\n",
       "      <th>long</th>\n",
       "      <th>bio</th>\n",
       "      <th>url</th>\n",
       "    </tr>\n",
       "  </thead>\n",
       "  <tbody>\n",
       "    <tr>\n",
       "      <th>13775</th>\n",
       "      <td>Silva, Maisa</td>\n",
       "      <td>22 May 2002</td>\n",
       "      <td>15:00</td>\n",
       "      <td>23s4138</td>\n",
       "      <td>46w3354</td>\n",
       "      <td>&lt;p&gt;Brazilian actress, television host, singer,...</td>\n",
       "      <td>https://www.astro.com/astro-databank/Silva,_Maisa</td>\n",
       "    </tr>\n",
       "  </tbody>\n",
       "</table>\n",
       "</div>"
      ],
      "text/plain": [
       "               name         data  horario      lat     long  \\\n",
       "13775  Silva, Maisa  22 May 2002  15:00    23s4138  46w3354   \n",
       "\n",
       "                                                     bio  \\\n",
       "13775  <p>Brazilian actress, television host, singer,...   \n",
       "\n",
       "                                                     url  \n",
       "13775  https://www.astro.com/astro-databank/Silva,_Maisa  "
      ]
     },
     "execution_count": 47,
     "metadata": {},
     "output_type": "execute_result"
    }
   ],
   "source": [
    "maisa =teste['name']==\"Silva, Maisa\"\n",
    "teste[maisa]"
   ]
  },
  {
   "cell_type": "code",
   "execution_count": 11,
   "metadata": {},
   "outputs": [
    {
     "data": {
      "text/plain": [
       "'America/Sao_Paulo'"
      ]
     },
     "execution_count": 11,
     "metadata": {},
     "output_type": "execute_result"
    }
   ],
   "source": [
    "tf.timezone_at(lng=-46.63, lat=-23.55)"
   ]
  },
  {
   "cell_type": "code",
   "execution_count": 26,
   "metadata": {},
   "outputs": [
    {
     "name": "stdout",
     "output_type": "stream",
     "text": [
      "-3.0\n"
     ]
    }
   ],
   "source": [
    "from pytz import timezone\n",
    "import pytz\n",
    "from datetime import datetime\n",
    "\n",
    "utc = pytz.utc\n",
    "\n",
    "def offset(target):\n",
    "    \"\"\"\n",
    "    returns a location's time zone offset from UTC in hours.\n",
    "    \"\"\"\n",
    "    today = datetime.now()\n",
    "    tz_target = timezone(tf.certain_timezone_at(lat=target['lat'], lng=target['lng']))\n",
    "    # ATTENTION: tz_target could be None! handle error case\n",
    "\n",
    "    today_target = tz_target.localize(today)\n",
    "    today_utc = utc.localize(today)\n",
    "    offset = today_utc - today_target\n",
    "    #offset = tz_target.utcoffset(today)\n",
    "\n",
    "    # if `today` is in summer time while the target isn't, you may want to substract the DST\n",
    "    offset -= tz_target.dst(today)\n",
    "    return offset.total_seconds() / 3600\n",
    "\n",
    "bergamo = dict({'lat':-23.55, 'lng':-46.63})\n",
    "print(offset(bergamo))"
   ]
  },
  {
   "cell_type": "code",
   "execution_count": 27,
   "metadata": {},
   "outputs": [
    {
     "ename": "TypeError",
     "evalue": "No matching definition for argument type(s) unicode_type, unicode_type",
     "output_type": "error",
     "traceback": [
      "\u001b[1;31m---------------------------------------------------------------------------\u001b[0m",
      "\u001b[1;31mTypeError\u001b[0m                                 Traceback (most recent call last)",
      "\u001b[1;32m<ipython-input-27-fdd4052d4685>\u001b[0m in \u001b[0;36m<module>\u001b[1;34m\u001b[0m\n\u001b[0;32m      1\u001b[0m \u001b[0mtoday\u001b[0m \u001b[1;33m=\u001b[0m \u001b[0mdatetime\u001b[0m\u001b[1;33m.\u001b[0m\u001b[0mnow\u001b[0m\u001b[1;33m(\u001b[0m\u001b[1;33m)\u001b[0m\u001b[1;33m\u001b[0m\u001b[1;33m\u001b[0m\u001b[0m\n\u001b[1;32m----> 2\u001b[1;33m \u001b[0mtz_target\u001b[0m \u001b[1;33m=\u001b[0m \u001b[0mtimezone\u001b[0m\u001b[1;33m(\u001b[0m\u001b[0mtf\u001b[0m\u001b[1;33m.\u001b[0m\u001b[0mcertain_timezone_at\u001b[0m\u001b[1;33m(\u001b[0m\u001b[0mlat\u001b[0m\u001b[1;33m=\u001b[0m \u001b[1;34m'52n15'\u001b[0m\u001b[1;33m,\u001b[0m \u001b[0mlng\u001b[0m\u001b[1;33m=\u001b[0m\u001b[1;34m'21e0'\u001b[0m\u001b[1;33m)\u001b[0m\u001b[1;33m)\u001b[0m\u001b[1;33m\u001b[0m\u001b[1;33m\u001b[0m\u001b[0m\n\u001b[0m\u001b[0;32m      3\u001b[0m     \u001b[1;31m# ATTENTION: tz_target could be None! handle error case 52n15, 21e0\u001b[0m\u001b[1;33m\u001b[0m\u001b[1;33m\u001b[0m\u001b[1;33m\u001b[0m\u001b[0m\n\u001b[0;32m      4\u001b[0m \u001b[1;33m\u001b[0m\u001b[0m\n\u001b[0;32m      5\u001b[0m \u001b[0mtoday_target\u001b[0m \u001b[1;33m=\u001b[0m \u001b[0mtz_target\u001b[0m\u001b[1;33m.\u001b[0m\u001b[0mlocalize\u001b[0m\u001b[1;33m(\u001b[0m\u001b[0mtoday\u001b[0m\u001b[1;33m)\u001b[0m\u001b[1;33m\u001b[0m\u001b[1;33m\u001b[0m\u001b[0m\n",
      "\u001b[1;32m~\\Anaconda3\\lib\\site-packages\\timezonefinder\\timezonefinder.py\u001b[0m in \u001b[0;36mcertain_timezone_at\u001b[1;34m(self, lng, lat)\u001b[0m\n\u001b[0;32m    498\u001b[0m         \"\"\"\n\u001b[0;32m    499\u001b[0m \u001b[1;33m\u001b[0m\u001b[0m\n\u001b[1;32m--> 500\u001b[1;33m         \u001b[0mlng\u001b[0m\u001b[1;33m,\u001b[0m \u001b[0mlat\u001b[0m \u001b[1;33m=\u001b[0m \u001b[0mrectify_coordinates\u001b[0m\u001b[1;33m(\u001b[0m\u001b[0mlng\u001b[0m\u001b[1;33m,\u001b[0m \u001b[0mlat\u001b[0m\u001b[1;33m)\u001b[0m\u001b[1;33m\u001b[0m\u001b[1;33m\u001b[0m\u001b[0m\n\u001b[0m\u001b[0;32m    501\u001b[0m         \u001b[0mshortcut_id_x\u001b[0m\u001b[1;33m,\u001b[0m \u001b[0mshortcut_id_y\u001b[0m \u001b[1;33m=\u001b[0m \u001b[0mcoord2shortcut\u001b[0m\u001b[1;33m(\u001b[0m\u001b[0mlng\u001b[0m\u001b[1;33m,\u001b[0m \u001b[0mlat\u001b[0m\u001b[1;33m)\u001b[0m\u001b[1;33m\u001b[0m\u001b[1;33m\u001b[0m\u001b[0m\n\u001b[0;32m    502\u001b[0m         \u001b[0mpossible_polygons\u001b[0m \u001b[1;33m=\u001b[0m \u001b[0mself\u001b[0m\u001b[1;33m.\u001b[0m\u001b[0mpolygon_ids_of_shortcut\u001b[0m\u001b[1;33m(\u001b[0m\u001b[0mshortcut_id_x\u001b[0m\u001b[1;33m,\u001b[0m \u001b[0mshortcut_id_y\u001b[0m\u001b[1;33m)\u001b[0m\u001b[1;33m\u001b[0m\u001b[1;33m\u001b[0m\u001b[0m\n",
      "\u001b[1;32m~\\Anaconda3\\lib\\site-packages\\numba\\dispatcher.py\u001b[0m in \u001b[0;36m_explain_matching_error\u001b[1;34m(self, *args, **kws)\u001b[0m\n\u001b[0;32m    464\u001b[0m         msg = (\"No matching definition for argument type(s) %s\"\n\u001b[0;32m    465\u001b[0m                % ', '.join(map(str, args)))\n\u001b[1;32m--> 466\u001b[1;33m         \u001b[1;32mraise\u001b[0m \u001b[0mTypeError\u001b[0m\u001b[1;33m(\u001b[0m\u001b[0mmsg\u001b[0m\u001b[1;33m)\u001b[0m\u001b[1;33m\u001b[0m\u001b[1;33m\u001b[0m\u001b[0m\n\u001b[0m\u001b[0;32m    467\u001b[0m \u001b[1;33m\u001b[0m\u001b[0m\n\u001b[0;32m    468\u001b[0m     \u001b[1;32mdef\u001b[0m \u001b[0m_search_new_conversions\u001b[0m\u001b[1;33m(\u001b[0m\u001b[0mself\u001b[0m\u001b[1;33m,\u001b[0m \u001b[1;33m*\u001b[0m\u001b[0margs\u001b[0m\u001b[1;33m,\u001b[0m \u001b[1;33m**\u001b[0m\u001b[0mkws\u001b[0m\u001b[1;33m)\u001b[0m\u001b[1;33m:\u001b[0m\u001b[1;33m\u001b[0m\u001b[1;33m\u001b[0m\u001b[0m\n",
      "\u001b[1;31mTypeError\u001b[0m: No matching definition for argument type(s) unicode_type, unicode_type"
     ]
    }
   ],
   "source": [
    "\n",
    "today = datetime.now()\n",
    "tz_target = timezone(tf.certain_timezone_at(lat= '52n15', lng='21e0'))\n",
    "    # ATTENTION: tz_target could be None! handle error case \n",
    "\n",
    "today_target = tz_target.localize(today)\n",
    "today_utc = utc.localize(today)\n",
    "offset = today_utc - today_target\n",
    "    #offset = tz_target.utcoffset(today)\n",
    "\n",
    "    # if `today` is in summer time while the target isn't, you may want to substract the DST\n",
    "offset -= tz_target.dst(today)\n",
    "offset.total_seconds() / 3600"
   ]
  },
  {
   "cell_type": "code",
   "execution_count": null,
   "metadata": {},
   "outputs": [],
   "source": []
  },
  {
   "cell_type": "code",
   "execution_count": 64,
   "metadata": {},
   "outputs": [],
   "source": [
    "locator = Nominatim(user_agent='myGeocoder')\n",
    "location = locator.geocode('São Paulo, SP')"
   ]
  },
  {
   "cell_type": "code",
   "execution_count": 65,
   "metadata": {},
   "outputs": [
    {
     "name": "stdout",
     "output_type": "stream",
     "text": [
      "Latitude = -23.5506507, Longitude = -46.6333824\n"
     ]
    }
   ],
   "source": [
    "print('Latitude = {}, Longitude = {}'.format(location.latitude, location.longitude))"
   ]
  },
  {
   "cell_type": "code",
   "execution_count": 70,
   "metadata": {},
   "outputs": [
    {
     "data": {
      "text/plain": [
       "-23.5506507"
      ]
     },
     "execution_count": 70,
     "metadata": {},
     "output_type": "execute_result"
    }
   ],
   "source": [
    "location.latitude"
   ]
  },
  {
   "cell_type": "code",
   "execution_count": 28,
   "metadata": {},
   "outputs": [],
   "source": [
    "date_fernanda = Datetime('1992/08/15', ':30', '-03:00')"
   ]
  },
  {
   "cell_type": "code",
   "execution_count": 29,
   "metadata": {},
   "outputs": [],
   "source": [
    "pos_fernanda = GeoPos('23s33', '46w38')"
   ]
  },
  {
   "cell_type": "code",
   "execution_count": 74,
   "metadata": {},
   "outputs": [],
   "source": [
    "pos_fernanda_float = GeoPos(-23.55, -46.63)"
   ]
  },
  {
   "cell_type": "code",
   "execution_count": 75,
   "metadata": {},
   "outputs": [],
   "source": [
    "pos_fernanda_location = GeoPos(location.latitude, location.longitude)"
   ]
  },
  {
   "cell_type": "code",
   "execution_count": 76,
   "metadata": {},
   "outputs": [],
   "source": [
    "chart_fernanda_float = Chart(date_fernanda,pos_fernanda_float)"
   ]
  },
  {
   "cell_type": "code",
   "execution_count": 77,
   "metadata": {},
   "outputs": [
    {
     "name": "stdout",
     "output_type": "stream",
     "text": [
      "<Sun Leo +23:04:36 +00:57:39>\n",
      "<Moon Pisces +17:40:20 +11:56:25>\n",
      "<Mercury Leo +06:21:35 +00:18:28>\n",
      "<Venus Virgo +10:21:16 +01:13:46>\n",
      "<Mars Gemini +13:11:41 +00:38:36>\n",
      "<Jupiter Virgo +18:04:09 +00:12:18>\n",
      "<Saturn Aquarius +14:31:15 -00:04:25>\n",
      "<North Node Sagittarius +27:45:00 -00:03:11>\n",
      "<South Node Gemini +27:45:00 -00:03:11>\n",
      "<Syzygy Aquarius +20:54:51 +11:50:50>\n",
      "<Pars Fortuna Cancer +20:59:12 +00:00:00>\n"
     ]
    }
   ],
   "source": [
    "for obj in chart_fernanda_float.objects:\n",
    "     print(obj)"
   ]
  },
  {
   "cell_type": "code",
   "execution_count": null,
   "metadata": {},
   "outputs": [],
   "source": []
  },
  {
   "cell_type": "code",
   "execution_count": 78,
   "metadata": {},
   "outputs": [],
   "source": [
    "chart_fernanda_location = Chart(date_fernanda,pos_fernanda_location)"
   ]
  },
  {
   "cell_type": "code",
   "execution_count": 79,
   "metadata": {},
   "outputs": [
    {
     "name": "stdout",
     "output_type": "stream",
     "text": [
      "<Sun Leo +23:04:36 +00:57:39>\n",
      "<Moon Pisces +17:40:20 +11:56:25>\n",
      "<Mercury Leo +06:21:35 +00:18:28>\n",
      "<Venus Virgo +10:21:16 +01:13:46>\n",
      "<Mars Gemini +13:11:41 +00:38:36>\n",
      "<Jupiter Virgo +18:04:09 +00:12:18>\n",
      "<Saturn Aquarius +14:31:15 -00:04:25>\n",
      "<North Node Sagittarius +27:45:00 -00:03:11>\n",
      "<South Node Gemini +27:45:00 -00:03:11>\n",
      "<Syzygy Aquarius +20:54:51 +11:50:50>\n",
      "<Pars Fortuna Cancer +20:59:01 +00:00:00>\n"
     ]
    }
   ],
   "source": [
    "for obj in chart_fernanda_location.objects:\n",
    "     print(obj)"
   ]
  },
  {
   "cell_type": "code",
   "execution_count": null,
   "metadata": {},
   "outputs": [],
   "source": []
  },
  {
   "cell_type": "code",
   "execution_count": 10,
   "metadata": {},
   "outputs": [],
   "source": [
    "import datetime\n",
    "months = []\n",
    "for i in range(1,13):\n",
    "    months.append((datetime.date(2019, i, 1).strftime('%B')))"
   ]
  },
  {
   "cell_type": "code",
   "execution_count": 12,
   "metadata": {},
   "outputs": [
    {
     "data": {
      "text/plain": [
       "['January',\n",
       " 'February',\n",
       " 'March',\n",
       " 'April',\n",
       " 'May',\n",
       " 'June',\n",
       " 'July',\n",
       " 'August',\n",
       " 'September',\n",
       " 'October',\n",
       " 'November',\n",
       " 'December']"
      ]
     },
     "execution_count": 12,
     "metadata": {},
     "output_type": "execute_result"
    }
   ],
   "source": [
    "months"
   ]
  },
  {
   "cell_type": "code",
   "execution_count": null,
   "metadata": {},
   "outputs": [],
   "source": []
  }
 ],
 "metadata": {
  "kernelspec": {
   "display_name": "Python 3",
   "language": "python",
   "name": "python3"
  },
  "language_info": {
   "codemirror_mode": {
    "name": "ipython",
    "version": 3
   },
   "file_extension": ".py",
   "mimetype": "text/x-python",
   "name": "python",
   "nbconvert_exporter": "python",
   "pygments_lexer": "ipython3",
   "version": "3.7.3"
  }
 },
 "nbformat": 4,
 "nbformat_minor": 4
}
