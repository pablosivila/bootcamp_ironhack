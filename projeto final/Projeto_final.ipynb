{
 "cells": [
  {
   "cell_type": "markdown",
   "metadata": {},
   "source": [
    "# Projeto final"
   ]
  },
  {
   "cell_type": "markdown",
   "metadata": {},
   "source": [
    "### Ironhack - Data Analytics Bootcamp"
   ]
  },
  {
   "cell_type": "markdown",
   "metadata": {},
   "source": [
    "### Fernanda Harumi Tanaka"
   ]
  },
  {
   "cell_type": "markdown",
   "metadata": {},
   "source": [
    "***"
   ]
  },
  {
   "cell_type": "markdown",
   "metadata": {},
   "source": [
    "## Índice:"
   ]
  },
  {
   "cell_type": "markdown",
   "metadata": {},
   "source": [
    "[Introdução](#Introdução) <br>\n",
    "[Metodologia](#Metodologia) <br>\n",
    "> [1. Análise do dataset](#1.-Análise-do-dataset:) <br>\n",
    "> [2. Mapa astral](#2.-Mapa-astral:) <br>\n",
    "> [3. Cálculo de distâncias](#3.-Cálculo-de-distâncias:) <br>\n",
    ">>[3.1 Por similaridade](#3.1-Por-similaridade:) <br>\n",
    "\n",
    "> [4. Interação com os dados do usuário](#4.-Interação-com-os-dados-do-usuário:)\n"
   ]
  },
  {
   "cell_type": "markdown",
   "metadata": {},
   "source": [
    "***"
   ]
  },
  {
   "cell_type": "markdown",
   "metadata": {},
   "source": [
    "## Introdução:"
   ]
  },
  {
   "cell_type": "markdown",
   "metadata": {},
   "source": [
    "O principal objetivo deste projeto é identificar quais famosos mais se assemelham e são compatíveis com a personalidade do usuário, de acordo com os seus mapas astrais. <br>\n",
    "Para tanto, foi realizado webscraping do site _https://www.astro.com/astro-databank/Main_Page_, que reúne dados astrológicos de acontecimentos marcantes e personalidades da mídia."
   ]
  },
  {
   "cell_type": "markdown",
   "metadata": {},
   "source": [
    "***"
   ]
  },
  {
   "cell_type": "markdown",
   "metadata": {},
   "source": [
    "## Metodologia:"
   ]
  },
  {
   "cell_type": "code",
   "execution_count": 1,
   "metadata": {},
   "outputs": [],
   "source": [
    "import pandas as pd\n",
    "import flatlib\n",
    "import geopy\n",
    "import pyaztro\n",
    "import pytz"
   ]
  },
  {
   "cell_type": "code",
   "execution_count": 2,
   "metadata": {},
   "outputs": [],
   "source": [
    "from flatlib.datetime import Datetime\n",
    "from flatlib.geopos import GeoPos\n",
    "from flatlib.chart import Chart\n",
    "from geopy.geocoders import Nominatim\n",
    "from timezonefinder import TimezoneFinder\n",
    "from pytz import timezone\n",
    "from datetime import datetime\n",
    "from sklearn.neighbors import BallTree"
   ]
  },
  {
   "cell_type": "code",
   "execution_count": 3,
   "metadata": {},
   "outputs": [],
   "source": [
    "class pessoa():\n",
    "    \"\"\"\n",
    "    Essa classe calcula o mapa astral de uma pessoa. Forneça como input seu nome, data de nascimento, horário, fuso, local de nascimento (ex: \"São Paulo, SP\").\n",
    "    \"\"\"\n",
    "       \n",
    "    def __init__(self, nome, data, horario, fuso, local):\n",
    "        self.nome = nome\n",
    "        self.data = data\n",
    "        self.horario = horario\n",
    "        self.fuso = fuso\n",
    "        self.local = local\n",
    "        self.chart = None\n",
    "        \n",
    "    def mapa(self):\n",
    "        geolocator = Nominatim(user_agent=\"my-application\")\n",
    "        location = geolocator.geocode(self.local)\n",
    "        mapa_pessoa = Chart(Datetime(self.data, self.horario, self.fuso), GeoPos(location.latitude, location.longitude)).objects\n",
    "        dicionario = {\"nome\":self.nome}\n",
    "        for item in mapa_pessoa:\n",
    "            dicionario[item.id] = item.sign\n",
    "        self.chart = dicionario"
   ]
  },
  {
   "cell_type": "code",
   "execution_count": 4,
   "metadata": {},
   "outputs": [],
   "source": [
    "def drop_word (df, word):\n",
    "    \"\"\"\n",
    "    Essa função elimina as linhas correspondentes à determinada palavra presente na coluna \"bio\".\n",
    "    Insira o nome do dataframe (df) e a palavra que deseja buscar (word). \n",
    "    Retorna o dataset sem linhas que contenham essa palavra.\n",
    "    \"\"\"\n",
    "    df.drop(df.loc[df['bio'].str.contains(word)].index, axis=0, inplace=True)\n",
    "    return df"
   ]
  },
  {
   "cell_type": "code",
   "execution_count": 5,
   "metadata": {},
   "outputs": [],
   "source": [
    "tf = TimezoneFinder()\n",
    "utc = pytz.utc\n",
    "\n",
    "def offset(df):\n",
    "    \"\"\"\n",
    "    Essa função retorna o fuso horário de um local, de acordo com o deslocamento UTC, em horas.\n",
    "    Insira um dataframe (df), que contenha as colunas lat_2 e long_2 (em float).\n",
    "    Função retirada da documentação do módulo TimezoneFinder \"https://github.com/MrMinimal64/timezonefinder\"\n",
    "    \"\"\"\n",
    "    \n",
    "    today = datetime.now()\n",
    "    try:\n",
    "        tz_target = timezone(tf.certain_timezone_at(lat=df['lat_2'], lng=df['long_2']))\n",
    "    \n",
    "        today_target = tz_target.localize(today)\n",
    "        today_utc = utc.localize(today)\n",
    "        offset = today_utc - today_target\n",
    "    \n",
    "        offset -= tz_target.dst(today)\n",
    "        return offset.total_seconds() / 3600\n",
    "\n",
    "    except:\n",
    "        pass"
   ]
  },
  {
   "cell_type": "code",
   "execution_count": 6,
   "metadata": {},
   "outputs": [],
   "source": [
    "def mapa(df):\n",
    "    \"\"\"\n",
    "    Essa função retorna o mapa astral em um dicionário \n",
    "    \"\"\"\n",
    "    mapa_pessoa = Chart(Datetime(df['data'], df['horario'], df['fuso']), GeoPos(df['lat_2'], df['long_2'])).objects\n",
    "    dicionario = {}\n",
    "    for item in mapa_pessoa:\n",
    "        dicionario[item.id] = item.sign\n",
    "    return dicionario"
   ]
  },
  {
   "cell_type": "markdown",
   "metadata": {},
   "source": [
    "### 1. Análise do dataset:"
   ]
  },
  {
   "cell_type": "code",
   "execution_count": 7,
   "metadata": {},
   "outputs": [],
   "source": [
    "# Importando o dataset:\n",
    "astro = pd.read_csv(\"astro_databank.csv\")\n",
    "astro.columns = ['nome', 'data', 'horario', 'lat', 'long', 'bio', 'url']"
   ]
  },
  {
   "cell_type": "code",
   "execution_count": 8,
   "metadata": {},
   "outputs": [
    {
     "name": "stdout",
     "output_type": "stream",
     "text": [
      "<class 'pandas.core.frame.DataFrame'>\n",
      "RangeIndex: 65417 entries, 0 to 65416\n",
      "Data columns (total 7 columns):\n",
      "nome       65417 non-null object\n",
      "data       65417 non-null object\n",
      "horario    65417 non-null object\n",
      "lat        65417 non-null object\n",
      "long       65417 non-null object\n",
      "bio        65417 non-null object\n",
      "url        65417 non-null object\n",
      "dtypes: object(7)\n",
      "memory usage: 3.5+ MB\n"
     ]
    }
   ],
   "source": [
    "astro.info()"
   ]
  },
  {
   "cell_type": "code",
   "execution_count": 9,
   "metadata": {},
   "outputs": [
    {
     "data": {
      "text/html": [
       "<div>\n",
       "<style scoped>\n",
       "    .dataframe tbody tr th:only-of-type {\n",
       "        vertical-align: middle;\n",
       "    }\n",
       "\n",
       "    .dataframe tbody tr th {\n",
       "        vertical-align: top;\n",
       "    }\n",
       "\n",
       "    .dataframe thead th {\n",
       "        text-align: right;\n",
       "    }\n",
       "</style>\n",
       "<table border=\"1\" class=\"dataframe\">\n",
       "  <thead>\n",
       "    <tr style=\"text-align: right;\">\n",
       "      <th></th>\n",
       "      <th>nome</th>\n",
       "      <th>data</th>\n",
       "      <th>horario</th>\n",
       "      <th>lat</th>\n",
       "      <th>long</th>\n",
       "      <th>bio</th>\n",
       "      <th>url</th>\n",
       "    </tr>\n",
       "  </thead>\n",
       "  <tbody>\n",
       "    <tr>\n",
       "      <th>0</th>\n",
       "      <td>Bablet, Denis</td>\n",
       "      <td>19 March 1930</td>\n",
       "      <td>01:30</td>\n",
       "      <td>48n52</td>\n",
       "      <td>2e20</td>\n",
       "      <td>&lt;p&gt;French theorist of the theatre. \\n&lt;/p&gt;</td>\n",
       "      <td>https://www.astro.com/astro-databank/Bablet,_D...</td>\n",
       "    </tr>\n",
       "    <tr>\n",
       "      <th>1</th>\n",
       "      <td>Babin Cortes, Maria Teresa</td>\n",
       "      <td>31 May 1910</td>\n",
       "      <td>05:30</td>\n",
       "      <td>18n01</td>\n",
       "      <td>66w37</td>\n",
       "      <td>&lt;p&gt;Puerto Rican educator, literary critic, and...</td>\n",
       "      <td>https://www.astro.com/astro-databank/Babin_Cor...</td>\n",
       "    </tr>\n",
       "    <tr>\n",
       "      <th>2</th>\n",
       "      <td>Babonneau, René</td>\n",
       "      <td>18 June 1904</td>\n",
       "      <td>09:30</td>\n",
       "      <td>47n13</td>\n",
       "      <td>1w33</td>\n",
       "      <td>&lt;p&gt;French legionnaire, awarded the title of 'C...</td>\n",
       "      <td>https://www.astro.com/astro-databank/Babonneau...</td>\n",
       "    </tr>\n",
       "    <tr>\n",
       "      <th>3</th>\n",
       "      <td>Babonneau, René</td>\n",
       "      <td>18 June 1904</td>\n",
       "      <td>09:30</td>\n",
       "      <td>47n13</td>\n",
       "      <td>1w33</td>\n",
       "      <td>&lt;p&gt;French legionnaire, awarded the title of 'C...</td>\n",
       "      <td>https://www.astro.com/astro-databank/Babonneau...</td>\n",
       "    </tr>\n",
       "    <tr>\n",
       "      <th>4</th>\n",
       "      <td>Baboul, Eudoxie</td>\n",
       "      <td>1 October 1901</td>\n",
       "      <td>03:00</td>\n",
       "      <td>5n23</td>\n",
       "      <td>52w57</td>\n",
       "      <td>&lt;p&gt;French supercentenarian, for a while the ol...</td>\n",
       "      <td>https://www.astro.com/astro-databank/Baboul,_E...</td>\n",
       "    </tr>\n",
       "  </tbody>\n",
       "</table>\n",
       "</div>"
      ],
      "text/plain": [
       "                         nome            data  horario    lat   long  \\\n",
       "0               Bablet, Denis   19 March 1930  01:30    48n52   2e20   \n",
       "1  Babin Cortes, Maria Teresa     31 May 1910  05:30    18n01  66w37   \n",
       "2             Babonneau, René    18 June 1904  09:30    47n13   1w33   \n",
       "3             Babonneau, René    18 June 1904  09:30    47n13   1w33   \n",
       "4             Baboul, Eudoxie  1 October 1901  03:00     5n23  52w57   \n",
       "\n",
       "                                                 bio  \\\n",
       "0          <p>French theorist of the theatre. \\n</p>   \n",
       "1  <p>Puerto Rican educator, literary critic, and...   \n",
       "2  <p>French legionnaire, awarded the title of 'C...   \n",
       "3  <p>French legionnaire, awarded the title of 'C...   \n",
       "4  <p>French supercentenarian, for a while the ol...   \n",
       "\n",
       "                                                 url  \n",
       "0  https://www.astro.com/astro-databank/Bablet,_D...  \n",
       "1  https://www.astro.com/astro-databank/Babin_Cor...  \n",
       "2  https://www.astro.com/astro-databank/Babonneau...  \n",
       "3  https://www.astro.com/astro-databank/Babonneau...  \n",
       "4  https://www.astro.com/astro-databank/Baboul,_E...  "
      ]
     },
     "execution_count": 9,
     "metadata": {},
     "output_type": "execute_result"
    }
   ],
   "source": [
    "astro.head()"
   ]
  },
  {
   "cell_type": "markdown",
   "metadata": {},
   "source": [
    "\"Babonneau, René\" é um dado duplicado. Deve-se eliminar esses dados:"
   ]
  },
  {
   "cell_type": "code",
   "execution_count": 10,
   "metadata": {},
   "outputs": [],
   "source": [
    "astro2 = astro.drop_duplicates()"
   ]
  },
  {
   "cell_type": "code",
   "execution_count": 11,
   "metadata": {},
   "outputs": [
    {
     "name": "stdout",
     "output_type": "stream",
     "text": [
      "<class 'pandas.core.frame.DataFrame'>\n",
      "Int64Index: 57706 entries, 0 to 58480\n",
      "Data columns (total 7 columns):\n",
      "nome       57706 non-null object\n",
      "data       57706 non-null object\n",
      "horario    57706 non-null object\n",
      "lat        57706 non-null object\n",
      "long       57706 non-null object\n",
      "bio        57706 non-null object\n",
      "url        57706 non-null object\n",
      "dtypes: object(7)\n",
      "memory usage: 3.5+ MB\n"
     ]
    }
   ],
   "source": [
    "astro2.info()"
   ]
  },
  {
   "cell_type": "code",
   "execution_count": 12,
   "metadata": {},
   "outputs": [
    {
     "data": {
      "text/html": [
       "<div>\n",
       "<style scoped>\n",
       "    .dataframe tbody tr th:only-of-type {\n",
       "        vertical-align: middle;\n",
       "    }\n",
       "\n",
       "    .dataframe tbody tr th {\n",
       "        vertical-align: top;\n",
       "    }\n",
       "\n",
       "    .dataframe thead th {\n",
       "        text-align: right;\n",
       "    }\n",
       "</style>\n",
       "<table border=\"1\" class=\"dataframe\">\n",
       "  <thead>\n",
       "    <tr style=\"text-align: right;\">\n",
       "      <th></th>\n",
       "      <th>nome</th>\n",
       "      <th>data</th>\n",
       "      <th>horario</th>\n",
       "      <th>lat</th>\n",
       "      <th>long</th>\n",
       "      <th>bio</th>\n",
       "      <th>url</th>\n",
       "    </tr>\n",
       "  </thead>\n",
       "  <tbody>\n",
       "    <tr>\n",
       "      <th>0</th>\n",
       "      <td>Bablet, Denis</td>\n",
       "      <td>19 March 1930</td>\n",
       "      <td>01:30</td>\n",
       "      <td>48n52</td>\n",
       "      <td>2e20</td>\n",
       "      <td>&lt;p&gt;French theorist of the theatre. \\n&lt;/p&gt;</td>\n",
       "      <td>https://www.astro.com/astro-databank/Bablet,_D...</td>\n",
       "    </tr>\n",
       "    <tr>\n",
       "      <th>1</th>\n",
       "      <td>Babin Cortes, Maria Teresa</td>\n",
       "      <td>31 May 1910</td>\n",
       "      <td>05:30</td>\n",
       "      <td>18n01</td>\n",
       "      <td>66w37</td>\n",
       "      <td>&lt;p&gt;Puerto Rican educator, literary critic, and...</td>\n",
       "      <td>https://www.astro.com/astro-databank/Babin_Cor...</td>\n",
       "    </tr>\n",
       "    <tr>\n",
       "      <th>2</th>\n",
       "      <td>Babonneau, René</td>\n",
       "      <td>18 June 1904</td>\n",
       "      <td>09:30</td>\n",
       "      <td>47n13</td>\n",
       "      <td>1w33</td>\n",
       "      <td>&lt;p&gt;French legionnaire, awarded the title of 'C...</td>\n",
       "      <td>https://www.astro.com/astro-databank/Babonneau...</td>\n",
       "    </tr>\n",
       "    <tr>\n",
       "      <th>3</th>\n",
       "      <td>Babonneau, René</td>\n",
       "      <td>18 June 1904</td>\n",
       "      <td>09:30</td>\n",
       "      <td>47n13</td>\n",
       "      <td>1w33</td>\n",
       "      <td>&lt;p&gt;French legionnaire, awarded the title of 'C...</td>\n",
       "      <td>https://www.astro.com/astro-databank/Babonneau...</td>\n",
       "    </tr>\n",
       "    <tr>\n",
       "      <th>4</th>\n",
       "      <td>Baboul, Eudoxie</td>\n",
       "      <td>1 October 1901</td>\n",
       "      <td>03:00</td>\n",
       "      <td>5n23</td>\n",
       "      <td>52w57</td>\n",
       "      <td>&lt;p&gt;French supercentenarian, for a while the ol...</td>\n",
       "      <td>https://www.astro.com/astro-databank/Baboul,_E...</td>\n",
       "    </tr>\n",
       "  </tbody>\n",
       "</table>\n",
       "</div>"
      ],
      "text/plain": [
       "                         nome            data  horario    lat   long  \\\n",
       "0               Bablet, Denis   19 March 1930  01:30    48n52   2e20   \n",
       "1  Babin Cortes, Maria Teresa     31 May 1910  05:30    18n01  66w37   \n",
       "2             Babonneau, René    18 June 1904  09:30    47n13   1w33   \n",
       "3             Babonneau, René    18 June 1904  09:30    47n13   1w33   \n",
       "4             Baboul, Eudoxie  1 October 1901  03:00     5n23  52w57   \n",
       "\n",
       "                                                 bio  \\\n",
       "0          <p>French theorist of the theatre. \\n</p>   \n",
       "1  <p>Puerto Rican educator, literary critic, and...   \n",
       "2  <p>French legionnaire, awarded the title of 'C...   \n",
       "3  <p>French legionnaire, awarded the title of 'C...   \n",
       "4  <p>French supercentenarian, for a while the ol...   \n",
       "\n",
       "                                                 url  \n",
       "0  https://www.astro.com/astro-databank/Bablet,_D...  \n",
       "1  https://www.astro.com/astro-databank/Babin_Cor...  \n",
       "2  https://www.astro.com/astro-databank/Babonneau...  \n",
       "3  https://www.astro.com/astro-databank/Babonneau...  \n",
       "4  https://www.astro.com/astro-databank/Baboul,_E...  "
      ]
     },
     "execution_count": 12,
     "metadata": {},
     "output_type": "execute_result"
    }
   ],
   "source": [
    "astro2.head()"
   ]
  },
  {
   "cell_type": "code",
   "execution_count": 13,
   "metadata": {},
   "outputs": [
    {
     "data": {
      "text/plain": [
       "7711"
      ]
     },
     "execution_count": 13,
     "metadata": {},
     "output_type": "execute_result"
    }
   ],
   "source": [
    "len(astro)-len(astro2)"
   ]
  },
  {
   "cell_type": "markdown",
   "metadata": {},
   "source": [
    "7711 dados duplicados foram eliminados, porém o \"Babonneau, René\" continuou com duas ocorrências no dataset. Assim como este caso, devem existir outros. Então, eliminou-se pessoas homônimas:"
   ]
  },
  {
   "cell_type": "code",
   "execution_count": 14,
   "metadata": {},
   "outputs": [],
   "source": [
    "astro3 = astro2.drop_duplicates(subset = \"nome\")"
   ]
  },
  {
   "cell_type": "code",
   "execution_count": 15,
   "metadata": {},
   "outputs": [
    {
     "data": {
      "text/html": [
       "<div>\n",
       "<style scoped>\n",
       "    .dataframe tbody tr th:only-of-type {\n",
       "        vertical-align: middle;\n",
       "    }\n",
       "\n",
       "    .dataframe tbody tr th {\n",
       "        vertical-align: top;\n",
       "    }\n",
       "\n",
       "    .dataframe thead th {\n",
       "        text-align: right;\n",
       "    }\n",
       "</style>\n",
       "<table border=\"1\" class=\"dataframe\">\n",
       "  <thead>\n",
       "    <tr style=\"text-align: right;\">\n",
       "      <th></th>\n",
       "      <th>nome</th>\n",
       "      <th>data</th>\n",
       "      <th>horario</th>\n",
       "      <th>lat</th>\n",
       "      <th>long</th>\n",
       "      <th>bio</th>\n",
       "      <th>url</th>\n",
       "    </tr>\n",
       "  </thead>\n",
       "  <tbody>\n",
       "    <tr>\n",
       "      <th>0</th>\n",
       "      <td>Bablet, Denis</td>\n",
       "      <td>19 March 1930</td>\n",
       "      <td>01:30</td>\n",
       "      <td>48n52</td>\n",
       "      <td>2e20</td>\n",
       "      <td>&lt;p&gt;French theorist of the theatre. \\n&lt;/p&gt;</td>\n",
       "      <td>https://www.astro.com/astro-databank/Bablet,_D...</td>\n",
       "    </tr>\n",
       "    <tr>\n",
       "      <th>1</th>\n",
       "      <td>Babin Cortes, Maria Teresa</td>\n",
       "      <td>31 May 1910</td>\n",
       "      <td>05:30</td>\n",
       "      <td>18n01</td>\n",
       "      <td>66w37</td>\n",
       "      <td>&lt;p&gt;Puerto Rican educator, literary critic, and...</td>\n",
       "      <td>https://www.astro.com/astro-databank/Babin_Cor...</td>\n",
       "    </tr>\n",
       "    <tr>\n",
       "      <th>2</th>\n",
       "      <td>Babonneau, René</td>\n",
       "      <td>18 June 1904</td>\n",
       "      <td>09:30</td>\n",
       "      <td>47n13</td>\n",
       "      <td>1w33</td>\n",
       "      <td>&lt;p&gt;French legionnaire, awarded the title of 'C...</td>\n",
       "      <td>https://www.astro.com/astro-databank/Babonneau...</td>\n",
       "    </tr>\n",
       "    <tr>\n",
       "      <th>4</th>\n",
       "      <td>Baboul, Eudoxie</td>\n",
       "      <td>1 October 1901</td>\n",
       "      <td>03:00</td>\n",
       "      <td>5n23</td>\n",
       "      <td>52w57</td>\n",
       "      <td>&lt;p&gt;French supercentenarian, for a while the ol...</td>\n",
       "      <td>https://www.astro.com/astro-databank/Baboul,_E...</td>\n",
       "    </tr>\n",
       "    <tr>\n",
       "      <th>5</th>\n",
       "      <td>Babilée, Jean</td>\n",
       "      <td>3 February 1923</td>\n",
       "      <td>21:30</td>\n",
       "      <td>48n5102</td>\n",
       "      <td>2e1958</td>\n",
       "      <td>&lt;p&gt;French dancer, choreographer, and actor, Ba...</td>\n",
       "      <td>https://www.astro.com/astro-databank/Babil%C3%...</td>\n",
       "    </tr>\n",
       "  </tbody>\n",
       "</table>\n",
       "</div>"
      ],
      "text/plain": [
       "                         nome             data  horario      lat    long  \\\n",
       "0               Bablet, Denis    19 March 1930  01:30      48n52    2e20   \n",
       "1  Babin Cortes, Maria Teresa      31 May 1910  05:30      18n01   66w37   \n",
       "2             Babonneau, René     18 June 1904  09:30      47n13    1w33   \n",
       "4             Baboul, Eudoxie   1 October 1901  03:00       5n23   52w57   \n",
       "5               Babilée, Jean  3 February 1923  21:30    48n5102  2e1958   \n",
       "\n",
       "                                                 bio  \\\n",
       "0          <p>French theorist of the theatre. \\n</p>   \n",
       "1  <p>Puerto Rican educator, literary critic, and...   \n",
       "2  <p>French legionnaire, awarded the title of 'C...   \n",
       "4  <p>French supercentenarian, for a while the ol...   \n",
       "5  <p>French dancer, choreographer, and actor, Ba...   \n",
       "\n",
       "                                                 url  \n",
       "0  https://www.astro.com/astro-databank/Bablet,_D...  \n",
       "1  https://www.astro.com/astro-databank/Babin_Cor...  \n",
       "2  https://www.astro.com/astro-databank/Babonneau...  \n",
       "4  https://www.astro.com/astro-databank/Baboul,_E...  \n",
       "5  https://www.astro.com/astro-databank/Babil%C3%...  "
      ]
     },
     "execution_count": 15,
     "metadata": {},
     "output_type": "execute_result"
    }
   ],
   "source": [
    "astro3.head()"
   ]
  },
  {
   "cell_type": "code",
   "execution_count": 16,
   "metadata": {},
   "outputs": [
    {
     "name": "stderr",
     "output_type": "stream",
     "text": [
      "C:\\Users\\ferna\\Anaconda3\\lib\\site-packages\\pandas\\core\\frame.py:3940: SettingWithCopyWarning: \n",
      "A value is trying to be set on a copy of a slice from a DataFrame\n",
      "\n",
      "See the caveats in the documentation: http://pandas.pydata.org/pandas-docs/stable/indexing.html#indexing-view-versus-copy\n",
      "  errors=errors)\n"
     ]
    }
   ],
   "source": [
    "astro3.reset_index(inplace=True)\n",
    "astro3.drop(\"index\", axis=1, inplace=True)"
   ]
  },
  {
   "cell_type": "code",
   "execution_count": 17,
   "metadata": {},
   "outputs": [
    {
     "name": "stdout",
     "output_type": "stream",
     "text": [
      "<class 'pandas.core.frame.DataFrame'>\n",
      "RangeIndex: 52548 entries, 0 to 52547\n",
      "Data columns (total 7 columns):\n",
      "nome       52548 non-null object\n",
      "data       52548 non-null object\n",
      "horario    52548 non-null object\n",
      "lat        52548 non-null object\n",
      "long       52548 non-null object\n",
      "bio        52548 non-null object\n",
      "url        52548 non-null object\n",
      "dtypes: object(7)\n",
      "memory usage: 2.8+ MB\n"
     ]
    }
   ],
   "source": [
    "astro3.info()"
   ]
  },
  {
   "cell_type": "code",
   "execution_count": 18,
   "metadata": {},
   "outputs": [
    {
     "data": {
      "text/plain": [
       "5158"
      ]
     },
     "execution_count": 18,
     "metadata": {},
     "output_type": "execute_result"
    }
   ],
   "source": [
    "len(astro2)-len(astro3)"
   ]
  },
  {
   "cell_type": "markdown",
   "metadata": {},
   "source": [
    "Com isso, mais de 5000 dados homônimos foram eliminados. O dataset contém, desta forma, 52548 elementos com uma única ocorrência, sem homônimos, e sem valores nulos."
   ]
  },
  {
   "cell_type": "markdown",
   "metadata": {},
   "source": [
    "Antes de filtrar o dataset, foram separados alguns dados interessantes, que podem ser utilizados em etapas futuras do projeto."
   ]
  },
  {
   "cell_type": "code",
   "execution_count": 19,
   "metadata": {},
   "outputs": [
    {
     "data": {
      "text/html": [
       "<div>\n",
       "<style scoped>\n",
       "    .dataframe tbody tr th:only-of-type {\n",
       "        vertical-align: middle;\n",
       "    }\n",
       "\n",
       "    .dataframe tbody tr th {\n",
       "        vertical-align: top;\n",
       "    }\n",
       "\n",
       "    .dataframe thead th {\n",
       "        text-align: right;\n",
       "    }\n",
       "</style>\n",
       "<table border=\"1\" class=\"dataframe\">\n",
       "  <thead>\n",
       "    <tr style=\"text-align: right;\">\n",
       "      <th></th>\n",
       "      <th>nome</th>\n",
       "      <th>data</th>\n",
       "      <th>horario</th>\n",
       "      <th>lat</th>\n",
       "      <th>long</th>\n",
       "      <th>bio</th>\n",
       "      <th>url</th>\n",
       "    </tr>\n",
       "  </thead>\n",
       "  <tbody>\n",
       "    <tr>\n",
       "      <th>303</th>\n",
       "      <td>Accidents: West Fertilizer Company explosion (...</td>\n",
       "      <td>17 April 2013</td>\n",
       "      <td>07:50:38</td>\n",
       "      <td>31n33</td>\n",
       "      <td>97w09</td>\n",
       "      <td>&lt;p&gt;On April 17, 2013, an ammonium nitrate expl...</td>\n",
       "      <td>https://www.astro.com/astro-databank/Accidents...</td>\n",
       "    </tr>\n",
       "    <tr>\n",
       "      <th>304</th>\n",
       "      <td>Accident: wreck Air France flight 447</td>\n",
       "      <td>1 June 2009</td>\n",
       "      <td>05:14</td>\n",
       "      <td>3s5025</td>\n",
       "      <td>32w2439</td>\n",
       "      <td>&lt;p&gt;This plane (Rio-Paris) sank into the Atlant...</td>\n",
       "      <td>https://www.astro.com/astro-databank/Accident:...</td>\n",
       "    </tr>\n",
       "    <tr>\n",
       "      <th>306</th>\n",
       "      <td>Accident: great fire of Valparaiso</td>\n",
       "      <td>12 April 2014</td>\n",
       "      <td>16:40</td>\n",
       "      <td>33s02</td>\n",
       "      <td>71w38</td>\n",
       "      <td>&lt;p&gt;Great wildfire, it began on 12 April 2914 i...</td>\n",
       "      <td>https://www.astro.com/astro-databank/Accident:...</td>\n",
       "    </tr>\n",
       "    <tr>\n",
       "      <th>307</th>\n",
       "      <td>Accident: gas explosion Mulhouse</td>\n",
       "      <td>31 August 2014</td>\n",
       "      <td>07:00</td>\n",
       "      <td>47n45</td>\n",
       "      <td>7e20</td>\n",
       "      <td>&lt;p&gt;&lt;br&gt;\\n&lt;/p&gt;</td>\n",
       "      <td>https://www.astro.com/astro-databank/Accident:...</td>\n",
       "    </tr>\n",
       "    <tr>\n",
       "      <th>311</th>\n",
       "      <td>Accident: Train Wreck</td>\n",
       "      <td>25 April 1946</td>\n",
       "      <td>13:15</td>\n",
       "      <td>41n47</td>\n",
       "      <td>88w09</td>\n",
       "      <td>&lt;p&gt;American train accident; the train, called ...</td>\n",
       "      <td>https://www.astro.com/astro-databank/Accident:...</td>\n",
       "    </tr>\n",
       "  </tbody>\n",
       "</table>\n",
       "</div>"
      ],
      "text/plain": [
       "                                                  nome            data  \\\n",
       "303  Accidents: West Fertilizer Company explosion (...   17 April 2013   \n",
       "304              Accident: wreck Air France flight 447     1 June 2009   \n",
       "306                 Accident: great fire of Valparaiso   12 April 2014   \n",
       "307                   Accident: gas explosion Mulhouse  31 August 2014   \n",
       "311                              Accident: Train Wreck   25 April 1946   \n",
       "\n",
       "        horario     lat     long  \\\n",
       "303  07:50:38     31n33    97w09   \n",
       "304     05:14    3s5025  32w2439   \n",
       "306     16:40     33s02    71w38   \n",
       "307     07:00     47n45     7e20   \n",
       "311     13:15     41n47    88w09   \n",
       "\n",
       "                                                   bio  \\\n",
       "303  <p>On April 17, 2013, an ammonium nitrate expl...   \n",
       "304  <p>This plane (Rio-Paris) sank into the Atlant...   \n",
       "306  <p>Great wildfire, it began on 12 April 2914 i...   \n",
       "307                                      <p><br>\\n</p>   \n",
       "311  <p>American train accident; the train, called ...   \n",
       "\n",
       "                                                   url  \n",
       "303  https://www.astro.com/astro-databank/Accidents...  \n",
       "304  https://www.astro.com/astro-databank/Accident:...  \n",
       "306  https://www.astro.com/astro-databank/Accident:...  \n",
       "307  https://www.astro.com/astro-databank/Accident:...  \n",
       "311  https://www.astro.com/astro-databank/Accident:...  "
      ]
     },
     "execution_count": 19,
     "metadata": {},
     "output_type": "execute_result"
    }
   ],
   "source": [
    "#Separando o dataset para dados de acidentes\n",
    "mask_accident = astro3['nome'].str.contains('Accident')\n",
    "accident = astro3[mask_accident]\n",
    "accident.head()"
   ]
  },
  {
   "cell_type": "code",
   "execution_count": 20,
   "metadata": {},
   "outputs": [
    {
     "data": {
      "text/plain": [
       "(94, 7)"
      ]
     },
     "execution_count": 20,
     "metadata": {},
     "output_type": "execute_result"
    }
   ],
   "source": [
    "accident.shape"
   ]
  },
  {
   "cell_type": "code",
   "execution_count": 21,
   "metadata": {},
   "outputs": [
    {
     "data": {
      "text/html": [
       "<div>\n",
       "<style scoped>\n",
       "    .dataframe tbody tr th:only-of-type {\n",
       "        vertical-align: middle;\n",
       "    }\n",
       "\n",
       "    .dataframe tbody tr th {\n",
       "        vertical-align: top;\n",
       "    }\n",
       "\n",
       "    .dataframe thead th {\n",
       "        text-align: right;\n",
       "    }\n",
       "</style>\n",
       "<table border=\"1\" class=\"dataframe\">\n",
       "  <thead>\n",
       "    <tr style=\"text-align: right;\">\n",
       "      <th></th>\n",
       "      <th>nome</th>\n",
       "      <th>data</th>\n",
       "      <th>horario</th>\n",
       "      <th>lat</th>\n",
       "      <th>long</th>\n",
       "      <th>bio</th>\n",
       "      <th>url</th>\n",
       "    </tr>\n",
       "  </thead>\n",
       "  <tbody>\n",
       "    <tr>\n",
       "      <th>123</th>\n",
       "      <td>UFO Sighting 14368</td>\n",
       "      <td>10 February 1969</td>\n",
       "      <td>21:00</td>\n",
       "      <td>21s1218</td>\n",
       "      <td>41w5316</td>\n",
       "      <td>&lt;p&gt;Brazilian UFO sighting of a pear-shaped cra...</td>\n",
       "      <td>https://www.astro.com/astro-databank/UFO_Sight...</td>\n",
       "    </tr>\n",
       "    <tr>\n",
       "      <th>124</th>\n",
       "      <td>UFO Sighting 14367</td>\n",
       "      <td>8 February 1969</td>\n",
       "      <td>21:05</td>\n",
       "      <td>16s0456</td>\n",
       "      <td>48w3026</td>\n",
       "      <td>&lt;p&gt;Brazilian UFO sighting of a \"wheel of fire\"...</td>\n",
       "      <td>https://www.astro.com/astro-databank/UFO_Sight...</td>\n",
       "    </tr>\n",
       "    <tr>\n",
       "      <th>127</th>\n",
       "      <td>UFO Sighting 14366</td>\n",
       "      <td>6 February 1969</td>\n",
       "      <td>07:30</td>\n",
       "      <td>21s59</td>\n",
       "      <td>47w25</td>\n",
       "      <td>&lt;p&gt;Brazilian UFO sighting, an encounter of the...</td>\n",
       "      <td>https://www.astro.com/astro-databank/UFO_Sight...</td>\n",
       "    </tr>\n",
       "    <tr>\n",
       "      <th>128</th>\n",
       "      <td>UFO Sighting 14365</td>\n",
       "      <td>31 January 1969</td>\n",
       "      <td>22:00</td>\n",
       "      <td>16s0456</td>\n",
       "      <td>48w3026</td>\n",
       "      <td>&lt;p&gt;Brazilian UFO sighting, an encounter of the...</td>\n",
       "      <td>https://www.astro.com/astro-databank/UFO_Sight...</td>\n",
       "    </tr>\n",
       "    <tr>\n",
       "      <th>132</th>\n",
       "      <td>Salomão, Waly</td>\n",
       "      <td>3 September 1943</td>\n",
       "      <td>05:00</td>\n",
       "      <td>13s5127</td>\n",
       "      <td>40w0501</td>\n",
       "      <td>&lt;p&gt;Brazilian poet, songwriter and writer. His ...</td>\n",
       "      <td>https://www.astro.com/astro-databank/Salom%C3%...</td>\n",
       "    </tr>\n",
       "  </tbody>\n",
       "</table>\n",
       "</div>"
      ],
      "text/plain": [
       "                   nome              data  horario      lat     long  \\\n",
       "123  UFO Sighting 14368  10 February 1969  21:00    21s1218  41w5316   \n",
       "124  UFO Sighting 14367   8 February 1969  21:05    16s0456  48w3026   \n",
       "127  UFO Sighting 14366   6 February 1969  07:30      21s59    47w25   \n",
       "128  UFO Sighting 14365   31 January 1969  22:00    16s0456  48w3026   \n",
       "132       Salomão, Waly  3 September 1943  05:00    13s5127  40w0501   \n",
       "\n",
       "                                                   bio  \\\n",
       "123  <p>Brazilian UFO sighting of a pear-shaped cra...   \n",
       "124  <p>Brazilian UFO sighting of a \"wheel of fire\"...   \n",
       "127  <p>Brazilian UFO sighting, an encounter of the...   \n",
       "128  <p>Brazilian UFO sighting, an encounter of the...   \n",
       "132  <p>Brazilian poet, songwriter and writer. His ...   \n",
       "\n",
       "                                                   url  \n",
       "123  https://www.astro.com/astro-databank/UFO_Sight...  \n",
       "124  https://www.astro.com/astro-databank/UFO_Sight...  \n",
       "127  https://www.astro.com/astro-databank/UFO_Sight...  \n",
       "128  https://www.astro.com/astro-databank/UFO_Sight...  \n",
       "132  https://www.astro.com/astro-databank/Salom%C3%...  "
      ]
     },
     "execution_count": 21,
     "metadata": {},
     "output_type": "execute_result"
    }
   ],
   "source": [
    "#Separando dados relativos ao Brasil:\n",
    "br_mask = astro3['bio'].str.contains('Brazilian')\n",
    "br = astro3[br_mask]\n",
    "br.head()"
   ]
  },
  {
   "cell_type": "code",
   "execution_count": 22,
   "metadata": {},
   "outputs": [
    {
     "data": {
      "text/plain": [
       "(627, 7)"
      ]
     },
     "execution_count": 22,
     "metadata": {},
     "output_type": "execute_result"
    }
   ],
   "source": [
    "br.shape"
   ]
  },
  {
   "cell_type": "code",
   "execution_count": 23,
   "metadata": {},
   "outputs": [
    {
     "data": {
      "text/html": [
       "<div>\n",
       "<style scoped>\n",
       "    .dataframe tbody tr th:only-of-type {\n",
       "        vertical-align: middle;\n",
       "    }\n",
       "\n",
       "    .dataframe tbody tr th {\n",
       "        vertical-align: top;\n",
       "    }\n",
       "\n",
       "    .dataframe thead th {\n",
       "        text-align: right;\n",
       "    }\n",
       "</style>\n",
       "<table border=\"1\" class=\"dataframe\">\n",
       "  <thead>\n",
       "    <tr style=\"text-align: right;\">\n",
       "      <th></th>\n",
       "      <th>nome</th>\n",
       "      <th>data</th>\n",
       "      <th>horario</th>\n",
       "      <th>lat</th>\n",
       "      <th>long</th>\n",
       "      <th>bio</th>\n",
       "      <th>url</th>\n",
       "    </tr>\n",
       "  </thead>\n",
       "  <tbody>\n",
       "    <tr>\n",
       "      <th>123</th>\n",
       "      <td>UFO Sighting 14368</td>\n",
       "      <td>10 February 1969</td>\n",
       "      <td>21:00</td>\n",
       "      <td>21s1218</td>\n",
       "      <td>41w5316</td>\n",
       "      <td>&lt;p&gt;Brazilian UFO sighting of a pear-shaped cra...</td>\n",
       "      <td>https://www.astro.com/astro-databank/UFO_Sight...</td>\n",
       "    </tr>\n",
       "    <tr>\n",
       "      <th>124</th>\n",
       "      <td>UFO Sighting 14367</td>\n",
       "      <td>8 February 1969</td>\n",
       "      <td>21:05</td>\n",
       "      <td>16s0456</td>\n",
       "      <td>48w3026</td>\n",
       "      <td>&lt;p&gt;Brazilian UFO sighting of a \"wheel of fire\"...</td>\n",
       "      <td>https://www.astro.com/astro-databank/UFO_Sight...</td>\n",
       "    </tr>\n",
       "    <tr>\n",
       "      <th>127</th>\n",
       "      <td>UFO Sighting 14366</td>\n",
       "      <td>6 February 1969</td>\n",
       "      <td>07:30</td>\n",
       "      <td>21s59</td>\n",
       "      <td>47w25</td>\n",
       "      <td>&lt;p&gt;Brazilian UFO sighting, an encounter of the...</td>\n",
       "      <td>https://www.astro.com/astro-databank/UFO_Sight...</td>\n",
       "    </tr>\n",
       "    <tr>\n",
       "      <th>128</th>\n",
       "      <td>UFO Sighting 14365</td>\n",
       "      <td>31 January 1969</td>\n",
       "      <td>22:00</td>\n",
       "      <td>16s0456</td>\n",
       "      <td>48w3026</td>\n",
       "      <td>&lt;p&gt;Brazilian UFO sighting, an encounter of the...</td>\n",
       "      <td>https://www.astro.com/astro-databank/UFO_Sight...</td>\n",
       "    </tr>\n",
       "    <tr>\n",
       "      <th>554</th>\n",
       "      <td>UFO Sighting 14363</td>\n",
       "      <td>26 January 1969</td>\n",
       "      <td>21:22</td>\n",
       "      <td>12s0808</td>\n",
       "      <td>38w2509</td>\n",
       "      <td>&lt;p&gt;Brazilian UFO sighting, an encounter of the...</td>\n",
       "      <td>https://www.astro.com/astro-databank/UFO_Sight...</td>\n",
       "    </tr>\n",
       "  </tbody>\n",
       "</table>\n",
       "</div>"
      ],
      "text/plain": [
       "                   nome              data  horario      lat     long  \\\n",
       "123  UFO Sighting 14368  10 February 1969  21:00    21s1218  41w5316   \n",
       "124  UFO Sighting 14367   8 February 1969  21:05    16s0456  48w3026   \n",
       "127  UFO Sighting 14366   6 February 1969  07:30      21s59    47w25   \n",
       "128  UFO Sighting 14365   31 January 1969  22:00    16s0456  48w3026   \n",
       "554  UFO Sighting 14363   26 January 1969  21:22    12s0808  38w2509   \n",
       "\n",
       "                                                   bio  \\\n",
       "123  <p>Brazilian UFO sighting of a pear-shaped cra...   \n",
       "124  <p>Brazilian UFO sighting of a \"wheel of fire\"...   \n",
       "127  <p>Brazilian UFO sighting, an encounter of the...   \n",
       "128  <p>Brazilian UFO sighting, an encounter of the...   \n",
       "554  <p>Brazilian UFO sighting, an encounter of the...   \n",
       "\n",
       "                                                   url  \n",
       "123  https://www.astro.com/astro-databank/UFO_Sight...  \n",
       "124  https://www.astro.com/astro-databank/UFO_Sight...  \n",
       "127  https://www.astro.com/astro-databank/UFO_Sight...  \n",
       "128  https://www.astro.com/astro-databank/UFO_Sight...  \n",
       "554  https://www.astro.com/astro-databank/UFO_Sight...  "
      ]
     },
     "execution_count": 23,
     "metadata": {},
     "output_type": "execute_result"
    }
   ],
   "source": [
    "#Separando dados relativos a UFO Sightings:\n",
    "ufo_mask = astro3['nome'].str.contains('UFO Sighting')\n",
    "ufo = astro3[ufo_mask]\n",
    "ufo.head()"
   ]
  },
  {
   "cell_type": "code",
   "execution_count": 24,
   "metadata": {},
   "outputs": [
    {
     "data": {
      "text/plain": [
       "(482, 7)"
      ]
     },
     "execution_count": 24,
     "metadata": {},
     "output_type": "execute_result"
    }
   ],
   "source": [
    "ufo.shape"
   ]
  },
  {
   "cell_type": "code",
   "execution_count": 25,
   "metadata": {},
   "outputs": [
    {
     "data": {
      "text/html": [
       "<div>\n",
       "<style scoped>\n",
       "    .dataframe tbody tr th:only-of-type {\n",
       "        vertical-align: middle;\n",
       "    }\n",
       "\n",
       "    .dataframe tbody tr th {\n",
       "        vertical-align: top;\n",
       "    }\n",
       "\n",
       "    .dataframe thead th {\n",
       "        text-align: right;\n",
       "    }\n",
       "</style>\n",
       "<table border=\"1\" class=\"dataframe\">\n",
       "  <thead>\n",
       "    <tr style=\"text-align: right;\">\n",
       "      <th></th>\n",
       "      <th>nome</th>\n",
       "      <th>data</th>\n",
       "      <th>horario</th>\n",
       "      <th>lat</th>\n",
       "      <th>long</th>\n",
       "      <th>bio</th>\n",
       "      <th>url</th>\n",
       "    </tr>\n",
       "  </thead>\n",
       "  <tbody>\n",
       "    <tr>\n",
       "      <th>715</th>\n",
       "      <td>Entertainment: Tarzan</td>\n",
       "      <td>1 December 1911</td>\n",
       "      <td>20:00</td>\n",
       "      <td>41n51</td>\n",
       "      <td>87w39</td>\n",
       "      <td>&lt;p&gt;American fictional character created by Edg...</td>\n",
       "      <td>https://www.astro.com/astro-databank/Tarzan</td>\n",
       "    </tr>\n",
       "    <tr>\n",
       "      <th>16518</th>\n",
       "      <td>Entertainment: French and Saunders</td>\n",
       "      <td>9 March 1987</td>\n",
       "      <td>21:00</td>\n",
       "      <td>51n30</td>\n",
       "      <td>0w10</td>\n",
       "      <td>&lt;p&gt;British sketch comedy television series wri...</td>\n",
       "      <td>https://www.astro.com/astro-databank/Entertain...</td>\n",
       "    </tr>\n",
       "    <tr>\n",
       "      <th>16519</th>\n",
       "      <td>Entertainment: Eurovision Song Contest</td>\n",
       "      <td>24 May 1956</td>\n",
       "      <td>21:00</td>\n",
       "      <td>46n01</td>\n",
       "      <td>8e58</td>\n",
       "      <td>&lt;p&gt;International TV song competition, the long...</td>\n",
       "      <td>https://www.astro.com/astro-databank/Entertain...</td>\n",
       "    </tr>\n",
       "    <tr>\n",
       "      <th>16521</th>\n",
       "      <td>Entertainment: Eight Is Enough</td>\n",
       "      <td>15 March 1977</td>\n",
       "      <td>20:30</td>\n",
       "      <td>40n43</td>\n",
       "      <td>74w00</td>\n",
       "      <td>&lt;p&gt;American television comedy-drama series tha...</td>\n",
       "      <td>https://www.astro.com/astro-databank/Entertain...</td>\n",
       "    </tr>\n",
       "    <tr>\n",
       "      <th>16524</th>\n",
       "      <td>Entertainment: Dilwale Dulhania Le Jayenge</td>\n",
       "      <td>20 October 1995</td>\n",
       "      <td>12:00</td>\n",
       "      <td>18n58</td>\n",
       "      <td>72e50</td>\n",
       "      <td>&lt;p&gt;Indian romance film written and directed by...</td>\n",
       "      <td>https://www.astro.com/astro-databank/Entertain...</td>\n",
       "    </tr>\n",
       "  </tbody>\n",
       "</table>\n",
       "</div>"
      ],
      "text/plain": [
       "                                             nome             data  horario  \\\n",
       "715                         Entertainment: Tarzan  1 December 1911  20:00     \n",
       "16518          Entertainment: French and Saunders     9 March 1987  21:00     \n",
       "16519      Entertainment: Eurovision Song Contest      24 May 1956  21:00     \n",
       "16521              Entertainment: Eight Is Enough    15 March 1977  20:30     \n",
       "16524  Entertainment: Dilwale Dulhania Le Jayenge  20 October 1995  12:00     \n",
       "\n",
       "         lat   long                                                bio  \\\n",
       "715    41n51  87w39  <p>American fictional character created by Edg...   \n",
       "16518  51n30   0w10  <p>British sketch comedy television series wri...   \n",
       "16519  46n01   8e58  <p>International TV song competition, the long...   \n",
       "16521  40n43  74w00  <p>American television comedy-drama series tha...   \n",
       "16524  18n58  72e50  <p>Indian romance film written and directed by...   \n",
       "\n",
       "                                                     url  \n",
       "715          https://www.astro.com/astro-databank/Tarzan  \n",
       "16518  https://www.astro.com/astro-databank/Entertain...  \n",
       "16519  https://www.astro.com/astro-databank/Entertain...  \n",
       "16521  https://www.astro.com/astro-databank/Entertain...  \n",
       "16524  https://www.astro.com/astro-databank/Entertain...  "
      ]
     },
     "execution_count": 25,
     "metadata": {},
     "output_type": "execute_result"
    }
   ],
   "source": [
    "entert = astro3[astro3['nome'].str.contains('Entertainment')]\n",
    "entert.head()"
   ]
  },
  {
   "cell_type": "code",
   "execution_count": 26,
   "metadata": {},
   "outputs": [
    {
     "data": {
      "text/plain": [
       "(144, 7)"
      ]
     },
     "execution_count": 26,
     "metadata": {},
     "output_type": "execute_result"
    }
   ],
   "source": [
    "entert.shape"
   ]
  },
  {
   "cell_type": "code",
   "execution_count": 27,
   "metadata": {},
   "outputs": [
    {
     "data": {
      "text/html": [
       "<div>\n",
       "<style scoped>\n",
       "    .dataframe tbody tr th:only-of-type {\n",
       "        vertical-align: middle;\n",
       "    }\n",
       "\n",
       "    .dataframe tbody tr th {\n",
       "        vertical-align: top;\n",
       "    }\n",
       "\n",
       "    .dataframe thead th {\n",
       "        text-align: right;\n",
       "    }\n",
       "</style>\n",
       "<table border=\"1\" class=\"dataframe\">\n",
       "  <thead>\n",
       "    <tr style=\"text-align: right;\">\n",
       "      <th></th>\n",
       "      <th>nome</th>\n",
       "      <th>data</th>\n",
       "      <th>horario</th>\n",
       "      <th>lat</th>\n",
       "      <th>long</th>\n",
       "      <th>bio</th>\n",
       "      <th>url</th>\n",
       "    </tr>\n",
       "  </thead>\n",
       "  <tbody>\n",
       "    <tr>\n",
       "      <th>105</th>\n",
       "      <td>Nature:Earthquake California 1812 (a) Wrightwood</td>\n",
       "      <td>8 December 1812</td>\n",
       "      <td>07:00</td>\n",
       "      <td>34n22</td>\n",
       "      <td>117w38</td>\n",
       "      <td>&lt;p&gt;Historical earthquake in California. Estima...</td>\n",
       "      <td>https://www.astro.com/astro-databank/Nature:Ea...</td>\n",
       "    </tr>\n",
       "    <tr>\n",
       "      <th>107</th>\n",
       "      <td>Nature:Earthquake California/Mexico: 1979</td>\n",
       "      <td>15 October 1979</td>\n",
       "      <td>23:16:57</td>\n",
       "      <td>32n59</td>\n",
       "      <td>115w32</td>\n",
       "      <td>&lt;p&gt;Californian-mexican earthquake of magnitude...</td>\n",
       "      <td>https://www.astro.com/astro-databank/Nature:Ea...</td>\n",
       "    </tr>\n",
       "    <tr>\n",
       "      <th>108</th>\n",
       "      <td>Nature:Earthquake Burma (Myanmar) 1908</td>\n",
       "      <td>12 December 1908</td>\n",
       "      <td>12:55</td>\n",
       "      <td>26n27</td>\n",
       "      <td>96e42</td>\n",
       "      <td>&lt;p&gt;Historical Burma (Myanmar) earthquake.  Est...</td>\n",
       "      <td>https://www.astro.com/astro-databank/Nature:Ea...</td>\n",
       "    </tr>\n",
       "    <tr>\n",
       "      <th>110</th>\n",
       "      <td>Nature:Earthquake Bulgaria 1928</td>\n",
       "      <td>18 April 1928</td>\n",
       "      <td>19:22</td>\n",
       "      <td>42n09</td>\n",
       "      <td>24e45</td>\n",
       "      <td>&lt;p&gt;Historical Bulgaria earthquake.  Estimated ...</td>\n",
       "      <td>https://www.astro.com/astro-databank/Nature:Ea...</td>\n",
       "    </tr>\n",
       "    <tr>\n",
       "      <th>111</th>\n",
       "      <td>Nature:Earthquake Bangladesh 1762 (Arakan)</td>\n",
       "      <td>22 March 1762</td>\n",
       "      <td>11:00</td>\n",
       "      <td>22n20</td>\n",
       "      <td>91e50</td>\n",
       "      <td>&lt;p&gt;Historical earthquake in Bangladesh (then i...</td>\n",
       "      <td>https://www.astro.com/astro-databank/Nature:Ea...</td>\n",
       "    </tr>\n",
       "  </tbody>\n",
       "</table>\n",
       "</div>"
      ],
      "text/plain": [
       "                                                 nome              data  \\\n",
       "105  Nature:Earthquake California 1812 (a) Wrightwood   8 December 1812   \n",
       "107         Nature:Earthquake California/Mexico: 1979   15 October 1979   \n",
       "108            Nature:Earthquake Burma (Myanmar) 1908  12 December 1908   \n",
       "110                   Nature:Earthquake Bulgaria 1928     18 April 1928   \n",
       "111        Nature:Earthquake Bangladesh 1762 (Arakan)     22 March 1762   \n",
       "\n",
       "        horario    lat    long  \\\n",
       "105     07:00    34n22  117w38   \n",
       "107  23:16:57    32n59  115w32   \n",
       "108     12:55    26n27   96e42   \n",
       "110     19:22    42n09   24e45   \n",
       "111     11:00    22n20   91e50   \n",
       "\n",
       "                                                   bio  \\\n",
       "105  <p>Historical earthquake in California. Estima...   \n",
       "107  <p>Californian-mexican earthquake of magnitude...   \n",
       "108  <p>Historical Burma (Myanmar) earthquake.  Est...   \n",
       "110  <p>Historical Bulgaria earthquake.  Estimated ...   \n",
       "111  <p>Historical earthquake in Bangladesh (then i...   \n",
       "\n",
       "                                                   url  \n",
       "105  https://www.astro.com/astro-databank/Nature:Ea...  \n",
       "107  https://www.astro.com/astro-databank/Nature:Ea...  \n",
       "108  https://www.astro.com/astro-databank/Nature:Ea...  \n",
       "110  https://www.astro.com/astro-databank/Nature:Ea...  \n",
       "111  https://www.astro.com/astro-databank/Nature:Ea...  "
      ]
     },
     "execution_count": 27,
     "metadata": {},
     "output_type": "execute_result"
    }
   ],
   "source": [
    "nature = astro3[astro3['nome'].str.contains('Nature')]\n",
    "nature.head()"
   ]
  },
  {
   "cell_type": "code",
   "execution_count": 28,
   "metadata": {},
   "outputs": [
    {
     "data": {
      "text/plain": [
       "(623, 7)"
      ]
     },
     "execution_count": 28,
     "metadata": {},
     "output_type": "execute_result"
    }
   ],
   "source": [
    "nature.shape"
   ]
  },
  {
   "cell_type": "code",
   "execution_count": 29,
   "metadata": {},
   "outputs": [
    {
     "data": {
      "text/html": [
       "<div>\n",
       "<style scoped>\n",
       "    .dataframe tbody tr th:only-of-type {\n",
       "        vertical-align: middle;\n",
       "    }\n",
       "\n",
       "    .dataframe tbody tr th {\n",
       "        vertical-align: top;\n",
       "    }\n",
       "\n",
       "    .dataframe thead th {\n",
       "        text-align: right;\n",
       "    }\n",
       "</style>\n",
       "<table border=\"1\" class=\"dataframe\">\n",
       "  <thead>\n",
       "    <tr style=\"text-align: right;\">\n",
       "      <th></th>\n",
       "      <th>nome</th>\n",
       "      <th>data</th>\n",
       "      <th>horario</th>\n",
       "      <th>lat</th>\n",
       "      <th>long</th>\n",
       "      <th>bio</th>\n",
       "      <th>url</th>\n",
       "    </tr>\n",
       "  </thead>\n",
       "  <tbody>\n",
       "    <tr>\n",
       "      <th>305</th>\n",
       "      <td>Plane Crash: AirAsia Flight 8501 (2014)</td>\n",
       "      <td>28 December 2014</td>\n",
       "      <td>05:35</td>\n",
       "      <td>2s08</td>\n",
       "      <td>106e08</td>\n",
       "      <td>&lt;p&gt;&lt;br&gt;\\n&lt;/p&gt;</td>\n",
       "      <td>https://www.astro.com/astro-databank/Accident:...</td>\n",
       "    </tr>\n",
       "    <tr>\n",
       "      <th>904</th>\n",
       "      <td>Plane Crash: TWA Flight 800 (1964)</td>\n",
       "      <td>23 November 1964</td>\n",
       "      <td>14:15</td>\n",
       "      <td>41n54</td>\n",
       "      <td>12e29</td>\n",
       "      <td>&lt;p&gt;On November 23, 1964 at 02:09 p.m. the capt...</td>\n",
       "      <td>https://www.astro.com/astro-databank/Accident:...</td>\n",
       "    </tr>\n",
       "    <tr>\n",
       "      <th>1611</th>\n",
       "      <td>Plane Crash: Frontier Airlines (1964)</td>\n",
       "      <td>12 March 1964</td>\n",
       "      <td>20:50</td>\n",
       "      <td>46n25</td>\n",
       "      <td>105w50</td>\n",
       "      <td>&lt;p&gt;On March 12, 1964, at 8:50 p.m. Flight 32 o...</td>\n",
       "      <td>https://www.astro.com/astro-databank/Accident:...</td>\n",
       "    </tr>\n",
       "    <tr>\n",
       "      <th>1612</th>\n",
       "      <td>Plane Crash: EAL Flight 304 (1964)</td>\n",
       "      <td>25 February 1964</td>\n",
       "      <td>02:06</td>\n",
       "      <td>30n17</td>\n",
       "      <td>89w47</td>\n",
       "      <td>&lt;p&gt;Eastern Air Lines Flight 304 was a Douglas ...</td>\n",
       "      <td>https://www.astro.com/astro-databank/Accident:...</td>\n",
       "    </tr>\n",
       "    <tr>\n",
       "      <th>1615</th>\n",
       "      <td>Accident: Plane Crash 14268</td>\n",
       "      <td>21 December 1967</td>\n",
       "      <td>16:00</td>\n",
       "      <td>39n44</td>\n",
       "      <td>105w01</td>\n",
       "      <td>&lt;p&gt;Zip Dobyns, news source unrecorded\\n&lt;/p&gt;</td>\n",
       "      <td>https://www.astro.com/astro-databank/Accident:...</td>\n",
       "    </tr>\n",
       "  </tbody>\n",
       "</table>\n",
       "</div>"
      ],
      "text/plain": [
       "                                         nome              data  horario  \\\n",
       "305   Plane Crash: AirAsia Flight 8501 (2014)  28 December 2014  05:35     \n",
       "904        Plane Crash: TWA Flight 800 (1964)  23 November 1964  14:15     \n",
       "1611    Plane Crash: Frontier Airlines (1964)     12 March 1964  20:50     \n",
       "1612       Plane Crash: EAL Flight 304 (1964)  25 February 1964  02:06     \n",
       "1615              Accident: Plane Crash 14268  21 December 1967  16:00     \n",
       "\n",
       "        lat    long                                                bio  \\\n",
       "305    2s08  106e08                                      <p><br>\\n</p>   \n",
       "904   41n54   12e29  <p>On November 23, 1964 at 02:09 p.m. the capt...   \n",
       "1611  46n25  105w50  <p>On March 12, 1964, at 8:50 p.m. Flight 32 o...   \n",
       "1612  30n17   89w47  <p>Eastern Air Lines Flight 304 was a Douglas ...   \n",
       "1615  39n44  105w01        <p>Zip Dobyns, news source unrecorded\\n</p>   \n",
       "\n",
       "                                                    url  \n",
       "305   https://www.astro.com/astro-databank/Accident:...  \n",
       "904   https://www.astro.com/astro-databank/Accident:...  \n",
       "1611  https://www.astro.com/astro-databank/Accident:...  \n",
       "1612  https://www.astro.com/astro-databank/Accident:...  \n",
       "1615  https://www.astro.com/astro-databank/Accident:...  "
      ]
     },
     "execution_count": 29,
     "metadata": {},
     "output_type": "execute_result"
    }
   ],
   "source": [
    "plane = astro3[astro3['nome'].str.contains('Plane Crash')]\n",
    "plane.head()"
   ]
  },
  {
   "cell_type": "code",
   "execution_count": 30,
   "metadata": {
    "scrolled": true
   },
   "outputs": [
    {
     "data": {
      "text/plain": [
       "(176, 7)"
      ]
     },
     "execution_count": 30,
     "metadata": {},
     "output_type": "execute_result"
    }
   ],
   "source": [
    "plane.shape"
   ]
  },
  {
   "cell_type": "code",
   "execution_count": 31,
   "metadata": {},
   "outputs": [
    {
     "data": {
      "text/html": [
       "<div>\n",
       "<style scoped>\n",
       "    .dataframe tbody tr th:only-of-type {\n",
       "        vertical-align: middle;\n",
       "    }\n",
       "\n",
       "    .dataframe tbody tr th {\n",
       "        vertical-align: top;\n",
       "    }\n",
       "\n",
       "    .dataframe thead th {\n",
       "        text-align: right;\n",
       "    }\n",
       "</style>\n",
       "<table border=\"1\" class=\"dataframe\">\n",
       "  <thead>\n",
       "    <tr style=\"text-align: right;\">\n",
       "      <th></th>\n",
       "      <th>nome</th>\n",
       "      <th>data</th>\n",
       "      <th>horario</th>\n",
       "      <th>lat</th>\n",
       "      <th>long</th>\n",
       "      <th>bio</th>\n",
       "      <th>url</th>\n",
       "    </tr>\n",
       "  </thead>\n",
       "  <tbody>\n",
       "    <tr>\n",
       "      <th>14242</th>\n",
       "      <td>Animal: Ruffian</td>\n",
       "      <td>17 April 1972</td>\n",
       "      <td>21:50</td>\n",
       "      <td>38n13</td>\n",
       "      <td>84w15</td>\n",
       "      <td>&lt;p&gt;American champion thoroughbred racehorse, w...</td>\n",
       "      <td>https://www.astro.com/astro-databank/Ruffian</td>\n",
       "    </tr>\n",
       "    <tr>\n",
       "      <th>46714</th>\n",
       "      <td>Animal: Orkid (killer whale)</td>\n",
       "      <td>23 September 1988</td>\n",
       "      <td>16:30</td>\n",
       "      <td>32n43</td>\n",
       "      <td>117w09</td>\n",
       "      <td>&lt;p&gt;American killer whale, later nicknamed 'The...</td>\n",
       "      <td>https://www.astro.com/astro-databank/Animal:_W...</td>\n",
       "    </tr>\n",
       "    <tr>\n",
       "      <th>46717</th>\n",
       "      <td>Animal: Secretariat</td>\n",
       "      <td>30 March 1970</td>\n",
       "      <td>00:10</td>\n",
       "      <td>37n52</td>\n",
       "      <td>77w28</td>\n",
       "      <td>&lt;p&gt;American race horse known as one of the bes...</td>\n",
       "      <td>https://www.astro.com/astro-databank/Animal:_S...</td>\n",
       "    </tr>\n",
       "    <tr>\n",
       "      <th>46719</th>\n",
       "      <td>Animal: Rockstardom</td>\n",
       "      <td>17 August 2007</td>\n",
       "      <td>03:16</td>\n",
       "      <td>32s30</td>\n",
       "      <td>150e55</td>\n",
       "      <td>&lt;p&gt;Australia thoroughbred racehorse, the first...</td>\n",
       "      <td>https://www.astro.com/astro-databank/Animal:_R...</td>\n",
       "    </tr>\n",
       "    <tr>\n",
       "      <th>46720</th>\n",
       "      <td>Animal: Sea Pigeon</td>\n",
       "      <td>7 March 1970</td>\n",
       "      <td>04:00</td>\n",
       "      <td>38n03</td>\n",
       "      <td>84w30</td>\n",
       "      <td>&lt;p&gt;American-bred, British-trained racehorse wh...</td>\n",
       "      <td>https://www.astro.com/astro-databank/Animal:_S...</td>\n",
       "    </tr>\n",
       "  </tbody>\n",
       "</table>\n",
       "</div>"
      ],
      "text/plain": [
       "                               nome               data  horario    lat  \\\n",
       "14242               Animal: Ruffian      17 April 1972  21:50    38n13   \n",
       "46714  Animal: Orkid (killer whale)  23 September 1988  16:30    32n43   \n",
       "46717           Animal: Secretariat      30 March 1970  00:10    37n52   \n",
       "46719           Animal: Rockstardom     17 August 2007  03:16    32s30   \n",
       "46720            Animal: Sea Pigeon       7 March 1970  04:00    38n03   \n",
       "\n",
       "         long                                                bio  \\\n",
       "14242   84w15  <p>American champion thoroughbred racehorse, w...   \n",
       "46714  117w09  <p>American killer whale, later nicknamed 'The...   \n",
       "46717   77w28  <p>American race horse known as one of the bes...   \n",
       "46719  150e55  <p>Australia thoroughbred racehorse, the first...   \n",
       "46720   84w30  <p>American-bred, British-trained racehorse wh...   \n",
       "\n",
       "                                                     url  \n",
       "14242       https://www.astro.com/astro-databank/Ruffian  \n",
       "46714  https://www.astro.com/astro-databank/Animal:_W...  \n",
       "46717  https://www.astro.com/astro-databank/Animal:_S...  \n",
       "46719  https://www.astro.com/astro-databank/Animal:_R...  \n",
       "46720  https://www.astro.com/astro-databank/Animal:_S...  "
      ]
     },
     "execution_count": 31,
     "metadata": {},
     "output_type": "execute_result"
    }
   ],
   "source": [
    "animal = astro3[astro3['nome'].str.contains('Animal')]\n",
    "animal.head()"
   ]
  },
  {
   "cell_type": "code",
   "execution_count": 32,
   "metadata": {},
   "outputs": [
    {
     "data": {
      "text/plain": [
       "(23, 7)"
      ]
     },
     "execution_count": 32,
     "metadata": {},
     "output_type": "execute_result"
    }
   ],
   "source": [
    "animal.shape"
   ]
  },
  {
   "cell_type": "markdown",
   "metadata": {},
   "source": [
    "Feito essas separações, o dataset foi filtrado, com a intenção de manter personalidades famosas para o público brasileiro."
   ]
  },
  {
   "cell_type": "markdown",
   "metadata": {},
   "source": [
    "Primeiramente, eliminou-se os já conhecidos acontecimentos relativos a \"Accidents\", \"UFO Sighting\", \"Entertainment\" e \"Plane Crash\":"
   ]
  },
  {
   "cell_type": "code",
   "execution_count": 33,
   "metadata": {},
   "outputs": [
    {
     "name": "stderr",
     "output_type": "stream",
     "text": [
      "C:\\Users\\ferna\\Anaconda3\\lib\\site-packages\\ipykernel_launcher.py:1: UserWarning: Boolean Series key will be reindexed to match DataFrame index.\n",
      "  \"\"\"Entry point for launching an IPython kernel.\n"
     ]
    }
   ],
   "source": [
    "astro4 = astro3[astro3['nome'].str.contains('UFO Sighting') == False][astro3['nome'].str.contains('Accident') == False][astro3['nome'].str.contains('Entertainment') == False][astro3['nome'].str.contains('Nature') == False][astro3['nome'].str.contains('Plane Crash') == False][astro3['nome'].str.contains('Animal') == False]"
   ]
  },
  {
   "cell_type": "code",
   "execution_count": 34,
   "metadata": {},
   "outputs": [
    {
     "data": {
      "text/html": [
       "<div>\n",
       "<style scoped>\n",
       "    .dataframe tbody tr th:only-of-type {\n",
       "        vertical-align: middle;\n",
       "    }\n",
       "\n",
       "    .dataframe tbody tr th {\n",
       "        vertical-align: top;\n",
       "    }\n",
       "\n",
       "    .dataframe thead th {\n",
       "        text-align: right;\n",
       "    }\n",
       "</style>\n",
       "<table border=\"1\" class=\"dataframe\">\n",
       "  <thead>\n",
       "    <tr style=\"text-align: right;\">\n",
       "      <th></th>\n",
       "      <th>nome</th>\n",
       "      <th>data</th>\n",
       "      <th>horario</th>\n",
       "      <th>lat</th>\n",
       "      <th>long</th>\n",
       "      <th>bio</th>\n",
       "      <th>url</th>\n",
       "    </tr>\n",
       "  </thead>\n",
       "  <tbody>\n",
       "    <tr>\n",
       "      <th>0</th>\n",
       "      <td>Bablet, Denis</td>\n",
       "      <td>19 March 1930</td>\n",
       "      <td>01:30</td>\n",
       "      <td>48n52</td>\n",
       "      <td>2e20</td>\n",
       "      <td>&lt;p&gt;French theorist of the theatre. \\n&lt;/p&gt;</td>\n",
       "      <td>https://www.astro.com/astro-databank/Bablet,_D...</td>\n",
       "    </tr>\n",
       "    <tr>\n",
       "      <th>1</th>\n",
       "      <td>Babin Cortes, Maria Teresa</td>\n",
       "      <td>31 May 1910</td>\n",
       "      <td>05:30</td>\n",
       "      <td>18n01</td>\n",
       "      <td>66w37</td>\n",
       "      <td>&lt;p&gt;Puerto Rican educator, literary critic, and...</td>\n",
       "      <td>https://www.astro.com/astro-databank/Babin_Cor...</td>\n",
       "    </tr>\n",
       "    <tr>\n",
       "      <th>2</th>\n",
       "      <td>Babonneau, René</td>\n",
       "      <td>18 June 1904</td>\n",
       "      <td>09:30</td>\n",
       "      <td>47n13</td>\n",
       "      <td>1w33</td>\n",
       "      <td>&lt;p&gt;French legionnaire, awarded the title of 'C...</td>\n",
       "      <td>https://www.astro.com/astro-databank/Babonneau...</td>\n",
       "    </tr>\n",
       "    <tr>\n",
       "      <th>3</th>\n",
       "      <td>Baboul, Eudoxie</td>\n",
       "      <td>1 October 1901</td>\n",
       "      <td>03:00</td>\n",
       "      <td>5n23</td>\n",
       "      <td>52w57</td>\n",
       "      <td>&lt;p&gt;French supercentenarian, for a while the ol...</td>\n",
       "      <td>https://www.astro.com/astro-databank/Baboul,_E...</td>\n",
       "    </tr>\n",
       "    <tr>\n",
       "      <th>4</th>\n",
       "      <td>Babilée, Jean</td>\n",
       "      <td>3 February 1923</td>\n",
       "      <td>21:30</td>\n",
       "      <td>48n5102</td>\n",
       "      <td>2e1958</td>\n",
       "      <td>&lt;p&gt;French dancer, choreographer, and actor, Ba...</td>\n",
       "      <td>https://www.astro.com/astro-databank/Babil%C3%...</td>\n",
       "    </tr>\n",
       "  </tbody>\n",
       "</table>\n",
       "</div>"
      ],
      "text/plain": [
       "                         nome             data  horario      lat    long  \\\n",
       "0               Bablet, Denis    19 March 1930  01:30      48n52    2e20   \n",
       "1  Babin Cortes, Maria Teresa      31 May 1910  05:30      18n01   66w37   \n",
       "2             Babonneau, René     18 June 1904  09:30      47n13    1w33   \n",
       "3             Baboul, Eudoxie   1 October 1901  03:00       5n23   52w57   \n",
       "4               Babilée, Jean  3 February 1923  21:30    48n5102  2e1958   \n",
       "\n",
       "                                                 bio  \\\n",
       "0          <p>French theorist of the theatre. \\n</p>   \n",
       "1  <p>Puerto Rican educator, literary critic, and...   \n",
       "2  <p>French legionnaire, awarded the title of 'C...   \n",
       "3  <p>French supercentenarian, for a while the ol...   \n",
       "4  <p>French dancer, choreographer, and actor, Ba...   \n",
       "\n",
       "                                                 url  \n",
       "0  https://www.astro.com/astro-databank/Bablet,_D...  \n",
       "1  https://www.astro.com/astro-databank/Babin_Cor...  \n",
       "2  https://www.astro.com/astro-databank/Babonneau...  \n",
       "3  https://www.astro.com/astro-databank/Baboul,_E...  \n",
       "4  https://www.astro.com/astro-databank/Babil%C3%...  "
      ]
     },
     "execution_count": 34,
     "metadata": {},
     "output_type": "execute_result"
    }
   ],
   "source": [
    "astro4.head()"
   ]
  },
  {
   "cell_type": "code",
   "execution_count": 35,
   "metadata": {},
   "outputs": [],
   "source": [
    "astro4.reset_index(inplace=True)\n",
    "astro4.drop(\"index\", axis=1, inplace=True)"
   ]
  },
  {
   "cell_type": "code",
   "execution_count": 36,
   "metadata": {},
   "outputs": [
    {
     "data": {
      "text/plain": [
       "(51007, 7)"
      ]
     },
     "execution_count": 36,
     "metadata": {},
     "output_type": "execute_result"
    }
   ],
   "source": [
    "astro4.shape"
   ]
  },
  {
   "cell_type": "markdown",
   "metadata": {},
   "source": [
    "Excluiu-se alguns dados, principalmente referentes a profissões e nacionalidades com poucas ocorrências:"
   ]
  },
  {
   "cell_type": "code",
   "execution_count": 37,
   "metadata": {},
   "outputs": [
    {
     "data": {
      "text/plain": [
       "(44593, 7)"
      ]
     },
     "execution_count": 37,
     "metadata": {},
     "output_type": "execute_result"
    }
   ],
   "source": [
    "drop_word(astro4, \"theorist\")\n",
    "drop_word(astro4, \"sculptor\")\n",
    "drop_word(astro4, \"lawyer\")\n",
    "drop_word(astro4, \"cyclist\")\n",
    "drop_word(astro4, \"critic\")\n",
    "drop_word(astro4, \"banker\")\n",
    "drop_word(astro4, \"hockey\")\n",
    "drop_word(astro4, \"skater\")\n",
    "drop_word(astro4, \"harpist\")\n",
    "drop_word(astro4, \"jockey\")\n",
    "drop_word(astro4, \"historian\")\n",
    "drop_word(astro4, \"army\")\n",
    "drop_word(astro4, \"diplomat\")\n",
    "drop_word(astro4, \"supercentenarian\")\n",
    "drop_word(astro4, \"legionnaire\")\n",
    "drop_word(astro4, \"Turkish\")\n",
    "drop_word(astro4, \"Finnish\")\n",
    "drop_word(astro4, \"Sri Lankan\")\n",
    "drop_word(astro4, \"Puerto\")\n",
    "drop_word(astro4, \"Polish\")\n",
    "drop_word(astro4, \"Belgian\")\n",
    "drop_word(astro4, \"Nigerian\")\n",
    "drop_word(astro4, \"French arc\")\n",
    "\n",
    "astro4.shape"
   ]
  },
  {
   "cell_type": "code",
   "execution_count": 38,
   "metadata": {},
   "outputs": [],
   "source": [
    "astro4.reset_index(inplace=True)\n",
    "astro4.drop(\"index\", axis=1, inplace=True)"
   ]
  },
  {
   "cell_type": "markdown",
   "metadata": {},
   "source": [
    "Após essa pequena limpeza, aproximadamente 6500 dados foram excluídos. Optou-se por seguir com o dataset dessa maneira."
   ]
  },
  {
   "cell_type": "markdown",
   "metadata": {},
   "source": [
    "Em seguida, realizou-se uma limpeza na coluna 'bio'."
   ]
  },
  {
   "cell_type": "code",
   "execution_count": 39,
   "metadata": {},
   "outputs": [],
   "source": [
    "astro4['bio'] = astro4['bio'].str.replace('<p>','')\n",
    "astro4['bio'] = astro4['bio'].str.replace('</p>','')\n",
    "astro4['bio'] = astro4['bio'].str.replace('\\n','')"
   ]
  },
  {
   "cell_type": "markdown",
   "metadata": {},
   "source": [
    "O próximo passo consistiu em transformar a coluna \"data\" no formato 'YYYY/MM/DD':"
   ]
  },
  {
   "cell_type": "code",
   "execution_count": 40,
   "metadata": {},
   "outputs": [],
   "source": [
    "astro4['data'] = pd.to_datetime(astro4['data'], errors='coerce')"
   ]
  },
  {
   "cell_type": "code",
   "execution_count": 41,
   "metadata": {},
   "outputs": [
    {
     "data": {
      "text/html": [
       "<div>\n",
       "<style scoped>\n",
       "    .dataframe tbody tr th:only-of-type {\n",
       "        vertical-align: middle;\n",
       "    }\n",
       "\n",
       "    .dataframe tbody tr th {\n",
       "        vertical-align: top;\n",
       "    }\n",
       "\n",
       "    .dataframe thead th {\n",
       "        text-align: right;\n",
       "    }\n",
       "</style>\n",
       "<table border=\"1\" class=\"dataframe\">\n",
       "  <thead>\n",
       "    <tr style=\"text-align: right;\">\n",
       "      <th></th>\n",
       "      <th>nome</th>\n",
       "      <th>data</th>\n",
       "      <th>horario</th>\n",
       "      <th>lat</th>\n",
       "      <th>long</th>\n",
       "      <th>bio</th>\n",
       "      <th>url</th>\n",
       "    </tr>\n",
       "  </thead>\n",
       "  <tbody>\n",
       "    <tr>\n",
       "      <th>0</th>\n",
       "      <td>Babilée, Jean</td>\n",
       "      <td>1923-02-03</td>\n",
       "      <td>21:30</td>\n",
       "      <td>48n5102</td>\n",
       "      <td>2e1958</td>\n",
       "      <td>French dancer, choreographer, and actor, Babil...</td>\n",
       "      <td>https://www.astro.com/astro-databank/Babil%C3%...</td>\n",
       "    </tr>\n",
       "    <tr>\n",
       "      <th>1</th>\n",
       "      <td>Baber, Alice</td>\n",
       "      <td>1928-08-22</td>\n",
       "      <td>03:40</td>\n",
       "      <td>39n30</td>\n",
       "      <td>88w11</td>\n",
       "      <td>American artist, her style was abstract expres...</td>\n",
       "      <td>https://www.astro.com/astro-databank/Baber,_Alice</td>\n",
       "    </tr>\n",
       "    <tr>\n",
       "      <th>2</th>\n",
       "      <td>Babbitt, Manuel</td>\n",
       "      <td>1949-05-03</td>\n",
       "      <td>21:30</td>\n",
       "      <td>41n46</td>\n",
       "      <td>70w43</td>\n",
       "      <td>American homicide: a former Marine and Vietnam...</td>\n",
       "      <td>https://www.astro.com/astro-databank/Babbitt,_...</td>\n",
       "    </tr>\n",
       "    <tr>\n",
       "      <th>3</th>\n",
       "      <td>Babbitt, Elwood</td>\n",
       "      <td>1921-11-26</td>\n",
       "      <td>10:20</td>\n",
       "      <td>42n35</td>\n",
       "      <td>72w19</td>\n",
       "      <td>American medium based in New England.  His lif...</td>\n",
       "      <td>https://www.astro.com/astro-databank/Babbitt,_...</td>\n",
       "    </tr>\n",
       "    <tr>\n",
       "      <th>4</th>\n",
       "      <td>A, Dominique</td>\n",
       "      <td>1968-10-06</td>\n",
       "      <td>17:35</td>\n",
       "      <td>48n33</td>\n",
       "      <td>3e18</td>\n",
       "      <td>French songwriter, singer and guitarist.</td>\n",
       "      <td>https://www.astro.com/astro-databank/A,_Dominique</td>\n",
       "    </tr>\n",
       "  </tbody>\n",
       "</table>\n",
       "</div>"
      ],
      "text/plain": [
       "              nome       data  horario      lat    long  \\\n",
       "0    Babilée, Jean 1923-02-03  21:30    48n5102  2e1958   \n",
       "1     Baber, Alice 1928-08-22  03:40      39n30   88w11   \n",
       "2  Babbitt, Manuel 1949-05-03  21:30      41n46   70w43   \n",
       "3  Babbitt, Elwood 1921-11-26  10:20      42n35   72w19   \n",
       "4     A, Dominique 1968-10-06  17:35      48n33    3e18   \n",
       "\n",
       "                                                 bio  \\\n",
       "0  French dancer, choreographer, and actor, Babil...   \n",
       "1  American artist, her style was abstract expres...   \n",
       "2  American homicide: a former Marine and Vietnam...   \n",
       "3  American medium based in New England.  His lif...   \n",
       "4           French songwriter, singer and guitarist.   \n",
       "\n",
       "                                                 url  \n",
       "0  https://www.astro.com/astro-databank/Babil%C3%...  \n",
       "1  https://www.astro.com/astro-databank/Baber,_Alice  \n",
       "2  https://www.astro.com/astro-databank/Babbitt,_...  \n",
       "3  https://www.astro.com/astro-databank/Babbitt,_...  \n",
       "4  https://www.astro.com/astro-databank/A,_Dominique  "
      ]
     },
     "execution_count": 41,
     "metadata": {},
     "output_type": "execute_result"
    }
   ],
   "source": [
    "astro4.head()"
   ]
  },
  {
   "cell_type": "code",
   "execution_count": 42,
   "metadata": {},
   "outputs": [
    {
     "name": "stdout",
     "output_type": "stream",
     "text": [
      "<class 'pandas.core.frame.DataFrame'>\n",
      "RangeIndex: 44593 entries, 0 to 44592\n",
      "Data columns (total 7 columns):\n",
      "nome       44593 non-null object\n",
      "data       43700 non-null datetime64[ns]\n",
      "horario    44593 non-null object\n",
      "lat        44593 non-null object\n",
      "long       44593 non-null object\n",
      "bio        44593 non-null object\n",
      "url        44593 non-null object\n",
      "dtypes: datetime64[ns](1), object(6)\n",
      "memory usage: 2.4+ MB\n"
     ]
    }
   ],
   "source": [
    "astro4.info()"
   ]
  },
  {
   "cell_type": "code",
   "execution_count": 43,
   "metadata": {},
   "outputs": [],
   "source": [
    "astro4 = astro4.dropna()"
   ]
  },
  {
   "cell_type": "code",
   "execution_count": 44,
   "metadata": {},
   "outputs": [],
   "source": [
    "# Convertendo o formato datetime64 para string:\n",
    "astro4['data'] = astro4['data'].astype(str) "
   ]
  },
  {
   "cell_type": "code",
   "execution_count": 45,
   "metadata": {},
   "outputs": [
    {
     "name": "stdout",
     "output_type": "stream",
     "text": [
      "<class 'pandas.core.frame.DataFrame'>\n",
      "Int64Index: 43700 entries, 0 to 44592\n",
      "Data columns (total 7 columns):\n",
      "nome       43700 non-null object\n",
      "data       43700 non-null object\n",
      "horario    43700 non-null object\n",
      "lat        43700 non-null object\n",
      "long       43700 non-null object\n",
      "bio        43700 non-null object\n",
      "url        43700 non-null object\n",
      "dtypes: object(7)\n",
      "memory usage: 2.7+ MB\n"
     ]
    }
   ],
   "source": [
    "astro4.info()"
   ]
  },
  {
   "cell_type": "code",
   "execution_count": 46,
   "metadata": {},
   "outputs": [],
   "source": [
    "# Agora que já é uma string, pode-se aplicar métodos para adaptar ao formato desejado:\n",
    "astro4['data'] = astro4['data'].str.replace('-','/')"
   ]
  },
  {
   "cell_type": "code",
   "execution_count": 47,
   "metadata": {},
   "outputs": [
    {
     "data": {
      "text/html": [
       "<div>\n",
       "<style scoped>\n",
       "    .dataframe tbody tr th:only-of-type {\n",
       "        vertical-align: middle;\n",
       "    }\n",
       "\n",
       "    .dataframe tbody tr th {\n",
       "        vertical-align: top;\n",
       "    }\n",
       "\n",
       "    .dataframe thead th {\n",
       "        text-align: right;\n",
       "    }\n",
       "</style>\n",
       "<table border=\"1\" class=\"dataframe\">\n",
       "  <thead>\n",
       "    <tr style=\"text-align: right;\">\n",
       "      <th></th>\n",
       "      <th>nome</th>\n",
       "      <th>data</th>\n",
       "      <th>horario</th>\n",
       "      <th>lat</th>\n",
       "      <th>long</th>\n",
       "      <th>bio</th>\n",
       "      <th>url</th>\n",
       "    </tr>\n",
       "  </thead>\n",
       "  <tbody>\n",
       "    <tr>\n",
       "      <th>0</th>\n",
       "      <td>Babilée, Jean</td>\n",
       "      <td>1923/02/03</td>\n",
       "      <td>21:30</td>\n",
       "      <td>48n5102</td>\n",
       "      <td>2e1958</td>\n",
       "      <td>French dancer, choreographer, and actor, Babil...</td>\n",
       "      <td>https://www.astro.com/astro-databank/Babil%C3%...</td>\n",
       "    </tr>\n",
       "    <tr>\n",
       "      <th>1</th>\n",
       "      <td>Baber, Alice</td>\n",
       "      <td>1928/08/22</td>\n",
       "      <td>03:40</td>\n",
       "      <td>39n30</td>\n",
       "      <td>88w11</td>\n",
       "      <td>American artist, her style was abstract expres...</td>\n",
       "      <td>https://www.astro.com/astro-databank/Baber,_Alice</td>\n",
       "    </tr>\n",
       "    <tr>\n",
       "      <th>2</th>\n",
       "      <td>Babbitt, Manuel</td>\n",
       "      <td>1949/05/03</td>\n",
       "      <td>21:30</td>\n",
       "      <td>41n46</td>\n",
       "      <td>70w43</td>\n",
       "      <td>American homicide: a former Marine and Vietnam...</td>\n",
       "      <td>https://www.astro.com/astro-databank/Babbitt,_...</td>\n",
       "    </tr>\n",
       "    <tr>\n",
       "      <th>3</th>\n",
       "      <td>Babbitt, Elwood</td>\n",
       "      <td>1921/11/26</td>\n",
       "      <td>10:20</td>\n",
       "      <td>42n35</td>\n",
       "      <td>72w19</td>\n",
       "      <td>American medium based in New England.  His lif...</td>\n",
       "      <td>https://www.astro.com/astro-databank/Babbitt,_...</td>\n",
       "    </tr>\n",
       "    <tr>\n",
       "      <th>4</th>\n",
       "      <td>A, Dominique</td>\n",
       "      <td>1968/10/06</td>\n",
       "      <td>17:35</td>\n",
       "      <td>48n33</td>\n",
       "      <td>3e18</td>\n",
       "      <td>French songwriter, singer and guitarist.</td>\n",
       "      <td>https://www.astro.com/astro-databank/A,_Dominique</td>\n",
       "    </tr>\n",
       "  </tbody>\n",
       "</table>\n",
       "</div>"
      ],
      "text/plain": [
       "              nome        data  horario      lat    long  \\\n",
       "0    Babilée, Jean  1923/02/03  21:30    48n5102  2e1958   \n",
       "1     Baber, Alice  1928/08/22  03:40      39n30   88w11   \n",
       "2  Babbitt, Manuel  1949/05/03  21:30      41n46   70w43   \n",
       "3  Babbitt, Elwood  1921/11/26  10:20      42n35   72w19   \n",
       "4     A, Dominique  1968/10/06  17:35      48n33    3e18   \n",
       "\n",
       "                                                 bio  \\\n",
       "0  French dancer, choreographer, and actor, Babil...   \n",
       "1  American artist, her style was abstract expres...   \n",
       "2  American homicide: a former Marine and Vietnam...   \n",
       "3  American medium based in New England.  His lif...   \n",
       "4           French songwriter, singer and guitarist.   \n",
       "\n",
       "                                                 url  \n",
       "0  https://www.astro.com/astro-databank/Babil%C3%...  \n",
       "1  https://www.astro.com/astro-databank/Baber,_Alice  \n",
       "2  https://www.astro.com/astro-databank/Babbitt,_...  \n",
       "3  https://www.astro.com/astro-databank/Babbitt,_...  \n",
       "4  https://www.astro.com/astro-databank/A,_Dominique  "
      ]
     },
     "execution_count": 47,
     "metadata": {},
     "output_type": "execute_result"
    }
   ],
   "source": [
    "astro4.head()"
   ]
  },
  {
   "cell_type": "markdown",
   "metadata": {},
   "source": [
    "É necessário converter os dados de latitude e longitude para float. <br>\n",
    "Exemplo: de '23s33' a -23.33 <br>\n",
    "<br>\n",
    "Latitude:"
   ]
  },
  {
   "cell_type": "code",
   "execution_count": 48,
   "metadata": {},
   "outputs": [],
   "source": [
    "# Primeiro, os dados referentes ao sul, que devem ser negativos:\n",
    "astro4.loc[(astro4['lat'].str.contains(\"s\")),'lat_2'] = astro4['lat'].str.replace('s','.')\n",
    "astro4['lat_2'] = \"-\" + astro4['lat_2']"
   ]
  },
  {
   "cell_type": "code",
   "execution_count": 49,
   "metadata": {},
   "outputs": [],
   "source": [
    "# Depois, os dados referentes ao norte:\n",
    "astro4.loc[(astro4['lat'].str.contains(\"n\")),'lat_2'] = astro4['lat'].str.replace('n','.')"
   ]
  },
  {
   "cell_type": "code",
   "execution_count": 50,
   "metadata": {},
   "outputs": [
    {
     "data": {
      "text/html": [
       "<div>\n",
       "<style scoped>\n",
       "    .dataframe tbody tr th:only-of-type {\n",
       "        vertical-align: middle;\n",
       "    }\n",
       "\n",
       "    .dataframe tbody tr th {\n",
       "        vertical-align: top;\n",
       "    }\n",
       "\n",
       "    .dataframe thead th {\n",
       "        text-align: right;\n",
       "    }\n",
       "</style>\n",
       "<table border=\"1\" class=\"dataframe\">\n",
       "  <thead>\n",
       "    <tr style=\"text-align: right;\">\n",
       "      <th></th>\n",
       "      <th>nome</th>\n",
       "      <th>data</th>\n",
       "      <th>horario</th>\n",
       "      <th>lat</th>\n",
       "      <th>long</th>\n",
       "      <th>bio</th>\n",
       "      <th>url</th>\n",
       "      <th>lat_2</th>\n",
       "    </tr>\n",
       "  </thead>\n",
       "  <tbody>\n",
       "    <tr>\n",
       "      <th>0</th>\n",
       "      <td>Babilée, Jean</td>\n",
       "      <td>1923/02/03</td>\n",
       "      <td>21:30</td>\n",
       "      <td>48n5102</td>\n",
       "      <td>2e1958</td>\n",
       "      <td>French dancer, choreographer, and actor, Babil...</td>\n",
       "      <td>https://www.astro.com/astro-databank/Babil%C3%...</td>\n",
       "      <td>48.5102</td>\n",
       "    </tr>\n",
       "    <tr>\n",
       "      <th>1</th>\n",
       "      <td>Baber, Alice</td>\n",
       "      <td>1928/08/22</td>\n",
       "      <td>03:40</td>\n",
       "      <td>39n30</td>\n",
       "      <td>88w11</td>\n",
       "      <td>American artist, her style was abstract expres...</td>\n",
       "      <td>https://www.astro.com/astro-databank/Baber,_Alice</td>\n",
       "      <td>39.30</td>\n",
       "    </tr>\n",
       "    <tr>\n",
       "      <th>2</th>\n",
       "      <td>Babbitt, Manuel</td>\n",
       "      <td>1949/05/03</td>\n",
       "      <td>21:30</td>\n",
       "      <td>41n46</td>\n",
       "      <td>70w43</td>\n",
       "      <td>American homicide: a former Marine and Vietnam...</td>\n",
       "      <td>https://www.astro.com/astro-databank/Babbitt,_...</td>\n",
       "      <td>41.46</td>\n",
       "    </tr>\n",
       "    <tr>\n",
       "      <th>3</th>\n",
       "      <td>Babbitt, Elwood</td>\n",
       "      <td>1921/11/26</td>\n",
       "      <td>10:20</td>\n",
       "      <td>42n35</td>\n",
       "      <td>72w19</td>\n",
       "      <td>American medium based in New England.  His lif...</td>\n",
       "      <td>https://www.astro.com/astro-databank/Babbitt,_...</td>\n",
       "      <td>42.35</td>\n",
       "    </tr>\n",
       "    <tr>\n",
       "      <th>4</th>\n",
       "      <td>A, Dominique</td>\n",
       "      <td>1968/10/06</td>\n",
       "      <td>17:35</td>\n",
       "      <td>48n33</td>\n",
       "      <td>3e18</td>\n",
       "      <td>French songwriter, singer and guitarist.</td>\n",
       "      <td>https://www.astro.com/astro-databank/A,_Dominique</td>\n",
       "      <td>48.33</td>\n",
       "    </tr>\n",
       "  </tbody>\n",
       "</table>\n",
       "</div>"
      ],
      "text/plain": [
       "              nome        data  horario      lat    long  \\\n",
       "0    Babilée, Jean  1923/02/03  21:30    48n5102  2e1958   \n",
       "1     Baber, Alice  1928/08/22  03:40      39n30   88w11   \n",
       "2  Babbitt, Manuel  1949/05/03  21:30      41n46   70w43   \n",
       "3  Babbitt, Elwood  1921/11/26  10:20      42n35   72w19   \n",
       "4     A, Dominique  1968/10/06  17:35      48n33    3e18   \n",
       "\n",
       "                                                 bio  \\\n",
       "0  French dancer, choreographer, and actor, Babil...   \n",
       "1  American artist, her style was abstract expres...   \n",
       "2  American homicide: a former Marine and Vietnam...   \n",
       "3  American medium based in New England.  His lif...   \n",
       "4           French songwriter, singer and guitarist.   \n",
       "\n",
       "                                                 url    lat_2  \n",
       "0  https://www.astro.com/astro-databank/Babil%C3%...  48.5102  \n",
       "1  https://www.astro.com/astro-databank/Baber,_Alice    39.30  \n",
       "2  https://www.astro.com/astro-databank/Babbitt,_...    41.46  \n",
       "3  https://www.astro.com/astro-databank/Babbitt,_...    42.35  \n",
       "4  https://www.astro.com/astro-databank/A,_Dominique    48.33  "
      ]
     },
     "execution_count": 50,
     "metadata": {},
     "output_type": "execute_result"
    }
   ],
   "source": [
    "astro4.head()"
   ]
  },
  {
   "cell_type": "code",
   "execution_count": 51,
   "metadata": {},
   "outputs": [],
   "source": [
    "astro4['lat_2'] = astro4['lat_2'].astype(float)"
   ]
  },
  {
   "cell_type": "code",
   "execution_count": 52,
   "metadata": {},
   "outputs": [
    {
     "data": {
      "text/plain": [
       "nome        object\n",
       "data        object\n",
       "horario     object\n",
       "lat         object\n",
       "long        object\n",
       "bio         object\n",
       "url         object\n",
       "lat_2      float64\n",
       "dtype: object"
      ]
     },
     "execution_count": 52,
     "metadata": {},
     "output_type": "execute_result"
    }
   ],
   "source": [
    "astro4.dtypes"
   ]
  },
  {
   "cell_type": "markdown",
   "metadata": {},
   "source": [
    "Longitude:"
   ]
  },
  {
   "cell_type": "code",
   "execution_count": 53,
   "metadata": {},
   "outputs": [],
   "source": [
    "# Primeiro, os dados referentes ao oeste, que devem ser negativos:\n",
    "astro4.loc[(astro4['long'].str.contains(\"w\")),'long_2'] = astro4['long'].str.replace('w','.')\n",
    "astro4['long_2'] = \"-\" + astro4['long_2']"
   ]
  },
  {
   "cell_type": "code",
   "execution_count": 54,
   "metadata": {},
   "outputs": [],
   "source": [
    "# Depois, os dados referentes ao leste:\n",
    "astro4.loc[(astro4['long'].str.contains(\"e\")),'long_2'] = astro4['long'].str.replace('e','.')"
   ]
  },
  {
   "cell_type": "code",
   "execution_count": 55,
   "metadata": {},
   "outputs": [
    {
     "data": {
      "text/html": [
       "<div>\n",
       "<style scoped>\n",
       "    .dataframe tbody tr th:only-of-type {\n",
       "        vertical-align: middle;\n",
       "    }\n",
       "\n",
       "    .dataframe tbody tr th {\n",
       "        vertical-align: top;\n",
       "    }\n",
       "\n",
       "    .dataframe thead th {\n",
       "        text-align: right;\n",
       "    }\n",
       "</style>\n",
       "<table border=\"1\" class=\"dataframe\">\n",
       "  <thead>\n",
       "    <tr style=\"text-align: right;\">\n",
       "      <th></th>\n",
       "      <th>nome</th>\n",
       "      <th>data</th>\n",
       "      <th>horario</th>\n",
       "      <th>lat</th>\n",
       "      <th>long</th>\n",
       "      <th>bio</th>\n",
       "      <th>url</th>\n",
       "      <th>lat_2</th>\n",
       "      <th>long_2</th>\n",
       "    </tr>\n",
       "  </thead>\n",
       "  <tbody>\n",
       "    <tr>\n",
       "      <th>0</th>\n",
       "      <td>Babilée, Jean</td>\n",
       "      <td>1923/02/03</td>\n",
       "      <td>21:30</td>\n",
       "      <td>48n5102</td>\n",
       "      <td>2e1958</td>\n",
       "      <td>French dancer, choreographer, and actor, Babil...</td>\n",
       "      <td>https://www.astro.com/astro-databank/Babil%C3%...</td>\n",
       "      <td>48.5102</td>\n",
       "      <td>2.1958</td>\n",
       "    </tr>\n",
       "    <tr>\n",
       "      <th>1</th>\n",
       "      <td>Baber, Alice</td>\n",
       "      <td>1928/08/22</td>\n",
       "      <td>03:40</td>\n",
       "      <td>39n30</td>\n",
       "      <td>88w11</td>\n",
       "      <td>American artist, her style was abstract expres...</td>\n",
       "      <td>https://www.astro.com/astro-databank/Baber,_Alice</td>\n",
       "      <td>39.3000</td>\n",
       "      <td>-88.11</td>\n",
       "    </tr>\n",
       "    <tr>\n",
       "      <th>2</th>\n",
       "      <td>Babbitt, Manuel</td>\n",
       "      <td>1949/05/03</td>\n",
       "      <td>21:30</td>\n",
       "      <td>41n46</td>\n",
       "      <td>70w43</td>\n",
       "      <td>American homicide: a former Marine and Vietnam...</td>\n",
       "      <td>https://www.astro.com/astro-databank/Babbitt,_...</td>\n",
       "      <td>41.4600</td>\n",
       "      <td>-70.43</td>\n",
       "    </tr>\n",
       "    <tr>\n",
       "      <th>3</th>\n",
       "      <td>Babbitt, Elwood</td>\n",
       "      <td>1921/11/26</td>\n",
       "      <td>10:20</td>\n",
       "      <td>42n35</td>\n",
       "      <td>72w19</td>\n",
       "      <td>American medium based in New England.  His lif...</td>\n",
       "      <td>https://www.astro.com/astro-databank/Babbitt,_...</td>\n",
       "      <td>42.3500</td>\n",
       "      <td>-72.19</td>\n",
       "    </tr>\n",
       "    <tr>\n",
       "      <th>4</th>\n",
       "      <td>A, Dominique</td>\n",
       "      <td>1968/10/06</td>\n",
       "      <td>17:35</td>\n",
       "      <td>48n33</td>\n",
       "      <td>3e18</td>\n",
       "      <td>French songwriter, singer and guitarist.</td>\n",
       "      <td>https://www.astro.com/astro-databank/A,_Dominique</td>\n",
       "      <td>48.3300</td>\n",
       "      <td>3.18</td>\n",
       "    </tr>\n",
       "  </tbody>\n",
       "</table>\n",
       "</div>"
      ],
      "text/plain": [
       "              nome        data  horario      lat    long  \\\n",
       "0    Babilée, Jean  1923/02/03  21:30    48n5102  2e1958   \n",
       "1     Baber, Alice  1928/08/22  03:40      39n30   88w11   \n",
       "2  Babbitt, Manuel  1949/05/03  21:30      41n46   70w43   \n",
       "3  Babbitt, Elwood  1921/11/26  10:20      42n35   72w19   \n",
       "4     A, Dominique  1968/10/06  17:35      48n33    3e18   \n",
       "\n",
       "                                                 bio  \\\n",
       "0  French dancer, choreographer, and actor, Babil...   \n",
       "1  American artist, her style was abstract expres...   \n",
       "2  American homicide: a former Marine and Vietnam...   \n",
       "3  American medium based in New England.  His lif...   \n",
       "4           French songwriter, singer and guitarist.   \n",
       "\n",
       "                                                 url    lat_2  long_2  \n",
       "0  https://www.astro.com/astro-databank/Babil%C3%...  48.5102  2.1958  \n",
       "1  https://www.astro.com/astro-databank/Baber,_Alice  39.3000  -88.11  \n",
       "2  https://www.astro.com/astro-databank/Babbitt,_...  41.4600  -70.43  \n",
       "3  https://www.astro.com/astro-databank/Babbitt,_...  42.3500  -72.19  \n",
       "4  https://www.astro.com/astro-databank/A,_Dominique  48.3300    3.18  "
      ]
     },
     "execution_count": 55,
     "metadata": {},
     "output_type": "execute_result"
    }
   ],
   "source": [
    "astro4.head()"
   ]
  },
  {
   "cell_type": "code",
   "execution_count": 56,
   "metadata": {},
   "outputs": [],
   "source": [
    "astro4['long_2'] = astro4['long_2'].astype(float)"
   ]
  },
  {
   "cell_type": "code",
   "execution_count": 57,
   "metadata": {},
   "outputs": [
    {
     "data": {
      "text/plain": [
       "nome        object\n",
       "data        object\n",
       "horario     object\n",
       "lat         object\n",
       "long        object\n",
       "bio         object\n",
       "url         object\n",
       "lat_2      float64\n",
       "long_2     float64\n",
       "dtype: object"
      ]
     },
     "execution_count": 57,
     "metadata": {},
     "output_type": "execute_result"
    }
   ],
   "source": [
    "astro4.dtypes"
   ]
  },
  {
   "cell_type": "code",
   "execution_count": 58,
   "metadata": {},
   "outputs": [],
   "source": [
    "# Pode-se excluir as colunas originais:\n",
    "astro4.drop(['lat', 'long'], axis=1, inplace=True)"
   ]
  },
  {
   "cell_type": "markdown",
   "metadata": {},
   "source": [
    "Em seguida, determinou-se o fuso horário, em deslocamento UTC:"
   ]
  },
  {
   "cell_type": "code",
   "execution_count": 59,
   "metadata": {},
   "outputs": [],
   "source": [
    "astro4['fuso'] = astro4.apply(offset, axis=1)"
   ]
  },
  {
   "cell_type": "code",
   "execution_count": 60,
   "metadata": {},
   "outputs": [
    {
     "data": {
      "text/html": [
       "<div>\n",
       "<style scoped>\n",
       "    .dataframe tbody tr th:only-of-type {\n",
       "        vertical-align: middle;\n",
       "    }\n",
       "\n",
       "    .dataframe tbody tr th {\n",
       "        vertical-align: top;\n",
       "    }\n",
       "\n",
       "    .dataframe thead th {\n",
       "        text-align: right;\n",
       "    }\n",
       "</style>\n",
       "<table border=\"1\" class=\"dataframe\">\n",
       "  <thead>\n",
       "    <tr style=\"text-align: right;\">\n",
       "      <th></th>\n",
       "      <th>nome</th>\n",
       "      <th>data</th>\n",
       "      <th>horario</th>\n",
       "      <th>bio</th>\n",
       "      <th>url</th>\n",
       "      <th>lat_2</th>\n",
       "      <th>long_2</th>\n",
       "      <th>fuso</th>\n",
       "    </tr>\n",
       "  </thead>\n",
       "  <tbody>\n",
       "    <tr>\n",
       "      <th>0</th>\n",
       "      <td>Babilée, Jean</td>\n",
       "      <td>1923/02/03</td>\n",
       "      <td>21:30</td>\n",
       "      <td>French dancer, choreographer, and actor, Babil...</td>\n",
       "      <td>https://www.astro.com/astro-databank/Babil%C3%...</td>\n",
       "      <td>48.5102</td>\n",
       "      <td>2.1958</td>\n",
       "      <td>1.0</td>\n",
       "    </tr>\n",
       "    <tr>\n",
       "      <th>1</th>\n",
       "      <td>Baber, Alice</td>\n",
       "      <td>1928/08/22</td>\n",
       "      <td>03:40</td>\n",
       "      <td>American artist, her style was abstract expres...</td>\n",
       "      <td>https://www.astro.com/astro-databank/Baber,_Alice</td>\n",
       "      <td>39.3000</td>\n",
       "      <td>-88.1100</td>\n",
       "      <td>-6.0</td>\n",
       "    </tr>\n",
       "    <tr>\n",
       "      <th>2</th>\n",
       "      <td>Babbitt, Manuel</td>\n",
       "      <td>1949/05/03</td>\n",
       "      <td>21:30</td>\n",
       "      <td>American homicide: a former Marine and Vietnam...</td>\n",
       "      <td>https://www.astro.com/astro-databank/Babbitt,_...</td>\n",
       "      <td>41.4600</td>\n",
       "      <td>-70.4300</td>\n",
       "      <td>-5.0</td>\n",
       "    </tr>\n",
       "    <tr>\n",
       "      <th>3</th>\n",
       "      <td>Babbitt, Elwood</td>\n",
       "      <td>1921/11/26</td>\n",
       "      <td>10:20</td>\n",
       "      <td>American medium based in New England.  His lif...</td>\n",
       "      <td>https://www.astro.com/astro-databank/Babbitt,_...</td>\n",
       "      <td>42.3500</td>\n",
       "      <td>-72.1900</td>\n",
       "      <td>-5.0</td>\n",
       "    </tr>\n",
       "    <tr>\n",
       "      <th>4</th>\n",
       "      <td>A, Dominique</td>\n",
       "      <td>1968/10/06</td>\n",
       "      <td>17:35</td>\n",
       "      <td>French songwriter, singer and guitarist.</td>\n",
       "      <td>https://www.astro.com/astro-databank/A,_Dominique</td>\n",
       "      <td>48.3300</td>\n",
       "      <td>3.1800</td>\n",
       "      <td>1.0</td>\n",
       "    </tr>\n",
       "  </tbody>\n",
       "</table>\n",
       "</div>"
      ],
      "text/plain": [
       "              nome        data  horario  \\\n",
       "0    Babilée, Jean  1923/02/03  21:30     \n",
       "1     Baber, Alice  1928/08/22  03:40     \n",
       "2  Babbitt, Manuel  1949/05/03  21:30     \n",
       "3  Babbitt, Elwood  1921/11/26  10:20     \n",
       "4     A, Dominique  1968/10/06  17:35     \n",
       "\n",
       "                                                 bio  \\\n",
       "0  French dancer, choreographer, and actor, Babil...   \n",
       "1  American artist, her style was abstract expres...   \n",
       "2  American homicide: a former Marine and Vietnam...   \n",
       "3  American medium based in New England.  His lif...   \n",
       "4           French songwriter, singer and guitarist.   \n",
       "\n",
       "                                                 url    lat_2   long_2  fuso  \n",
       "0  https://www.astro.com/astro-databank/Babil%C3%...  48.5102   2.1958   1.0  \n",
       "1  https://www.astro.com/astro-databank/Baber,_Alice  39.3000 -88.1100  -6.0  \n",
       "2  https://www.astro.com/astro-databank/Babbitt,_...  41.4600 -70.4300  -5.0  \n",
       "3  https://www.astro.com/astro-databank/Babbitt,_...  42.3500 -72.1900  -5.0  \n",
       "4  https://www.astro.com/astro-databank/A,_Dominique  48.3300   3.1800   1.0  "
      ]
     },
     "execution_count": 60,
     "metadata": {},
     "output_type": "execute_result"
    }
   ],
   "source": [
    "astro4.head()"
   ]
  },
  {
   "cell_type": "code",
   "execution_count": 61,
   "metadata": {},
   "outputs": [
    {
     "name": "stdout",
     "output_type": "stream",
     "text": [
      "<class 'pandas.core.frame.DataFrame'>\n",
      "Int64Index: 43700 entries, 0 to 44592\n",
      "Data columns (total 8 columns):\n",
      "nome       43700 non-null object\n",
      "data       43700 non-null object\n",
      "horario    43700 non-null object\n",
      "bio        43700 non-null object\n",
      "url        43700 non-null object\n",
      "lat_2      43700 non-null float64\n",
      "long_2     43700 non-null float64\n",
      "fuso       43064 non-null float64\n",
      "dtypes: float64(3), object(5)\n",
      "memory usage: 4.3+ MB\n"
     ]
    }
   ],
   "source": [
    "astro4.info()"
   ]
  },
  {
   "cell_type": "code",
   "execution_count": 62,
   "metadata": {},
   "outputs": [],
   "source": [
    "astro4 = astro4.dropna()"
   ]
  },
  {
   "cell_type": "markdown",
   "metadata": {},
   "source": [
    "O dataset já está como o desejado; desta forma, atribuiu-se um nome definitivo para facilitar sua identificação:"
   ]
  },
  {
   "cell_type": "code",
   "execution_count": 63,
   "metadata": {},
   "outputs": [],
   "source": [
    "df_astro = astro4"
   ]
  },
  {
   "cell_type": "code",
   "execution_count": 64,
   "metadata": {},
   "outputs": [
    {
     "name": "stdout",
     "output_type": "stream",
     "text": [
      "<class 'pandas.core.frame.DataFrame'>\n",
      "Int64Index: 43064 entries, 0 to 44592\n",
      "Data columns (total 8 columns):\n",
      "nome       43064 non-null object\n",
      "data       43064 non-null object\n",
      "horario    43064 non-null object\n",
      "bio        43064 non-null object\n",
      "url        43064 non-null object\n",
      "lat_2      43064 non-null float64\n",
      "long_2     43064 non-null float64\n",
      "fuso       43064 non-null float64\n",
      "dtypes: float64(3), object(5)\n",
      "memory usage: 3.0+ MB\n"
     ]
    }
   ],
   "source": [
    "df_astro.info()"
   ]
  },
  {
   "cell_type": "markdown",
   "metadata": {},
   "source": [
    "<div class=\"alert alert-block alert-info\">\n",
    "<b>Observação:</b> Query de consulta abaixo"
   ]
  },
  {
   "cell_type": "code",
   "execution_count": 65,
   "metadata": {},
   "outputs": [
    {
     "data": {
      "text/html": [
       "<div>\n",
       "<style scoped>\n",
       "    .dataframe tbody tr th:only-of-type {\n",
       "        vertical-align: middle;\n",
       "    }\n",
       "\n",
       "    .dataframe tbody tr th {\n",
       "        vertical-align: top;\n",
       "    }\n",
       "\n",
       "    .dataframe thead th {\n",
       "        text-align: right;\n",
       "    }\n",
       "</style>\n",
       "<table border=\"1\" class=\"dataframe\">\n",
       "  <thead>\n",
       "    <tr style=\"text-align: right;\">\n",
       "      <th></th>\n",
       "      <th>nome</th>\n",
       "      <th>data</th>\n",
       "      <th>horario</th>\n",
       "      <th>bio</th>\n",
       "      <th>url</th>\n",
       "      <th>lat_2</th>\n",
       "      <th>long_2</th>\n",
       "      <th>fuso</th>\n",
       "    </tr>\n",
       "  </thead>\n",
       "  <tbody>\n",
       "    <tr>\n",
       "      <th>16680</th>\n",
       "      <td>Neymar</td>\n",
       "      <td>1992/02/05</td>\n",
       "      <td>02:15</td>\n",
       "      <td>Brazilian footballer who plays as a forward fo...</td>\n",
       "      <td>https://www.astro.com/astro-databank/Neymar</td>\n",
       "      <td>-23.31</td>\n",
       "      <td>-46.11</td>\n",
       "      <td>-3.0</td>\n",
       "    </tr>\n",
       "  </tbody>\n",
       "</table>\n",
       "</div>"
      ],
      "text/plain": [
       "         nome        data  horario  \\\n",
       "16680  Neymar  1992/02/05  02:15     \n",
       "\n",
       "                                                     bio  \\\n",
       "16680  Brazilian footballer who plays as a forward fo...   \n",
       "\n",
       "                                               url  lat_2  long_2  fuso  \n",
       "16680  https://www.astro.com/astro-databank/Neymar -23.31  -46.11  -3.0  "
      ]
     },
     "execution_count": 65,
     "metadata": {},
     "output_type": "execute_result"
    }
   ],
   "source": [
    "df_astro[df_astro['nome'].str.contains('Neymar')]"
   ]
  },
  {
   "cell_type": "markdown",
   "metadata": {},
   "source": [
    "***"
   ]
  },
  {
   "cell_type": "markdown",
   "metadata": {},
   "source": [
    "### 2. Mapa astral:"
   ]
  },
  {
   "cell_type": "markdown",
   "metadata": {},
   "source": [
    "Calculou-se o mapa astral para todos os elementos do dataset:"
   ]
  },
  {
   "cell_type": "code",
   "execution_count": 66,
   "metadata": {},
   "outputs": [],
   "source": [
    "df_astro['mapa'] = df_astro.apply(mapa, axis=1)"
   ]
  },
  {
   "cell_type": "code",
   "execution_count": 67,
   "metadata": {},
   "outputs": [
    {
     "data": {
      "text/html": [
       "<div>\n",
       "<style scoped>\n",
       "    .dataframe tbody tr th:only-of-type {\n",
       "        vertical-align: middle;\n",
       "    }\n",
       "\n",
       "    .dataframe tbody tr th {\n",
       "        vertical-align: top;\n",
       "    }\n",
       "\n",
       "    .dataframe thead th {\n",
       "        text-align: right;\n",
       "    }\n",
       "</style>\n",
       "<table border=\"1\" class=\"dataframe\">\n",
       "  <thead>\n",
       "    <tr style=\"text-align: right;\">\n",
       "      <th></th>\n",
       "      <th>nome</th>\n",
       "      <th>data</th>\n",
       "      <th>horario</th>\n",
       "      <th>bio</th>\n",
       "      <th>url</th>\n",
       "      <th>lat_2</th>\n",
       "      <th>long_2</th>\n",
       "      <th>fuso</th>\n",
       "      <th>mapa</th>\n",
       "    </tr>\n",
       "  </thead>\n",
       "  <tbody>\n",
       "    <tr>\n",
       "      <th>0</th>\n",
       "      <td>Babilée, Jean</td>\n",
       "      <td>1923/02/03</td>\n",
       "      <td>21:30</td>\n",
       "      <td>French dancer, choreographer, and actor, Babil...</td>\n",
       "      <td>https://www.astro.com/astro-databank/Babil%C3%...</td>\n",
       "      <td>48.5102</td>\n",
       "      <td>2.1958</td>\n",
       "      <td>1.0</td>\n",
       "      <td>{'Sun': 'Aquarius', 'Moon': 'Virgo', 'Mercury'...</td>\n",
       "    </tr>\n",
       "    <tr>\n",
       "      <th>1</th>\n",
       "      <td>Baber, Alice</td>\n",
       "      <td>1928/08/22</td>\n",
       "      <td>03:40</td>\n",
       "      <td>American artist, her style was abstract expres...</td>\n",
       "      <td>https://www.astro.com/astro-databank/Baber,_Alice</td>\n",
       "      <td>39.3000</td>\n",
       "      <td>-88.1100</td>\n",
       "      <td>-6.0</td>\n",
       "      <td>{'Sun': 'Leo', 'Moon': 'Scorpio', 'Mercury': '...</td>\n",
       "    </tr>\n",
       "    <tr>\n",
       "      <th>2</th>\n",
       "      <td>Babbitt, Manuel</td>\n",
       "      <td>1949/05/03</td>\n",
       "      <td>21:30</td>\n",
       "      <td>American homicide: a former Marine and Vietnam...</td>\n",
       "      <td>https://www.astro.com/astro-databank/Babbitt,_...</td>\n",
       "      <td>41.4600</td>\n",
       "      <td>-70.4300</td>\n",
       "      <td>-5.0</td>\n",
       "      <td>{'Sun': 'Taurus', 'Moon': 'Cancer', 'Mercury':...</td>\n",
       "    </tr>\n",
       "    <tr>\n",
       "      <th>3</th>\n",
       "      <td>Babbitt, Elwood</td>\n",
       "      <td>1921/11/26</td>\n",
       "      <td>10:20</td>\n",
       "      <td>American medium based in New England.  His lif...</td>\n",
       "      <td>https://www.astro.com/astro-databank/Babbitt,_...</td>\n",
       "      <td>42.3500</td>\n",
       "      <td>-72.1900</td>\n",
       "      <td>-5.0</td>\n",
       "      <td>{'Sun': 'Sagittarius', 'Moon': 'Libra', 'Mercu...</td>\n",
       "    </tr>\n",
       "    <tr>\n",
       "      <th>4</th>\n",
       "      <td>A, Dominique</td>\n",
       "      <td>1968/10/06</td>\n",
       "      <td>17:35</td>\n",
       "      <td>French songwriter, singer and guitarist.</td>\n",
       "      <td>https://www.astro.com/astro-databank/A,_Dominique</td>\n",
       "      <td>48.3300</td>\n",
       "      <td>3.1800</td>\n",
       "      <td>1.0</td>\n",
       "      <td>{'Sun': 'Libra', 'Moon': 'Aries', 'Mercury': '...</td>\n",
       "    </tr>\n",
       "  </tbody>\n",
       "</table>\n",
       "</div>"
      ],
      "text/plain": [
       "              nome        data  horario  \\\n",
       "0    Babilée, Jean  1923/02/03  21:30     \n",
       "1     Baber, Alice  1928/08/22  03:40     \n",
       "2  Babbitt, Manuel  1949/05/03  21:30     \n",
       "3  Babbitt, Elwood  1921/11/26  10:20     \n",
       "4     A, Dominique  1968/10/06  17:35     \n",
       "\n",
       "                                                 bio  \\\n",
       "0  French dancer, choreographer, and actor, Babil...   \n",
       "1  American artist, her style was abstract expres...   \n",
       "2  American homicide: a former Marine and Vietnam...   \n",
       "3  American medium based in New England.  His lif...   \n",
       "4           French songwriter, singer and guitarist.   \n",
       "\n",
       "                                                 url    lat_2   long_2  fuso  \\\n",
       "0  https://www.astro.com/astro-databank/Babil%C3%...  48.5102   2.1958   1.0   \n",
       "1  https://www.astro.com/astro-databank/Baber,_Alice  39.3000 -88.1100  -6.0   \n",
       "2  https://www.astro.com/astro-databank/Babbitt,_...  41.4600 -70.4300  -5.0   \n",
       "3  https://www.astro.com/astro-databank/Babbitt,_...  42.3500 -72.1900  -5.0   \n",
       "4  https://www.astro.com/astro-databank/A,_Dominique  48.3300   3.1800   1.0   \n",
       "\n",
       "                                                mapa  \n",
       "0  {'Sun': 'Aquarius', 'Moon': 'Virgo', 'Mercury'...  \n",
       "1  {'Sun': 'Leo', 'Moon': 'Scorpio', 'Mercury': '...  \n",
       "2  {'Sun': 'Taurus', 'Moon': 'Cancer', 'Mercury':...  \n",
       "3  {'Sun': 'Sagittarius', 'Moon': 'Libra', 'Mercu...  \n",
       "4  {'Sun': 'Libra', 'Moon': 'Aries', 'Mercury': '...  "
      ]
     },
     "execution_count": 67,
     "metadata": {},
     "output_type": "execute_result"
    }
   ],
   "source": [
    "df_astro.head()"
   ]
  },
  {
   "cell_type": "code",
   "execution_count": 68,
   "metadata": {},
   "outputs": [],
   "source": [
    "# Para converter as chaves do dicionário em colunas, com seus respectivos valores:\n",
    "df_astro = pd.concat([df_astro.drop(['mapa'], axis=1), df_astro['mapa'].apply(pd.Series)], axis=1)"
   ]
  },
  {
   "cell_type": "code",
   "execution_count": 69,
   "metadata": {},
   "outputs": [
    {
     "data": {
      "text/html": [
       "<div>\n",
       "<style scoped>\n",
       "    .dataframe tbody tr th:only-of-type {\n",
       "        vertical-align: middle;\n",
       "    }\n",
       "\n",
       "    .dataframe tbody tr th {\n",
       "        vertical-align: top;\n",
       "    }\n",
       "\n",
       "    .dataframe thead th {\n",
       "        text-align: right;\n",
       "    }\n",
       "</style>\n",
       "<table border=\"1\" class=\"dataframe\">\n",
       "  <thead>\n",
       "    <tr style=\"text-align: right;\">\n",
       "      <th></th>\n",
       "      <th>nome</th>\n",
       "      <th>data</th>\n",
       "      <th>horario</th>\n",
       "      <th>bio</th>\n",
       "      <th>url</th>\n",
       "      <th>lat_2</th>\n",
       "      <th>long_2</th>\n",
       "      <th>fuso</th>\n",
       "      <th>Sun</th>\n",
       "      <th>Moon</th>\n",
       "      <th>Mercury</th>\n",
       "      <th>Venus</th>\n",
       "      <th>Mars</th>\n",
       "      <th>Jupiter</th>\n",
       "      <th>Saturn</th>\n",
       "      <th>North Node</th>\n",
       "      <th>South Node</th>\n",
       "      <th>Syzygy</th>\n",
       "      <th>Pars Fortuna</th>\n",
       "    </tr>\n",
       "  </thead>\n",
       "  <tbody>\n",
       "    <tr>\n",
       "      <th>0</th>\n",
       "      <td>Babilée, Jean</td>\n",
       "      <td>1923/02/03</td>\n",
       "      <td>21:30</td>\n",
       "      <td>French dancer, choreographer, and actor, Babil...</td>\n",
       "      <td>https://www.astro.com/astro-databank/Babil%C3%...</td>\n",
       "      <td>48.5102</td>\n",
       "      <td>2.1958</td>\n",
       "      <td>1.0</td>\n",
       "      <td>Aquarius</td>\n",
       "      <td>Virgo</td>\n",
       "      <td>Aquarius</td>\n",
       "      <td>Sagittarius</td>\n",
       "      <td>Aries</td>\n",
       "      <td>Scorpio</td>\n",
       "      <td>Libra</td>\n",
       "      <td>Virgo</td>\n",
       "      <td>Pisces</td>\n",
       "      <td>Leo</td>\n",
       "      <td>Aquarius</td>\n",
       "    </tr>\n",
       "    <tr>\n",
       "      <th>1</th>\n",
       "      <td>Baber, Alice</td>\n",
       "      <td>1928/08/22</td>\n",
       "      <td>03:40</td>\n",
       "      <td>American artist, her style was abstract expres...</td>\n",
       "      <td>https://www.astro.com/astro-databank/Baber,_Alice</td>\n",
       "      <td>39.3000</td>\n",
       "      <td>-88.1100</td>\n",
       "      <td>-6.0</td>\n",
       "      <td>Leo</td>\n",
       "      <td>Scorpio</td>\n",
       "      <td>Virgo</td>\n",
       "      <td>Virgo</td>\n",
       "      <td>Gemini</td>\n",
       "      <td>Taurus</td>\n",
       "      <td>Sagittarius</td>\n",
       "      <td>Gemini</td>\n",
       "      <td>Sagittarius</td>\n",
       "      <td>Leo</td>\n",
       "      <td>Taurus</td>\n",
       "    </tr>\n",
       "    <tr>\n",
       "      <th>2</th>\n",
       "      <td>Babbitt, Manuel</td>\n",
       "      <td>1949/05/03</td>\n",
       "      <td>21:30</td>\n",
       "      <td>American homicide: a former Marine and Vietnam...</td>\n",
       "      <td>https://www.astro.com/astro-databank/Babbitt,_...</td>\n",
       "      <td>41.4600</td>\n",
       "      <td>-70.4300</td>\n",
       "      <td>-5.0</td>\n",
       "      <td>Taurus</td>\n",
       "      <td>Cancer</td>\n",
       "      <td>Gemini</td>\n",
       "      <td>Taurus</td>\n",
       "      <td>Taurus</td>\n",
       "      <td>Aquarius</td>\n",
       "      <td>Leo</td>\n",
       "      <td>Aries</td>\n",
       "      <td>Libra</td>\n",
       "      <td>Taurus</td>\n",
       "      <td>Libra</td>\n",
       "    </tr>\n",
       "    <tr>\n",
       "      <th>3</th>\n",
       "      <td>Babbitt, Elwood</td>\n",
       "      <td>1921/11/26</td>\n",
       "      <td>10:20</td>\n",
       "      <td>American medium based in New England.  His lif...</td>\n",
       "      <td>https://www.astro.com/astro-databank/Babbitt,_...</td>\n",
       "      <td>42.3500</td>\n",
       "      <td>-72.1900</td>\n",
       "      <td>-5.0</td>\n",
       "      <td>Sagittarius</td>\n",
       "      <td>Libra</td>\n",
       "      <td>Scorpio</td>\n",
       "      <td>Scorpio</td>\n",
       "      <td>Libra</td>\n",
       "      <td>Libra</td>\n",
       "      <td>Libra</td>\n",
       "      <td>Libra</td>\n",
       "      <td>Aries</td>\n",
       "      <td>Taurus</td>\n",
       "      <td>Sagittarius</td>\n",
       "    </tr>\n",
       "    <tr>\n",
       "      <th>4</th>\n",
       "      <td>A, Dominique</td>\n",
       "      <td>1968/10/06</td>\n",
       "      <td>17:35</td>\n",
       "      <td>French songwriter, singer and guitarist.</td>\n",
       "      <td>https://www.astro.com/astro-databank/A,_Dominique</td>\n",
       "      <td>48.3300</td>\n",
       "      <td>3.1800</td>\n",
       "      <td>1.0</td>\n",
       "      <td>Libra</td>\n",
       "      <td>Aries</td>\n",
       "      <td>Scorpio</td>\n",
       "      <td>Scorpio</td>\n",
       "      <td>Virgo</td>\n",
       "      <td>Virgo</td>\n",
       "      <td>Aries</td>\n",
       "      <td>Aries</td>\n",
       "      <td>Libra</td>\n",
       "      <td>Aries</td>\n",
       "      <td>Virgo</td>\n",
       "    </tr>\n",
       "  </tbody>\n",
       "</table>\n",
       "</div>"
      ],
      "text/plain": [
       "              nome        data  horario  \\\n",
       "0    Babilée, Jean  1923/02/03  21:30     \n",
       "1     Baber, Alice  1928/08/22  03:40     \n",
       "2  Babbitt, Manuel  1949/05/03  21:30     \n",
       "3  Babbitt, Elwood  1921/11/26  10:20     \n",
       "4     A, Dominique  1968/10/06  17:35     \n",
       "\n",
       "                                                 bio  \\\n",
       "0  French dancer, choreographer, and actor, Babil...   \n",
       "1  American artist, her style was abstract expres...   \n",
       "2  American homicide: a former Marine and Vietnam...   \n",
       "3  American medium based in New England.  His lif...   \n",
       "4           French songwriter, singer and guitarist.   \n",
       "\n",
       "                                                 url    lat_2   long_2  fuso  \\\n",
       "0  https://www.astro.com/astro-databank/Babil%C3%...  48.5102   2.1958   1.0   \n",
       "1  https://www.astro.com/astro-databank/Baber,_Alice  39.3000 -88.1100  -6.0   \n",
       "2  https://www.astro.com/astro-databank/Babbitt,_...  41.4600 -70.4300  -5.0   \n",
       "3  https://www.astro.com/astro-databank/Babbitt,_...  42.3500 -72.1900  -5.0   \n",
       "4  https://www.astro.com/astro-databank/A,_Dominique  48.3300   3.1800   1.0   \n",
       "\n",
       "           Sun     Moon   Mercury        Venus    Mars   Jupiter       Saturn  \\\n",
       "0     Aquarius    Virgo  Aquarius  Sagittarius   Aries   Scorpio        Libra   \n",
       "1          Leo  Scorpio     Virgo        Virgo  Gemini    Taurus  Sagittarius   \n",
       "2       Taurus   Cancer    Gemini       Taurus  Taurus  Aquarius          Leo   \n",
       "3  Sagittarius    Libra   Scorpio      Scorpio   Libra     Libra        Libra   \n",
       "4        Libra    Aries   Scorpio      Scorpio   Virgo     Virgo        Aries   \n",
       "\n",
       "  North Node   South Node  Syzygy Pars Fortuna  \n",
       "0      Virgo       Pisces     Leo     Aquarius  \n",
       "1     Gemini  Sagittarius     Leo       Taurus  \n",
       "2      Aries        Libra  Taurus        Libra  \n",
       "3      Libra        Aries  Taurus  Sagittarius  \n",
       "4      Aries        Libra   Aries        Virgo  "
      ]
     },
     "execution_count": 69,
     "metadata": {},
     "output_type": "execute_result"
    }
   ],
   "source": [
    "df_astro.head()"
   ]
  },
  {
   "cell_type": "markdown",
   "metadata": {},
   "source": [
    "Com o mapa astral calculado para todas as linhas do dataset, eliminou-se as colunas \"data\", \"horario\", \"bio\", \"url\", \"lat_2\", \"long_2\" e \"fuso\"."
   ]
  },
  {
   "cell_type": "code",
   "execution_count": 70,
   "metadata": {},
   "outputs": [
    {
     "name": "stdout",
     "output_type": "stream",
     "text": [
      "<class 'pandas.core.frame.DataFrame'>\n",
      "Int64Index: 43064 entries, 0 to 44592\n",
      "Data columns (total 19 columns):\n",
      "nome            43064 non-null object\n",
      "data            43064 non-null object\n",
      "horario         43064 non-null object\n",
      "bio             43064 non-null object\n",
      "url             43064 non-null object\n",
      "lat_2           43064 non-null float64\n",
      "long_2          43064 non-null float64\n",
      "fuso            43064 non-null float64\n",
      "Sun             43064 non-null object\n",
      "Moon            43064 non-null object\n",
      "Mercury         43064 non-null object\n",
      "Venus           43064 non-null object\n",
      "Mars            43064 non-null object\n",
      "Jupiter         43064 non-null object\n",
      "Saturn          43064 non-null object\n",
      "North Node      43064 non-null object\n",
      "South Node      43064 non-null object\n",
      "Syzygy          43064 non-null object\n",
      "Pars Fortuna    43064 non-null object\n",
      "dtypes: float64(3), object(16)\n",
      "memory usage: 6.6+ MB\n"
     ]
    }
   ],
   "source": [
    "df_astro.info()"
   ]
  },
  {
   "cell_type": "code",
   "execution_count": 71,
   "metadata": {},
   "outputs": [],
   "source": [
    "df_astro.drop([\"data\", \"horario\", \"bio\", \"url\", \"lat_2\", \"long_2\", \"fuso\"], axis=1, inplace=True)"
   ]
  },
  {
   "cell_type": "code",
   "execution_count": 72,
   "metadata": {
    "scrolled": true
   },
   "outputs": [
    {
     "data": {
      "text/html": [
       "<div>\n",
       "<style scoped>\n",
       "    .dataframe tbody tr th:only-of-type {\n",
       "        vertical-align: middle;\n",
       "    }\n",
       "\n",
       "    .dataframe tbody tr th {\n",
       "        vertical-align: top;\n",
       "    }\n",
       "\n",
       "    .dataframe thead th {\n",
       "        text-align: right;\n",
       "    }\n",
       "</style>\n",
       "<table border=\"1\" class=\"dataframe\">\n",
       "  <thead>\n",
       "    <tr style=\"text-align: right;\">\n",
       "      <th></th>\n",
       "      <th>nome</th>\n",
       "      <th>Sun</th>\n",
       "      <th>Moon</th>\n",
       "      <th>Mercury</th>\n",
       "      <th>Venus</th>\n",
       "      <th>Mars</th>\n",
       "      <th>Jupiter</th>\n",
       "      <th>Saturn</th>\n",
       "      <th>North Node</th>\n",
       "      <th>South Node</th>\n",
       "      <th>Syzygy</th>\n",
       "      <th>Pars Fortuna</th>\n",
       "    </tr>\n",
       "  </thead>\n",
       "  <tbody>\n",
       "    <tr>\n",
       "      <th>0</th>\n",
       "      <td>Babilée, Jean</td>\n",
       "      <td>Aquarius</td>\n",
       "      <td>Virgo</td>\n",
       "      <td>Aquarius</td>\n",
       "      <td>Sagittarius</td>\n",
       "      <td>Aries</td>\n",
       "      <td>Scorpio</td>\n",
       "      <td>Libra</td>\n",
       "      <td>Virgo</td>\n",
       "      <td>Pisces</td>\n",
       "      <td>Leo</td>\n",
       "      <td>Aquarius</td>\n",
       "    </tr>\n",
       "    <tr>\n",
       "      <th>1</th>\n",
       "      <td>Baber, Alice</td>\n",
       "      <td>Leo</td>\n",
       "      <td>Scorpio</td>\n",
       "      <td>Virgo</td>\n",
       "      <td>Virgo</td>\n",
       "      <td>Gemini</td>\n",
       "      <td>Taurus</td>\n",
       "      <td>Sagittarius</td>\n",
       "      <td>Gemini</td>\n",
       "      <td>Sagittarius</td>\n",
       "      <td>Leo</td>\n",
       "      <td>Taurus</td>\n",
       "    </tr>\n",
       "    <tr>\n",
       "      <th>2</th>\n",
       "      <td>Babbitt, Manuel</td>\n",
       "      <td>Taurus</td>\n",
       "      <td>Cancer</td>\n",
       "      <td>Gemini</td>\n",
       "      <td>Taurus</td>\n",
       "      <td>Taurus</td>\n",
       "      <td>Aquarius</td>\n",
       "      <td>Leo</td>\n",
       "      <td>Aries</td>\n",
       "      <td>Libra</td>\n",
       "      <td>Taurus</td>\n",
       "      <td>Libra</td>\n",
       "    </tr>\n",
       "    <tr>\n",
       "      <th>3</th>\n",
       "      <td>Babbitt, Elwood</td>\n",
       "      <td>Sagittarius</td>\n",
       "      <td>Libra</td>\n",
       "      <td>Scorpio</td>\n",
       "      <td>Scorpio</td>\n",
       "      <td>Libra</td>\n",
       "      <td>Libra</td>\n",
       "      <td>Libra</td>\n",
       "      <td>Libra</td>\n",
       "      <td>Aries</td>\n",
       "      <td>Taurus</td>\n",
       "      <td>Sagittarius</td>\n",
       "    </tr>\n",
       "    <tr>\n",
       "      <th>4</th>\n",
       "      <td>A, Dominique</td>\n",
       "      <td>Libra</td>\n",
       "      <td>Aries</td>\n",
       "      <td>Scorpio</td>\n",
       "      <td>Scorpio</td>\n",
       "      <td>Virgo</td>\n",
       "      <td>Virgo</td>\n",
       "      <td>Aries</td>\n",
       "      <td>Aries</td>\n",
       "      <td>Libra</td>\n",
       "      <td>Aries</td>\n",
       "      <td>Virgo</td>\n",
       "    </tr>\n",
       "  </tbody>\n",
       "</table>\n",
       "</div>"
      ],
      "text/plain": [
       "              nome          Sun     Moon   Mercury        Venus    Mars  \\\n",
       "0    Babilée, Jean     Aquarius    Virgo  Aquarius  Sagittarius   Aries   \n",
       "1     Baber, Alice          Leo  Scorpio     Virgo        Virgo  Gemini   \n",
       "2  Babbitt, Manuel       Taurus   Cancer    Gemini       Taurus  Taurus   \n",
       "3  Babbitt, Elwood  Sagittarius    Libra   Scorpio      Scorpio   Libra   \n",
       "4     A, Dominique        Libra    Aries   Scorpio      Scorpio   Virgo   \n",
       "\n",
       "    Jupiter       Saturn North Node   South Node  Syzygy Pars Fortuna  \n",
       "0   Scorpio        Libra      Virgo       Pisces     Leo     Aquarius  \n",
       "1    Taurus  Sagittarius     Gemini  Sagittarius     Leo       Taurus  \n",
       "2  Aquarius          Leo      Aries        Libra  Taurus        Libra  \n",
       "3     Libra        Libra      Libra        Aries  Taurus  Sagittarius  \n",
       "4     Virgo        Aries      Aries        Libra   Aries        Virgo  "
      ]
     },
     "execution_count": 72,
     "metadata": {},
     "output_type": "execute_result"
    }
   ],
   "source": [
    "df_astro.head()"
   ]
  },
  {
   "cell_type": "code",
   "execution_count": 73,
   "metadata": {},
   "outputs": [],
   "source": [
    "df_astro.reset_index(inplace=True)\n",
    "df_astro.drop(\"index\", axis=1, inplace=True)"
   ]
  },
  {
   "cell_type": "code",
   "execution_count": 74,
   "metadata": {},
   "outputs": [
    {
     "name": "stdout",
     "output_type": "stream",
     "text": [
      "<class 'pandas.core.frame.DataFrame'>\n",
      "RangeIndex: 43064 entries, 0 to 43063\n",
      "Data columns (total 12 columns):\n",
      "nome            43064 non-null object\n",
      "Sun             43064 non-null object\n",
      "Moon            43064 non-null object\n",
      "Mercury         43064 non-null object\n",
      "Venus           43064 non-null object\n",
      "Mars            43064 non-null object\n",
      "Jupiter         43064 non-null object\n",
      "Saturn          43064 non-null object\n",
      "North Node      43064 non-null object\n",
      "South Node      43064 non-null object\n",
      "Syzygy          43064 non-null object\n",
      "Pars Fortuna    43064 non-null object\n",
      "dtypes: object(12)\n",
      "memory usage: 3.9+ MB\n"
     ]
    }
   ],
   "source": [
    "df_astro.info()"
   ]
  },
  {
   "cell_type": "markdown",
   "metadata": {},
   "source": [
    "<div class=\"alert alert-block alert-info\">\n",
    "<b>Observação:</b> Dois indivíduos que possuem mapa astral exatamente igual"
   ]
  },
  {
   "cell_type": "code",
   "execution_count": 75,
   "metadata": {},
   "outputs": [],
   "source": [
    "df_astro_semnome = df_astro.drop('nome', axis=1)"
   ]
  },
  {
   "cell_type": "code",
   "execution_count": 76,
   "metadata": {},
   "outputs": [
    {
     "data": {
      "text/html": [
       "<div>\n",
       "<style scoped>\n",
       "    .dataframe tbody tr th:only-of-type {\n",
       "        vertical-align: middle;\n",
       "    }\n",
       "\n",
       "    .dataframe tbody tr th {\n",
       "        vertical-align: top;\n",
       "    }\n",
       "\n",
       "    .dataframe thead th {\n",
       "        text-align: right;\n",
       "    }\n",
       "</style>\n",
       "<table border=\"1\" class=\"dataframe\">\n",
       "  <thead>\n",
       "    <tr style=\"text-align: right;\">\n",
       "      <th></th>\n",
       "      <th>Sun</th>\n",
       "      <th>Moon</th>\n",
       "      <th>Mercury</th>\n",
       "      <th>Venus</th>\n",
       "      <th>Mars</th>\n",
       "      <th>Jupiter</th>\n",
       "      <th>Saturn</th>\n",
       "      <th>North Node</th>\n",
       "      <th>South Node</th>\n",
       "      <th>Syzygy</th>\n",
       "      <th>Pars Fortuna</th>\n",
       "    </tr>\n",
       "  </thead>\n",
       "  <tbody>\n",
       "    <tr>\n",
       "      <th>24</th>\n",
       "      <td>Cancer</td>\n",
       "      <td>Cancer</td>\n",
       "      <td>Leo</td>\n",
       "      <td>Leo</td>\n",
       "      <td>Gemini</td>\n",
       "      <td>Gemini</td>\n",
       "      <td>Leo</td>\n",
       "      <td>Capricorn</td>\n",
       "      <td>Cancer</td>\n",
       "      <td>Capricorn</td>\n",
       "      <td>Taurus</td>\n",
       "    </tr>\n",
       "    <tr>\n",
       "      <th>52</th>\n",
       "      <td>Cancer</td>\n",
       "      <td>Cancer</td>\n",
       "      <td>Leo</td>\n",
       "      <td>Leo</td>\n",
       "      <td>Gemini</td>\n",
       "      <td>Gemini</td>\n",
       "      <td>Leo</td>\n",
       "      <td>Capricorn</td>\n",
       "      <td>Cancer</td>\n",
       "      <td>Capricorn</td>\n",
       "      <td>Taurus</td>\n",
       "    </tr>\n",
       "  </tbody>\n",
       "</table>\n",
       "</div>"
      ],
      "text/plain": [
       "       Sun    Moon Mercury Venus    Mars Jupiter Saturn North Node South Node  \\\n",
       "24  Cancer  Cancer     Leo   Leo  Gemini  Gemini    Leo  Capricorn     Cancer   \n",
       "52  Cancer  Cancer     Leo   Leo  Gemini  Gemini    Leo  Capricorn     Cancer   \n",
       "\n",
       "       Syzygy Pars Fortuna  \n",
       "24  Capricorn       Taurus  \n",
       "52  Capricorn       Taurus  "
      ]
     },
     "execution_count": 76,
     "metadata": {},
     "output_type": "execute_result"
    }
   ],
   "source": [
    "df_astro_semnome[(df_astro_semnome[\"Sun\"]==\"Cancer\")&(df_astro_semnome[\"Moon\"]==\"Cancer\")&(df_astro_semnome[\"Mercury\"]==\"Leo\")][:2]"
   ]
  },
  {
   "cell_type": "markdown",
   "metadata": {},
   "source": [
    "***"
   ]
  },
  {
   "cell_type": "markdown",
   "metadata": {},
   "source": [
    "### 3. Cálculo de distâncias:"
   ]
  },
  {
   "cell_type": "markdown",
   "metadata": {},
   "source": [
    "#### 3.1 Por similaridade:"
   ]
  },
  {
   "cell_type": "markdown",
   "metadata": {},
   "source": [
    "Calculou-se as distâncias entre os indivíduos do dataset. <br>\n",
    "Para isso, primeiramente determinou-se dummies para as colunas categóricas."
   ]
  },
  {
   "cell_type": "code",
   "execution_count": 77,
   "metadata": {},
   "outputs": [],
   "source": [
    "df_astro_dummies = pd.get_dummies(df_astro, columns=['Sun', 'Moon', 'Mercury', 'Venus', 'Mars', 'Jupiter',\n",
    "                                                    'Saturn','North Node', 'South Node', 'Syzygy', 'Pars Fortuna'])"
   ]
  },
  {
   "cell_type": "code",
   "execution_count": 78,
   "metadata": {},
   "outputs": [
    {
     "data": {
      "text/html": [
       "<div>\n",
       "<style scoped>\n",
       "    .dataframe tbody tr th:only-of-type {\n",
       "        vertical-align: middle;\n",
       "    }\n",
       "\n",
       "    .dataframe tbody tr th {\n",
       "        vertical-align: top;\n",
       "    }\n",
       "\n",
       "    .dataframe thead th {\n",
       "        text-align: right;\n",
       "    }\n",
       "</style>\n",
       "<table border=\"1\" class=\"dataframe\">\n",
       "  <thead>\n",
       "    <tr style=\"text-align: right;\">\n",
       "      <th></th>\n",
       "      <th>nome</th>\n",
       "      <th>Sun_Aquarius</th>\n",
       "      <th>Sun_Aries</th>\n",
       "      <th>Sun_Cancer</th>\n",
       "      <th>Sun_Capricorn</th>\n",
       "      <th>Sun_Gemini</th>\n",
       "      <th>Sun_Leo</th>\n",
       "      <th>Sun_Libra</th>\n",
       "      <th>Sun_Pisces</th>\n",
       "      <th>Sun_Sagittarius</th>\n",
       "      <th>...</th>\n",
       "      <th>Pars Fortuna_Cancer</th>\n",
       "      <th>Pars Fortuna_Capricorn</th>\n",
       "      <th>Pars Fortuna_Gemini</th>\n",
       "      <th>Pars Fortuna_Leo</th>\n",
       "      <th>Pars Fortuna_Libra</th>\n",
       "      <th>Pars Fortuna_Pisces</th>\n",
       "      <th>Pars Fortuna_Sagittarius</th>\n",
       "      <th>Pars Fortuna_Scorpio</th>\n",
       "      <th>Pars Fortuna_Taurus</th>\n",
       "      <th>Pars Fortuna_Virgo</th>\n",
       "    </tr>\n",
       "  </thead>\n",
       "  <tbody>\n",
       "    <tr>\n",
       "      <th>0</th>\n",
       "      <td>Babilée, Jean</td>\n",
       "      <td>1</td>\n",
       "      <td>0</td>\n",
       "      <td>0</td>\n",
       "      <td>0</td>\n",
       "      <td>0</td>\n",
       "      <td>0</td>\n",
       "      <td>0</td>\n",
       "      <td>0</td>\n",
       "      <td>0</td>\n",
       "      <td>...</td>\n",
       "      <td>0</td>\n",
       "      <td>0</td>\n",
       "      <td>0</td>\n",
       "      <td>0</td>\n",
       "      <td>0</td>\n",
       "      <td>0</td>\n",
       "      <td>0</td>\n",
       "      <td>0</td>\n",
       "      <td>0</td>\n",
       "      <td>0</td>\n",
       "    </tr>\n",
       "    <tr>\n",
       "      <th>1</th>\n",
       "      <td>Baber, Alice</td>\n",
       "      <td>0</td>\n",
       "      <td>0</td>\n",
       "      <td>0</td>\n",
       "      <td>0</td>\n",
       "      <td>0</td>\n",
       "      <td>1</td>\n",
       "      <td>0</td>\n",
       "      <td>0</td>\n",
       "      <td>0</td>\n",
       "      <td>...</td>\n",
       "      <td>0</td>\n",
       "      <td>0</td>\n",
       "      <td>0</td>\n",
       "      <td>0</td>\n",
       "      <td>0</td>\n",
       "      <td>0</td>\n",
       "      <td>0</td>\n",
       "      <td>0</td>\n",
       "      <td>1</td>\n",
       "      <td>0</td>\n",
       "    </tr>\n",
       "    <tr>\n",
       "      <th>2</th>\n",
       "      <td>Babbitt, Manuel</td>\n",
       "      <td>0</td>\n",
       "      <td>0</td>\n",
       "      <td>0</td>\n",
       "      <td>0</td>\n",
       "      <td>0</td>\n",
       "      <td>0</td>\n",
       "      <td>0</td>\n",
       "      <td>0</td>\n",
       "      <td>0</td>\n",
       "      <td>...</td>\n",
       "      <td>0</td>\n",
       "      <td>0</td>\n",
       "      <td>0</td>\n",
       "      <td>0</td>\n",
       "      <td>1</td>\n",
       "      <td>0</td>\n",
       "      <td>0</td>\n",
       "      <td>0</td>\n",
       "      <td>0</td>\n",
       "      <td>0</td>\n",
       "    </tr>\n",
       "    <tr>\n",
       "      <th>3</th>\n",
       "      <td>Babbitt, Elwood</td>\n",
       "      <td>0</td>\n",
       "      <td>0</td>\n",
       "      <td>0</td>\n",
       "      <td>0</td>\n",
       "      <td>0</td>\n",
       "      <td>0</td>\n",
       "      <td>0</td>\n",
       "      <td>0</td>\n",
       "      <td>1</td>\n",
       "      <td>...</td>\n",
       "      <td>0</td>\n",
       "      <td>0</td>\n",
       "      <td>0</td>\n",
       "      <td>0</td>\n",
       "      <td>0</td>\n",
       "      <td>0</td>\n",
       "      <td>1</td>\n",
       "      <td>0</td>\n",
       "      <td>0</td>\n",
       "      <td>0</td>\n",
       "    </tr>\n",
       "    <tr>\n",
       "      <th>4</th>\n",
       "      <td>A, Dominique</td>\n",
       "      <td>0</td>\n",
       "      <td>0</td>\n",
       "      <td>0</td>\n",
       "      <td>0</td>\n",
       "      <td>0</td>\n",
       "      <td>0</td>\n",
       "      <td>1</td>\n",
       "      <td>0</td>\n",
       "      <td>0</td>\n",
       "      <td>...</td>\n",
       "      <td>0</td>\n",
       "      <td>0</td>\n",
       "      <td>0</td>\n",
       "      <td>0</td>\n",
       "      <td>0</td>\n",
       "      <td>0</td>\n",
       "      <td>0</td>\n",
       "      <td>0</td>\n",
       "      <td>0</td>\n",
       "      <td>1</td>\n",
       "    </tr>\n",
       "  </tbody>\n",
       "</table>\n",
       "<p>5 rows × 133 columns</p>\n",
       "</div>"
      ],
      "text/plain": [
       "              nome  Sun_Aquarius  Sun_Aries  Sun_Cancer  Sun_Capricorn  \\\n",
       "0    Babilée, Jean             1          0           0              0   \n",
       "1     Baber, Alice             0          0           0              0   \n",
       "2  Babbitt, Manuel             0          0           0              0   \n",
       "3  Babbitt, Elwood             0          0           0              0   \n",
       "4     A, Dominique             0          0           0              0   \n",
       "\n",
       "   Sun_Gemini  Sun_Leo  Sun_Libra  Sun_Pisces  Sun_Sagittarius  ...  \\\n",
       "0           0        0          0           0                0  ...   \n",
       "1           0        1          0           0                0  ...   \n",
       "2           0        0          0           0                0  ...   \n",
       "3           0        0          0           0                1  ...   \n",
       "4           0        0          1           0                0  ...   \n",
       "\n",
       "   Pars Fortuna_Cancer  Pars Fortuna_Capricorn  Pars Fortuna_Gemini  \\\n",
       "0                    0                       0                    0   \n",
       "1                    0                       0                    0   \n",
       "2                    0                       0                    0   \n",
       "3                    0                       0                    0   \n",
       "4                    0                       0                    0   \n",
       "\n",
       "   Pars Fortuna_Leo  Pars Fortuna_Libra  Pars Fortuna_Pisces  \\\n",
       "0                 0                   0                    0   \n",
       "1                 0                   0                    0   \n",
       "2                 0                   1                    0   \n",
       "3                 0                   0                    0   \n",
       "4                 0                   0                    0   \n",
       "\n",
       "   Pars Fortuna_Sagittarius  Pars Fortuna_Scorpio  Pars Fortuna_Taurus  \\\n",
       "0                         0                     0                    0   \n",
       "1                         0                     0                    1   \n",
       "2                         0                     0                    0   \n",
       "3                         1                     0                    0   \n",
       "4                         0                     0                    0   \n",
       "\n",
       "   Pars Fortuna_Virgo  \n",
       "0                   0  \n",
       "1                   0  \n",
       "2                   0  \n",
       "3                   0  \n",
       "4                   1  \n",
       "\n",
       "[5 rows x 133 columns]"
      ]
     },
     "execution_count": 78,
     "metadata": {},
     "output_type": "execute_result"
    }
   ],
   "source": [
    "df_astro_dummies.head()"
   ]
  },
  {
   "cell_type": "markdown",
   "metadata": {},
   "source": [
    "Em seguida, utilizou-se o algoritmo BallTree para calcular as distâncias entre os k vizinhos mais próximos em relação a um determinado ponto. "
   ]
  },
  {
   "cell_type": "markdown",
   "metadata": {},
   "source": [
    "Como exemplo, verificou-se quais são os 10 indivíduos que possuem o mapa astral que mais se assemelha ao do Neymar."
   ]
  },
  {
   "cell_type": "code",
   "execution_count": 219,
   "metadata": {},
   "outputs": [],
   "source": [
    "def top10_semelhantes(nome_do_usuario):\n",
    "    tree = BallTree(df_astro_dummies.drop('nome', axis=1), leaf_size=2)\n",
    "    dist, ind = tree.query(df_astro_dummies.loc[df_astro_dummies[\"nome\"]==nome_do_usuario].drop('nome', axis=1), k=11) \n",
    "    \n",
    "    ind_list=[]\n",
    "    for ind1 in ind:\n",
    "        for i in ind1:\n",
    "            ind_list.append(i)\n",
    "    ind_list.remove(df_astro_dummies.loc[df_astro_dummies[\"nome\"]==nome_do_usuario].index)\n",
    "    \n",
    "    dist_list=[]\n",
    "    for dis in dist:\n",
    "        for d in dis:\n",
    "            dist_list.append(d)\n",
    "    dist_list.remove(0)\n",
    "    \n",
    "    df_igual=pd.DataFrame()\n",
    "    df_semelhante=pd.DataFrame()\n",
    "    for n,d in enumerate(dist_list):\n",
    "        if d == 0:\n",
    "            df_igual = df_igual.append(df_astro.loc[[ind_list[n]]])\n",
    "        elif d!=0: \n",
    "            df_semelhante = df_semelhante.append(df_astro.loc[[ind_list[n]]])\n",
    "    \n",
    "    porcentagem = []\n",
    "    for index, row in df_neymar_semelhante.iterrows():\n",
    "        for index2, row2 in df_astro.loc[df_astro[\"nome\"]==\"Neymar\"].iterrows():\n",
    "            comparacao = row==row2\n",
    "            porcentagem.append(round((((comparacao==True).value_counts(sort=False).values[1])/11)*100,2))\n",
    "            \n",
    "    print('-------------------------------------------------------------')\n",
    "    print('Olá, %s!' %nome_do_usuario)\n",
    "    print('\\n')\n",
    "    print('Você é idêntico às seguintes pessoas:')\n",
    "    print('>>','\\n>> '.join([i for i in df_igual['nome']]))\n",
    "    print('\\n')\n",
    "    print('Você é similar às seguintes pessoas:')\n",
    "    print('>>','\\n>> '.join([i for i in df_semelhante['nome']]), [p for p in porcentagem])\n",
    "    print('-------------------------------------------------------------')"
   ]
  },
  {
   "cell_type": "code",
   "execution_count": 220,
   "metadata": {},
   "outputs": [
    {
     "name": "stdout",
     "output_type": "stream",
     "text": [
      "-------------------------------------------------------------\n",
      "Olá, Neymar!\n",
      "\n",
      "\n",
      "Você é idêntico às seguintes pessoas:\n",
      ">> Benattia, Nabilla\n",
      "\n",
      "\n",
      "Você é similar às seguintes pessoas:\n"
     ]
    },
    {
     "ename": "TypeError",
     "evalue": "sequence item 0: expected str instance, numpy.float64 found",
     "output_type": "error",
     "traceback": [
      "\u001b[1;31m---------------------------------------------------------------------------\u001b[0m",
      "\u001b[1;31mTypeError\u001b[0m                                 Traceback (most recent call last)",
      "\u001b[1;32m<ipython-input-220-9164b39ced2d>\u001b[0m in \u001b[0;36m<module>\u001b[1;34m\u001b[0m\n\u001b[1;32m----> 1\u001b[1;33m \u001b[0mtop10_semelhantes\u001b[0m\u001b[1;33m(\u001b[0m\u001b[1;34m\"Neymar\"\u001b[0m\u001b[1;33m)\u001b[0m\u001b[1;33m\u001b[0m\u001b[1;33m\u001b[0m\u001b[0m\n\u001b[0m",
      "\u001b[1;32m<ipython-input-219-81bac2731be5>\u001b[0m in \u001b[0;36mtop10_semelhantes\u001b[1;34m(nome_do_usuario)\u001b[0m\n\u001b[0;32m     36\u001b[0m     \u001b[0mprint\u001b[0m\u001b[1;33m(\u001b[0m\u001b[1;34m'\\n'\u001b[0m\u001b[1;33m)\u001b[0m\u001b[1;33m\u001b[0m\u001b[1;33m\u001b[0m\u001b[0m\n\u001b[0;32m     37\u001b[0m     \u001b[0mprint\u001b[0m\u001b[1;33m(\u001b[0m\u001b[1;34m'Você é similar às seguintes pessoas:'\u001b[0m\u001b[1;33m)\u001b[0m\u001b[1;33m\u001b[0m\u001b[1;33m\u001b[0m\u001b[0m\n\u001b[1;32m---> 38\u001b[1;33m     \u001b[0mprint\u001b[0m\u001b[1;33m(\u001b[0m\u001b[1;34m'>>'\u001b[0m\u001b[1;33m,\u001b[0m\u001b[1;34m'\\n>> '\u001b[0m\u001b[1;33m.\u001b[0m\u001b[0mjoin\u001b[0m\u001b[1;33m(\u001b[0m\u001b[1;33m[\u001b[0m\u001b[0mi\u001b[0m \u001b[1;32mfor\u001b[0m \u001b[0mi\u001b[0m \u001b[1;32min\u001b[0m \u001b[0mdf_semelhante\u001b[0m\u001b[1;33m[\u001b[0m\u001b[1;34m'nome'\u001b[0m\u001b[1;33m]\u001b[0m\u001b[1;33m]\u001b[0m\u001b[1;33m)\u001b[0m\u001b[1;33m.\u001b[0m\u001b[0mjoin\u001b[0m\u001b[1;33m(\u001b[0m\u001b[1;33m[\u001b[0m\u001b[0mp\u001b[0m \u001b[1;32mfor\u001b[0m \u001b[0mp\u001b[0m \u001b[1;32min\u001b[0m \u001b[0mporcentagem\u001b[0m\u001b[1;33m]\u001b[0m\u001b[1;33m)\u001b[0m\u001b[1;33m)\u001b[0m\u001b[1;33m\u001b[0m\u001b[1;33m\u001b[0m\u001b[0m\n\u001b[0m\u001b[0;32m     39\u001b[0m     \u001b[0mprint\u001b[0m\u001b[1;33m(\u001b[0m\u001b[1;34m'-------------------------------------------------------------'\u001b[0m\u001b[1;33m)\u001b[0m\u001b[1;33m\u001b[0m\u001b[1;33m\u001b[0m\u001b[0m\n",
      "\u001b[1;31mTypeError\u001b[0m: sequence item 0: expected str instance, numpy.float64 found"
     ]
    }
   ],
   "source": [
    "top10_semelhantes(\"Neymar\")"
   ]
  },
  {
   "cell_type": "code",
   "execution_count": 133,
   "metadata": {},
   "outputs": [
    {
     "data": {
      "text/plain": [
       "['Wagner, Bryan Matthew',\n",
       " 'Jain (singer)',\n",
       " 'Efron, Dylan',\n",
       " 'Pino, Andrea',\n",
       " 'Sutton, Chloe',\n",
       " 'Lautner, Taylor',\n",
       " 'Ferrand-Prévot, Pauline',\n",
       " 'Stal, Gary',\n",
       " 'Santos, Carlos']"
      ]
     },
     "execution_count": 133,
     "metadata": {},
     "output_type": "execute_result"
    }
   ],
   "source": [
    "[i for i in semelhante['nome']]"
   ]
  },
  {
   "cell_type": "code",
   "execution_count": 100,
   "metadata": {},
   "outputs": [],
   "source": [
    "tree = BallTree(df_astro_dummies.drop('nome', axis=1), leaf_size=2)"
   ]
  },
  {
   "cell_type": "code",
   "execution_count": 114,
   "metadata": {},
   "outputs": [],
   "source": [
    "dist, ind = tree.query(df_astro_dummies.loc[df_astro_dummies[\"nome\"]==\"Neymar\"].drop('nome', axis=1), k=11) "
   ]
  },
  {
   "cell_type": "code",
   "execution_count": 102,
   "metadata": {},
   "outputs": [
    {
     "data": {
      "text/plain": [
       "[36920, 16112, 3686, 2157, 1882, 15174, 39548, 21487, 28267, 8852, 11145]"
      ]
     },
     "execution_count": 102,
     "metadata": {},
     "output_type": "execute_result"
    }
   ],
   "source": [
    "ind_list=[]\n",
    "for ind1 in ind:\n",
    "    for i in ind1:\n",
    "        ind_list.append(i)\n",
    "\n",
    "ind_list"
   ]
  },
  {
   "cell_type": "code",
   "execution_count": 103,
   "metadata": {},
   "outputs": [],
   "source": [
    "ind_list.remove(df_astro_dummies.loc[df_astro_dummies[\"nome\"]==\"Neymar\"].index)"
   ]
  },
  {
   "cell_type": "code",
   "execution_count": 104,
   "metadata": {},
   "outputs": [
    {
     "data": {
      "text/plain": [
       "[36920, 3686, 2157, 1882, 15174, 39548, 21487, 28267, 8852, 11145]"
      ]
     },
     "execution_count": 104,
     "metadata": {},
     "output_type": "execute_result"
    }
   ],
   "source": [
    "ind_list"
   ]
  },
  {
   "cell_type": "code",
   "execution_count": 115,
   "metadata": {},
   "outputs": [
    {
     "data": {
      "text/plain": [
       "[0.0,\n",
       " 0.0,\n",
       " 1.4142135623730951,\n",
       " 1.4142135623730951,\n",
       " 1.4142135623730951,\n",
       " 2.0,\n",
       " 2.0,\n",
       " 2.0,\n",
       " 2.0,\n",
       " 2.0,\n",
       " 2.0]"
      ]
     },
     "execution_count": 115,
     "metadata": {},
     "output_type": "execute_result"
    }
   ],
   "source": [
    "dist_list=[]\n",
    "for dis in dist:\n",
    "    for d in dis:\n",
    "        dist_list.append(d)\n",
    "\n",
    "dist_list"
   ]
  },
  {
   "cell_type": "code",
   "execution_count": 116,
   "metadata": {},
   "outputs": [],
   "source": [
    "dist_list.remove(0)"
   ]
  },
  {
   "cell_type": "code",
   "execution_count": 117,
   "metadata": {},
   "outputs": [
    {
     "data": {
      "text/plain": [
       "[0.0,\n",
       " 1.4142135623730951,\n",
       " 1.4142135623730951,\n",
       " 1.4142135623730951,\n",
       " 2.0,\n",
       " 2.0,\n",
       " 2.0,\n",
       " 2.0,\n",
       " 2.0,\n",
       " 2.0]"
      ]
     },
     "execution_count": 117,
     "metadata": {},
     "output_type": "execute_result"
    }
   ],
   "source": [
    "dist_list"
   ]
  },
  {
   "cell_type": "code",
   "execution_count": 126,
   "metadata": {},
   "outputs": [
    {
     "data": {
      "text/html": [
       "<div>\n",
       "<style scoped>\n",
       "    .dataframe tbody tr th:only-of-type {\n",
       "        vertical-align: middle;\n",
       "    }\n",
       "\n",
       "    .dataframe tbody tr th {\n",
       "        vertical-align: top;\n",
       "    }\n",
       "\n",
       "    .dataframe thead th {\n",
       "        text-align: right;\n",
       "    }\n",
       "</style>\n",
       "<table border=\"1\" class=\"dataframe\">\n",
       "  <thead>\n",
       "    <tr style=\"text-align: right;\">\n",
       "      <th></th>\n",
       "      <th>Sun_Aquarius</th>\n",
       "      <th>Sun_Aries</th>\n",
       "      <th>Sun_Cancer</th>\n",
       "      <th>Sun_Capricorn</th>\n",
       "      <th>Sun_Gemini</th>\n",
       "      <th>Sun_Leo</th>\n",
       "      <th>Sun_Libra</th>\n",
       "      <th>Sun_Pisces</th>\n",
       "      <th>Sun_Sagittarius</th>\n",
       "      <th>Sun_Scorpio</th>\n",
       "      <th>...</th>\n",
       "      <th>Pars Fortuna_Cancer</th>\n",
       "      <th>Pars Fortuna_Capricorn</th>\n",
       "      <th>Pars Fortuna_Gemini</th>\n",
       "      <th>Pars Fortuna_Leo</th>\n",
       "      <th>Pars Fortuna_Libra</th>\n",
       "      <th>Pars Fortuna_Pisces</th>\n",
       "      <th>Pars Fortuna_Sagittarius</th>\n",
       "      <th>Pars Fortuna_Scorpio</th>\n",
       "      <th>Pars Fortuna_Taurus</th>\n",
       "      <th>Pars Fortuna_Virgo</th>\n",
       "    </tr>\n",
       "    <tr>\n",
       "      <th>nome</th>\n",
       "      <th></th>\n",
       "      <th></th>\n",
       "      <th></th>\n",
       "      <th></th>\n",
       "      <th></th>\n",
       "      <th></th>\n",
       "      <th></th>\n",
       "      <th></th>\n",
       "      <th></th>\n",
       "      <th></th>\n",
       "      <th></th>\n",
       "      <th></th>\n",
       "      <th></th>\n",
       "      <th></th>\n",
       "      <th></th>\n",
       "      <th></th>\n",
       "      <th></th>\n",
       "      <th></th>\n",
       "      <th></th>\n",
       "      <th></th>\n",
       "      <th></th>\n",
       "    </tr>\n",
       "  </thead>\n",
       "  <tbody>\n",
       "    <tr>\n",
       "      <th>Neymar</th>\n",
       "      <td>1</td>\n",
       "      <td>0</td>\n",
       "      <td>0</td>\n",
       "      <td>0</td>\n",
       "      <td>0</td>\n",
       "      <td>0</td>\n",
       "      <td>0</td>\n",
       "      <td>0</td>\n",
       "      <td>0</td>\n",
       "      <td>0</td>\n",
       "      <td>...</td>\n",
       "      <td>0</td>\n",
       "      <td>0</td>\n",
       "      <td>0</td>\n",
       "      <td>0</td>\n",
       "      <td>0</td>\n",
       "      <td>0</td>\n",
       "      <td>1</td>\n",
       "      <td>0</td>\n",
       "      <td>0</td>\n",
       "      <td>0</td>\n",
       "    </tr>\n",
       "  </tbody>\n",
       "</table>\n",
       "<p>1 rows × 132 columns</p>\n",
       "</div>"
      ],
      "text/plain": [
       "        Sun_Aquarius  Sun_Aries  Sun_Cancer  Sun_Capricorn  Sun_Gemini  \\\n",
       "nome                                                                     \n",
       "Neymar             1          0           0              0           0   \n",
       "\n",
       "        Sun_Leo  Sun_Libra  Sun_Pisces  Sun_Sagittarius  Sun_Scorpio  ...  \\\n",
       "nome                                                                  ...   \n",
       "Neymar        0          0           0                0            0  ...   \n",
       "\n",
       "        Pars Fortuna_Cancer  Pars Fortuna_Capricorn  Pars Fortuna_Gemini  \\\n",
       "nome                                                                       \n",
       "Neymar                    0                       0                    0   \n",
       "\n",
       "        Pars Fortuna_Leo  Pars Fortuna_Libra  Pars Fortuna_Pisces  \\\n",
       "nome                                                                \n",
       "Neymar                 0                   0                    0   \n",
       "\n",
       "        Pars Fortuna_Sagittarius  Pars Fortuna_Scorpio  Pars Fortuna_Taurus  \\\n",
       "nome                                                                          \n",
       "Neymar                         1                     0                    0   \n",
       "\n",
       "        Pars Fortuna_Virgo  \n",
       "nome                        \n",
       "Neymar                   0  \n",
       "\n",
       "[1 rows x 132 columns]"
      ]
     },
     "execution_count": 126,
     "metadata": {},
     "output_type": "execute_result"
    }
   ],
   "source": [
    "df_astro_dummies.loc[[\"Neymar\"]]"
   ]
  },
  {
   "cell_type": "code",
   "execution_count": 155,
   "metadata": {
    "scrolled": false
   },
   "outputs": [],
   "source": [
    "df_neymar_igual=pd.DataFrame()\n",
    "df_neymar_semelhante=pd.DataFrame()\n",
    "for n,d in enumerate(dist_list):\n",
    "    if d == 0:\n",
    "        df_neymar_igual = df_neymar_igual.append(df_astro.loc[[ind_list[n]]])\n",
    "    elif d!=0: \n",
    "        df_neymar_semelhante = df_neymar_semelhante.append(df_astro.loc[[ind_list[n]]])"
   ]
  },
  {
   "cell_type": "code",
   "execution_count": 156,
   "metadata": {
    "scrolled": true
   },
   "outputs": [
    {
     "data": {
      "text/html": [
       "<div>\n",
       "<style scoped>\n",
       "    .dataframe tbody tr th:only-of-type {\n",
       "        vertical-align: middle;\n",
       "    }\n",
       "\n",
       "    .dataframe tbody tr th {\n",
       "        vertical-align: top;\n",
       "    }\n",
       "\n",
       "    .dataframe thead th {\n",
       "        text-align: right;\n",
       "    }\n",
       "</style>\n",
       "<table border=\"1\" class=\"dataframe\">\n",
       "  <thead>\n",
       "    <tr style=\"text-align: right;\">\n",
       "      <th></th>\n",
       "      <th>nome</th>\n",
       "      <th>Sun</th>\n",
       "      <th>Moon</th>\n",
       "      <th>Mercury</th>\n",
       "      <th>Venus</th>\n",
       "      <th>Mars</th>\n",
       "      <th>Jupiter</th>\n",
       "      <th>Saturn</th>\n",
       "      <th>North Node</th>\n",
       "      <th>South Node</th>\n",
       "      <th>Syzygy</th>\n",
       "      <th>Pars Fortuna</th>\n",
       "    </tr>\n",
       "  </thead>\n",
       "  <tbody>\n",
       "    <tr>\n",
       "      <th>36920</th>\n",
       "      <td>Benattia, Nabilla</td>\n",
       "      <td>Aquarius</td>\n",
       "      <td>Pisces</td>\n",
       "      <td>Aquarius</td>\n",
       "      <td>Capricorn</td>\n",
       "      <td>Capricorn</td>\n",
       "      <td>Virgo</td>\n",
       "      <td>Aquarius</td>\n",
       "      <td>Capricorn</td>\n",
       "      <td>Cancer</td>\n",
       "      <td>Aquarius</td>\n",
       "      <td>Sagittarius</td>\n",
       "    </tr>\n",
       "  </tbody>\n",
       "</table>\n",
       "</div>"
      ],
      "text/plain": [
       "                    nome       Sun    Moon   Mercury      Venus       Mars  \\\n",
       "36920  Benattia, Nabilla  Aquarius  Pisces  Aquarius  Capricorn  Capricorn   \n",
       "\n",
       "      Jupiter    Saturn North Node South Node    Syzygy Pars Fortuna  \n",
       "36920   Virgo  Aquarius  Capricorn     Cancer  Aquarius  Sagittarius  "
      ]
     },
     "execution_count": 156,
     "metadata": {},
     "output_type": "execute_result"
    }
   ],
   "source": [
    "df_neymar_igual"
   ]
  },
  {
   "cell_type": "code",
   "execution_count": 160,
   "metadata": {},
   "outputs": [
    {
     "data": {
      "text/html": [
       "<div>\n",
       "<style scoped>\n",
       "    .dataframe tbody tr th:only-of-type {\n",
       "        vertical-align: middle;\n",
       "    }\n",
       "\n",
       "    .dataframe tbody tr th {\n",
       "        vertical-align: top;\n",
       "    }\n",
       "\n",
       "    .dataframe thead th {\n",
       "        text-align: right;\n",
       "    }\n",
       "</style>\n",
       "<table border=\"1\" class=\"dataframe\">\n",
       "  <thead>\n",
       "    <tr style=\"text-align: right;\">\n",
       "      <th></th>\n",
       "      <th>nome</th>\n",
       "      <th>Sun</th>\n",
       "      <th>Moon</th>\n",
       "      <th>Mercury</th>\n",
       "      <th>Venus</th>\n",
       "      <th>Mars</th>\n",
       "      <th>Jupiter</th>\n",
       "      <th>Saturn</th>\n",
       "      <th>North Node</th>\n",
       "      <th>South Node</th>\n",
       "      <th>Syzygy</th>\n",
       "      <th>Pars Fortuna</th>\n",
       "    </tr>\n",
       "  </thead>\n",
       "  <tbody>\n",
       "    <tr>\n",
       "      <th>3686</th>\n",
       "      <td>Wagner, Bryan Matthew</td>\n",
       "      <td>Aquarius</td>\n",
       "      <td>Gemini</td>\n",
       "      <td>Aquarius</td>\n",
       "      <td>Capricorn</td>\n",
       "      <td>Capricorn</td>\n",
       "      <td>Virgo</td>\n",
       "      <td>Aquarius</td>\n",
       "      <td>Capricorn</td>\n",
       "      <td>Cancer</td>\n",
       "      <td>Aquarius</td>\n",
       "      <td>Sagittarius</td>\n",
       "    </tr>\n",
       "    <tr>\n",
       "      <th>2157</th>\n",
       "      <td>Jain (singer)</td>\n",
       "      <td>Aquarius</td>\n",
       "      <td>Pisces</td>\n",
       "      <td>Aquarius</td>\n",
       "      <td>Capricorn</td>\n",
       "      <td>Capricorn</td>\n",
       "      <td>Virgo</td>\n",
       "      <td>Aquarius</td>\n",
       "      <td>Capricorn</td>\n",
       "      <td>Cancer</td>\n",
       "      <td>Aquarius</td>\n",
       "      <td>Cancer</td>\n",
       "    </tr>\n",
       "    <tr>\n",
       "      <th>1882</th>\n",
       "      <td>Efron, Dylan</td>\n",
       "      <td>Aquarius</td>\n",
       "      <td>Pisces</td>\n",
       "      <td>Aquarius</td>\n",
       "      <td>Capricorn</td>\n",
       "      <td>Capricorn</td>\n",
       "      <td>Virgo</td>\n",
       "      <td>Aquarius</td>\n",
       "      <td>Capricorn</td>\n",
       "      <td>Cancer</td>\n",
       "      <td>Aquarius</td>\n",
       "      <td>Leo</td>\n",
       "    </tr>\n",
       "    <tr>\n",
       "      <th>15174</th>\n",
       "      <td>Pino, Andrea</td>\n",
       "      <td>Aquarius</td>\n",
       "      <td>Cancer</td>\n",
       "      <td>Aquarius</td>\n",
       "      <td>Capricorn</td>\n",
       "      <td>Capricorn</td>\n",
       "      <td>Virgo</td>\n",
       "      <td>Aquarius</td>\n",
       "      <td>Capricorn</td>\n",
       "      <td>Cancer</td>\n",
       "      <td>Aquarius</td>\n",
       "      <td>Virgo</td>\n",
       "    </tr>\n",
       "    <tr>\n",
       "      <th>39548</th>\n",
       "      <td>Sutton, Chloe</td>\n",
       "      <td>Aquarius</td>\n",
       "      <td>Aquarius</td>\n",
       "      <td>Aquarius</td>\n",
       "      <td>Capricorn</td>\n",
       "      <td>Capricorn</td>\n",
       "      <td>Virgo</td>\n",
       "      <td>Aquarius</td>\n",
       "      <td>Capricorn</td>\n",
       "      <td>Cancer</td>\n",
       "      <td>Aquarius</td>\n",
       "      <td>Leo</td>\n",
       "    </tr>\n",
       "    <tr>\n",
       "      <th>21487</th>\n",
       "      <td>Lautner, Taylor</td>\n",
       "      <td>Aquarius</td>\n",
       "      <td>Taurus</td>\n",
       "      <td>Aquarius</td>\n",
       "      <td>Capricorn</td>\n",
       "      <td>Capricorn</td>\n",
       "      <td>Virgo</td>\n",
       "      <td>Aquarius</td>\n",
       "      <td>Capricorn</td>\n",
       "      <td>Cancer</td>\n",
       "      <td>Aquarius</td>\n",
       "      <td>Leo</td>\n",
       "    </tr>\n",
       "    <tr>\n",
       "      <th>28267</th>\n",
       "      <td>Ferrand-Prévot, Pauline</td>\n",
       "      <td>Aquarius</td>\n",
       "      <td>Taurus</td>\n",
       "      <td>Aquarius</td>\n",
       "      <td>Capricorn</td>\n",
       "      <td>Capricorn</td>\n",
       "      <td>Virgo</td>\n",
       "      <td>Aquarius</td>\n",
       "      <td>Capricorn</td>\n",
       "      <td>Cancer</td>\n",
       "      <td>Aquarius</td>\n",
       "      <td>Leo</td>\n",
       "    </tr>\n",
       "    <tr>\n",
       "      <th>8852</th>\n",
       "      <td>Stal, Gary</td>\n",
       "      <td>Aquarius</td>\n",
       "      <td>Aries</td>\n",
       "      <td>Aquarius</td>\n",
       "      <td>Capricorn</td>\n",
       "      <td>Capricorn</td>\n",
       "      <td>Virgo</td>\n",
       "      <td>Aquarius</td>\n",
       "      <td>Capricorn</td>\n",
       "      <td>Cancer</td>\n",
       "      <td>Aquarius</td>\n",
       "      <td>Leo</td>\n",
       "    </tr>\n",
       "    <tr>\n",
       "      <th>11145</th>\n",
       "      <td>Santos, Carlos</td>\n",
       "      <td>Aquarius</td>\n",
       "      <td>Taurus</td>\n",
       "      <td>Aquarius</td>\n",
       "      <td>Capricorn</td>\n",
       "      <td>Capricorn</td>\n",
       "      <td>Virgo</td>\n",
       "      <td>Aquarius</td>\n",
       "      <td>Capricorn</td>\n",
       "      <td>Cancer</td>\n",
       "      <td>Aquarius</td>\n",
       "      <td>Cancer</td>\n",
       "    </tr>\n",
       "  </tbody>\n",
       "</table>\n",
       "</div>"
      ],
      "text/plain": [
       "                          nome       Sun      Moon   Mercury      Venus  \\\n",
       "3686     Wagner, Bryan Matthew  Aquarius    Gemini  Aquarius  Capricorn   \n",
       "2157             Jain (singer)  Aquarius    Pisces  Aquarius  Capricorn   \n",
       "1882              Efron, Dylan  Aquarius    Pisces  Aquarius  Capricorn   \n",
       "15174             Pino, Andrea  Aquarius    Cancer  Aquarius  Capricorn   \n",
       "39548            Sutton, Chloe  Aquarius  Aquarius  Aquarius  Capricorn   \n",
       "21487          Lautner, Taylor  Aquarius    Taurus  Aquarius  Capricorn   \n",
       "28267  Ferrand-Prévot, Pauline  Aquarius    Taurus  Aquarius  Capricorn   \n",
       "8852                Stal, Gary  Aquarius     Aries  Aquarius  Capricorn   \n",
       "11145           Santos, Carlos  Aquarius    Taurus  Aquarius  Capricorn   \n",
       "\n",
       "            Mars Jupiter    Saturn North Node South Node    Syzygy  \\\n",
       "3686   Capricorn   Virgo  Aquarius  Capricorn     Cancer  Aquarius   \n",
       "2157   Capricorn   Virgo  Aquarius  Capricorn     Cancer  Aquarius   \n",
       "1882   Capricorn   Virgo  Aquarius  Capricorn     Cancer  Aquarius   \n",
       "15174  Capricorn   Virgo  Aquarius  Capricorn     Cancer  Aquarius   \n",
       "39548  Capricorn   Virgo  Aquarius  Capricorn     Cancer  Aquarius   \n",
       "21487  Capricorn   Virgo  Aquarius  Capricorn     Cancer  Aquarius   \n",
       "28267  Capricorn   Virgo  Aquarius  Capricorn     Cancer  Aquarius   \n",
       "8852   Capricorn   Virgo  Aquarius  Capricorn     Cancer  Aquarius   \n",
       "11145  Capricorn   Virgo  Aquarius  Capricorn     Cancer  Aquarius   \n",
       "\n",
       "      Pars Fortuna  \n",
       "3686   Sagittarius  \n",
       "2157        Cancer  \n",
       "1882           Leo  \n",
       "15174        Virgo  \n",
       "39548          Leo  \n",
       "21487          Leo  \n",
       "28267          Leo  \n",
       "8852           Leo  \n",
       "11145       Cancer  "
      ]
     },
     "execution_count": 160,
     "metadata": {},
     "output_type": "execute_result"
    }
   ],
   "source": [
    "df_neymar_semelhante"
   ]
  },
  {
   "cell_type": "code",
   "execution_count": 161,
   "metadata": {
    "scrolled": false
   },
   "outputs": [
    {
     "data": {
      "text/html": [
       "<div>\n",
       "<style scoped>\n",
       "    .dataframe tbody tr th:only-of-type {\n",
       "        vertical-align: middle;\n",
       "    }\n",
       "\n",
       "    .dataframe tbody tr th {\n",
       "        vertical-align: top;\n",
       "    }\n",
       "\n",
       "    .dataframe thead th {\n",
       "        text-align: right;\n",
       "    }\n",
       "</style>\n",
       "<table border=\"1\" class=\"dataframe\">\n",
       "  <thead>\n",
       "    <tr style=\"text-align: right;\">\n",
       "      <th></th>\n",
       "      <th>nome</th>\n",
       "      <th>Sun</th>\n",
       "      <th>Moon</th>\n",
       "      <th>Mercury</th>\n",
       "      <th>Venus</th>\n",
       "      <th>Mars</th>\n",
       "      <th>Jupiter</th>\n",
       "      <th>Saturn</th>\n",
       "      <th>North Node</th>\n",
       "      <th>South Node</th>\n",
       "      <th>Syzygy</th>\n",
       "      <th>Pars Fortuna</th>\n",
       "    </tr>\n",
       "  </thead>\n",
       "  <tbody>\n",
       "    <tr>\n",
       "      <th>16112</th>\n",
       "      <td>Neymar</td>\n",
       "      <td>Aquarius</td>\n",
       "      <td>Pisces</td>\n",
       "      <td>Aquarius</td>\n",
       "      <td>Capricorn</td>\n",
       "      <td>Capricorn</td>\n",
       "      <td>Virgo</td>\n",
       "      <td>Aquarius</td>\n",
       "      <td>Capricorn</td>\n",
       "      <td>Cancer</td>\n",
       "      <td>Aquarius</td>\n",
       "      <td>Sagittarius</td>\n",
       "    </tr>\n",
       "  </tbody>\n",
       "</table>\n",
       "</div>"
      ],
      "text/plain": [
       "         nome       Sun    Moon   Mercury      Venus       Mars Jupiter  \\\n",
       "16112  Neymar  Aquarius  Pisces  Aquarius  Capricorn  Capricorn   Virgo   \n",
       "\n",
       "         Saturn North Node South Node    Syzygy Pars Fortuna  \n",
       "16112  Aquarius  Capricorn     Cancer  Aquarius  Sagittarius  "
      ]
     },
     "execution_count": 161,
     "metadata": {},
     "output_type": "execute_result"
    }
   ],
   "source": [
    "df_astro.loc[df_astro[\"nome\"]==\"Neymar\"]"
   ]
  },
  {
   "cell_type": "code",
   "execution_count": 212,
   "metadata": {},
   "outputs": [],
   "source": [
    "porcentagem = []"
   ]
  },
  {
   "cell_type": "code",
   "execution_count": 213,
   "metadata": {},
   "outputs": [],
   "source": [
    "for index, row in df_neymar_semelhante.iterrows():\n",
    "        for index2, row2 in df_astro.loc[df_astro[\"nome\"]==\"Neymar\"].iterrows():\n",
    "            comparacao = row==row2\n",
    "            porcentagem.append(round((((comparacao==True).value_counts(sort=False).values[1])/11)*100,2))"
   ]
  },
  {
   "cell_type": "code",
   "execution_count": 214,
   "metadata": {},
   "outputs": [
    {
     "data": {
      "text/plain": [
       "[90.91, 90.91, 90.91, 81.82, 81.82, 81.82, 81.82, 81.82, 81.82]"
      ]
     },
     "execution_count": 214,
     "metadata": {},
     "output_type": "execute_result"
    }
   ],
   "source": [
    "porcentagem"
   ]
  },
  {
   "cell_type": "code",
   "execution_count": 170,
   "metadata": {},
   "outputs": [
    {
     "data": {
      "text/html": [
       "<div>\n",
       "<style scoped>\n",
       "    .dataframe tbody tr th:only-of-type {\n",
       "        vertical-align: middle;\n",
       "    }\n",
       "\n",
       "    .dataframe tbody tr th {\n",
       "        vertical-align: top;\n",
       "    }\n",
       "\n",
       "    .dataframe thead th {\n",
       "        text-align: right;\n",
       "    }\n",
       "</style>\n",
       "<table border=\"1\" class=\"dataframe\">\n",
       "  <thead>\n",
       "    <tr style=\"text-align: right;\">\n",
       "      <th></th>\n",
       "      <th>nome</th>\n",
       "      <th>Sun</th>\n",
       "      <th>Moon</th>\n",
       "      <th>Mercury</th>\n",
       "      <th>Venus</th>\n",
       "      <th>Mars</th>\n",
       "      <th>Jupiter</th>\n",
       "      <th>Saturn</th>\n",
       "      <th>North Node</th>\n",
       "      <th>South Node</th>\n",
       "      <th>Syzygy</th>\n",
       "      <th>Pars Fortuna</th>\n",
       "    </tr>\n",
       "  </thead>\n",
       "  <tbody>\n",
       "    <tr>\n",
       "      <th>3686</th>\n",
       "      <td>Wagner, Bryan Matthew</td>\n",
       "      <td>Aquarius</td>\n",
       "      <td>Gemini</td>\n",
       "      <td>Aquarius</td>\n",
       "      <td>Capricorn</td>\n",
       "      <td>Capricorn</td>\n",
       "      <td>Virgo</td>\n",
       "      <td>Aquarius</td>\n",
       "      <td>Capricorn</td>\n",
       "      <td>Cancer</td>\n",
       "      <td>Aquarius</td>\n",
       "      <td>Sagittarius</td>\n",
       "    </tr>\n",
       "    <tr>\n",
       "      <th>2157</th>\n",
       "      <td>Jain (singer)</td>\n",
       "      <td>Aquarius</td>\n",
       "      <td>Pisces</td>\n",
       "      <td>Aquarius</td>\n",
       "      <td>Capricorn</td>\n",
       "      <td>Capricorn</td>\n",
       "      <td>Virgo</td>\n",
       "      <td>Aquarius</td>\n",
       "      <td>Capricorn</td>\n",
       "      <td>Cancer</td>\n",
       "      <td>Aquarius</td>\n",
       "      <td>Cancer</td>\n",
       "    </tr>\n",
       "    <tr>\n",
       "      <th>1882</th>\n",
       "      <td>Efron, Dylan</td>\n",
       "      <td>Aquarius</td>\n",
       "      <td>Pisces</td>\n",
       "      <td>Aquarius</td>\n",
       "      <td>Capricorn</td>\n",
       "      <td>Capricorn</td>\n",
       "      <td>Virgo</td>\n",
       "      <td>Aquarius</td>\n",
       "      <td>Capricorn</td>\n",
       "      <td>Cancer</td>\n",
       "      <td>Aquarius</td>\n",
       "      <td>Leo</td>\n",
       "    </tr>\n",
       "    <tr>\n",
       "      <th>15174</th>\n",
       "      <td>Pino, Andrea</td>\n",
       "      <td>Aquarius</td>\n",
       "      <td>Cancer</td>\n",
       "      <td>Aquarius</td>\n",
       "      <td>Capricorn</td>\n",
       "      <td>Capricorn</td>\n",
       "      <td>Virgo</td>\n",
       "      <td>Aquarius</td>\n",
       "      <td>Capricorn</td>\n",
       "      <td>Cancer</td>\n",
       "      <td>Aquarius</td>\n",
       "      <td>Virgo</td>\n",
       "    </tr>\n",
       "    <tr>\n",
       "      <th>39548</th>\n",
       "      <td>Sutton, Chloe</td>\n",
       "      <td>Aquarius</td>\n",
       "      <td>Aquarius</td>\n",
       "      <td>Aquarius</td>\n",
       "      <td>Capricorn</td>\n",
       "      <td>Capricorn</td>\n",
       "      <td>Virgo</td>\n",
       "      <td>Aquarius</td>\n",
       "      <td>Capricorn</td>\n",
       "      <td>Cancer</td>\n",
       "      <td>Aquarius</td>\n",
       "      <td>Leo</td>\n",
       "    </tr>\n",
       "    <tr>\n",
       "      <th>21487</th>\n",
       "      <td>Lautner, Taylor</td>\n",
       "      <td>Aquarius</td>\n",
       "      <td>Taurus</td>\n",
       "      <td>Aquarius</td>\n",
       "      <td>Capricorn</td>\n",
       "      <td>Capricorn</td>\n",
       "      <td>Virgo</td>\n",
       "      <td>Aquarius</td>\n",
       "      <td>Capricorn</td>\n",
       "      <td>Cancer</td>\n",
       "      <td>Aquarius</td>\n",
       "      <td>Leo</td>\n",
       "    </tr>\n",
       "    <tr>\n",
       "      <th>28267</th>\n",
       "      <td>Ferrand-Prévot, Pauline</td>\n",
       "      <td>Aquarius</td>\n",
       "      <td>Taurus</td>\n",
       "      <td>Aquarius</td>\n",
       "      <td>Capricorn</td>\n",
       "      <td>Capricorn</td>\n",
       "      <td>Virgo</td>\n",
       "      <td>Aquarius</td>\n",
       "      <td>Capricorn</td>\n",
       "      <td>Cancer</td>\n",
       "      <td>Aquarius</td>\n",
       "      <td>Leo</td>\n",
       "    </tr>\n",
       "    <tr>\n",
       "      <th>8852</th>\n",
       "      <td>Stal, Gary</td>\n",
       "      <td>Aquarius</td>\n",
       "      <td>Aries</td>\n",
       "      <td>Aquarius</td>\n",
       "      <td>Capricorn</td>\n",
       "      <td>Capricorn</td>\n",
       "      <td>Virgo</td>\n",
       "      <td>Aquarius</td>\n",
       "      <td>Capricorn</td>\n",
       "      <td>Cancer</td>\n",
       "      <td>Aquarius</td>\n",
       "      <td>Leo</td>\n",
       "    </tr>\n",
       "    <tr>\n",
       "      <th>11145</th>\n",
       "      <td>Santos, Carlos</td>\n",
       "      <td>Aquarius</td>\n",
       "      <td>Taurus</td>\n",
       "      <td>Aquarius</td>\n",
       "      <td>Capricorn</td>\n",
       "      <td>Capricorn</td>\n",
       "      <td>Virgo</td>\n",
       "      <td>Aquarius</td>\n",
       "      <td>Capricorn</td>\n",
       "      <td>Cancer</td>\n",
       "      <td>Aquarius</td>\n",
       "      <td>Cancer</td>\n",
       "    </tr>\n",
       "  </tbody>\n",
       "</table>\n",
       "</div>"
      ],
      "text/plain": [
       "                          nome       Sun      Moon   Mercury      Venus  \\\n",
       "3686     Wagner, Bryan Matthew  Aquarius    Gemini  Aquarius  Capricorn   \n",
       "2157             Jain (singer)  Aquarius    Pisces  Aquarius  Capricorn   \n",
       "1882              Efron, Dylan  Aquarius    Pisces  Aquarius  Capricorn   \n",
       "15174             Pino, Andrea  Aquarius    Cancer  Aquarius  Capricorn   \n",
       "39548            Sutton, Chloe  Aquarius  Aquarius  Aquarius  Capricorn   \n",
       "21487          Lautner, Taylor  Aquarius    Taurus  Aquarius  Capricorn   \n",
       "28267  Ferrand-Prévot, Pauline  Aquarius    Taurus  Aquarius  Capricorn   \n",
       "8852                Stal, Gary  Aquarius     Aries  Aquarius  Capricorn   \n",
       "11145           Santos, Carlos  Aquarius    Taurus  Aquarius  Capricorn   \n",
       "\n",
       "            Mars Jupiter    Saturn North Node South Node    Syzygy  \\\n",
       "3686   Capricorn   Virgo  Aquarius  Capricorn     Cancer  Aquarius   \n",
       "2157   Capricorn   Virgo  Aquarius  Capricorn     Cancer  Aquarius   \n",
       "1882   Capricorn   Virgo  Aquarius  Capricorn     Cancer  Aquarius   \n",
       "15174  Capricorn   Virgo  Aquarius  Capricorn     Cancer  Aquarius   \n",
       "39548  Capricorn   Virgo  Aquarius  Capricorn     Cancer  Aquarius   \n",
       "21487  Capricorn   Virgo  Aquarius  Capricorn     Cancer  Aquarius   \n",
       "28267  Capricorn   Virgo  Aquarius  Capricorn     Cancer  Aquarius   \n",
       "8852   Capricorn   Virgo  Aquarius  Capricorn     Cancer  Aquarius   \n",
       "11145  Capricorn   Virgo  Aquarius  Capricorn     Cancer  Aquarius   \n",
       "\n",
       "      Pars Fortuna  \n",
       "3686   Sagittarius  \n",
       "2157        Cancer  \n",
       "1882           Leo  \n",
       "15174        Virgo  \n",
       "39548          Leo  \n",
       "21487          Leo  \n",
       "28267          Leo  \n",
       "8852           Leo  \n",
       "11145       Cancer  "
      ]
     },
     "execution_count": 170,
     "metadata": {},
     "output_type": "execute_result"
    }
   ],
   "source": [
    "df_neymar_semelhante"
   ]
  },
  {
   "cell_type": "code",
   "execution_count": 93,
   "metadata": {},
   "outputs": [
    {
     "data": {
      "text/html": [
       "<div>\n",
       "<style scoped>\n",
       "    .dataframe tbody tr th:only-of-type {\n",
       "        vertical-align: middle;\n",
       "    }\n",
       "\n",
       "    .dataframe tbody tr th {\n",
       "        vertical-align: top;\n",
       "    }\n",
       "\n",
       "    .dataframe thead th {\n",
       "        text-align: right;\n",
       "    }\n",
       "</style>\n",
       "<table border=\"1\" class=\"dataframe\">\n",
       "  <thead>\n",
       "    <tr style=\"text-align: right;\">\n",
       "      <th></th>\n",
       "      <th>nome</th>\n",
       "      <th>Sun</th>\n",
       "      <th>Moon</th>\n",
       "      <th>Mercury</th>\n",
       "      <th>Venus</th>\n",
       "      <th>Mars</th>\n",
       "      <th>Jupiter</th>\n",
       "      <th>Saturn</th>\n",
       "      <th>North Node</th>\n",
       "      <th>South Node</th>\n",
       "      <th>Syzygy</th>\n",
       "      <th>Pars Fortuna</th>\n",
       "    </tr>\n",
       "  </thead>\n",
       "  <tbody>\n",
       "    <tr>\n",
       "      <th>16112</th>\n",
       "      <td>Neymar</td>\n",
       "      <td>Aquarius</td>\n",
       "      <td>Pisces</td>\n",
       "      <td>Aquarius</td>\n",
       "      <td>Capricorn</td>\n",
       "      <td>Capricorn</td>\n",
       "      <td>Virgo</td>\n",
       "      <td>Aquarius</td>\n",
       "      <td>Capricorn</td>\n",
       "      <td>Cancer</td>\n",
       "      <td>Aquarius</td>\n",
       "      <td>Sagittarius</td>\n",
       "    </tr>\n",
       "  </tbody>\n",
       "</table>\n",
       "</div>"
      ],
      "text/plain": [
       "         nome       Sun    Moon   Mercury      Venus       Mars Jupiter  \\\n",
       "16112  Neymar  Aquarius  Pisces  Aquarius  Capricorn  Capricorn   Virgo   \n",
       "\n",
       "         Saturn North Node South Node    Syzygy Pars Fortuna  \n",
       "16112  Aquarius  Capricorn     Cancer  Aquarius  Sagittarius  "
      ]
     },
     "execution_count": 93,
     "metadata": {},
     "output_type": "execute_result"
    }
   ],
   "source": [
    "df_astro[df_astro['nome'].str.contains('Neymar')]"
   ]
  },
  {
   "cell_type": "code",
   "execution_count": 88,
   "metadata": {},
   "outputs": [
    {
     "data": {
      "text/html": [
       "<div>\n",
       "<style scoped>\n",
       "    .dataframe tbody tr th:only-of-type {\n",
       "        vertical-align: middle;\n",
       "    }\n",
       "\n",
       "    .dataframe tbody tr th {\n",
       "        vertical-align: top;\n",
       "    }\n",
       "\n",
       "    .dataframe thead th {\n",
       "        text-align: right;\n",
       "    }\n",
       "</style>\n",
       "<table border=\"1\" class=\"dataframe\">\n",
       "  <thead>\n",
       "    <tr style=\"text-align: right;\">\n",
       "      <th></th>\n",
       "      <th>nome</th>\n",
       "      <th>Sun</th>\n",
       "      <th>Moon</th>\n",
       "      <th>Mercury</th>\n",
       "      <th>Venus</th>\n",
       "      <th>Mars</th>\n",
       "      <th>Jupiter</th>\n",
       "      <th>Saturn</th>\n",
       "      <th>North Node</th>\n",
       "      <th>South Node</th>\n",
       "      <th>Syzygy</th>\n",
       "      <th>Pars Fortuna</th>\n",
       "    </tr>\n",
       "  </thead>\n",
       "  <tbody>\n",
       "    <tr>\n",
       "      <th>36920</th>\n",
       "      <td>Benattia, Nabilla</td>\n",
       "      <td>Aquarius</td>\n",
       "      <td>Pisces</td>\n",
       "      <td>Aquarius</td>\n",
       "      <td>Capricorn</td>\n",
       "      <td>Capricorn</td>\n",
       "      <td>Virgo</td>\n",
       "      <td>Aquarius</td>\n",
       "      <td>Capricorn</td>\n",
       "      <td>Cancer</td>\n",
       "      <td>Aquarius</td>\n",
       "      <td>Sagittarius</td>\n",
       "    </tr>\n",
       "    <tr>\n",
       "      <th>16112</th>\n",
       "      <td>Neymar</td>\n",
       "      <td>Aquarius</td>\n",
       "      <td>Pisces</td>\n",
       "      <td>Aquarius</td>\n",
       "      <td>Capricorn</td>\n",
       "      <td>Capricorn</td>\n",
       "      <td>Virgo</td>\n",
       "      <td>Aquarius</td>\n",
       "      <td>Capricorn</td>\n",
       "      <td>Cancer</td>\n",
       "      <td>Aquarius</td>\n",
       "      <td>Sagittarius</td>\n",
       "    </tr>\n",
       "    <tr>\n",
       "      <th>3686</th>\n",
       "      <td>Wagner, Bryan Matthew</td>\n",
       "      <td>Aquarius</td>\n",
       "      <td>Gemini</td>\n",
       "      <td>Aquarius</td>\n",
       "      <td>Capricorn</td>\n",
       "      <td>Capricorn</td>\n",
       "      <td>Virgo</td>\n",
       "      <td>Aquarius</td>\n",
       "      <td>Capricorn</td>\n",
       "      <td>Cancer</td>\n",
       "      <td>Aquarius</td>\n",
       "      <td>Sagittarius</td>\n",
       "    </tr>\n",
       "    <tr>\n",
       "      <th>1882</th>\n",
       "      <td>Efron, Dylan</td>\n",
       "      <td>Aquarius</td>\n",
       "      <td>Pisces</td>\n",
       "      <td>Aquarius</td>\n",
       "      <td>Capricorn</td>\n",
       "      <td>Capricorn</td>\n",
       "      <td>Virgo</td>\n",
       "      <td>Aquarius</td>\n",
       "      <td>Capricorn</td>\n",
       "      <td>Cancer</td>\n",
       "      <td>Aquarius</td>\n",
       "      <td>Leo</td>\n",
       "    </tr>\n",
       "    <tr>\n",
       "      <th>2157</th>\n",
       "      <td>Jain (singer)</td>\n",
       "      <td>Aquarius</td>\n",
       "      <td>Pisces</td>\n",
       "      <td>Aquarius</td>\n",
       "      <td>Capricorn</td>\n",
       "      <td>Capricorn</td>\n",
       "      <td>Virgo</td>\n",
       "      <td>Aquarius</td>\n",
       "      <td>Capricorn</td>\n",
       "      <td>Cancer</td>\n",
       "      <td>Aquarius</td>\n",
       "      <td>Cancer</td>\n",
       "    </tr>\n",
       "    <tr>\n",
       "      <th>21487</th>\n",
       "      <td>Lautner, Taylor</td>\n",
       "      <td>Aquarius</td>\n",
       "      <td>Taurus</td>\n",
       "      <td>Aquarius</td>\n",
       "      <td>Capricorn</td>\n",
       "      <td>Capricorn</td>\n",
       "      <td>Virgo</td>\n",
       "      <td>Aquarius</td>\n",
       "      <td>Capricorn</td>\n",
       "      <td>Cancer</td>\n",
       "      <td>Aquarius</td>\n",
       "      <td>Leo</td>\n",
       "    </tr>\n",
       "    <tr>\n",
       "      <th>15174</th>\n",
       "      <td>Pino, Andrea</td>\n",
       "      <td>Aquarius</td>\n",
       "      <td>Cancer</td>\n",
       "      <td>Aquarius</td>\n",
       "      <td>Capricorn</td>\n",
       "      <td>Capricorn</td>\n",
       "      <td>Virgo</td>\n",
       "      <td>Aquarius</td>\n",
       "      <td>Capricorn</td>\n",
       "      <td>Cancer</td>\n",
       "      <td>Aquarius</td>\n",
       "      <td>Virgo</td>\n",
       "    </tr>\n",
       "    <tr>\n",
       "      <th>8852</th>\n",
       "      <td>Stal, Gary</td>\n",
       "      <td>Aquarius</td>\n",
       "      <td>Aries</td>\n",
       "      <td>Aquarius</td>\n",
       "      <td>Capricorn</td>\n",
       "      <td>Capricorn</td>\n",
       "      <td>Virgo</td>\n",
       "      <td>Aquarius</td>\n",
       "      <td>Capricorn</td>\n",
       "      <td>Cancer</td>\n",
       "      <td>Aquarius</td>\n",
       "      <td>Leo</td>\n",
       "    </tr>\n",
       "    <tr>\n",
       "      <th>39548</th>\n",
       "      <td>Sutton, Chloe</td>\n",
       "      <td>Aquarius</td>\n",
       "      <td>Aquarius</td>\n",
       "      <td>Aquarius</td>\n",
       "      <td>Capricorn</td>\n",
       "      <td>Capricorn</td>\n",
       "      <td>Virgo</td>\n",
       "      <td>Aquarius</td>\n",
       "      <td>Capricorn</td>\n",
       "      <td>Cancer</td>\n",
       "      <td>Aquarius</td>\n",
       "      <td>Leo</td>\n",
       "    </tr>\n",
       "    <tr>\n",
       "      <th>28267</th>\n",
       "      <td>Ferrand-Prévot, Pauline</td>\n",
       "      <td>Aquarius</td>\n",
       "      <td>Taurus</td>\n",
       "      <td>Aquarius</td>\n",
       "      <td>Capricorn</td>\n",
       "      <td>Capricorn</td>\n",
       "      <td>Virgo</td>\n",
       "      <td>Aquarius</td>\n",
       "      <td>Capricorn</td>\n",
       "      <td>Cancer</td>\n",
       "      <td>Aquarius</td>\n",
       "      <td>Leo</td>\n",
       "    </tr>\n",
       "  </tbody>\n",
       "</table>\n",
       "</div>"
      ],
      "text/plain": [
       "                          nome       Sun      Moon   Mercury      Venus  \\\n",
       "36920        Benattia, Nabilla  Aquarius    Pisces  Aquarius  Capricorn   \n",
       "16112                   Neymar  Aquarius    Pisces  Aquarius  Capricorn   \n",
       "3686     Wagner, Bryan Matthew  Aquarius    Gemini  Aquarius  Capricorn   \n",
       "1882              Efron, Dylan  Aquarius    Pisces  Aquarius  Capricorn   \n",
       "2157             Jain (singer)  Aquarius    Pisces  Aquarius  Capricorn   \n",
       "21487          Lautner, Taylor  Aquarius    Taurus  Aquarius  Capricorn   \n",
       "15174             Pino, Andrea  Aquarius    Cancer  Aquarius  Capricorn   \n",
       "8852                Stal, Gary  Aquarius     Aries  Aquarius  Capricorn   \n",
       "39548            Sutton, Chloe  Aquarius  Aquarius  Aquarius  Capricorn   \n",
       "28267  Ferrand-Prévot, Pauline  Aquarius    Taurus  Aquarius  Capricorn   \n",
       "\n",
       "            Mars Jupiter    Saturn North Node South Node    Syzygy  \\\n",
       "36920  Capricorn   Virgo  Aquarius  Capricorn     Cancer  Aquarius   \n",
       "16112  Capricorn   Virgo  Aquarius  Capricorn     Cancer  Aquarius   \n",
       "3686   Capricorn   Virgo  Aquarius  Capricorn     Cancer  Aquarius   \n",
       "1882   Capricorn   Virgo  Aquarius  Capricorn     Cancer  Aquarius   \n",
       "2157   Capricorn   Virgo  Aquarius  Capricorn     Cancer  Aquarius   \n",
       "21487  Capricorn   Virgo  Aquarius  Capricorn     Cancer  Aquarius   \n",
       "15174  Capricorn   Virgo  Aquarius  Capricorn     Cancer  Aquarius   \n",
       "8852   Capricorn   Virgo  Aquarius  Capricorn     Cancer  Aquarius   \n",
       "39548  Capricorn   Virgo  Aquarius  Capricorn     Cancer  Aquarius   \n",
       "28267  Capricorn   Virgo  Aquarius  Capricorn     Cancer  Aquarius   \n",
       "\n",
       "      Pars Fortuna  \n",
       "36920  Sagittarius  \n",
       "16112  Sagittarius  \n",
       "3686   Sagittarius  \n",
       "1882           Leo  \n",
       "2157        Cancer  \n",
       "21487          Leo  \n",
       "15174        Virgo  \n",
       "8852           Leo  \n",
       "39548          Leo  \n",
       "28267          Leo  "
      ]
     },
     "execution_count": 88,
     "metadata": {},
     "output_type": "execute_result"
    }
   ],
   "source": [
    "df_neymar_semelhante"
   ]
  },
  {
   "cell_type": "markdown",
   "metadata": {},
   "source": [
    "***"
   ]
  },
  {
   "cell_type": "markdown",
   "metadata": {},
   "source": [
    "### 4. Interação com os dados do usuário:"
   ]
  },
  {
   "cell_type": "markdown",
   "metadata": {},
   "source": [
    "Utilizou-se a classe \"pessoa\" para armazenar os dados do usuário e calcular seu mapa astral:"
   ]
  },
  {
   "cell_type": "code",
   "execution_count": null,
   "metadata": {},
   "outputs": [],
   "source": [
    "fer = pessoa('Fernanda', '1992/08/15', '13:30', '-03:00', 'São Paulo, SP')"
   ]
  },
  {
   "cell_type": "code",
   "execution_count": null,
   "metadata": {},
   "outputs": [],
   "source": [
    "fer.mapa()"
   ]
  },
  {
   "cell_type": "code",
   "execution_count": null,
   "metadata": {},
   "outputs": [],
   "source": [
    "fer.chart"
   ]
  },
  {
   "cell_type": "markdown",
   "metadata": {},
   "source": [
    "Feito isso, estabeleceu-se uma função, para armazenar esses dados do usuário como uma linha temporária do dataset original."
   ]
  },
  {
   "cell_type": "code",
   "execution_count": null,
   "metadata": {},
   "outputs": [],
   "source": [
    "def usuario():\n",
    "    \"\"\"\n",
    "    Essa função armazena os dados que o usuário fornece e cria um dataset\n",
    "    \"\"\"\n",
    "    us_nome = input('Qual o seu nome?')\n",
    "    #while condição regex nao é verdadeira, continua com o input\n",
    "    #se verdadeira, pass\n",
    "    us_data = input('Em que dia você nasceu? (AAAA/MM/DD)')\n",
    "    us_hora = input('Em qual horário você nasceu? (HH:MM)')\n",
    "    us_fuso = input('Em qual fuso horário (UTC)? (-03:00 para paulistas)')\n",
    "    us_cidade = input('Em qual cidade você nasceu? (Cidade, UF)')\n",
    "    user = pessoa(us_nome, us_data, us_hora, us_fuso, us_cidade)\n",
    "    user.mapa()\n",
    "    dicio = user.chart\n",
    "    user_df = pd.DataFrame([dicio])\n",
    "    user_df = user_df[['nome', 'Sun', 'Moon', 'Mercury', 'Venus', 'Mars', 'Jupiter', 'Saturn',\n",
    "       'North Node', 'South Node', 'Syzygy', 'Pars Fortuna']]\n",
    "    return user_df"
   ]
  },
  {
   "cell_type": "code",
   "execution_count": null,
   "metadata": {},
   "outputs": [],
   "source": [
    "usuario()"
   ]
  },
  {
   "cell_type": "code",
   "execution_count": null,
   "metadata": {},
   "outputs": [],
   "source": []
  },
  {
   "cell_type": "code",
   "execution_count": null,
   "metadata": {},
   "outputs": [],
   "source": []
  },
  {
   "cell_type": "code",
   "execution_count": null,
   "metadata": {},
   "outputs": [],
   "source": []
  }
 ],
 "metadata": {
  "kernelspec": {
   "display_name": "Python 3",
   "language": "python",
   "name": "python3"
  },
  "language_info": {
   "codemirror_mode": {
    "name": "ipython",
    "version": 3
   },
   "file_extension": ".py",
   "mimetype": "text/x-python",
   "name": "python",
   "nbconvert_exporter": "python",
   "pygments_lexer": "ipython3",
   "version": "3.7.3"
  }
 },
 "nbformat": 4,
 "nbformat_minor": 4
}
