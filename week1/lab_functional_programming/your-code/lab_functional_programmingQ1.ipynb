{
 "cells": [
  {
   "cell_type": "markdown",
   "metadata": {},
   "source": [
    "In the cell below, create a Python function that wraps your previous solution for the Bag of Words lab.\n",
    "\n",
    "Requirements:\n",
    "\n",
    "1. Your function should accept the following parameters:\n",
    "    * `docs` [REQUIRED] - array of document paths.\n",
    "    * `stop_words` [OPTIONAL] - array of stop words. The default value is an empty array.\n",
    "\n",
    "1. Your function should return a Python object that contains the following:\n",
    "    * `bag_of_words` - array of strings of normalized unique words in the corpus.\n",
    "    * `term_freq` - array of the term-frequency vectors."
   ]
  },
  {
   "cell_type": "code",
   "execution_count": 1,
   "metadata": {},
   "outputs": [],
   "source": [
    "import re"
   ]
  },
  {
   "cell_type": "code",
   "execution_count": 20,
   "metadata": {},
   "outputs": [],
   "source": [
    "def get_bow_from_docs(docs, stop_words=[]):\n",
    "    \n",
    "# In the function, first define the variables you will use such as `corpus`, `bag_of_words`, and `term_freq`.\n",
    "    corpus = []\n",
    "    corpus2=[]\n",
    "    bag_of_words = []\n",
    "    new_bag=[]\n",
    "    term_freq2=[]\n",
    "    \n",
    "    for doc in docs:\n",
    "        d = open(doc, \"r\")\n",
    "        r = d.read()\n",
    "        corpus.append(r)\n",
    "    \n",
    "    for word in corpus:\n",
    "        a1=word.lower().strip(\".\")\n",
    "        corpus2.append(a1)\n",
    "    \n",
    "    for word2 in corpus2:\n",
    "        w=word2.split() #cria uma lista de palavras separadas por vírgula, dentro da lista corpus2\n",
    "                \n",
    "        for p in w: #para pegar cada palavra dentro da lista w\n",
    "            if p not in bag_of_words:\n",
    "                bag_of_words.append(p)\n",
    "                \n",
    "    for word in bag_of_words:\n",
    "        if word not in stop_words:\n",
    "            new_bag.append(word)\n",
    "\n",
    "    for word2 in corpus2:\n",
    "        term_freq=[]\n",
    "        w=word2.split() \n",
    "\n",
    "        for i in new_bag: #iniciando um count para i em bag_of_words\n",
    "            count=0\n",
    "            #iterando as palavras da lista corpus2\n",
    "            for p in w:\n",
    "                if i == p:\n",
    "                    count+=1\n",
    "\n",
    "            \n",
    "            term_freq.append(count)\n",
    "        term_freq2.append(term_freq)\n",
    "       \n",
    "    \n",
    "    \n",
    "  \n",
    "        \n",
    "    \n",
    "    \n",
    "        \n",
    "    return {\"bagOfWords\": new_bag,\"termFreq\": term_freq2}\n",
    "        \n",
    "    \"\"\"\n",
    "    Loop `docs` and read the content of each doc into a string in `corpus`.\n",
    "    Remember to convert the doc content to lowercases and remove punctuation.\n",
    "    \"\"\"\n",
    "\n",
    "    \"\"\"\n",
    "    Loop `corpus`. Append the terms in each doc into the `bag_of_words` array. The terms in `bag_of_words` \n",
    "    should be unique which means before adding each term you need to check if it's already added to the array.\n",
    "    In addition, check if each term is in the `stop_words` array. Only append the term to `bag_of_words`\n",
    "    if it is not a stop word.\n",
    "    \"\"\"\n",
    "\n",
    "       \n",
    "    \"\"\"\n",
    "    Loop `corpus` again. For each doc string, count the number of occurrences of each term in `bag_of_words`. \n",
    "    Create an array for each doc's term frequency and append it to `term_freq`.\n",
    "    \"\"\"\n",
    "\n",
    "    # Now return your output as an object\n",
    "    #return {\n",
    "        \n",
    "        \n",
    "    #}\n",
    "    "
   ]
  },
  {
   "cell_type": "code",
   "execution_count": 21,
   "metadata": {},
   "outputs": [
    {
     "data": {
      "text/plain": [
       "{'bagOfWords': ['ironhack',\n",
       "  'is',\n",
       "  'cool',\n",
       "  'i',\n",
       "  'love',\n",
       "  'am',\n",
       "  'a',\n",
       "  'student',\n",
       "  'at'],\n",
       " 'termFreq': [[1, 1, 1, 0, 0, 0, 0, 0, 0],\n",
       "  [1, 0, 0, 1, 1, 0, 0, 0, 0],\n",
       "  [1, 0, 0, 1, 0, 1, 1, 1, 1]]}"
      ]
     },
     "execution_count": 21,
     "metadata": {},
     "output_type": "execute_result"
    }
   ],
   "source": [
    "docs = [r'../../lab_bag_of_words/'+'doc1.txt',\n",
    "       r'../../lab_bag_of_words/'+'doc2.txt',\n",
    "       r'../../lab_bag_of_words/'+'doc3.txt']\n",
    "\n",
    "get_bow_from_docs(docs, stop_words=[])"
   ]
  },
  {
   "cell_type": "markdown",
   "metadata": {},
   "source": [
    "Test your function without stop words. You should see the output like below:\n",
    "\n",
    "```{'bag_of_words': ['ironhack', 'is', 'cool', 'i', 'love', 'am', 'a', 'student', 'at'], 'term_freq': [[1, 1, 1, 0, 0, 0, 0, 0, 0], [1, 0, 0, 1, 1, 0, 0, 0, 0], [1, 0, 0, 1, 0, 1, 1, 1, 1]]}```"
   ]
  },
  {
   "cell_type": "code",
   "execution_count": 22,
   "metadata": {},
   "outputs": [],
   "source": [
    "# Define doc paths array\n",
    "docs = [r'../../lab_bag_of_words/'+'doc1.txt',\n",
    "       r'../../lab_bag_of_words/'+'doc2.txt',\n",
    "       r'../../lab_bag_of_words/'+'doc3.txt']"
   ]
  },
  {
   "cell_type": "code",
   "execution_count": 23,
   "metadata": {},
   "outputs": [],
   "source": [
    "# Obtain BoW from your function\n",
    "bow = get_bow_from_docs(docs)"
   ]
  },
  {
   "cell_type": "code",
   "execution_count": 24,
   "metadata": {},
   "outputs": [
    {
     "name": "stdout",
     "output_type": "stream",
     "text": [
      "{'bagOfWords': ['ironhack', 'is', 'cool', 'i', 'love', 'am', 'a', 'student', 'at'], 'termFreq': [[1, 1, 1, 0, 0, 0, 0, 0, 0], [1, 0, 0, 1, 1, 0, 0, 0, 0], [1, 0, 0, 1, 0, 1, 1, 1, 1]]}\n"
     ]
    }
   ],
   "source": [
    "# Print BoW\n",
    "print(bow)"
   ]
  },
  {
   "cell_type": "code",
   "execution_count": null,
   "metadata": {},
   "outputs": [],
   "source": []
  },
  {
   "cell_type": "markdown",
   "metadata": {},
   "source": [
    "If your attempt above is successful, nice work done!\n",
    "\n",
    "Now test your function again with the stop words. In the previous lab we defined the stop words in a large array. In this lab, we'll import the stop words from Scikit-Learn."
   ]
  },
  {
   "cell_type": "code",
   "execution_count": 25,
   "metadata": {},
   "outputs": [
    {
     "name": "stdout",
     "output_type": "stream",
     "text": [
      "frozenset({'eleven', 'moreover', 'mine', 'any', 'are', 'me', 'even', 'both', 'many', 'because', 'afterwards', 'my', 'namely', 'they', 'anyway', 'seem', 'someone', 'your', 'before', 'too', 'only', 'six', 'very', 'whereby', 'find', 'former', 'will', 'hereby', 'part', 'against', 'eg', 'somewhere', 'twenty', 'etc', 'much', 'be', 'thereafter', 'already', 'call', 'un', 'her', 'the', 'sixty', 'all', 'amount', 'as', 'never', 'show', 'sincere', 'however', 'please', 'go', 'since', 'last', 'whither', 'ourselves', 'am', 'ours', 'also', 'whole', 'further', 'can', 'seems', 'though', 'whether', 'anything', 'so', 'these', 'mostly', 're', 'among', 'i', 'off', 'behind', 'yourself', 'his', 'noone', 'might', 'could', 'few', 'ten', 'most', 'nobody', 'is', 'nothing', 'well', 'without', 'others', 'down', 'anyhow', 'had', 'that', 'themselves', 'and', 'bill', 'whom', 'another', 'she', 'four', 'several', 'empty', 'fire', 'formerly', 'anyone', 'interest', 'besides', 'fill', 'than', 'third', 'wherever', 'five', 'yours', 'often', 'herein', 'should', 'none', 'either', 'amoungst', 'name', 'not', 'take', 'three', 'thru', 'top', 'we', 'been', 'amongst', 'ever', 'must', 'everywhere', 'same', 'latter', 'beforehand', 'two', 'otherwise', 'move', 'after', 'itself', 'them', 'above', 'side', 'was', 'ie', 'with', 'elsewhere', 'via', 'else', 'for', 'at', 'mill', 'when', 'always', 'anywhere', 'something', 'own', 'thick', 'seemed', 'he', 'nine', 'until', 'due', 'again', 'between', 'once', 'seeming', 'perhaps', 'indeed', 'their', 'nowhere', 'full', 'other', 'although', 'beside', 'therefore', 'where', 'whereas', 'have', 'how', 'least', 'from', 'now', 'onto', 'whose', 'of', 'alone', 'if', 'him', 'there', 'get', 'meanwhile', 'into', 'us', 'nevertheless', 'while', 'why', 'hundred', 'across', 'first', 'hereafter', 'which', 'bottom', 'our', 'became', 'being', 'hers', 'then', 'beyond', 'cannot', 'along', 'somehow', 'sometime', 'around', 'becomes', 'give', 'toward', 'whenever', 'himself', 'in', 'such', 'become', 'couldnt', 'under', 'do', 'enough', 'were', 'yourselves', 'hence', 'would', 'neither', 'out', 'eight', 'some', 'or', 'sometimes', 'everything', 'co', 'thence', 'cry', 'de', 'next', 'cant', 'no', 'per', 'back', 'yet', 'myself', 'thus', 'serious', 'put', 'about', 'it', 'fifty', 'throughout', 'wherein', 'each', 'forty', 'hasnt', 'to', 'twelve', 'this', 'still', 'whoever', 'becoming', 'detail', 'whatever', 'whereafter', 'an', 'describe', 'has', 'you', 'but', 'every', 'below', 'done', 'nor', 'through', 'fifteen', 'herself', 'therein', 'whereupon', 'thereby', 'system', 'thin', 'made', 'during', 'less', 'a', 'hereupon', 'keep', 'found', 'on', 'together', 'what', 'except', 'its', 'here', 'everyone', 'latterly', 'by', 'more', 'may', 'rather', 'thereupon', 'towards', 'inc', 'over', 'upon', 'whence', 'ltd', 'see', 'up', 'within', 'who', 'almost', 'one', 'those', 'con', 'front'})\n"
     ]
    }
   ],
   "source": [
    "from sklearn.feature_extraction import stop_words\n",
    "print(stop_words.ENGLISH_STOP_WORDS)"
   ]
  },
  {
   "cell_type": "markdown",
   "metadata": {},
   "source": [
    "You should have seen a large list of words that looks like:\n",
    "\n",
    "```frozenset({'across', 'mine', 'cannot', ...})```\n",
    "\n",
    "`frozenset` is a type of Python object that is immutable. In this lab you can use it just like an array without conversion."
   ]
  },
  {
   "cell_type": "markdown",
   "metadata": {},
   "source": [
    "Next, test your function with supplying `stop_words.ENGLISH_STOP_WORDS` as the second parameter."
   ]
  },
  {
   "cell_type": "code",
   "execution_count": 26,
   "metadata": {},
   "outputs": [],
   "source": [
    "bow = get_bow_from_docs(docs, stop_words=stop_words.ENGLISH_STOP_WORDS)"
   ]
  },
  {
   "cell_type": "code",
   "execution_count": 27,
   "metadata": {},
   "outputs": [
    {
     "name": "stdout",
     "output_type": "stream",
     "text": [
      "{'bagOfWords': ['ironhack', 'cool', 'love', 'student'], 'termFreq': [[1, 1, 0, 0], [1, 0, 1, 0], [1, 0, 0, 1]]}\n"
     ]
    }
   ],
   "source": [
    "print(bow)"
   ]
  },
  {
   "cell_type": "markdown",
   "metadata": {},
   "source": [
    "You should have seen:\n",
    "\n",
    "```{'bag_of_words': ['ironhack', 'cool', 'love', 'student'], 'term_freq': [[1, 1, 0, 0], [1, 0, 1, 0], [1, 0, 0, 1]]}```"
   ]
  }
 ],
 "metadata": {
  "kernelspec": {
   "display_name": "Python 3",
   "language": "python",
   "name": "python3"
  },
  "language_info": {
   "codemirror_mode": {
    "name": "ipython",
    "version": 3
   },
   "file_extension": ".py",
   "mimetype": "text/x-python",
   "name": "python",
   "nbconvert_exporter": "python",
   "pygments_lexer": "ipython3",
   "version": "3.6.8"
  }
 },
 "nbformat": 4,
 "nbformat_minor": 4
}
