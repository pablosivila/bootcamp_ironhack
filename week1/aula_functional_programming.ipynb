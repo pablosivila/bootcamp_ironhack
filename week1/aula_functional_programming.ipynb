{
 "cells": [
  {
   "cell_type": "markdown",
   "metadata": {},
   "source": [
    "# Learn the difference between procedural and functional programming style."
   ]
  },
  {
   "cell_type": "markdown",
   "metadata": {},
   "source": [
    "<img src=\"images/god.jpg\" width=\"600\">"
   ]
  },
  {
   "cell_type": "code",
   "execution_count": 1,
   "metadata": {},
   "outputs": [
    {
     "name": "stdout",
     "output_type": "stream",
     "text": [
      "O desvio padrão para as temperaturas em Farenheit é 39.39492353083072\n",
      "O desvio padrão para as temperaturas em Celcius é 21.88606862823929\n"
     ]
    }
   ],
   "source": [
    "tempC=[56,35,25,74]\n",
    "tempF=[132.8,95,77,165.2]\n",
    "\n",
    "\n",
    "mediaF = sum(tempF)/len(tempF)\n",
    "varianciaF=0\n",
    "for value in tempF:\n",
    "    varianciaF += (value - mediaF)**2\n",
    "    stdf = (varianciaF/(len(tempF)-1))**(0.5)\n",
    "print(\"O desvio padrão para as temperaturas em Farenheit é\", stdf)\n",
    "\n",
    "\n",
    "mediaC = sum(tempC)/len(tempC)\n",
    "vc=0\n",
    "for value in tempC:\n",
    "    vc += (value - mediaC)**2\n",
    "    stdc = (vc/(len(tempF)-1))**(0.5)\n",
    "print(\"O desvio padrão para as temperaturas em Celcius é\", stdc)\n"
   ]
  },
  {
   "cell_type": "code",
   "execution_count": 2,
   "metadata": {},
   "outputs": [],
   "source": [
    "def stdevrutz(temperatura):\n",
    "    media = sum(temperatura)/len(temperatura)\n",
    "    variancia=0\n",
    "    for value in temperatura:\n",
    "        variancia += (value - media)**2\n",
    "        stdc = (variancia/(len(temperatura)-1))**(0.5)\n",
    "    return stdc"
   ]
  },
  {
   "cell_type": "code",
   "execution_count": 3,
   "metadata": {},
   "outputs": [
    {
     "name": "stdout",
     "output_type": "stream",
     "text": [
      "O desvio padrão para as temperaturas em Farenheit é 39.39492353083072\n",
      "O desvio padrão para as temperaturas em Celcius é 21.88606862823929\n"
     ]
    }
   ],
   "source": [
    "print(\"O desvio padrão para as temperaturas em Farenheit é\", stdevrutz(tempF))\n",
    "print(\"O desvio padrão para as temperaturas em Celcius é\", stdevrutz(tempC))"
   ]
  },
  {
   "cell_type": "code",
   "execution_count": 4,
   "metadata": {},
   "outputs": [
    {
     "name": "stdout",
     "output_type": "stream",
     "text": [
      "O desvio padrão para as temperaturas em Farenheit é 39.39492353083072\n",
      "O desvio padrão para as temperaturas em Celcius é 21.88606862823929\n"
     ]
    }
   ],
   "source": [
    "import statistics \n",
    "print(\"O desvio padrão para as temperaturas em Farenheit é\", statistics.stdev(tempF))\n",
    "print(\"O desvio padrão para as temperaturas em Celcius é\", statistics.stdev(tempC))"
   ]
  },
  {
   "cell_type": "code",
   "execution_count": 5,
   "metadata": {},
   "outputs": [],
   "source": [
    "def lenrutz(object):\n",
    "    count=0\n",
    "    for i in object:\n",
    "        count+=1\n",
    "    return count"
   ]
  },
  {
   "cell_type": "code",
   "execution_count": 6,
   "metadata": {},
   "outputs": [
    {
     "data": {
      "text/plain": [
       "4"
      ]
     },
     "execution_count": 6,
     "metadata": {},
     "output_type": "execute_result"
    }
   ],
   "source": [
    "lenrutz(tempC)"
   ]
  },
  {
   "cell_type": "code",
   "execution_count": 7,
   "metadata": {},
   "outputs": [
    {
     "data": {
      "text/plain": [
       "4"
      ]
     },
     "execution_count": 7,
     "metadata": {},
     "output_type": "execute_result"
    }
   ],
   "source": [
    "len(tempC)"
   ]
  },
  {
   "cell_type": "markdown",
   "metadata": {},
   "source": [
    "<img src=\"images/coach.jpeg\" width=\"400\">\n"
   ]
  },
  {
   "cell_type": "markdown",
   "metadata": {},
   "source": [
    "# Learn about the components of functions and how to write them in Python."
   ]
  },
  {
   "cell_type": "code",
   "execution_count": 8,
   "metadata": {},
   "outputs": [
    {
     "name": "stdout",
     "output_type": "stream",
     "text": [
      "John was a man of many talents\n"
     ]
    }
   ],
   "source": [
    "# \"def\" nome escolhido da função (input de variáveis que a função vai usar):\n",
    "\n",
    "def list2string(lst):\n",
    "    string = ' '.join(lst)\n",
    "    return string\n",
    "\n",
    "to_string = ['John', 'was', 'a', 'man', 'of', 'many', 'talents']\n",
    "\n",
    "print(list2string(to_string))\n"
   ]
  },
  {
   "cell_type": "code",
   "execution_count": 9,
   "metadata": {},
   "outputs": [
    {
     "name": "stdout",
     "output_type": "stream",
     "text": [
      "o português é alegre e doce como um idioma de passarinhos\n"
     ]
    }
   ],
   "source": [
    "def strnormalize(rawstring):\n",
    "    normalized = rawstring.replace(\",\",\"\").replace(\".\",\"\").lower()\n",
    "    return normalized\n",
    "\n",
    "ronai = \"O Português é alegre e doce, como um idioma de passarinhos.\"\n",
    "\n",
    "print(strnormalize(ronai))"
   ]
  },
  {
   "cell_type": "code",
   "execution_count": 24,
   "metadata": {},
   "outputs": [
    {
     "name": "stdout",
     "output_type": "stream",
     "text": [
      "O que precisamos em São Paulo? \n",
      "Amor\n",
      "Não existe amor em SP\n",
      "Chocolate\n"
     ]
    }
   ],
   "source": [
    "#loop\n",
    "def amor():\n",
    "    SP = input(\"O que precisamos em São Paulo? \\n\")\n",
    "    while SP != \"Amor\":\n",
    "        return amor()\n",
    "    print(\"Não existe amor em SP\")\n",
    "    return (\"Chocolate\")\n",
    "a = amor()\n",
    "print(a)"
   ]
  },
  {
   "cell_type": "code",
   "execution_count": 11,
   "metadata": {},
   "outputs": [],
   "source": [
    "#conditional\n",
    "def plays(gamestatus):\n",
    "#checks if player is in target room\n",
    "    if gamestatus.get(\"current_room\") == gamestatus.get(\"target_room\"):\n",
    "        print(\"Congratulation you've scapped\")\n",
    "#if player is in target room resets all variables       \n",
    "        reset()\n",
    "#if player is not in target room go to function to explore room(has to find index of room in roomslist)\n",
    "    else:\n",
    "        \n",
    "        #explore(gamestatus.get(\"current_room\"),gamestatus)\n"
   ]
  },
  {
   "cell_type": "code",
   "execution_count": 12,
   "metadata": {},
   "outputs": [
    {
     "data": {
      "text/plain": [
       "['Art. 1º A República Federativa do Brasil, formada pela união indissolúvel dos Estados e Municípios e do Distrito Federal, constitui-se em Estado Democrático de Direito e tem como fundamentos:',\n",
       " 'a soberania;',\n",
       " 'a cidadania;',\n",
       " 'a dignidade da pessoa humana;',\n",
       " 'os valores sociais do trabalho e da livre iniciativa;',\n",
       " 'o pluralismo político.',\n",
       " 'Parágrafo único. Todo o poder emana do povo, que o exerce por meio de representantes eleitos ou diretamente, nos termos desta Constituição.',\n",
       " 'Art. 2º São Poderes da União, independentes e harmônicos entre si, o Legislativo, o Executivo e o Judiciário.',\n",
       " 'Art. 3º Constituem objetivos fundamentais da República Federativa do Brasil:',\n",
       " 'construir uma sociedade livre, justa e solidária;',\n",
       " 'garantir o desenvolvimento nacional;',\n",
       " 'erradicar a pobreza e a marginalização e reduzir as desigualdades sociais e regionais;',\n",
       " 'promover o bem de todos, sem preconceitos de origem, raça, sexo, cor, idade e quaisquer outras formas de discriminação.',\n",
       " 'Art. 4º A República Federativa do Brasil rege-se nas suas relações internacionais pelos seguintes princípios:',\n",
       " 'independência nacional;',\n",
       " 'prevalência dos direitos humanos;',\n",
       " 'autodeterminação dos povos;',\n",
       " 'não-intervenção;',\n",
       " 'igualdade entre os Estados;',\n",
       " 'defesa da paz;',\n",
       " 'solução pacífica dos conflitos;',\n",
       " 'repúdio ao terrorismo e ao racismo;',\n",
       " 'cooperação entre os povos para o progresso da humanidade;,',\n",
       " 'concessão de asilo político.',\n",
       " 'Parágrafo único. A República Federativa do Brasil buscará a integração econômica, política, social e cultural dos povos da América Latina, visando à formação de uma comunidade latino-americana de nações.']"
      ]
     },
     "execution_count": 12,
     "metadata": {},
     "output_type": "execute_result"
    }
   ],
   "source": [
    "#regex\n",
    "#listcomprehensions \n",
    "def strregex(rawstring):\n",
    "    newstr = [re.sub('\\w*\\s-\\s', '', item) for item in rawstring]\n",
    "    return newstr\n",
    "\n",
    "import re\n",
    "lei=[\"Art. 1º A República Federativa do Brasil, formada pela união indissolúvel dos Estados e Municípios e do Distrito Federal, constitui-se em Estado Democrático de Direito e tem como fundamentos:\",\n",
    "\n",
    "\"I - a soberania;\",\n",
    "\n",
    "\"II - a cidadania;\",\n",
    "\n",
    "\"III - a dignidade da pessoa humana;\",\n",
    "\n",
    "\"IV - os valores sociais do trabalho e da livre iniciativa;\",\n",
    "\n",
    "\"V - o pluralismo político.\",\n",
    "\n",
    "\"Parágrafo único. Todo o poder emana do povo, que o exerce por meio de representantes eleitos ou diretamente, nos termos desta Constituição.\",\n",
    "\n",
    "\"Art. 2º São Poderes da União, independentes e harmônicos entre si, o Legislativo, o Executivo e o Judiciário.\",\n",
    "\n",
    "\"Art. 3º Constituem objetivos fundamentais da República Federativa do Brasil:\",\n",
    "\n",
    "\"I - construir uma sociedade livre, justa e solidária;\",\n",
    "\n",
    "\"II - garantir o desenvolvimento nacional;\",\n",
    "\n",
    "\"III - erradicar a pobreza e a marginalização e reduzir as desigualdades sociais e regionais;\",\n",
    "\n",
    "\"IV - promover o bem de todos, sem preconceitos de origem, raça, sexo, cor, idade e quaisquer outras formas de discriminação.\",\n",
    "\n",
    "\"Art. 4º A República Federativa do Brasil rege-se nas suas relações internacionais pelos seguintes princípios:\",\n",
    "\n",
    "\"I - independência nacional;\",\n",
    "\n",
    "\"II - prevalência dos direitos humanos;\",\n",
    "\n",
    "\"III - autodeterminação dos povos;\",\n",
    "\n",
    "\"IV - não-intervenção;\",\n",
    "\n",
    "\"V - igualdade entre os Estados;\",\n",
    "\n",
    "\"VI - defesa da paz;\",\n",
    "\n",
    "\"VII - solução pacífica dos conflitos;\",\n",
    "\n",
    "\"VIII - repúdio ao terrorismo e ao racismo;\",\n",
    "\n",
    "\"IX - cooperação entre os povos para o progresso da humanidade;,\",\n",
    "\n",
    "\"X - concessão de asilo político.\",\n",
    "\n",
    "\"Parágrafo único. A República Federativa do Brasil buscará a integração econômica, política, social e cultural dos povos da América Latina, visando à formação de uma comunidade latino-americana de nações.\"]\n",
    "strregex(lei)"
   ]
  },
  {
   "cell_type": "code",
   "execution_count": 38,
   "metadata": {},
   "outputs": [
    {
     "name": "stdout",
     "output_type": "stream",
     "text": [
      "20\n",
      "<function make_multiplier_of.<locals>.multiplier at 0x0000022FDAD729D8>\n",
      "20\n"
     ]
    },
    {
     "data": {
      "text/plain": [
       "60"
      ]
     },
     "execution_count": 38,
     "metadata": {},
     "output_type": "execute_result"
    }
   ],
   "source": [
    "def make_multiplier_of(n):\n",
    "    def multiplier(x):\n",
    "        return x * n\n",
    "    return multiplier \n",
    "\n",
    "multi = make_multiplier_of(3)\n",
    "print(multi)\n",
    "\n",
    "multi(20)\n",
    "#multi(3)\n",
    "#multi(70)"
   ]
  },
  {
   "cell_type": "markdown",
   "metadata": {},
   "source": [
    "<img src=\"images/imaage1.jpg\" width=\"400\">"
   ]
  },
  {
   "cell_type": "markdown",
   "metadata": {},
   "source": [
    "# Learn the difference between global and local variables and how they apply to functions."
   ]
  },
  {
   "cell_type": "code",
   "execution_count": 44,
   "metadata": {},
   "outputs": [
    {
     "name": "stdout",
     "output_type": "stream",
     "text": [
      "banablas\n"
     ]
    }
   ],
   "source": [
    "#Global vs. Local Variables\n",
    "\n",
    "#a = 9\n",
    "#a=\"bananas\"\n",
    "\n",
    "\n",
    "def multiply(number, multiplier=2):\n",
    "    b = number * multiplier\n",
    "    global a\n",
    "    a = \"banablas\"\n",
    "    \n",
    "\n",
    "    \n",
    "    return b\n",
    "\n",
    "c = multiply(a)\n",
    "\n",
    "#print(a,c)\n",
    "#print(b)\n",
    "print(a)"
   ]
  },
  {
   "cell_type": "code",
   "execution_count": 51,
   "metadata": {},
   "outputs": [
    {
     "name": "stdout",
     "output_type": "stream",
     "text": [
      "{0: 'sbrub'}\n"
     ]
    }
   ],
   "source": [
    "#list1 = [4324]\n",
    "dict1={}\n",
    "\n",
    "\n",
    "\n",
    "def multiply(number, multiplier=2):\n",
    "    ''' qualquer coisa ai'''\n",
    "    b = number * multiplier\n",
    "    #print(list1)\n",
    "    dict1[0]= \"sbrub\"\n",
    "    #list2=[32,45,32]\n",
    "    #list1.append(\"teterereteteste\")\n",
    "    #print(dict1)\n",
    "    #print(list1)\n",
    "    return b\n",
    "\n",
    "c = multiply(a)\n",
    "\n",
    "#print(list2)\n",
    "print(dict1)\n",
    "#print(list1)"
   ]
  },
  {
   "cell_type": "markdown",
   "metadata": {},
   "source": [
    "<img src=\"images/pandas.jpg\" width=\"400\">"
   ]
  },
  {
   "cell_type": "markdown",
   "metadata": {},
   "source": [
    "# Learn how to apply functions to Pandas data frames."
   ]
  },
  {
   "cell_type": "code",
   "execution_count": 16,
   "metadata": {},
   "outputs": [
    {
     "data": {
      "text/html": [
       "<div>\n",
       "<style scoped>\n",
       "    .dataframe tbody tr th:only-of-type {\n",
       "        vertical-align: middle;\n",
       "    }\n",
       "\n",
       "    .dataframe tbody tr th {\n",
       "        vertical-align: top;\n",
       "    }\n",
       "\n",
       "    .dataframe thead th {\n",
       "        text-align: right;\n",
       "    }\n",
       "</style>\n",
       "<table border=\"1\" class=\"dataframe\">\n",
       "  <thead>\n",
       "    <tr style=\"text-align: right;\">\n",
       "      <th></th>\n",
       "      <th>Column</th>\n",
       "      <th>Mean</th>\n",
       "    </tr>\n",
       "  </thead>\n",
       "  <tbody>\n",
       "    <tr>\n",
       "      <th>0</th>\n",
       "      <td>Year</td>\n",
       "      <td>2000.716400</td>\n",
       "    </tr>\n",
       "    <tr>\n",
       "      <th>1</th>\n",
       "      <td>Engine Displacement</td>\n",
       "      <td>3.338493</td>\n",
       "    </tr>\n",
       "    <tr>\n",
       "      <th>2</th>\n",
       "      <td>Cylinders</td>\n",
       "      <td>5.765076</td>\n",
       "    </tr>\n",
       "    <tr>\n",
       "      <th>3</th>\n",
       "      <td>Fuel Barrels/Year</td>\n",
       "      <td>17.609056</td>\n",
       "    </tr>\n",
       "    <tr>\n",
       "      <th>4</th>\n",
       "      <td>City MPG</td>\n",
       "      <td>17.646139</td>\n",
       "    </tr>\n",
       "    <tr>\n",
       "      <th>5</th>\n",
       "      <td>Highway MPG</td>\n",
       "      <td>23.880646</td>\n",
       "    </tr>\n",
       "    <tr>\n",
       "      <th>6</th>\n",
       "      <td>Combined MPG</td>\n",
       "      <td>19.929322</td>\n",
       "    </tr>\n",
       "    <tr>\n",
       "      <th>7</th>\n",
       "      <td>CO2 Emission Grams/Mile</td>\n",
       "      <td>475.316339</td>\n",
       "    </tr>\n",
       "    <tr>\n",
       "      <th>8</th>\n",
       "      <td>Fuel Cost/Year</td>\n",
       "      <td>1892.598465</td>\n",
       "    </tr>\n",
       "  </tbody>\n",
       "</table>\n",
       "</div>"
      ],
      "text/plain": [
       "                    Column         Mean\n",
       "0                     Year  2000.716400\n",
       "1      Engine Displacement     3.338493\n",
       "2                Cylinders     5.765076\n",
       "3        Fuel Barrels/Year    17.609056\n",
       "4                 City MPG    17.646139\n",
       "5              Highway MPG    23.880646\n",
       "6             Combined MPG    19.929322\n",
       "7  CO2 Emission Grams/Mile   475.316339\n",
       "8           Fuel Cost/Year  1892.598465"
      ]
     },
     "execution_count": 16,
     "metadata": {},
     "output_type": "execute_result"
    }
   ],
   "source": [
    "#Applying Functions to Data Frames\n",
    "\n",
    "import pandas as pd\n",
    "\n",
    "data = pd.read_csv('./vehicles.csv')\n",
    "\n",
    "def get_means(df):\n",
    "    numeric = df._get_numeric_data()\n",
    "    means = pd.DataFrame(numeric.mean()).reset_index()\n",
    "    means.columns = ['Column', 'Mean']\n",
    "    return means\n",
    "\n",
    "mean_df = get_means(data)\n",
    "mean_df\n"
   ]
  },
  {
   "cell_type": "code",
   "execution_count": 17,
   "metadata": {},
   "outputs": [],
   "source": [
    "def reasign(x):   \n",
    "    if type(x)==str:\n",
    "        for i in columndict.keys():\n",
    "            if i in x:\n",
    "                x = columndict[i]\n",
    "        return x \n",
    "    elif type(x)==float or type(x)==int:\n",
    "        return int(x)\n",
    "   "
   ]
  },
  {
   "cell_type": "code",
   "execution_count": 54,
   "metadata": {},
   "outputs": [
    {
     "data": {
      "text/plain": [
       "0        19.388824\n",
       "1        25.354615\n",
       "2        20.600625\n",
       "3        25.354615\n",
       "4        20.600625\n",
       "5        14.982273\n",
       "6        13.733750\n",
       "7        16.480500\n",
       "8        14.982273\n",
       "9        13.733750\n",
       "10       16.480500\n",
       "11       14.982273\n",
       "12       13.733750\n",
       "13       16.480500\n",
       "14       16.480500\n",
       "15       16.480500\n",
       "16       17.347895\n",
       "17       16.480500\n",
       "18       17.347895\n",
       "19       16.480500\n",
       "20       17.347895\n",
       "21       16.480500\n",
       "22       15.695714\n",
       "23       16.480500\n",
       "24       15.695714\n",
       "25       16.480500\n",
       "26       16.480500\n",
       "27       16.480500\n",
       "28       15.695714\n",
       "29       15.695714\n",
       "           ...    \n",
       "35922    29.964545\n",
       "35923    29.964545\n",
       "35924    12.677308\n",
       "35925    13.733750\n",
       "35926    14.330870\n",
       "35927    13.184400\n",
       "35928    12.677308\n",
       "35929    12.677308\n",
       "35930    13.184400\n",
       "35931    13.184400\n",
       "35932     9.155833\n",
       "35933     9.155833\n",
       "35934     9.155833\n",
       "35935     9.155833\n",
       "35936     9.155833\n",
       "35937     9.155833\n",
       "35938     9.417429\n",
       "35939     9.694412\n",
       "35940     9.155833\n",
       "35941     9.155833\n",
       "35942     9.155833\n",
       "35943     9.155833\n",
       "35944     9.155833\n",
       "35945     9.155833\n",
       "35946     9.155833\n",
       "35947     9.155833\n",
       "35948     9.155833\n",
       "35949     9.155833\n",
       "35950     9.155833\n",
       "35951     9.417429\n",
       "Name: Fuel Barrels/Year, Length: 35952, dtype: float64"
      ]
     },
     "execution_count": 54,
     "metadata": {},
     "output_type": "execute_result"
    }
   ],
   "source": [
    "data[\"Fuel Barrels/Year\"]"
   ]
  },
  {
   "cell_type": "code",
   "execution_count": 55,
   "metadata": {},
   "outputs": [
    {
     "data": {
      "text/plain": [
       "0        19\n",
       "1        25\n",
       "2        20\n",
       "3        25\n",
       "4        20\n",
       "5        14\n",
       "6        13\n",
       "7        16\n",
       "8        14\n",
       "9        13\n",
       "10       16\n",
       "11       14\n",
       "12       13\n",
       "13       16\n",
       "14       16\n",
       "15       16\n",
       "16       17\n",
       "17       16\n",
       "18       17\n",
       "19       16\n",
       "20       17\n",
       "21       16\n",
       "22       15\n",
       "23       16\n",
       "24       15\n",
       "25       16\n",
       "26       16\n",
       "27       16\n",
       "28       15\n",
       "29       15\n",
       "         ..\n",
       "35922    29\n",
       "35923    29\n",
       "35924    12\n",
       "35925    13\n",
       "35926    14\n",
       "35927    13\n",
       "35928    12\n",
       "35929    12\n",
       "35930    13\n",
       "35931    13\n",
       "35932     9\n",
       "35933     9\n",
       "35934     9\n",
       "35935     9\n",
       "35936     9\n",
       "35937     9\n",
       "35938     9\n",
       "35939     9\n",
       "35940     9\n",
       "35941     9\n",
       "35942     9\n",
       "35943     9\n",
       "35944     9\n",
       "35945     9\n",
       "35946     9\n",
       "35947     9\n",
       "35948     9\n",
       "35949     9\n",
       "35950     9\n",
       "35951     9\n",
       "Name: Fuel, Length: 35952, dtype: int64"
      ]
     },
     "execution_count": 55,
     "metadata": {},
     "output_type": "execute_result"
    }
   ],
   "source": [
    "data[\"Fuel\"] = data[\"Fuel Barrels/Year\"].apply(reasign)\n",
    "data[\"Fuel\"]"
   ]
  },
  {
   "cell_type": "code",
   "execution_count": 19,
   "metadata": {},
   "outputs": [
    {
     "data": {
      "text/plain": [
       "Compact Cars                          5185\n",
       "Subcompact Cars                       4374\n",
       "Midsize Cars                          4063\n",
       "Standard Pickup Trucks                2311\n",
       "Sport Utility Vehicle - 4WD           2081\n",
       "Two Seaters                           1784\n",
       "Large Cars                            1742\n",
       "Sport Utility Vehicle - 2WD           1615\n",
       "Special Purpose Vehicles              1404\n",
       "Small Station Wagons                  1371\n",
       "Minicompact Cars                      1212\n",
       "Standard Pickup Trucks 2WD            1141\n",
       "Vans                                  1121\n",
       "Standard Pickup Trucks 4WD             959\n",
       "Midsize-Large Station Wagons           633\n",
       "Special Purpose Vehicle 2WD            581\n",
       "Small Pickup Trucks                    524\n",
       "Small Sport Utility Vehicle 4WD        494\n",
       "Vans, Cargo Type                       432\n",
       "Midsize Station Wagons                 416\n",
       "Standard Sport Utility Vehicle 4WD     409\n",
       "Small Pickup Trucks 2WD                401\n",
       "Small Sport Utility Vehicle 2WD        374\n",
       "Minivan - 2WD                          331\n",
       "Vans, Passenger Type                   301\n",
       "Special Purpose Vehicle 4WD            256\n",
       "Small Pickup Trucks 4WD                200\n",
       "Standard Sport Utility Vehicle 2WD     179\n",
       "Minivan - 4WD                           47\n",
       "Standard Pickup Trucks/2wd               4\n",
       "Vans Passenger                           2\n",
       "Special Purpose Vehicles/2wd             2\n",
       "Special Purpose Vehicles/4wd             2\n",
       "Special Purpose Vehicle                  1\n",
       "Name: Vehicle Class, dtype: int64"
      ]
     },
     "execution_count": 19,
     "metadata": {},
     "output_type": "execute_result"
    }
   ],
   "source": [
    "data[\"Vehicle Class\"].value_counts()"
   ]
  },
  {
   "cell_type": "code",
   "execution_count": 20,
   "metadata": {},
   "outputs": [
    {
     "data": {
      "text/plain": [
       "Car      17008\n",
       "Other    13404\n",
       "Truck     5540\n",
       "Name: Type, dtype: int64"
      ]
     },
     "execution_count": 20,
     "metadata": {},
     "output_type": "execute_result"
    }
   ],
   "source": [
    "columndict = {\"Car\":\"Car\",\n",
    "             \"Truck\":\"Truck\",\n",
    "             \"Vehicle\":\"Other\",\n",
    "             \"Wagon\":\"Other\",\n",
    "             \"Van\":\"Other\",\n",
    "             \"van\":\"Other\",\n",
    "             \"Seaters\":\"Other\"}\n",
    "data[\"Type\"] = data[\"Vehicle Class\"].apply(reasign)\n",
    "data[\"Type\"].value_counts()"
   ]
  },
  {
   "cell_type": "markdown",
   "metadata": {},
   "source": [
    "\n",
    "* We began the lesson by looking at the differences between procedural code and functional code. \n",
    "* We then covered how to construct functions in Python and the differences between global and local variables. \n",
    "* We ended the chapter by learning how functions can be applied to a Pandas data frame. \n",
    "\n",
    "\n"
   ]
  },
  {
   "cell_type": "markdown",
   "metadata": {},
   "source": [
    "<img src=\"images/googling.jpg\" width=\"400\">"
   ]
  }
 ],
 "metadata": {
  "kernelspec": {
   "display_name": "Python 3",
   "language": "python",
   "name": "python3"
  },
  "language_info": {
   "codemirror_mode": {
    "name": "ipython",
    "version": 3
   },
   "file_extension": ".py",
   "mimetype": "text/x-python",
   "name": "python",
   "nbconvert_exporter": "python",
   "pygments_lexer": "ipython3",
   "version": "3.6.8"
  }
 },
 "nbformat": 4,
 "nbformat_minor": 4
}
