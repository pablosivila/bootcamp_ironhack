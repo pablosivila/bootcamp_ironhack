{
 "cells": [
  {
   "cell_type": "markdown",
   "metadata": {},
   "source": [
    "**<p style=\"font-size: 35px; text-align: center\">Probability Distributions</p>**\n",
    "\n",
    "\n",
    "\n",
    "***<center>Miguel Ángel Vélez Guerra</center>***\n",
    "\n",
    "<hr/>\n",
    "\n",
    "![Distribuciones](https://4.bp.blogspot.com/-ImwjGBnN9Yg/VuYgbbaNBJI/AAAAAAAAA_o/rdXnY7x6I8svIEsXRcm51-jrj_Lopdb-w/s1600/E2-U3.png)\n"
   ]
  },
  {
   "cell_type": "markdown",
   "metadata": {},
   "source": [
    "## Imports"
   ]
  },
  {
   "cell_type": "code",
   "execution_count": 1,
   "metadata": {},
   "outputs": [],
   "source": [
    "# -*- coding: utf-8 -*-\n",
    "\"\"\"\n",
    "Created on Mon Mar 11 10:33:01 2019\n",
    "\n",
    "@author: Miguel Angel Velez\n",
    "\"\"\"\n",
    "\n",
    "import numpy as np\n",
    "import scipy.stats as ss\n",
    "\n",
    "#------------------------------------------------------------------------------------------------#\n",
    "#---------------------------------- Probability Distributions -----------------------------------#\n",
    "#------------------------------------------------------------------------------------------------#\n",
    "\n",
    "def binom_pmf(n, pi, x):\n",
    "    \"\"\"\n",
    "    \"\"\"\n",
    "    px = ss.binom(n, pi).pmf(x)\n",
    "    return px\n",
    "\n",
    "def binom_cdf(n, pi, x):\n",
    "    \"\"\"\n",
    "    \"\"\"\n",
    "    px = ss.binom(n, pi).cdf(x)\n",
    "    return px\n",
    "\n",
    "def hypergeom_pmf(N, r, n, x):\n",
    "    \"\"\"\n",
    "    \"\"\"\n",
    "    px = ss.hypergeom(N, r, n).pmf(x)\n",
    "    return px\n",
    "\n",
    "def hypergeom_cdf(N, r, n, x):\n",
    "    \"\"\"\n",
    "    \"\"\"\n",
    "    px = ss.hypergeom(N, r, n).cdf(x)\n",
    "    return px\n",
    "\n",
    "def poisson_pmf(mu, x):\n",
    "    \"\"\"\n",
    "    \"\"\"\n",
    "    px = ss.poisson(mu).pmf(x)\n",
    "    return px\n",
    "\n",
    "def poisson_cdf(mu, x):\n",
    "    \"\"\"\n",
    "    \"\"\"\n",
    "    px = ss.poisson(mu).cdf(x)\n",
    "    return px\n",
    "\n",
    "def expon_cdf(mu, x): #mu = mu\n",
    "    \"\"\"\n",
    "    Función para calcular la función de probabilidad acumulada de la distribución exponencial continua\n",
    "    \"\"\"\n",
    "    px = 1 - np.exp(-mu * x)\n",
    "    return px\n",
    "\n",
    "def uniform_cdf(a, b, x):\n",
    "    \"\"\"\n",
    "    \"\"\"\n",
    "    width = b - a\n",
    "    px = ss.uniform(a, width).cdf(x)\n",
    "    return px\n",
    "\n",
    "def norm_cdf(mu, sigma, x):\n",
    "    \"\"\"\n",
    "    \"\"\"\n",
    "    px = ss.norm(mu, sigma).cdf(x)\n",
    "    return px\n",
    "\n",
    "def sample_norm_cdf(mu, sigma, n, x):\n",
    "    \"\"\"\n",
    "    \"\"\"\n",
    "    error = sigma / (n**0.5)\n",
    "    px = ss.norm(mu, error).cdf(x)\n",
    "    return px\n",
    "\n",
    "def sample_prop_cdf(n, pi, p):\n",
    "    \"\"\"\n",
    "    \"\"\"\n",
    "    error = ((pi * (1 - pi)) / n)**0.5\n",
    "    px = ss.norm(pi, error).cdf(p)\n",
    "    return px\n",
    "\n",
    "#------------------------------------------------------------------------------------------------#\n",
    "#------------------------------------------------------------------------------------------------#\n",
    "#------------------------------------------------------------------------------------------------#"
   ]
  },
  {
   "cell_type": "markdown",
   "metadata": {},
   "source": [
    "<hr/>\n",
    "<hr/>"
   ]
  },
  {
   "cell_type": "markdown",
   "metadata": {},
   "source": [
    "## 1. Binomial distribution\n",
    "\n",
    "According to the Journal of Higher Education, 40% of all students have worked during the summer in order to pay for their university educational fees. Assuming that 7 students are selected at random, what is the probability that:\n",
    "* 1) 5 students have worked in summer, \n",
    "* 2) no student has worked at all, \n",
    "* 3) all students have worked, \n",
    "* 4) at least 3 students have worked,\n",
    "* 5) 5 or more students have worked."
   ]
  },
  {
   "cell_type": "code",
   "execution_count": 3,
   "metadata": {},
   "outputs": [],
   "source": []
  },
  {
   "cell_type": "markdown",
   "metadata": {},
   "source": [
    "**2) Probability that no student has jobs on summer (x = 0)**"
   ]
  },
  {
   "cell_type": "code",
   "execution_count": 4,
   "metadata": {},
   "outputs": [],
   "source": []
  },
  {
   "cell_type": "code",
   "execution_count": 5,
   "metadata": {},
   "outputs": [
    {
     "data": {
      "text/plain": [
       "0.07741440000000008"
      ]
     },
     "execution_count": 5,
     "metadata": {},
     "output_type": "execute_result"
    }
   ],
   "source": []
  },
  {
   "cell_type": "markdown",
   "metadata": {},
   "source": [
    "**3) Probability that all selected students have summer jobs (x = 7)**"
   ]
  },
  {
   "cell_type": "code",
   "execution_count": 13,
   "metadata": {},
   "outputs": [],
   "source": []
  },
  {
   "cell_type": "code",
   "execution_count": 14,
   "metadata": {},
   "outputs": [
    {
     "data": {
      "text/plain": [
       "0.001638400000000001"
      ]
     },
     "execution_count": 14,
     "metadata": {},
     "output_type": "execute_result"
    }
   ],
   "source": []
  },
  {
   "cell_type": "markdown",
   "metadata": {},
   "source": [
    "**4) What is the probability that 3 or less students have worked on summer? (x <= 3)**"
   ]
  },
  {
   "cell_type": "code",
   "execution_count": 15,
   "metadata": {},
   "outputs": [],
   "source": []
  },
  {
   "cell_type": "code",
   "execution_count": 16,
   "metadata": {},
   "outputs": [
    {
     "data": {
      "text/plain": [
       "0.2903040000000001"
      ]
     },
     "execution_count": 16,
     "metadata": {},
     "output_type": "execute_result"
    }
   ],
   "source": []
  },
  {
   "cell_type": "markdown",
   "metadata": {},
   "source": [
    "**5) What is the probability that 5 or more students have worked? (x >= 5)**"
   ]
  },
  {
   "cell_type": "code",
   "execution_count": 17,
   "metadata": {},
   "outputs": [],
   "source": []
  },
  {
   "cell_type": "code",
   "execution_count": 18,
   "metadata": {},
   "outputs": [
    {
     "data": {
      "text/plain": [
       "0.9811584"
      ]
     },
     "execution_count": 18,
     "metadata": {},
     "output_type": "execute_result"
    }
   ],
   "source": []
  },
  {
   "cell_type": "markdown",
   "metadata": {},
   "source": [
    "## 4. Poisson distribution\n",
    "Suppose you are interested in the probability that exactly 5 customers arrive during the next hour (or at any given time) of work. The simple observation of the last 80 hours has shown that 800 customers have entered the business. Therefore, μ = 10 per hour."
   ]
  },
  {
   "cell_type": "code",
   "execution_count": 19,
   "metadata": {},
   "outputs": [],
   "source": []
  },
  {
   "cell_type": "markdown",
   "metadata": {},
   "source": [
    "The probability that exactly 5 customers arrive during the next hour (or at any given time) of work (x = 5)"
   ]
  },
  {
   "cell_type": "code",
   "execution_count": 22,
   "metadata": {},
   "outputs": [],
   "source": []
  },
  {
   "cell_type": "code",
   "execution_count": 23,
   "metadata": {},
   "outputs": [
    {
     "data": {
      "text/plain": [
       "0.03783327480207079"
      ]
     },
     "execution_count": 23,
     "metadata": {},
     "output_type": "execute_result"
    }
   ],
   "source": []
  },
  {
   "cell_type": "markdown",
   "metadata": {},
   "source": [
    "## 5. Poisson distribution\n",
    "\n",
    "Professor Bradley encourages his statistical students to act carrefully while consulting the tutor if they have any questions for the final exam. It seems that students search for help at the tutor's office fits a Poisson distribution, with an average of 5.2 students every 20 minutes. Professor Bradley is worried because if many students need tutor's services, it could cause a congestion issue at the office.\n",
    "\n",
    "a. The tutor must determine the probability that 4 students arrive during any 20-minute interval, which could cause the problem of Using Probability for Analysis and Congestion Management that Professor Bradley fears. If the probability exceeds 20%, a second tutor will be hired.\n",
    "\n",
    "b. The tutor should calculate the probability that more than 4 students arrive during a 20-minute period. If it is greater than 50%, the tutor's office hours will be increased, allowing students to extend the time they come to see the tutor.\n",
    "\n",
    "c. If the probability that more than seven students arrive during any 30-minute period exceeds 50%, Professor Bradley himself will offer additional tutoring."
   ]
  },
  {
   "cell_type": "code",
   "execution_count": 24,
   "metadata": {},
   "outputs": [],
   "source": []
  },
  {
   "cell_type": "markdown",
   "metadata": {},
   "source": [
    "**a) Calculate the probability that 4 students arrive during any 20-minute interval (x = 4)**"
   ]
  },
  {
   "cell_type": "code",
   "execution_count": 25,
   "metadata": {},
   "outputs": [],
   "source": []
  },
  {
   "cell_type": "code",
   "execution_count": 26,
   "metadata": {},
   "outputs": [
    {
     "data": {
      "text/plain": [
       "0.16806250284943824"
      ]
     },
     "execution_count": 26,
     "metadata": {},
     "output_type": "execute_result"
    }
   ],
   "source": []
  },
  {
   "cell_type": "markdown",
   "metadata": {},
   "source": [
    "**c) The probability that more than seven students arrive during any 30-minute period (x > 7)**"
   ]
  },
  {
   "cell_type": "code",
   "execution_count": 27,
   "metadata": {},
   "outputs": [],
   "source": []
  },
  {
   "cell_type": "code",
   "execution_count": 28,
   "metadata": {},
   "outputs": [
    {
     "data": {
      "text/plain": [
       "0.5187909829079025"
      ]
     },
     "execution_count": 28,
     "metadata": {},
     "output_type": "execute_result"
    }
   ],
   "source": []
  },
  {
   "cell_type": "markdown",
   "metadata": {},
   "source": [
    "## 5. Exponential distribution\n",
    "\n",
    "Assuming customer's entry rate average is μ = 1.5 per hour and it is desired to know the probability that no more than 2 hours pass between calls."
   ]
  },
  {
   "cell_type": "code",
   "execution_count": 29,
   "metadata": {},
   "outputs": [],
   "source": []
  },
  {
   "cell_type": "markdown",
   "metadata": {},
   "source": [
    "** The probability that no more than 2 hours pass between calls. (x <= 2) **"
   ]
  },
  {
   "cell_type": "code",
   "execution_count": 30,
   "metadata": {},
   "outputs": [],
   "source": []
  },
  {
   "cell_type": "code",
   "execution_count": 31,
   "metadata": {},
   "outputs": [
    {
     "data": {
      "text/plain": [
       "0.950212931632136"
      ]
     },
     "execution_count": 31,
     "metadata": {},
     "output_type": "execute_result"
    }
   ],
   "source": []
  },
  {
   "cell_type": "markdown",
   "metadata": {},
   "source": [
    "## 6. Exponential distribution\n",
    "Cross City Cab Company schedules their taxis to arrive at the local airport in a Poisson distribution with an average arrival rate of 12 per hour. You just landed at the airport and you must reach the center to close a big business. What is the probability that you have to wait a maximum of 5 minutes to get a taxi? Your boss is a tyrant who will not tolerate the failure, so if the probability of another taxi in 5 minutes is less than 50%, you will rent a car for the trip to the office."
   ]
  },
  {
   "cell_type": "code",
   "execution_count": 32,
   "metadata": {},
   "outputs": [],
   "source": []
  },
  {
   "cell_type": "markdown",
   "metadata": {},
   "source": [
    "**What is the probability that you have to wait a maximum of 5 minutes to get a taxi? (x <= 5)**"
   ]
  },
  {
   "cell_type": "code",
   "execution_count": 33,
   "metadata": {},
   "outputs": [],
   "source": []
  },
  {
   "cell_type": "code",
   "execution_count": 34,
   "metadata": {},
   "outputs": [
    {
     "data": {
      "text/plain": [
       "0.6321205588285577"
      ]
     },
     "execution_count": 34,
     "metadata": {},
     "output_type": "execute_result"
    }
   ],
   "source": []
  },
  {
   "cell_type": "markdown",
   "metadata": {},
   "source": [
    "## 7. Uniform distribution\n",
    "Assuming that the contents of the 16-ounce cans of canned fruit produced by Del Monte ranges between 14.5 and 17.5 ounces and that it fits a uniform distribution.\n",
    "\n",
    "From the mountain, you want to know the probability that a single can weighs between 16 and 17.2 ounces."
   ]
  },
  {
   "cell_type": "code",
   "execution_count": 35,
   "metadata": {},
   "outputs": [],
   "source": []
  },
  {
   "cell_type": "markdown",
   "metadata": {},
   "source": [
    "** The probability that a single can weighs between 16 and 17.2 ounces. (16 <= x <= 17.2) **"
   ]
  },
  {
   "cell_type": "code",
   "execution_count": 36,
   "metadata": {},
   "outputs": [],
   "source": []
  },
  {
   "cell_type": "code",
   "execution_count": 37,
   "metadata": {},
   "outputs": [
    {
     "data": {
      "text/plain": [
       "0.3999999999999998"
      ]
     },
     "execution_count": 37,
     "metadata": {},
     "output_type": "execute_result"
    }
   ],
   "source": []
  },
  {
   "cell_type": "markdown",
   "metadata": {},
   "source": [
    "## 8. Uniform distribution\n",
    "Dow Chemical produces an inorganic lawn fertilizer, for those who fertilize their grass at home, so that they can prune it more frequently. This type of fertilizer is sold in bags with a uniformly distributed weight, with an average of 25 pounds and a range of 2.4 pounds. Harry Homeowner needs 23 pounds to fertilize his lawn, but he doubts whether to buy only one bag as it deviates from 25 pounds in a range of 2.4 pounds. He is also curious about the probability of buying a bag with more than 25.5 pounds."
   ]
  },
  {
   "cell_type": "code",
   "execution_count": 38,
   "metadata": {},
   "outputs": [],
   "source": []
  },
  {
   "cell_type": "markdown",
   "metadata": {},
   "source": [
    "**Probability of weighing between 21.8 and 24.2 pounds is (21.8 <= x <= 24.2)**"
   ]
  },
  {
   "cell_type": "code",
   "execution_count": 39,
   "metadata": {},
   "outputs": [],
   "source": []
  },
  {
   "cell_type": "code",
   "execution_count": 40,
   "metadata": {},
   "outputs": [
    {
     "data": {
      "text/plain": [
       "0.16666666666666619"
      ]
     },
     "execution_count": 40,
     "metadata": {},
     "output_type": "execute_result"
    }
   ],
   "source": []
  },
  {
   "cell_type": "markdown",
   "metadata": {},
   "source": [
    "**Probabilidad de que pese más de 25.5 libras**"
   ]
  },
  {
   "cell_type": "code",
   "execution_count": 41,
   "metadata": {},
   "outputs": [],
   "source": []
  },
  {
   "cell_type": "code",
   "execution_count": 42,
   "metadata": {},
   "outputs": [
    {
     "data": {
      "text/plain": [
       "0.2916666666666665"
      ]
     },
     "execution_count": 42,
     "metadata": {},
     "output_type": "execute_result"
    }
   ],
   "source": []
  },
  {
   "cell_type": "markdown",
   "metadata": {},
   "source": [
    "## 9. Normal distribution\n",
    "Topps Wear, a large clothing manufacturer, wants to study the distribution in people's height. Topps Wear recognized that the public was constantly changing in their physical size and proportions. It is assumed that if Topps Wear were to measure the heights of all its potential customers, it would find that the heights are normally distributed around an average of 67 inches. It is assumed that the standard deviation of customers is 2 inches. Topps Wear staff can find the probability that a single customer is between 67 and 69 inches tall, P (67 ≤ X ≤ 69), simply by finding the area that is under the normal curve between 67 and 69. If known the area, the probability will be known."
   ]
  },
  {
   "cell_type": "code",
   "execution_count": 44,
   "metadata": {},
   "outputs": [],
   "source": []
  },
  {
   "cell_type": "markdown",
   "metadata": {},
   "source": [
    "**The probability that a single client is between 67 and 69 inches tall, (67 ≤ X ≤ 69)**"
   ]
  },
  {
   "cell_type": "code",
   "execution_count": 43,
   "metadata": {},
   "outputs": [],
   "source": []
  },
  {
   "cell_type": "code",
   "execution_count": 45,
   "metadata": {},
   "outputs": [
    {
     "data": {
      "text/plain": [
       "0.3413447460685429"
      ]
     },
     "execution_count": 45,
     "metadata": {},
     "output_type": "execute_result"
    }
   ],
   "source": []
  }
 ],
 "metadata": {
  "kernelspec": {
   "display_name": "Python 3",
   "language": "python",
   "name": "python3"
  },
  "language_info": {
   "codemirror_mode": {
    "name": "ipython",
    "version": 3
   },
   "file_extension": ".py",
   "mimetype": "text/x-python",
   "name": "python",
   "nbconvert_exporter": "python",
   "pygments_lexer": "ipython3",
   "version": "3.7.3"
  }
 },
 "nbformat": 4,
 "nbformat_minor": 4
}
