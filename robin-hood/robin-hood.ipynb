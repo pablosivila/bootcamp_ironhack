{
 "cells": [
  {
   "cell_type": "markdown",
   "metadata": {},
   "source": [
    "# Robin Hood:\n",
    "We are in a competition to win the archery contest in Sherwood. With our bow and arrows we shoot on a target and try to hit as close as possible to the center.\n",
    "\n",
    "The center of the target is represented by the values (0, 0) on the coordinate axes.\n",
    "\n",
    "![](images/arrows.jpg)\n",
    "\n",
    "## Goals:\n",
    "* data structures: lists, sets, tuples\n",
    "* logical operators: if-elif-else\n",
    "* loop: while/for\n",
    "* minimum (optional sorting)\n",
    "\n",
    "## Description:\n",
    "In the 2-dimensional space, a point can be defined by a pair of values that correspond to the horizontal coordinate (x) and the vertical coordinate (y). The space can be divided into 4 zones (quadrants): Q1, Q2, Q3, Q4. Whose single point of union is the point (0, 0).\n",
    "\n",
    "If a point is in Q1 both its x coordinate and the y are positive. I leave a link to wikipedia to familiarize yourself with these quadrants.\n",
    "\n",
    "https://en.wikipedia.org/wiki/Cartesian_coordinate_system\n",
    "\n",
    "https://en.wikipedia.org/wiki/Euclidean_distance\n",
    "\n",
    "## Shots\n",
    "```\n",
    "points = [(4, 5), (-0, 2), (4, 7), (1, -3), (3, -2), (4, 5),\n",
    "          (3, 2), (5, 7), (-5, 7), (2, 2), (-4, 5), (0, -2),\n",
    "          (-4, 7), (-1, 3), (-3, 2), (-4, -5), (-3, 2),\n",
    "          (5, 7), (5, 7), (2, 2), (9, 9), (-8, -9)]\n",
    "```\n",
    "\n",
    "## Tasks\n",
    "1. Robin Hood is famous for hitting an arrow with another arrow. Did you get it?\n",
    "2. Calculate how many arrows have fallen in each quadrant.\n",
    "3. Find the point closest to the center. Calculate its distance to the center. \n",
    "4. If the target has a radius of 9, calculate the number of arrows that must be picked up in the forest."
   ]
  },
  {
   "cell_type": "code",
   "execution_count": 1,
   "metadata": {},
   "outputs": [],
   "source": [
    "# Variables\n",
    "\n",
    "points = [(4, 5), (-0, 2), (4, 7), (1, -3), (3, -2), (4, 5),\n",
    "          (3, 2), (5, 7), (-5, 7), (2, 2), (-4, 5), (0, -2),\n",
    "          (-4, 7), (-1, 3), (-3, 2), (-4, -5), (-3, 2),\n",
    "          (5, 7), (5, 7), (2, 2), (9, 9), (-8, -9)]"
   ]
  },
  {
   "cell_type": "code",
   "execution_count": 2,
   "metadata": {},
   "outputs": [],
   "source": [
    "# 1. Robin Hood is famous for hitting an arrow with another arrow. Did you get it?\n",
    "\n"
   ]
  },
  {
   "cell_type": "code",
   "execution_count": 3,
   "metadata": {},
   "outputs": [],
   "source": [
    "# 2. Calculate how many arrows have fallen in each quadrant.\n",
    "\n"
   ]
  },
  {
   "cell_type": "code",
   "execution_count": 4,
   "metadata": {},
   "outputs": [],
   "source": [
    "# 3. Find the point closest to the center. Calculate its distance to the center\n",
    "# Defining a function that calculates the distance to the center can help.\n",
    "\n"
   ]
  },
  {
   "cell_type": "code",
   "execution_count": 5,
   "metadata": {},
   "outputs": [],
   "source": [
    "# 4. If the target has a radius of 9, calculate the number of arrows that \n",
    "# must be picked up in the forest.\n",
    "\n"
   ]
  },
  {
   "cell_type": "code",
   "execution_count": 6,
   "metadata": {},
   "outputs": [],
   "source": [
    "points = [(4, 5), (-0, 2), (4, 7), (1, -3), (3, -2), (4, 5),\n",
    "          (3, 2), (5, 7), (-5, 7), (2, 2), (-4, 5), (0, -2),\n",
    "          (-4, 7), (-1, 3), (-3, 2), (-4, -5), (-3, 2),\n",
    "          (5, 7), (5, 7), (2, 2), (9, 9), (-8, -9)]"
   ]
  },
  {
   "cell_type": "code",
   "execution_count": 7,
   "metadata": {},
   "outputs": [
    {
     "name": "stdout",
     "output_type": "stream",
     "text": [
      "Robin Hood hitted 5 arrows with another arrow.\n"
     ]
    }
   ],
   "source": [
    "#1\n",
    "set_points=set(points)\n",
    "len_tuple=len(points)\n",
    "len_set=len(set_points)\n",
    "difference=len_tuple-len_set\n",
    "print(\"Robin Hood hitted\", difference, \"arrows with another arrow.\")"
   ]
  },
  {
   "cell_type": "code",
   "execution_count": 8,
   "metadata": {},
   "outputs": [
    {
     "name": "stdout",
     "output_type": "stream",
     "text": [
      "Number of arrows in each quadrant: Q1: 10  Q2: 6  Q3: 2  Q4: 2\n"
     ]
    }
   ],
   "source": [
    "#2\n",
    "Q1=0\n",
    "Q2=0\n",
    "Q3=0\n",
    "Q4=0\n",
    "Q5=0 #between quadrants\n",
    "Q6=0 #center\n",
    "\n",
    "for x, y in (points):\n",
    "    \n",
    "    if x>0 and y>0:\n",
    "        Q1=Q1+1\n",
    "        \n",
    "    if x<0 and y>0:\n",
    "        Q2=Q2+1\n",
    "        \n",
    "    if x<0 and y<0:\n",
    "        Q3=Q3+1\n",
    "    \n",
    "    if x>0 and y<0:\n",
    "        Q4=Q4+1\n",
    "    \n",
    "    if x==0 or y==0:\n",
    "        Q5=Q5+1\n",
    "    \n",
    "    if x==0 and y==0:\n",
    "        Q6=Q6+1\n",
    "        \n",
    "print(\"Number of arrows in each quadrant: Q1:\",Q1,\" Q2:\",Q2, \" Q3:\",Q3, \" Q4:\",Q4)"
   ]
  },
  {
   "cell_type": "code",
   "execution_count": 9,
   "metadata": {},
   "outputs": [
    {
     "name": "stdout",
     "output_type": "stream",
     "text": [
      "Distance to the center:  2\n",
      "Point closest to the center: (0, 2)\n",
      "Point closest to the center: (0, -2)\n"
     ]
    }
   ],
   "source": [
    "#3 - point closest to the center and its distance:\n",
    "\n",
    "import math  \n",
    "def calculateDistance(x1,y1,x2,y2):  \n",
    "    dist = math.sqrt((x2 - x1)**2 + (y2 - y1)**2)  \n",
    "    return dist  \n",
    "\n",
    "list_d=[] #distances\n",
    "for x, y in points:\n",
    "    d = round(calculateDistance(0,0,x,y))\n",
    "    list_d.append(d)\n",
    "\n",
    "m = min(list_d)\n",
    "print(\"Distance to the center: \", m)\n",
    "dictionary = dict(zip(points, list_d))\n",
    "\n",
    "for key, value in dictionary.items():\n",
    "    if value == m:\n",
    "        print (\"Point closest to the center:\", key)"
   ]
  },
  {
   "cell_type": "code",
   "execution_count": 10,
   "metadata": {},
   "outputs": [
    {
     "name": "stdout",
     "output_type": "stream",
     "text": [
      "Number of arrows that must be picked up in the forest:  2\n"
     ]
    }
   ],
   "source": [
    "#4 - radius of 9:\n",
    "forest=0\n",
    "\n",
    "for dist in list_d:\n",
    "    \n",
    "    if dist>9:\n",
    "        forest=forest+1\n",
    "\n",
    "print(\"Number of arrows that must be picked up in the forest: \", forest)"
   ]
  },
  {
   "cell_type": "code",
   "execution_count": null,
   "metadata": {},
   "outputs": [],
   "source": []
  }
 ],
 "metadata": {
  "kernelspec": {
   "display_name": "Python 3",
   "language": "python",
   "name": "python3"
  },
  "language_info": {
   "codemirror_mode": {
    "name": "ipython",
    "version": 3
   },
   "file_extension": ".py",
   "mimetype": "text/x-python",
   "name": "python",
   "nbconvert_exporter": "python",
   "pygments_lexer": "ipython3",
   "version": "3.6.8"
  }
 },
 "nbformat": 4,
 "nbformat_minor": 4
}
