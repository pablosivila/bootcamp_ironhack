{
 "cells": [
  {
   "cell_type": "markdown",
   "metadata": {},
   "source": [
    "### 1. Import the NUMPY package under the name np."
   ]
  },
  {
   "cell_type": "code",
   "execution_count": 1,
   "metadata": {},
   "outputs": [],
   "source": [
    "import numpy as np"
   ]
  },
  {
   "cell_type": "markdown",
   "metadata": {},
   "source": [
    "### 2. Print the NUMPY version and the configuration."
   ]
  },
  {
   "cell_type": "code",
   "execution_count": 2,
   "metadata": {},
   "outputs": [
    {
     "data": {
      "text/plain": [
       "'1.13.3'"
      ]
     },
     "execution_count": 2,
     "metadata": {},
     "output_type": "execute_result"
    }
   ],
   "source": [
    "np.version.version"
   ]
  },
  {
   "cell_type": "markdown",
   "metadata": {},
   "source": [
    "### 3. Generate a 2x3x5 3-dimensional array with random values. Assign the array to variable \"a\"\n",
    "* Challenge: there are at least three easy ways that use numpy to generate random arrays. How many ways can you find?"
   ]
  },
  {
   "cell_type": "code",
   "execution_count": 3,
   "metadata": {},
   "outputs": [],
   "source": [
    "a=np.random.rand(2, 3 ,5) "
   ]
  },
  {
   "cell_type": "code",
   "execution_count": null,
   "metadata": {},
   "outputs": [],
   "source": []
  },
  {
   "cell_type": "markdown",
   "metadata": {},
   "source": [
    "### 4. Print a."
   ]
  },
  {
   "cell_type": "code",
   "execution_count": 4,
   "metadata": {},
   "outputs": [
    {
     "name": "stdout",
     "output_type": "stream",
     "text": [
      "[[[ 0.09839812  0.22141072  0.07660522  0.14733988  0.16048554]\n",
      "  [ 0.40042827  0.16021998  0.37487462  0.59555767  0.23596872]\n",
      "  [ 0.8449588   0.62910981  0.51433403  0.19722496  0.56747233]]\n",
      "\n",
      " [[ 0.97232345  0.71676047  0.32986362  0.04188583  0.60902502]\n",
      "  [ 0.34857093  0.74617565  0.51470902  0.27398781  0.96847615]\n",
      "  [ 0.0215803   0.42631997  0.70131547  0.2831322   0.04857869]]]\n"
     ]
    }
   ],
   "source": [
    "print(a)"
   ]
  },
  {
   "cell_type": "markdown",
   "metadata": {},
   "source": [
    "### 5. Create a 5x2x3 3-dimensional array with all values equaling 1.\n",
    "#Assign the array to variable \"b\""
   ]
  },
  {
   "cell_type": "code",
   "execution_count": 5,
   "metadata": {},
   "outputs": [],
   "source": [
    "b = np.ones((5,3,2))"
   ]
  },
  {
   "cell_type": "markdown",
   "metadata": {},
   "source": [
    "### 6. Print b."
   ]
  },
  {
   "cell_type": "code",
   "execution_count": 6,
   "metadata": {},
   "outputs": [
    {
     "name": "stdout",
     "output_type": "stream",
     "text": [
      "[[[ 1.  1.]\n",
      "  [ 1.  1.]\n",
      "  [ 1.  1.]]\n",
      "\n",
      " [[ 1.  1.]\n",
      "  [ 1.  1.]\n",
      "  [ 1.  1.]]\n",
      "\n",
      " [[ 1.  1.]\n",
      "  [ 1.  1.]\n",
      "  [ 1.  1.]]\n",
      "\n",
      " [[ 1.  1.]\n",
      "  [ 1.  1.]\n",
      "  [ 1.  1.]]\n",
      "\n",
      " [[ 1.  1.]\n",
      "  [ 1.  1.]\n",
      "  [ 1.  1.]]]\n"
     ]
    }
   ],
   "source": [
    "print(b)"
   ]
  },
  {
   "cell_type": "code",
   "execution_count": 7,
   "metadata": {},
   "outputs": [
    {
     "name": "stdout",
     "output_type": "stream",
     "text": [
      ".ndim:  3\n"
     ]
    }
   ],
   "source": [
    "print('.ndim: ', a.ndim)"
   ]
  },
  {
   "cell_type": "markdown",
   "metadata": {},
   "source": [
    "### 7. Do a and b have the same size? How do you prove that in Python code?"
   ]
  },
  {
   "cell_type": "code",
   "execution_count": 8,
   "metadata": {},
   "outputs": [
    {
     "name": "stdout",
     "output_type": "stream",
     "text": [
      ".ndim a:  3\n",
      ".ndim b:  3\n",
      ".size a:  30\n",
      ".size b:  30\n"
     ]
    }
   ],
   "source": [
    "print('.ndim a: ', a.ndim)\n",
    "print('.ndim b: ', b.ndim)\n",
    "\n",
    "print('.size a: ', a.size)\n",
    "print('.size b: ', b.size)"
   ]
  },
  {
   "cell_type": "markdown",
   "metadata": {},
   "source": [
    "### 8. Are you able to add a and b? Why or why not?"
   ]
  },
  {
   "cell_type": "code",
   "execution_count": 9,
   "metadata": {},
   "outputs": [
    {
     "ename": "ValueError",
     "evalue": "operands could not be broadcast together with shapes (2,3,5) (5,3,2) ",
     "output_type": "error",
     "traceback": [
      "\u001b[0;31m---------------------------------------------------------------------------\u001b[0m",
      "\u001b[0;31mValueError\u001b[0m                                Traceback (most recent call last)",
      "\u001b[0;32m<ipython-input-9-1e5f79dab331>\u001b[0m in \u001b[0;36m<module>\u001b[0;34m\u001b[0m\n\u001b[0;32m----> 1\u001b[0;31m \u001b[0msomar\u001b[0m \u001b[0;34m=\u001b[0m \u001b[0ma\u001b[0m \u001b[0;34m+\u001b[0m \u001b[0mb\u001b[0m\u001b[0;34m\u001b[0m\u001b[0;34m\u001b[0m\u001b[0m\n\u001b[0m\u001b[1;32m      2\u001b[0m \u001b[0;34m\u001b[0m\u001b[0m\n\u001b[1;32m      3\u001b[0m \u001b[0mprint\u001b[0m\u001b[0;34m(\u001b[0m\u001b[0;34m'somar: '\u001b[0m\u001b[0;34m,\u001b[0m \u001b[0msomar\u001b[0m \u001b[0;34m)\u001b[0m\u001b[0;34m\u001b[0m\u001b[0;34m\u001b[0m\u001b[0m\n\u001b[1;32m      4\u001b[0m \u001b[0;34m\u001b[0m\u001b[0m\n\u001b[1;32m      5\u001b[0m \u001b[0;31m# só é possível somar matrizes com mesmo número de linhas e colunas.\u001b[0m\u001b[0;34m\u001b[0m\u001b[0;34m\u001b[0m\u001b[0;34m\u001b[0m\u001b[0m\n",
      "\u001b[0;31mValueError\u001b[0m: operands could not be broadcast together with shapes (2,3,5) (5,3,2) "
     ]
    }
   ],
   "source": [
    "somar = a + b\n",
    "\n",
    "print('somar: ', somar )\n",
    "\n",
    "# só é possível somar matrizes com mesmo número de linhas e colunas."
   ]
  },
  {
   "cell_type": "markdown",
   "metadata": {},
   "source": [
    "### 9. Transpose b so that it has the same structure of a (i.e. become a 2x3x5 array). Assign the transposed array to varialbe \"c\"."
   ]
  },
  {
   "cell_type": "code",
   "execution_count": 10,
   "metadata": {},
   "outputs": [],
   "source": [
    "c=b.T\n"
   ]
  },
  {
   "cell_type": "code",
   "execution_count": 11,
   "metadata": {},
   "outputs": [
    {
     "data": {
      "text/plain": [
       "array([[[ 1.,  1.,  1.,  1.,  1.],\n",
       "        [ 1.,  1.,  1.,  1.,  1.],\n",
       "        [ 1.,  1.,  1.,  1.,  1.]],\n",
       "\n",
       "       [[ 1.,  1.,  1.,  1.,  1.],\n",
       "        [ 1.,  1.,  1.,  1.,  1.],\n",
       "        [ 1.,  1.,  1.,  1.,  1.]]])"
      ]
     },
     "execution_count": 11,
     "metadata": {},
     "output_type": "execute_result"
    }
   ],
   "source": [
    "c"
   ]
  },
  {
   "cell_type": "code",
   "execution_count": 12,
   "metadata": {},
   "outputs": [
    {
     "name": "stdout",
     "output_type": "stream",
     "text": [
      ".ndim c:  3\n",
      ".size c:  30\n"
     ]
    }
   ],
   "source": [
    "print('.ndim c: ', c.ndim)\n",
    "print('.size c: ', c.size)"
   ]
  },
  {
   "cell_type": "markdown",
   "metadata": {},
   "source": [
    "### 10. Try to add a and c. Now it should work. Assign the sum to varialbe \"d\". But why does it work now?"
   ]
  },
  {
   "cell_type": "code",
   "execution_count": 13,
   "metadata": {},
   "outputs": [
    {
     "name": "stdout",
     "output_type": "stream",
     "text": [
      "somar:  [[[ 1.09839812  1.22141072  1.07660522  1.14733988  1.16048554]\n",
      "  [ 1.40042827  1.16021998  1.37487462  1.59555767  1.23596872]\n",
      "  [ 1.8449588   1.62910981  1.51433403  1.19722496  1.56747233]]\n",
      "\n",
      " [[ 1.97232345  1.71676047  1.32986362  1.04188583  1.60902502]\n",
      "  [ 1.34857093  1.74617565  1.51470902  1.27398781  1.96847615]\n",
      "  [ 1.0215803   1.42631997  1.70131547  1.2831322   1.04857869]]]\n"
     ]
    }
   ],
   "source": [
    "d = a + c\n",
    "\n",
    "print('somar: ', d )\n",
    "# É possível somar pois possuem mesmo número de linhas e colunas."
   ]
  },
  {
   "cell_type": "code",
   "execution_count": 14,
   "metadata": {},
   "outputs": [
    {
     "data": {
      "text/plain": [
       "1.098398123272186"
      ]
     },
     "execution_count": 14,
     "metadata": {},
     "output_type": "execute_result"
    }
   ],
   "source": [
    "d[0][0][0]"
   ]
  },
  {
   "cell_type": "markdown",
   "metadata": {},
   "source": [
    "### 11. Print a and d. Notice the difference and relation of the two array in terms of the values? Explain."
   ]
  },
  {
   "cell_type": "code",
   "execution_count": 15,
   "metadata": {},
   "outputs": [
    {
     "name": "stdout",
     "output_type": "stream",
     "text": [
      "a =  [[[ 0.09839812  0.22141072  0.07660522  0.14733988  0.16048554]\n",
      "  [ 0.40042827  0.16021998  0.37487462  0.59555767  0.23596872]\n",
      "  [ 0.8449588   0.62910981  0.51433403  0.19722496  0.56747233]]\n",
      "\n",
      " [[ 0.97232345  0.71676047  0.32986362  0.04188583  0.60902502]\n",
      "  [ 0.34857093  0.74617565  0.51470902  0.27398781  0.96847615]\n",
      "  [ 0.0215803   0.42631997  0.70131547  0.2831322   0.04857869]]]\n",
      "d =  [[[ 1.09839812  1.22141072  1.07660522  1.14733988  1.16048554]\n",
      "  [ 1.40042827  1.16021998  1.37487462  1.59555767  1.23596872]\n",
      "  [ 1.8449588   1.62910981  1.51433403  1.19722496  1.56747233]]\n",
      "\n",
      " [[ 1.97232345  1.71676047  1.32986362  1.04188583  1.60902502]\n",
      "  [ 1.34857093  1.74617565  1.51470902  1.27398781  1.96847615]\n",
      "  [ 1.0215803   1.42631997  1.70131547  1.2831322   1.04857869]]]\n"
     ]
    }
   ],
   "source": [
    "print(\"a = \",a)\n",
    "print(\"d = \",d)\n",
    "# d= a + 1"
   ]
  },
  {
   "cell_type": "markdown",
   "metadata": {},
   "source": [
    "### 12. Multiply a and c. Assign the result to e."
   ]
  },
  {
   "cell_type": "code",
   "execution_count": 16,
   "metadata": {},
   "outputs": [
    {
     "name": "stdout",
     "output_type": "stream",
     "text": [
      "[[[ 0.09839812  0.22141072  0.07660522  0.14733988  0.16048554]\n",
      "  [ 0.40042827  0.16021998  0.37487462  0.59555767  0.23596872]\n",
      "  [ 0.8449588   0.62910981  0.51433403  0.19722496  0.56747233]]\n",
      "\n",
      " [[ 0.97232345  0.71676047  0.32986362  0.04188583  0.60902502]\n",
      "  [ 0.34857093  0.74617565  0.51470902  0.27398781  0.96847615]\n",
      "  [ 0.0215803   0.42631997  0.70131547  0.2831322   0.04857869]]]\n"
     ]
    }
   ],
   "source": [
    "e= a*c\n",
    "print(e)"
   ]
  },
  {
   "cell_type": "markdown",
   "metadata": {},
   "source": [
    "### 13. Does e equal to a? Why or why not?"
   ]
  },
  {
   "cell_type": "code",
   "execution_count": 17,
   "metadata": {},
   "outputs": [
    {
     "data": {
      "text/plain": [
       "array([[[ True,  True,  True,  True,  True],\n",
       "        [ True,  True,  True,  True,  True],\n",
       "        [ True,  True,  True,  True,  True]],\n",
       "\n",
       "       [[ True,  True,  True,  True,  True],\n",
       "        [ True,  True,  True,  True,  True],\n",
       "        [ True,  True,  True,  True,  True]]], dtype=bool)"
      ]
     },
     "execution_count": 17,
     "metadata": {},
     "output_type": "execute_result"
    }
   ],
   "source": [
    "e==a\n",
    "# Sim, pois os valores de a foram multiplicados por 1"
   ]
  },
  {
   "cell_type": "markdown",
   "metadata": {},
   "source": [
    "### 14. Identify the max, min, and mean values in d. Assign those values to variables \"d_max\", \"d_min\", and \"d_mean\""
   ]
  },
  {
   "cell_type": "code",
   "execution_count": 18,
   "metadata": {},
   "outputs": [
    {
     "name": "stdout",
     "output_type": "stream",
     "text": [
      "d_max: 1.972323; d_min: 1.021580; d_mean: 1.407570\n"
     ]
    }
   ],
   "source": [
    "d_max=d.max()\n",
    "d_min=d.min()\n",
    "d_mean=d.mean()\n",
    "print(\"d_max: %f; d_min: %f; d_mean: %f\" %(d_max,d_min,d_mean))"
   ]
  },
  {
   "cell_type": "markdown",
   "metadata": {},
   "source": [
    "### 15. Now we want to label the values in d. First create an empty array \"f\" with the same shape (i.e. 2x3x5) as d using `np.empty`."
   ]
  },
  {
   "cell_type": "code",
   "execution_count": 41,
   "metadata": {},
   "outputs": [],
   "source": [
    "f=np.empty([2,3,5],dtype=object)"
   ]
  },
  {
   "cell_type": "code",
   "execution_count": 42,
   "metadata": {},
   "outputs": [
    {
     "data": {
      "text/plain": [
       "array([[[None, None, None, None, None],\n",
       "        [None, None, None, None, None],\n",
       "        [None, None, None, None, None]],\n",
       "\n",
       "       [[None, None, None, None, None],\n",
       "        [None, None, None, None, None],\n",
       "        [None, None, None, None, None]]], dtype=object)"
      ]
     },
     "execution_count": 42,
     "metadata": {},
     "output_type": "execute_result"
    }
   ],
   "source": [
    "f"
   ]
  },
  {
   "cell_type": "markdown",
   "metadata": {},
   "source": [
    "\n",
    "### 16. Populate the values in f. For each value in d, if it's larger than d_min but smaller than d_mean, assign 25 to the corresponding value in f.\n",
    "If a value in d is larger than d_mean but smaller than d_max, assign 75 to the corresponding value in f.\n",
    "If a value equals to d_mean, assign 50 to the corresponding value in f.\n",
    "Assign 0 to the corresponding value(s) in f for d_min in d.\n",
    "Assign 100 to the corresponding value(s) in f for d_max in d.\n",
    "In the end, f should have only the following values: 0, 25, 50, 75, and 100.\n",
    "Note: you don't have to use Numpy in this question.\n"
   ]
  },
  {
   "cell_type": "code",
   "execution_count": 43,
   "metadata": {},
   "outputs": [
    {
     "name": "stdout",
     "output_type": "stream",
     "text": [
      "[[[25 25 25 25 25]\n",
      "  [25 25 25 75 25]\n",
      "  [75 75 75 25 75]]\n",
      "\n",
      " [[100 75 25 25 75]\n",
      "  [25 75 75 25 75]\n",
      "  [0 75 75 25 25]]]\n"
     ]
    }
   ],
   "source": [
    "for i in range (2):\n",
    "    for j in range (3):\n",
    "        for k in range (5):\n",
    "            if d[i,j,k]> d_min and d[i,j,k]<d_mean:\n",
    "                f[i,j,k]=25\n",
    "            \n",
    "            elif d[i,j,k]< d_max and d[i,j,k]>d_mean:\n",
    "                f[i,j,k]=75\n",
    "            \n",
    "            elif d[i,j,k]==d_mean:\n",
    "                f[i,j,k]=50\n",
    "            \n",
    "            elif d[i,j,k]==d_min:\n",
    "                f[i,j,k]=0\n",
    "            \n",
    "            elif d[i,j,k]==d_max:\n",
    "                f[i,j,k]=100\n",
    "print(f)"
   ]
  },
  {
   "cell_type": "code",
   "execution_count": null,
   "metadata": {},
   "outputs": [],
   "source": []
  },
  {
   "cell_type": "markdown",
   "metadata": {},
   "source": [
    "### 17. Print d and f. Do you have your expected f?\n",
    "For instance, if your d is:\n",
    "array([[[1.85836099, 1.67064465, 1.62576044, 1.40243961, 1.88454931],\n",
    "        [1.75354326, 1.69403643, 1.36729252, 1.61415071, 1.12104981],\n",
    "        [1.72201435, 1.1862918 , 1.87078449, 1.7726778 , 1.88180042]],\n",
    "\n",
    "       [[1.44747908, 1.31673383, 1.02000951, 1.52218947, 1.97066381],\n",
    "        [1.79129243, 1.74983003, 1.96028037, 1.85166831, 1.65450881],\n",
    "        [1.18068344, 1.9587381 , 1.00656599, 1.93402165, 1.73514584]]])\n",
    "\n",
    "Your f should be:\n",
    "array([[[ 75.,  75.,  75.,  25.,  75.],\n",
    "        [ 75.,  75.,  25.,  25.,  25.],\n",
    "        [ 75.,  25.,  75.,  75.,  75.]],\n",
    "\n",
    "       [[ 25.,  25.,  25.,  25., 100.],\n",
    "        [ 75.,  75.,  75.,  75.,  75.],\n",
    "        [ 25.,  75.,   0.,  75.,  75.]]])\n",
    "\"\"\""
   ]
  },
  {
   "cell_type": "code",
   "execution_count": 44,
   "metadata": {},
   "outputs": [
    {
     "name": "stdout",
     "output_type": "stream",
     "text": [
      "d =  [[[ 1.09839812  1.22141072  1.07660522  1.14733988  1.16048554]\n",
      "  [ 1.40042827  1.16021998  1.37487462  1.59555767  1.23596872]\n",
      "  [ 1.8449588   1.62910981  1.51433403  1.19722496  1.56747233]]\n",
      "\n",
      " [[ 1.97232345  1.71676047  1.32986362  1.04188583  1.60902502]\n",
      "  [ 1.34857093  1.74617565  1.51470902  1.27398781  1.96847615]\n",
      "  [ 1.0215803   1.42631997  1.70131547  1.2831322   1.04857869]]]\n",
      "f =  [[[25 25 25 25 25]\n",
      "  [25 25 25 75 25]\n",
      "  [75 75 75 25 75]]\n",
      "\n",
      " [[100 75 25 25 75]\n",
      "  [25 75 75 25 75]\n",
      "  [0 75 75 25 25]]]\n"
     ]
    }
   ],
   "source": [
    "print(\"d = \",d)\n",
    "print(\"f = \",f)"
   ]
  },
  {
   "cell_type": "markdown",
   "metadata": {},
   "source": [
    "### 18. Bonus question: instead of using numbers (i.e. 0, 25, 50, 75, and 100), how to use string values \n",
    "(\"A\", \"B\", \"C\", \"D\", and \"E\") to label the array elements? You are expecting the result to be:\n",
    "array([[[ 'D',  'D',  'D',  'B',  'D'],\n",
    "        [ 'D',  'D',  'B',  'B',  'B'],\n",
    "        [ 'D',  'B',  'D',  'D',  'D']],\n",
    "\n",
    "       [[ 'B',  'B',  'B',  'B',  'E'],\n",
    "        [ 'D',  'D',  'D',  'D',  'D'],\n",
    "        [ 'B',  'D',   'A',  'D', 'D']]])\n",
    "Again, you don't need Numpy in this question.\n",
    "\"\"\"\n"
   ]
  },
  {
   "cell_type": "code",
   "execution_count": null,
   "metadata": {},
   "outputs": [],
   "source": []
  },
  {
   "cell_type": "code",
   "execution_count": 46,
   "metadata": {},
   "outputs": [
    {
     "name": "stdout",
     "output_type": "stream",
     "text": [
      "[[['B' 'B' 'B' 'B' 'B']\n",
      "  ['B' 'B' 'B' 'D' 'B']\n",
      "  ['D' 'D' 'D' 'B' 'D']]\n",
      "\n",
      " [['E' 'D' 'B' 'B' 'D']\n",
      "  ['B' 'D' 'D' 'B' 'D']\n",
      "  ['A' 'D' 'D' 'B' 'B']]]\n"
     ]
    }
   ],
   "source": [
    "for i in range (2):\n",
    "    for j in range (3):\n",
    "        for k in range (5):\n",
    "            if d[i,j,k]> d_min and d[i,j,k]<d_mean:\n",
    "                f[i,j,k]=\"B\"\n",
    "            \n",
    "            elif d[i,j,k]< d_max and d[i,j,k]>d_mean:\n",
    "                f[i,j,k]=\"D\"\n",
    "            \n",
    "            elif d[i,j,k]==d_mean:\n",
    "                f[i,j,k]=\"C\"\n",
    "            \n",
    "            elif d[i,j,k]==d_min:\n",
    "                f[i,j,k]=\"A\"\n",
    "            \n",
    "            elif d[i,j,k]==d_max:\n",
    "                f[i,j,k]=\"E\"\n",
    "print(f)"
   ]
  },
  {
   "cell_type": "code",
   "execution_count": null,
   "metadata": {},
   "outputs": [],
   "source": []
  }
 ],
 "metadata": {
  "kernelspec": {
   "display_name": "Python 3",
   "language": "python",
   "name": "python3"
  },
  "language_info": {
   "codemirror_mode": {
    "name": "ipython",
    "version": 3
   },
   "file_extension": ".py",
   "mimetype": "text/x-python",
   "name": "python",
   "nbconvert_exporter": "python",
   "pygments_lexer": "ipython3",
   "version": "3.6.8"
  }
 },
 "nbformat": 4,
 "nbformat_minor": 4
}
