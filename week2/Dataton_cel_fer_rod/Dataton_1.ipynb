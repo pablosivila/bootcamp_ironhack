{
 "cells": [
  {
   "cell_type": "code",
   "execution_count": 1,
   "metadata": {},
   "outputs": [],
   "source": [
    "import pandas as pd  \n",
    "import numpy as np    "
   ]
  },
  {
   "cell_type": "code",
   "execution_count": 510,
   "metadata": {},
   "outputs": [],
   "source": [
    "data = pd.read_csv(r'/home/fernanda/bootcamp ironhack/attacks.csv', encoding=\"ISO-8859-1\")"
   ]
  },
  {
   "cell_type": "code",
   "execution_count": 511,
   "metadata": {},
   "outputs": [
    {
     "data": {
      "text/html": [
       "<div>\n",
       "<style scoped>\n",
       "    .dataframe tbody tr th:only-of-type {\n",
       "        vertical-align: middle;\n",
       "    }\n",
       "\n",
       "    .dataframe tbody tr th {\n",
       "        vertical-align: top;\n",
       "    }\n",
       "\n",
       "    .dataframe thead th {\n",
       "        text-align: right;\n",
       "    }\n",
       "</style>\n",
       "<table border=\"1\" class=\"dataframe\">\n",
       "  <thead>\n",
       "    <tr style=\"text-align: right;\">\n",
       "      <th></th>\n",
       "      <th>Case Number</th>\n",
       "      <th>Date</th>\n",
       "      <th>Year</th>\n",
       "      <th>Type</th>\n",
       "      <th>Country</th>\n",
       "      <th>Area</th>\n",
       "      <th>Location</th>\n",
       "      <th>Activity</th>\n",
       "      <th>Name</th>\n",
       "      <th>Sex</th>\n",
       "      <th>...</th>\n",
       "      <th>Species</th>\n",
       "      <th>Investigator or Source</th>\n",
       "      <th>pdf</th>\n",
       "      <th>href formula</th>\n",
       "      <th>href</th>\n",
       "      <th>Case Number.1</th>\n",
       "      <th>Case Number.2</th>\n",
       "      <th>original order</th>\n",
       "      <th>Unnamed: 22</th>\n",
       "      <th>Unnamed: 23</th>\n",
       "    </tr>\n",
       "  </thead>\n",
       "  <tbody>\n",
       "    <tr>\n",
       "      <td>0</td>\n",
       "      <td>2018.06.25</td>\n",
       "      <td>25-Jun-2018</td>\n",
       "      <td>2018.0</td>\n",
       "      <td>Boating</td>\n",
       "      <td>USA</td>\n",
       "      <td>California</td>\n",
       "      <td>Oceanside, San Diego County</td>\n",
       "      <td>Paddling</td>\n",
       "      <td>Julie Wolfe</td>\n",
       "      <td>F</td>\n",
       "      <td>...</td>\n",
       "      <td>White shark</td>\n",
       "      <td>R. Collier, GSAF</td>\n",
       "      <td>2018.06.25-Wolfe.pdf</td>\n",
       "      <td>http://sharkattackfile.net/spreadsheets/pdf_di...</td>\n",
       "      <td>http://sharkattackfile.net/spreadsheets/pdf_di...</td>\n",
       "      <td>2018.06.25</td>\n",
       "      <td>2018.06.25</td>\n",
       "      <td>6303.0</td>\n",
       "      <td>NaN</td>\n",
       "      <td>NaN</td>\n",
       "    </tr>\n",
       "    <tr>\n",
       "      <td>1</td>\n",
       "      <td>2018.06.18</td>\n",
       "      <td>18-Jun-2018</td>\n",
       "      <td>2018.0</td>\n",
       "      <td>Unprovoked</td>\n",
       "      <td>USA</td>\n",
       "      <td>Georgia</td>\n",
       "      <td>St. Simon Island, Glynn County</td>\n",
       "      <td>Standing</td>\n",
       "      <td>Adyson McNeely</td>\n",
       "      <td>F</td>\n",
       "      <td>...</td>\n",
       "      <td>NaN</td>\n",
       "      <td>K.McMurray, TrackingSharks.com</td>\n",
       "      <td>2018.06.18-McNeely.pdf</td>\n",
       "      <td>http://sharkattackfile.net/spreadsheets/pdf_di...</td>\n",
       "      <td>http://sharkattackfile.net/spreadsheets/pdf_di...</td>\n",
       "      <td>2018.06.18</td>\n",
       "      <td>2018.06.18</td>\n",
       "      <td>6302.0</td>\n",
       "      <td>NaN</td>\n",
       "      <td>NaN</td>\n",
       "    </tr>\n",
       "    <tr>\n",
       "      <td>2</td>\n",
       "      <td>2018.06.09</td>\n",
       "      <td>09-Jun-2018</td>\n",
       "      <td>2018.0</td>\n",
       "      <td>Invalid</td>\n",
       "      <td>USA</td>\n",
       "      <td>Hawaii</td>\n",
       "      <td>Habush, Oahu</td>\n",
       "      <td>Surfing</td>\n",
       "      <td>John Denges</td>\n",
       "      <td>M</td>\n",
       "      <td>...</td>\n",
       "      <td>NaN</td>\n",
       "      <td>K.McMurray, TrackingSharks.com</td>\n",
       "      <td>2018.06.09-Denges.pdf</td>\n",
       "      <td>http://sharkattackfile.net/spreadsheets/pdf_di...</td>\n",
       "      <td>http://sharkattackfile.net/spreadsheets/pdf_di...</td>\n",
       "      <td>2018.06.09</td>\n",
       "      <td>2018.06.09</td>\n",
       "      <td>6301.0</td>\n",
       "      <td>NaN</td>\n",
       "      <td>NaN</td>\n",
       "    </tr>\n",
       "    <tr>\n",
       "      <td>3</td>\n",
       "      <td>2018.06.08</td>\n",
       "      <td>08-Jun-2018</td>\n",
       "      <td>2018.0</td>\n",
       "      <td>Unprovoked</td>\n",
       "      <td>AUSTRALIA</td>\n",
       "      <td>New South Wales</td>\n",
       "      <td>Arrawarra Headland</td>\n",
       "      <td>Surfing</td>\n",
       "      <td>male</td>\n",
       "      <td>M</td>\n",
       "      <td>...</td>\n",
       "      <td>2 m shark</td>\n",
       "      <td>B. Myatt, GSAF</td>\n",
       "      <td>2018.06.08-Arrawarra.pdf</td>\n",
       "      <td>http://sharkattackfile.net/spreadsheets/pdf_di...</td>\n",
       "      <td>http://sharkattackfile.net/spreadsheets/pdf_di...</td>\n",
       "      <td>2018.06.08</td>\n",
       "      <td>2018.06.08</td>\n",
       "      <td>6300.0</td>\n",
       "      <td>NaN</td>\n",
       "      <td>NaN</td>\n",
       "    </tr>\n",
       "    <tr>\n",
       "      <td>4</td>\n",
       "      <td>2018.06.04</td>\n",
       "      <td>04-Jun-2018</td>\n",
       "      <td>2018.0</td>\n",
       "      <td>Provoked</td>\n",
       "      <td>MEXICO</td>\n",
       "      <td>Colima</td>\n",
       "      <td>La Ticla</td>\n",
       "      <td>Free diving</td>\n",
       "      <td>Gustavo Ramos</td>\n",
       "      <td>M</td>\n",
       "      <td>...</td>\n",
       "      <td>Tiger shark, 3m</td>\n",
       "      <td>A .Kipper</td>\n",
       "      <td>2018.06.04-Ramos.pdf</td>\n",
       "      <td>http://sharkattackfile.net/spreadsheets/pdf_di...</td>\n",
       "      <td>http://sharkattackfile.net/spreadsheets/pdf_di...</td>\n",
       "      <td>2018.06.04</td>\n",
       "      <td>2018.06.04</td>\n",
       "      <td>6299.0</td>\n",
       "      <td>NaN</td>\n",
       "      <td>NaN</td>\n",
       "    </tr>\n",
       "    <tr>\n",
       "      <td>...</td>\n",
       "      <td>...</td>\n",
       "      <td>...</td>\n",
       "      <td>...</td>\n",
       "      <td>...</td>\n",
       "      <td>...</td>\n",
       "      <td>...</td>\n",
       "      <td>...</td>\n",
       "      <td>...</td>\n",
       "      <td>...</td>\n",
       "      <td>...</td>\n",
       "      <td>...</td>\n",
       "      <td>...</td>\n",
       "      <td>...</td>\n",
       "      <td>...</td>\n",
       "      <td>...</td>\n",
       "      <td>...</td>\n",
       "      <td>...</td>\n",
       "      <td>...</td>\n",
       "      <td>...</td>\n",
       "      <td>...</td>\n",
       "      <td>...</td>\n",
       "    </tr>\n",
       "    <tr>\n",
       "      <td>25718</td>\n",
       "      <td>NaN</td>\n",
       "      <td>NaN</td>\n",
       "      <td>NaN</td>\n",
       "      <td>NaN</td>\n",
       "      <td>NaN</td>\n",
       "      <td>NaN</td>\n",
       "      <td>NaN</td>\n",
       "      <td>NaN</td>\n",
       "      <td>NaN</td>\n",
       "      <td>NaN</td>\n",
       "      <td>...</td>\n",
       "      <td>NaN</td>\n",
       "      <td>NaN</td>\n",
       "      <td>NaN</td>\n",
       "      <td>NaN</td>\n",
       "      <td>NaN</td>\n",
       "      <td>NaN</td>\n",
       "      <td>NaN</td>\n",
       "      <td>NaN</td>\n",
       "      <td>NaN</td>\n",
       "      <td>NaN</td>\n",
       "    </tr>\n",
       "    <tr>\n",
       "      <td>25719</td>\n",
       "      <td>NaN</td>\n",
       "      <td>NaN</td>\n",
       "      <td>NaN</td>\n",
       "      <td>NaN</td>\n",
       "      <td>NaN</td>\n",
       "      <td>NaN</td>\n",
       "      <td>NaN</td>\n",
       "      <td>NaN</td>\n",
       "      <td>NaN</td>\n",
       "      <td>NaN</td>\n",
       "      <td>...</td>\n",
       "      <td>NaN</td>\n",
       "      <td>NaN</td>\n",
       "      <td>NaN</td>\n",
       "      <td>NaN</td>\n",
       "      <td>NaN</td>\n",
       "      <td>NaN</td>\n",
       "      <td>NaN</td>\n",
       "      <td>NaN</td>\n",
       "      <td>NaN</td>\n",
       "      <td>NaN</td>\n",
       "    </tr>\n",
       "    <tr>\n",
       "      <td>25720</td>\n",
       "      <td>NaN</td>\n",
       "      <td>NaN</td>\n",
       "      <td>NaN</td>\n",
       "      <td>NaN</td>\n",
       "      <td>NaN</td>\n",
       "      <td>NaN</td>\n",
       "      <td>NaN</td>\n",
       "      <td>NaN</td>\n",
       "      <td>NaN</td>\n",
       "      <td>NaN</td>\n",
       "      <td>...</td>\n",
       "      <td>NaN</td>\n",
       "      <td>NaN</td>\n",
       "      <td>NaN</td>\n",
       "      <td>NaN</td>\n",
       "      <td>NaN</td>\n",
       "      <td>NaN</td>\n",
       "      <td>NaN</td>\n",
       "      <td>NaN</td>\n",
       "      <td>NaN</td>\n",
       "      <td>NaN</td>\n",
       "    </tr>\n",
       "    <tr>\n",
       "      <td>25721</td>\n",
       "      <td>NaN</td>\n",
       "      <td>NaN</td>\n",
       "      <td>NaN</td>\n",
       "      <td>NaN</td>\n",
       "      <td>NaN</td>\n",
       "      <td>NaN</td>\n",
       "      <td>NaN</td>\n",
       "      <td>NaN</td>\n",
       "      <td>NaN</td>\n",
       "      <td>NaN</td>\n",
       "      <td>...</td>\n",
       "      <td>NaN</td>\n",
       "      <td>NaN</td>\n",
       "      <td>NaN</td>\n",
       "      <td>NaN</td>\n",
       "      <td>NaN</td>\n",
       "      <td>NaN</td>\n",
       "      <td>NaN</td>\n",
       "      <td>NaN</td>\n",
       "      <td>NaN</td>\n",
       "      <td>NaN</td>\n",
       "    </tr>\n",
       "    <tr>\n",
       "      <td>25722</td>\n",
       "      <td>xx</td>\n",
       "      <td>NaN</td>\n",
       "      <td>NaN</td>\n",
       "      <td>NaN</td>\n",
       "      <td>NaN</td>\n",
       "      <td>NaN</td>\n",
       "      <td>NaN</td>\n",
       "      <td>NaN</td>\n",
       "      <td>NaN</td>\n",
       "      <td>NaN</td>\n",
       "      <td>...</td>\n",
       "      <td>NaN</td>\n",
       "      <td>NaN</td>\n",
       "      <td>NaN</td>\n",
       "      <td>NaN</td>\n",
       "      <td>NaN</td>\n",
       "      <td>NaN</td>\n",
       "      <td>NaN</td>\n",
       "      <td>NaN</td>\n",
       "      <td>NaN</td>\n",
       "      <td>NaN</td>\n",
       "    </tr>\n",
       "  </tbody>\n",
       "</table>\n",
       "<p>25723 rows × 24 columns</p>\n",
       "</div>"
      ],
      "text/plain": [
       "      Case Number         Date    Year        Type    Country  \\\n",
       "0      2018.06.25  25-Jun-2018  2018.0     Boating        USA   \n",
       "1      2018.06.18  18-Jun-2018  2018.0  Unprovoked        USA   \n",
       "2      2018.06.09  09-Jun-2018  2018.0     Invalid        USA   \n",
       "3      2018.06.08  08-Jun-2018  2018.0  Unprovoked  AUSTRALIA   \n",
       "4      2018.06.04  04-Jun-2018  2018.0    Provoked     MEXICO   \n",
       "...           ...          ...     ...         ...        ...   \n",
       "25718         NaN          NaN     NaN         NaN        NaN   \n",
       "25719         NaN          NaN     NaN         NaN        NaN   \n",
       "25720         NaN          NaN     NaN         NaN        NaN   \n",
       "25721         NaN          NaN     NaN         NaN        NaN   \n",
       "25722          xx          NaN     NaN         NaN        NaN   \n",
       "\n",
       "                  Area                        Location     Activity  \\\n",
       "0           California     Oceanside, San Diego County     Paddling   \n",
       "1              Georgia  St. Simon Island, Glynn County     Standing   \n",
       "2               Hawaii                    Habush, Oahu      Surfing   \n",
       "3      New South Wales              Arrawarra Headland      Surfing   \n",
       "4               Colima                        La Ticla  Free diving   \n",
       "...                ...                             ...          ...   \n",
       "25718              NaN                             NaN          NaN   \n",
       "25719              NaN                             NaN          NaN   \n",
       "25720              NaN                             NaN          NaN   \n",
       "25721              NaN                             NaN          NaN   \n",
       "25722              NaN                             NaN          NaN   \n",
       "\n",
       "                  Name Sex   ...         Species   \\\n",
       "0          Julie Wolfe    F  ...      White shark   \n",
       "1      Adyson McNeely     F  ...              NaN   \n",
       "2          John Denges    M  ...              NaN   \n",
       "3                 male    M  ...        2 m shark   \n",
       "4       Gustavo Ramos     M  ...  Tiger shark, 3m   \n",
       "...                ...  ...  ...              ...   \n",
       "25718              NaN  NaN  ...              NaN   \n",
       "25719              NaN  NaN  ...              NaN   \n",
       "25720              NaN  NaN  ...              NaN   \n",
       "25721              NaN  NaN  ...              NaN   \n",
       "25722              NaN  NaN  ...              NaN   \n",
       "\n",
       "               Investigator or Source                       pdf  \\\n",
       "0                    R. Collier, GSAF      2018.06.25-Wolfe.pdf   \n",
       "1      K.McMurray, TrackingSharks.com    2018.06.18-McNeely.pdf   \n",
       "2      K.McMurray, TrackingSharks.com     2018.06.09-Denges.pdf   \n",
       "3                      B. Myatt, GSAF  2018.06.08-Arrawarra.pdf   \n",
       "4                           A .Kipper      2018.06.04-Ramos.pdf   \n",
       "...                               ...                       ...   \n",
       "25718                             NaN                       NaN   \n",
       "25719                             NaN                       NaN   \n",
       "25720                             NaN                       NaN   \n",
       "25721                             NaN                       NaN   \n",
       "25722                             NaN                       NaN   \n",
       "\n",
       "                                            href formula  \\\n",
       "0      http://sharkattackfile.net/spreadsheets/pdf_di...   \n",
       "1      http://sharkattackfile.net/spreadsheets/pdf_di...   \n",
       "2      http://sharkattackfile.net/spreadsheets/pdf_di...   \n",
       "3      http://sharkattackfile.net/spreadsheets/pdf_di...   \n",
       "4      http://sharkattackfile.net/spreadsheets/pdf_di...   \n",
       "...                                                  ...   \n",
       "25718                                                NaN   \n",
       "25719                                                NaN   \n",
       "25720                                                NaN   \n",
       "25721                                                NaN   \n",
       "25722                                                NaN   \n",
       "\n",
       "                                                    href Case Number.1  \\\n",
       "0      http://sharkattackfile.net/spreadsheets/pdf_di...    2018.06.25   \n",
       "1      http://sharkattackfile.net/spreadsheets/pdf_di...    2018.06.18   \n",
       "2      http://sharkattackfile.net/spreadsheets/pdf_di...    2018.06.09   \n",
       "3      http://sharkattackfile.net/spreadsheets/pdf_di...    2018.06.08   \n",
       "4      http://sharkattackfile.net/spreadsheets/pdf_di...    2018.06.04   \n",
       "...                                                  ...           ...   \n",
       "25718                                                NaN           NaN   \n",
       "25719                                                NaN           NaN   \n",
       "25720                                                NaN           NaN   \n",
       "25721                                                NaN           NaN   \n",
       "25722                                                NaN           NaN   \n",
       "\n",
       "      Case Number.2 original order Unnamed: 22 Unnamed: 23  \n",
       "0        2018.06.25         6303.0         NaN         NaN  \n",
       "1        2018.06.18         6302.0         NaN         NaN  \n",
       "2        2018.06.09         6301.0         NaN         NaN  \n",
       "3        2018.06.08         6300.0         NaN         NaN  \n",
       "4        2018.06.04         6299.0         NaN         NaN  \n",
       "...             ...            ...         ...         ...  \n",
       "25718           NaN            NaN         NaN         NaN  \n",
       "25719           NaN            NaN         NaN         NaN  \n",
       "25720           NaN            NaN         NaN         NaN  \n",
       "25721           NaN            NaN         NaN         NaN  \n",
       "25722           NaN            NaN         NaN         NaN  \n",
       "\n",
       "[25723 rows x 24 columns]"
      ]
     },
     "execution_count": 511,
     "metadata": {},
     "output_type": "execute_result"
    }
   ],
   "source": [
    "data"
   ]
  },
  {
   "cell_type": "code",
   "execution_count": 512,
   "metadata": {},
   "outputs": [
    {
     "data": {
      "text/plain": [
       "Unnamed: 22               25722\n",
       "Unnamed: 23               25721\n",
       "Time                      22775\n",
       "Species                   22259\n",
       "Age                       22252\n",
       "Sex                       19986\n",
       "Activity                  19965\n",
       "Location                  19961\n",
       "Fatal (Y/N)               19960\n",
       "Area                      19876\n",
       "Name                      19631\n",
       "Country                   19471\n",
       "Injury                    19449\n",
       "Investigator or Source    19438\n",
       "Type                      19425\n",
       "Year                      19423\n",
       "href formula              19422\n",
       "pdf                       19421\n",
       "href                      19421\n",
       "Case Number.1             19421\n",
       "Case Number.2             19421\n",
       "Date                      19421\n",
       "original order            19414\n",
       "Case Number               17021\n",
       "dtype: int64"
      ]
     },
     "execution_count": 512,
     "metadata": {},
     "output_type": "execute_result"
    }
   ],
   "source": [
    "data.isnull().sum().sort_values(ascending=False)"
   ]
  },
  {
   "cell_type": "code",
   "execution_count": 513,
   "metadata": {},
   "outputs": [
    {
     "data": {
      "text/plain": [
       "0         True\n",
       "1         True\n",
       "2         True\n",
       "3         True\n",
       "4         True\n",
       "         ...  \n",
       "25718    False\n",
       "25719    False\n",
       "25720    False\n",
       "25721    False\n",
       "25722    False\n",
       "Length: 25723, dtype: bool"
      ]
     },
     "execution_count": 513,
     "metadata": {},
     "output_type": "execute_result"
    }
   ],
   "source": [
    "data[\"href\"]==data[\"href formula\"]"
   ]
  },
  {
   "cell_type": "code",
   "execution_count": 514,
   "metadata": {},
   "outputs": [
    {
     "data": {
      "text/plain": [
       "http://sharkattackfile.net/spreadsheets/pdf_directory/w014.01.25-Grant.pdf                  4\n",
       "http://sharkattackfile.net/spreadsheets/pdf_directory/2014.10.02.b-Vandenberg.pdf           3\n",
       "http://sharkattackfile.net/spreadsheets/pdf_directory/1931.09.21.a-b-Holaday-Barrows.pdf    2\n",
       "http://sharkattackfile.net/spreadsheets/pdf_directory/1923.00.00.a-NJ fisherman.pdf         2\n",
       "http://sharkattackfile.net/spreadsheets/pdf_directory/1906.09.27.R.a&b-Munich-Swede.pdf     2\n",
       "                                                                                           ..\n",
       "http://sharkattackfile.net/spreadsheets/pdf_directory/1905.03.25-Taylor.pdf                 1\n",
       "http://sharkattackfile.net/spreadsheets/pdf_directory/1981.09.03.b-Corrack.pdf              1\n",
       "http://sharkattackfile.net/spreadsheets/pdf_directory/2007.09.22.b-Cuomo.pdf                1\n",
       "http://sharkattackfile.net/spreadsheets/pdf_directory/1960.00.00.g-Ferdinands.pdf           1\n",
       "http://sharkattackfile.net/spreadsheets/pdf_directory/1960.05.19-Theriot_Collier.pdf        1\n",
       "Name: href, Length: 6285, dtype: int64"
      ]
     },
     "execution_count": 514,
     "metadata": {},
     "output_type": "execute_result"
    }
   ],
   "source": [
    "data[\"href\"].value_counts()"
   ]
  },
  {
   "cell_type": "code",
   "execution_count": 515,
   "metadata": {},
   "outputs": [
    {
     "data": {
      "text/plain": [
       "http://sharkattackfile.net/spreadsheets/pdf_directory/1931.09.21.a-b-Holaday-Barrows.pdf          2\n",
       "http://sharkattackfile.net/spreadsheets/pdf_directory/1916.12.08.a-b-German.pdf                   2\n",
       "http://sharkattackfile.net/spreadsheets/pdf_directory/1921.11.27.a-b-Jack.pdf                     2\n",
       "http://sharkattackfile.net/spreadsheets/pdf_directory/1916.07.12.a-b-Stillwell-Fisher.pdf         2\n",
       "http://sharkattackfile.net/spreadsheets/pdf_directory/1923.00.00.a-NJ fisherman.pdf               2\n",
       "                                                                                                 ..\n",
       "http://sharkattackfile.net/spreadsheets/pdf_directory/2003.09.29-Mate.pdf                         1\n",
       "http://sharkattackfile.net/spreadsheets/pdf_directory/1905.09.29-Crotty.pdf                       1\n",
       "http://sharkattackfile.net/spreadsheets/pdf_directory/1842.00.00.b-Hindoo.pdf                     1\n",
       "http://sharkattackfile.net/spreadsheets/pdf_directory/1890.00.00.e-FrederickSampsonJohnson.pdf    1\n",
       "http://sharkattackfile.net/spreadsheets/pdf_directory/1883.10.20.R-Galicia.pdf                    1\n",
       "Name: href formula, Length: 6290, dtype: int64"
      ]
     },
     "execution_count": 515,
     "metadata": {},
     "output_type": "execute_result"
    }
   ],
   "source": [
    "data[\"href formula\"].value_counts()"
   ]
  },
  {
   "cell_type": "code",
   "execution_count": 516,
   "metadata": {},
   "outputs": [
    {
     "data": {
      "text/plain": [
       "0         True\n",
       "1         True\n",
       "2         True\n",
       "3         True\n",
       "4         True\n",
       "         ...  \n",
       "25718    False\n",
       "25719    False\n",
       "25720    False\n",
       "25721    False\n",
       "25722    False\n",
       "Length: 25723, dtype: bool"
      ]
     },
     "execution_count": 516,
     "metadata": {},
     "output_type": "execute_result"
    }
   ],
   "source": [
    "data[\"Case Number.1\"]==data[\"Case Number.2\"]"
   ]
  },
  {
   "cell_type": "code",
   "execution_count": 347,
   "metadata": {},
   "outputs": [
    {
     "data": {
      "text/plain": [
       "1952.08.04      2\n",
       "1990.05.10      2\n",
       "1923.00.00.a    2\n",
       "1920.00.00.b    2\n",
       "2005.04.06      2\n",
       "               ..\n",
       "2003.06.08      1\n",
       "1917.05.05      1\n",
       "2011.07.30      1\n",
       "2000.09.10.a    1\n",
       "2005.12.05.R    1\n",
       "Name: Case Number.1, Length: 6285, dtype: int64"
      ]
     },
     "execution_count": 347,
     "metadata": {},
     "output_type": "execute_result"
    }
   ],
   "source": [
    "data[\"Case Number.1\"].value_counts()"
   ]
  },
  {
   "cell_type": "code",
   "execution_count": 348,
   "metadata": {},
   "outputs": [
    {
     "data": {
      "text/plain": [
       "1920.00.00.b    2\n",
       "1990.05.10      2\n",
       "1962.06.11.b    2\n",
       "1923.00.00.a    2\n",
       "1966.12.26      2\n",
       "               ..\n",
       "2003.06.08      1\n",
       "1917.05.05      1\n",
       "2011.07.30      1\n",
       "2000.09.10.a    1\n",
       "2005.12.05.R    1\n",
       "Name: Case Number.2, Length: 6286, dtype: int64"
      ]
     },
     "execution_count": 348,
     "metadata": {},
     "output_type": "execute_result"
    }
   ],
   "source": [
    "data[\"Case Number.2\"].value_counts()"
   ]
  },
  {
   "cell_type": "code",
   "execution_count": 349,
   "metadata": {},
   "outputs": [
    {
     "data": {
      "text/plain": [
       "1957           11\n",
       "1942            9\n",
       "1956            8\n",
       "1950            7\n",
       "1941            7\n",
       "               ..\n",
       "19-Aug-1986     1\n",
       "08-May-1987     1\n",
       "24-Oct-1997     1\n",
       "Oct-1988        1\n",
       "01-May-1960     1\n",
       "Name: Date, Length: 5433, dtype: int64"
      ]
     },
     "execution_count": 349,
     "metadata": {},
     "output_type": "execute_result"
    }
   ],
   "source": [
    "data[\"Date\"].value_counts()\n",
    "\n"
   ]
  },
  {
   "cell_type": "code",
   "execution_count": 350,
   "metadata": {},
   "outputs": [
    {
     "data": {
      "text/plain": [
       "2015.0    143\n",
       "2017.0    136\n",
       "2016.0    130\n",
       "2011.0    128\n",
       "2014.0    127\n",
       "         ... \n",
       "1753.0      1\n",
       "77.0        1\n",
       "1785.0      1\n",
       "1580.0      1\n",
       "1543.0      1\n",
       "Name: Year, Length: 249, dtype: int64"
      ]
     },
     "execution_count": 350,
     "metadata": {},
     "output_type": "execute_result"
    }
   ],
   "source": [
    "data[\"Year\"].value_counts()\n"
   ]
  },
  {
   "cell_type": "code",
   "execution_count": 351,
   "metadata": {},
   "outputs": [
    {
     "data": {
      "text/plain": [
       "Unprovoked      4595\n",
       "Provoked         574\n",
       "Invalid          547\n",
       "Sea Disaster     239\n",
       "Boating          203\n",
       "Boat             137\n",
       "Questionable       2\n",
       "Boatomg            1\n",
       "Name: Type, dtype: int64"
      ]
     },
     "execution_count": 351,
     "metadata": {},
     "output_type": "execute_result"
    }
   ],
   "source": [
    "data[\"Type\"].value_counts()\n"
   ]
  },
  {
   "cell_type": "code",
   "execution_count": 352,
   "metadata": {},
   "outputs": [
    {
     "data": {
      "text/plain": [
       "USA                         2229\n",
       "AUSTRALIA                   1338\n",
       "SOUTH AFRICA                 579\n",
       "PAPUA NEW GUINEA             134\n",
       "NEW ZEALAND                  128\n",
       "                            ... \n",
       "Seychelles                     1\n",
       "ROATAN                         1\n",
       "NORTHERN MARIANA ISLANDS       1\n",
       "NEVIS                          1\n",
       "GABON                          1\n",
       "Name: Country, Length: 212, dtype: int64"
      ]
     },
     "execution_count": 352,
     "metadata": {},
     "output_type": "execute_result"
    }
   ],
   "source": [
    "data[\"Country\"].value_counts()\n"
   ]
  },
  {
   "cell_type": "code",
   "execution_count": 353,
   "metadata": {},
   "outputs": [
    {
     "data": {
      "text/plain": [
       "Florida              1037\n",
       "New South Wales       486\n",
       "Queensland            311\n",
       "Hawaii                298\n",
       "California            290\n",
       "                     ... \n",
       "Kowloon Peninsula       1\n",
       "33N, 68W                1\n",
       "Tabasco                 1\n",
       "Kwajalein               1\n",
       "Estuaire Province       1\n",
       "Name: Area, Length: 825, dtype: int64"
      ]
     },
     "execution_count": 353,
     "metadata": {},
     "output_type": "execute_result"
    }
   ],
   "source": [
    "data[\"Area\"].value_counts()\n"
   ]
  },
  {
   "cell_type": "code",
   "execution_count": 354,
   "metadata": {},
   "outputs": [
    {
     "data": {
      "text/plain": [
       "New Smyrna Beach, Volusia County     163\n",
       "Daytona Beach, Volusia County         30\n",
       "Ponce Inlet, Volusia County           20\n",
       "Melbourne Beach, Brevard County       18\n",
       "Myrtle Beach, Horry County            17\n",
       "                                    ... \n",
       "Stratham Beach                         1\n",
       "Follett's Island, Brazoria County      1\n",
       " Kahului, Maui                         1\n",
       "South Golden Beach                     1\n",
       "Hams Beach                             1\n",
       "Name: Location, Length: 4108, dtype: int64"
      ]
     },
     "execution_count": 354,
     "metadata": {},
     "output_type": "execute_result"
    }
   ],
   "source": [
    "data[\"Location\"].value_counts()\n"
   ]
  },
  {
   "cell_type": "code",
   "execution_count": 355,
   "metadata": {},
   "outputs": [
    {
     "data": {
      "text/plain": [
       "Surfing                                                                   971\n",
       "Swimming                                                                  869\n",
       "Fishing                                                                   431\n",
       "Spearfishing                                                              333\n",
       "Bathing                                                                   162\n",
       "                                                                         ... \n",
       "Fishing from dory, shark upset boat & he fell into the water                1\n",
       "Sinking of the 40' Esperanza off St. Maartin with 36 refugees on board      1\n",
       "Walking in surf                                                             1\n",
       "Surfing, lying on surfboard                                                 1\n",
       "Shipwrecked Persian Fleet                                                   1\n",
       "Name: Activity, Length: 1532, dtype: int64"
      ]
     },
     "execution_count": 355,
     "metadata": {},
     "output_type": "execute_result"
    }
   ],
   "source": [
    "data[\"Activity\"].value_counts()\n"
   ]
  },
  {
   "cell_type": "code",
   "execution_count": 356,
   "metadata": {},
   "outputs": [
    {
     "data": {
      "text/plain": [
       "17             154\n",
       "18             150\n",
       "19             142\n",
       "20             141\n",
       "15             139\n",
       "              ... \n",
       "46 & 34          1\n",
       "74               1\n",
       "28, 23 & 30      1\n",
       "60's             1\n",
       "Ca. 33           1\n",
       "Name: Age, Length: 157, dtype: int64"
      ]
     },
     "execution_count": 356,
     "metadata": {},
     "output_type": "execute_result"
    }
   ],
   "source": [
    "data[\"Age\"].value_counts()\n"
   ]
  },
  {
   "cell_type": "code",
   "execution_count": 357,
   "metadata": {},
   "outputs": [
    {
     "data": {
      "text/plain": [
       "N          4293\n",
       "Y          1388\n",
       "UNKNOWN      71\n",
       " N            7\n",
       "N             1\n",
       "M             1\n",
       "y             1\n",
       "2017          1\n",
       "Name: Fatal (Y/N), dtype: int64"
      ]
     },
     "execution_count": 357,
     "metadata": {},
     "output_type": "execute_result"
    }
   ],
   "source": [
    "data[\"Fatal (Y/N)\"].value_counts()\n"
   ]
  },
  {
   "cell_type": "code",
   "execution_count": 358,
   "metadata": {},
   "outputs": [
    {
     "data": {
      "text/plain": [
       "M      5094\n",
       "F       637\n",
       "N         2\n",
       "M         2\n",
       ".         1\n",
       "lli       1\n",
       "Name: Sex , dtype: int64"
      ]
     },
     "execution_count": 358,
     "metadata": {},
     "output_type": "execute_result"
    }
   ],
   "source": [
    "data[\"Sex \"].value_counts()"
   ]
  },
  {
   "cell_type": "code",
   "execution_count": 359,
   "metadata": {},
   "outputs": [
    {
     "data": {
      "text/plain": [
       "0        6303.0\n",
       "1        6302.0\n",
       "2        6301.0\n",
       "3        6300.0\n",
       "4        6299.0\n",
       "          ...  \n",
       "25718       NaN\n",
       "25719       NaN\n",
       "25720       NaN\n",
       "25721       NaN\n",
       "25722       NaN\n",
       "Name: original order, Length: 25723, dtype: float64"
      ]
     },
     "execution_count": 359,
     "metadata": {},
     "output_type": "execute_result"
    }
   ],
   "source": [
    "data[\"original order\"]"
   ]
  },
  {
   "cell_type": "code",
   "execution_count": 517,
   "metadata": {},
   "outputs": [],
   "source": [
    "data_modified = data[['Case Number','Year','Type','Country','Area','Location','Activity','Sex ','Age','Fatal (Y/N)', 'Time', 'Species ', 'Investigator or Source']]"
   ]
  },
  {
   "cell_type": "code",
   "execution_count": 518,
   "metadata": {},
   "outputs": [
    {
     "data": {
      "text/html": [
       "<div>\n",
       "<style scoped>\n",
       "    .dataframe tbody tr th:only-of-type {\n",
       "        vertical-align: middle;\n",
       "    }\n",
       "\n",
       "    .dataframe tbody tr th {\n",
       "        vertical-align: top;\n",
       "    }\n",
       "\n",
       "    .dataframe thead th {\n",
       "        text-align: right;\n",
       "    }\n",
       "</style>\n",
       "<table border=\"1\" class=\"dataframe\">\n",
       "  <thead>\n",
       "    <tr style=\"text-align: right;\">\n",
       "      <th></th>\n",
       "      <th>Case Number</th>\n",
       "      <th>Year</th>\n",
       "      <th>Type</th>\n",
       "      <th>Country</th>\n",
       "      <th>Area</th>\n",
       "      <th>Location</th>\n",
       "      <th>Activity</th>\n",
       "      <th>Sex</th>\n",
       "      <th>Age</th>\n",
       "      <th>Fatal (Y/N)</th>\n",
       "      <th>Time</th>\n",
       "      <th>Species</th>\n",
       "      <th>Investigator or Source</th>\n",
       "    </tr>\n",
       "  </thead>\n",
       "  <tbody>\n",
       "    <tr>\n",
       "      <td>0</td>\n",
       "      <td>2018.06.25</td>\n",
       "      <td>2018.0</td>\n",
       "      <td>Boating</td>\n",
       "      <td>USA</td>\n",
       "      <td>California</td>\n",
       "      <td>Oceanside, San Diego County</td>\n",
       "      <td>Paddling</td>\n",
       "      <td>F</td>\n",
       "      <td>57</td>\n",
       "      <td>N</td>\n",
       "      <td>18h00</td>\n",
       "      <td>White shark</td>\n",
       "      <td>R. Collier, GSAF</td>\n",
       "    </tr>\n",
       "    <tr>\n",
       "      <td>1</td>\n",
       "      <td>2018.06.18</td>\n",
       "      <td>2018.0</td>\n",
       "      <td>Unprovoked</td>\n",
       "      <td>USA</td>\n",
       "      <td>Georgia</td>\n",
       "      <td>St. Simon Island, Glynn County</td>\n",
       "      <td>Standing</td>\n",
       "      <td>F</td>\n",
       "      <td>11</td>\n",
       "      <td>N</td>\n",
       "      <td>14h00  -15h00</td>\n",
       "      <td>NaN</td>\n",
       "      <td>K.McMurray, TrackingSharks.com</td>\n",
       "    </tr>\n",
       "    <tr>\n",
       "      <td>2</td>\n",
       "      <td>2018.06.09</td>\n",
       "      <td>2018.0</td>\n",
       "      <td>Invalid</td>\n",
       "      <td>USA</td>\n",
       "      <td>Hawaii</td>\n",
       "      <td>Habush, Oahu</td>\n",
       "      <td>Surfing</td>\n",
       "      <td>M</td>\n",
       "      <td>48</td>\n",
       "      <td>N</td>\n",
       "      <td>07h45</td>\n",
       "      <td>NaN</td>\n",
       "      <td>K.McMurray, TrackingSharks.com</td>\n",
       "    </tr>\n",
       "    <tr>\n",
       "      <td>3</td>\n",
       "      <td>2018.06.08</td>\n",
       "      <td>2018.0</td>\n",
       "      <td>Unprovoked</td>\n",
       "      <td>AUSTRALIA</td>\n",
       "      <td>New South Wales</td>\n",
       "      <td>Arrawarra Headland</td>\n",
       "      <td>Surfing</td>\n",
       "      <td>M</td>\n",
       "      <td>NaN</td>\n",
       "      <td>N</td>\n",
       "      <td>NaN</td>\n",
       "      <td>2 m shark</td>\n",
       "      <td>B. Myatt, GSAF</td>\n",
       "    </tr>\n",
       "    <tr>\n",
       "      <td>4</td>\n",
       "      <td>2018.06.04</td>\n",
       "      <td>2018.0</td>\n",
       "      <td>Provoked</td>\n",
       "      <td>MEXICO</td>\n",
       "      <td>Colima</td>\n",
       "      <td>La Ticla</td>\n",
       "      <td>Free diving</td>\n",
       "      <td>M</td>\n",
       "      <td>NaN</td>\n",
       "      <td>N</td>\n",
       "      <td>NaN</td>\n",
       "      <td>Tiger shark, 3m</td>\n",
       "      <td>A .Kipper</td>\n",
       "    </tr>\n",
       "    <tr>\n",
       "      <td>...</td>\n",
       "      <td>...</td>\n",
       "      <td>...</td>\n",
       "      <td>...</td>\n",
       "      <td>...</td>\n",
       "      <td>...</td>\n",
       "      <td>...</td>\n",
       "      <td>...</td>\n",
       "      <td>...</td>\n",
       "      <td>...</td>\n",
       "      <td>...</td>\n",
       "      <td>...</td>\n",
       "      <td>...</td>\n",
       "      <td>...</td>\n",
       "    </tr>\n",
       "    <tr>\n",
       "      <td>25718</td>\n",
       "      <td>NaN</td>\n",
       "      <td>NaN</td>\n",
       "      <td>NaN</td>\n",
       "      <td>NaN</td>\n",
       "      <td>NaN</td>\n",
       "      <td>NaN</td>\n",
       "      <td>NaN</td>\n",
       "      <td>NaN</td>\n",
       "      <td>NaN</td>\n",
       "      <td>NaN</td>\n",
       "      <td>NaN</td>\n",
       "      <td>NaN</td>\n",
       "      <td>NaN</td>\n",
       "    </tr>\n",
       "    <tr>\n",
       "      <td>25719</td>\n",
       "      <td>NaN</td>\n",
       "      <td>NaN</td>\n",
       "      <td>NaN</td>\n",
       "      <td>NaN</td>\n",
       "      <td>NaN</td>\n",
       "      <td>NaN</td>\n",
       "      <td>NaN</td>\n",
       "      <td>NaN</td>\n",
       "      <td>NaN</td>\n",
       "      <td>NaN</td>\n",
       "      <td>NaN</td>\n",
       "      <td>NaN</td>\n",
       "      <td>NaN</td>\n",
       "    </tr>\n",
       "    <tr>\n",
       "      <td>25720</td>\n",
       "      <td>NaN</td>\n",
       "      <td>NaN</td>\n",
       "      <td>NaN</td>\n",
       "      <td>NaN</td>\n",
       "      <td>NaN</td>\n",
       "      <td>NaN</td>\n",
       "      <td>NaN</td>\n",
       "      <td>NaN</td>\n",
       "      <td>NaN</td>\n",
       "      <td>NaN</td>\n",
       "      <td>NaN</td>\n",
       "      <td>NaN</td>\n",
       "      <td>NaN</td>\n",
       "    </tr>\n",
       "    <tr>\n",
       "      <td>25721</td>\n",
       "      <td>NaN</td>\n",
       "      <td>NaN</td>\n",
       "      <td>NaN</td>\n",
       "      <td>NaN</td>\n",
       "      <td>NaN</td>\n",
       "      <td>NaN</td>\n",
       "      <td>NaN</td>\n",
       "      <td>NaN</td>\n",
       "      <td>NaN</td>\n",
       "      <td>NaN</td>\n",
       "      <td>NaN</td>\n",
       "      <td>NaN</td>\n",
       "      <td>NaN</td>\n",
       "    </tr>\n",
       "    <tr>\n",
       "      <td>25722</td>\n",
       "      <td>xx</td>\n",
       "      <td>NaN</td>\n",
       "      <td>NaN</td>\n",
       "      <td>NaN</td>\n",
       "      <td>NaN</td>\n",
       "      <td>NaN</td>\n",
       "      <td>NaN</td>\n",
       "      <td>NaN</td>\n",
       "      <td>NaN</td>\n",
       "      <td>NaN</td>\n",
       "      <td>NaN</td>\n",
       "      <td>NaN</td>\n",
       "      <td>NaN</td>\n",
       "    </tr>\n",
       "  </tbody>\n",
       "</table>\n",
       "<p>25723 rows × 13 columns</p>\n",
       "</div>"
      ],
      "text/plain": [
       "      Case Number    Year        Type    Country             Area  \\\n",
       "0      2018.06.25  2018.0     Boating        USA       California   \n",
       "1      2018.06.18  2018.0  Unprovoked        USA          Georgia   \n",
       "2      2018.06.09  2018.0     Invalid        USA           Hawaii   \n",
       "3      2018.06.08  2018.0  Unprovoked  AUSTRALIA  New South Wales   \n",
       "4      2018.06.04  2018.0    Provoked     MEXICO           Colima   \n",
       "...           ...     ...         ...        ...              ...   \n",
       "25718         NaN     NaN         NaN        NaN              NaN   \n",
       "25719         NaN     NaN         NaN        NaN              NaN   \n",
       "25720         NaN     NaN         NaN        NaN              NaN   \n",
       "25721         NaN     NaN         NaN        NaN              NaN   \n",
       "25722          xx     NaN         NaN        NaN              NaN   \n",
       "\n",
       "                             Location     Activity Sex   Age Fatal (Y/N)  \\\n",
       "0         Oceanside, San Diego County     Paddling    F   57           N   \n",
       "1      St. Simon Island, Glynn County     Standing    F   11           N   \n",
       "2                        Habush, Oahu      Surfing    M   48           N   \n",
       "3                  Arrawarra Headland      Surfing    M  NaN           N   \n",
       "4                            La Ticla  Free diving    M  NaN           N   \n",
       "...                               ...          ...  ...  ...         ...   \n",
       "25718                             NaN          NaN  NaN  NaN         NaN   \n",
       "25719                             NaN          NaN  NaN  NaN         NaN   \n",
       "25720                             NaN          NaN  NaN  NaN         NaN   \n",
       "25721                             NaN          NaN  NaN  NaN         NaN   \n",
       "25722                             NaN          NaN  NaN  NaN         NaN   \n",
       "\n",
       "                Time         Species           Investigator or Source  \n",
       "0              18h00      White shark                R. Collier, GSAF  \n",
       "1      14h00  -15h00              NaN  K.McMurray, TrackingSharks.com  \n",
       "2              07h45              NaN  K.McMurray, TrackingSharks.com  \n",
       "3                NaN        2 m shark                  B. Myatt, GSAF  \n",
       "4                NaN  Tiger shark, 3m                       A .Kipper  \n",
       "...              ...              ...                             ...  \n",
       "25718            NaN              NaN                             NaN  \n",
       "25719            NaN              NaN                             NaN  \n",
       "25720            NaN              NaN                             NaN  \n",
       "25721            NaN              NaN                             NaN  \n",
       "25722            NaN              NaN                             NaN  \n",
       "\n",
       "[25723 rows x 13 columns]"
      ]
     },
     "execution_count": 518,
     "metadata": {},
     "output_type": "execute_result"
    }
   ],
   "source": [
    "data_modified"
   ]
  },
  {
   "cell_type": "code",
   "execution_count": 519,
   "metadata": {},
   "outputs": [
    {
     "name": "stderr",
     "output_type": "stream",
     "text": [
      "/home/fernanda/.local/lib/python3.6/site-packages/ipykernel_launcher.py:5: SettingWithCopyWarning: \n",
      "A value is trying to be set on a copy of a slice from a DataFrame\n",
      "\n",
      "See the caveats in the documentation: http://pandas.pydata.org/pandas-docs/stable/user_guide/indexing.html#returning-a-view-versus-a-copy\n",
      "  \"\"\"\n"
     ]
    }
   ],
   "source": [
    "\n",
    "# Get names of indexes for which column Age has value 30\n",
    "#indexNames = df[ df['Year'] == \"nan\" ].index\n",
    " \n",
    "# Delete these row indexes from dataFrame\n",
    "data_modified.dropna(subset =['Country'], inplace=True)"
   ]
  },
  {
   "cell_type": "code",
   "execution_count": 520,
   "metadata": {},
   "outputs": [
    {
     "data": {
      "text/html": [
       "<div>\n",
       "<style scoped>\n",
       "    .dataframe tbody tr th:only-of-type {\n",
       "        vertical-align: middle;\n",
       "    }\n",
       "\n",
       "    .dataframe tbody tr th {\n",
       "        vertical-align: top;\n",
       "    }\n",
       "\n",
       "    .dataframe thead th {\n",
       "        text-align: right;\n",
       "    }\n",
       "</style>\n",
       "<table border=\"1\" class=\"dataframe\">\n",
       "  <thead>\n",
       "    <tr style=\"text-align: right;\">\n",
       "      <th></th>\n",
       "      <th>Case Number</th>\n",
       "      <th>Year</th>\n",
       "      <th>Type</th>\n",
       "      <th>Country</th>\n",
       "      <th>Area</th>\n",
       "      <th>Location</th>\n",
       "      <th>Activity</th>\n",
       "      <th>Sex</th>\n",
       "      <th>Age</th>\n",
       "      <th>Fatal (Y/N)</th>\n",
       "      <th>Time</th>\n",
       "      <th>Species</th>\n",
       "      <th>Investigator or Source</th>\n",
       "    </tr>\n",
       "  </thead>\n",
       "  <tbody>\n",
       "    <tr>\n",
       "      <td>0</td>\n",
       "      <td>2018.06.25</td>\n",
       "      <td>2018.0</td>\n",
       "      <td>Boating</td>\n",
       "      <td>USA</td>\n",
       "      <td>California</td>\n",
       "      <td>Oceanside, San Diego County</td>\n",
       "      <td>Paddling</td>\n",
       "      <td>F</td>\n",
       "      <td>57</td>\n",
       "      <td>N</td>\n",
       "      <td>18h00</td>\n",
       "      <td>White shark</td>\n",
       "      <td>R. Collier, GSAF</td>\n",
       "    </tr>\n",
       "    <tr>\n",
       "      <td>1</td>\n",
       "      <td>2018.06.18</td>\n",
       "      <td>2018.0</td>\n",
       "      <td>Unprovoked</td>\n",
       "      <td>USA</td>\n",
       "      <td>Georgia</td>\n",
       "      <td>St. Simon Island, Glynn County</td>\n",
       "      <td>Standing</td>\n",
       "      <td>F</td>\n",
       "      <td>11</td>\n",
       "      <td>N</td>\n",
       "      <td>14h00  -15h00</td>\n",
       "      <td>NaN</td>\n",
       "      <td>K.McMurray, TrackingSharks.com</td>\n",
       "    </tr>\n",
       "    <tr>\n",
       "      <td>2</td>\n",
       "      <td>2018.06.09</td>\n",
       "      <td>2018.0</td>\n",
       "      <td>Invalid</td>\n",
       "      <td>USA</td>\n",
       "      <td>Hawaii</td>\n",
       "      <td>Habush, Oahu</td>\n",
       "      <td>Surfing</td>\n",
       "      <td>M</td>\n",
       "      <td>48</td>\n",
       "      <td>N</td>\n",
       "      <td>07h45</td>\n",
       "      <td>NaN</td>\n",
       "      <td>K.McMurray, TrackingSharks.com</td>\n",
       "    </tr>\n",
       "    <tr>\n",
       "      <td>3</td>\n",
       "      <td>2018.06.08</td>\n",
       "      <td>2018.0</td>\n",
       "      <td>Unprovoked</td>\n",
       "      <td>AUSTRALIA</td>\n",
       "      <td>New South Wales</td>\n",
       "      <td>Arrawarra Headland</td>\n",
       "      <td>Surfing</td>\n",
       "      <td>M</td>\n",
       "      <td>NaN</td>\n",
       "      <td>N</td>\n",
       "      <td>NaN</td>\n",
       "      <td>2 m shark</td>\n",
       "      <td>B. Myatt, GSAF</td>\n",
       "    </tr>\n",
       "    <tr>\n",
       "      <td>4</td>\n",
       "      <td>2018.06.04</td>\n",
       "      <td>2018.0</td>\n",
       "      <td>Provoked</td>\n",
       "      <td>MEXICO</td>\n",
       "      <td>Colima</td>\n",
       "      <td>La Ticla</td>\n",
       "      <td>Free diving</td>\n",
       "      <td>M</td>\n",
       "      <td>NaN</td>\n",
       "      <td>N</td>\n",
       "      <td>NaN</td>\n",
       "      <td>Tiger shark, 3m</td>\n",
       "      <td>A .Kipper</td>\n",
       "    </tr>\n",
       "    <tr>\n",
       "      <td>...</td>\n",
       "      <td>...</td>\n",
       "      <td>...</td>\n",
       "      <td>...</td>\n",
       "      <td>...</td>\n",
       "      <td>...</td>\n",
       "      <td>...</td>\n",
       "      <td>...</td>\n",
       "      <td>...</td>\n",
       "      <td>...</td>\n",
       "      <td>...</td>\n",
       "      <td>...</td>\n",
       "      <td>...</td>\n",
       "      <td>...</td>\n",
       "    </tr>\n",
       "    <tr>\n",
       "      <td>6297</td>\n",
       "      <td>ND.0005</td>\n",
       "      <td>0.0</td>\n",
       "      <td>Unprovoked</td>\n",
       "      <td>AUSTRALIA</td>\n",
       "      <td>Western Australia</td>\n",
       "      <td>Roebuck Bay</td>\n",
       "      <td>Diving</td>\n",
       "      <td>M</td>\n",
       "      <td>NaN</td>\n",
       "      <td>Y</td>\n",
       "      <td>NaN</td>\n",
       "      <td>NaN</td>\n",
       "      <td>H. Taunton; N. Bartlett,  p. 234</td>\n",
       "    </tr>\n",
       "    <tr>\n",
       "      <td>6298</td>\n",
       "      <td>ND.0004</td>\n",
       "      <td>0.0</td>\n",
       "      <td>Unprovoked</td>\n",
       "      <td>AUSTRALIA</td>\n",
       "      <td>Western Australia</td>\n",
       "      <td>NaN</td>\n",
       "      <td>Pearl diving</td>\n",
       "      <td>M</td>\n",
       "      <td>NaN</td>\n",
       "      <td>Y</td>\n",
       "      <td>NaN</td>\n",
       "      <td>NaN</td>\n",
       "      <td>H. Taunton; N. Bartlett,  pp. 233-234</td>\n",
       "    </tr>\n",
       "    <tr>\n",
       "      <td>6299</td>\n",
       "      <td>ND.0003</td>\n",
       "      <td>0.0</td>\n",
       "      <td>Unprovoked</td>\n",
       "      <td>USA</td>\n",
       "      <td>North Carolina</td>\n",
       "      <td>Ocracoke Inlet</td>\n",
       "      <td>Swimming</td>\n",
       "      <td>M</td>\n",
       "      <td>NaN</td>\n",
       "      <td>Y</td>\n",
       "      <td>NaN</td>\n",
       "      <td>NaN</td>\n",
       "      <td>F. Schwartz, p.23; C. Creswell, GSAF</td>\n",
       "    </tr>\n",
       "    <tr>\n",
       "      <td>6300</td>\n",
       "      <td>ND.0002</td>\n",
       "      <td>0.0</td>\n",
       "      <td>Unprovoked</td>\n",
       "      <td>PANAMA</td>\n",
       "      <td>NaN</td>\n",
       "      <td>Panama Bay 8ºN, 79ºW</td>\n",
       "      <td>NaN</td>\n",
       "      <td>M</td>\n",
       "      <td>NaN</td>\n",
       "      <td>Y</td>\n",
       "      <td>NaN</td>\n",
       "      <td>NaN</td>\n",
       "      <td>The Sun, 10/20/1938</td>\n",
       "    </tr>\n",
       "    <tr>\n",
       "      <td>6301</td>\n",
       "      <td>ND.0001</td>\n",
       "      <td>0.0</td>\n",
       "      <td>Unprovoked</td>\n",
       "      <td>CEYLON (SRI LANKA)</td>\n",
       "      <td>Eastern Province</td>\n",
       "      <td>Below the English fort, Trincomalee</td>\n",
       "      <td>Swimming</td>\n",
       "      <td>M</td>\n",
       "      <td>15</td>\n",
       "      <td>Y</td>\n",
       "      <td>NaN</td>\n",
       "      <td>NaN</td>\n",
       "      <td>S.W. Baker</td>\n",
       "    </tr>\n",
       "  </tbody>\n",
       "</table>\n",
       "<p>6252 rows × 13 columns</p>\n",
       "</div>"
      ],
      "text/plain": [
       "     Case Number    Year        Type             Country               Area  \\\n",
       "0     2018.06.25  2018.0     Boating                 USA         California   \n",
       "1     2018.06.18  2018.0  Unprovoked                 USA            Georgia   \n",
       "2     2018.06.09  2018.0     Invalid                 USA             Hawaii   \n",
       "3     2018.06.08  2018.0  Unprovoked           AUSTRALIA    New South Wales   \n",
       "4     2018.06.04  2018.0    Provoked              MEXICO             Colima   \n",
       "...          ...     ...         ...                 ...                ...   \n",
       "6297     ND.0005     0.0  Unprovoked           AUSTRALIA  Western Australia   \n",
       "6298     ND.0004     0.0  Unprovoked           AUSTRALIA  Western Australia   \n",
       "6299     ND.0003     0.0  Unprovoked                 USA     North Carolina   \n",
       "6300     ND.0002     0.0  Unprovoked              PANAMA                NaN   \n",
       "6301     ND.0001     0.0  Unprovoked  CEYLON (SRI LANKA)   Eastern Province   \n",
       "\n",
       "                                 Location      Activity Sex   Age Fatal (Y/N)  \\\n",
       "0             Oceanside, San Diego County      Paddling    F   57           N   \n",
       "1          St. Simon Island, Glynn County      Standing    F   11           N   \n",
       "2                            Habush, Oahu       Surfing    M   48           N   \n",
       "3                      Arrawarra Headland       Surfing    M  NaN           N   \n",
       "4                                La Ticla   Free diving    M  NaN           N   \n",
       "...                                   ...           ...  ...  ...         ...   \n",
       "6297                          Roebuck Bay        Diving    M  NaN           Y   \n",
       "6298                                  NaN  Pearl diving    M  NaN           Y   \n",
       "6299                       Ocracoke Inlet      Swimming    M  NaN           Y   \n",
       "6300                 Panama Bay 8ºN, 79ºW           NaN    M  NaN           Y   \n",
       "6301  Below the English fort, Trincomalee      Swimming    M   15           Y   \n",
       "\n",
       "               Time         Species                  Investigator or Source  \n",
       "0             18h00      White shark                       R. Collier, GSAF  \n",
       "1     14h00  -15h00              NaN         K.McMurray, TrackingSharks.com  \n",
       "2             07h45              NaN         K.McMurray, TrackingSharks.com  \n",
       "3               NaN        2 m shark                         B. Myatt, GSAF  \n",
       "4               NaN  Tiger shark, 3m                              A .Kipper  \n",
       "...             ...              ...                                    ...  \n",
       "6297            NaN              NaN       H. Taunton; N. Bartlett,  p. 234  \n",
       "6298            NaN              NaN  H. Taunton; N. Bartlett,  pp. 233-234  \n",
       "6299            NaN              NaN   F. Schwartz, p.23; C. Creswell, GSAF  \n",
       "6300            NaN              NaN                    The Sun, 10/20/1938  \n",
       "6301            NaN              NaN                             S.W. Baker  \n",
       "\n",
       "[6252 rows x 13 columns]"
      ]
     },
     "execution_count": 520,
     "metadata": {},
     "output_type": "execute_result"
    }
   ],
   "source": [
    "data_modified"
   ]
  },
  {
   "cell_type": "code",
   "execution_count": 521,
   "metadata": {},
   "outputs": [
    {
     "data": {
      "text/plain": [
       "Time                      3311\n",
       "Species                   2800\n",
       "Age                       2790\n",
       "Sex                        561\n",
       "Activity                   537\n",
       "Fatal (Y/N)                534\n",
       "Location                   501\n",
       "Area                       420\n",
       "Investigator or Source      17\n",
       "Type                         4\n",
       "Year                         2\n",
       "Case Number                  1\n",
       "Country                      0\n",
       "dtype: int64"
      ]
     },
     "execution_count": 521,
     "metadata": {},
     "output_type": "execute_result"
    }
   ],
   "source": [
    "data_modified.isnull().sum().sort_values(ascending=False)"
   ]
  },
  {
   "cell_type": "code",
   "execution_count": 365,
   "metadata": {},
   "outputs": [],
   "source": [
    "import re"
   ]
  },
  {
   "cell_type": "code",
   "execution_count": null,
   "metadata": {},
   "outputs": [],
   "source": []
  },
  {
   "cell_type": "code",
   "execution_count": 468,
   "metadata": {},
   "outputs": [],
   "source": [
    "data_modified['Country'].replace( { r\"[?]+\" : '' }, inplace= True, regex = True) #regex para eliminar o \"?\""
   ]
  },
  {
   "cell_type": "code",
   "execution_count": 469,
   "metadata": {},
   "outputs": [
    {
     "name": "stderr",
     "output_type": "stream",
     "text": [
      "/home/fernanda/.local/lib/python3.6/site-packages/ipykernel_launcher.py:1: SettingWithCopyWarning: \n",
      "A value is trying to be set on a copy of a slice from a DataFrame.\n",
      "Try using .loc[row_indexer,col_indexer] = value instead\n",
      "\n",
      "See the caveats in the documentation: http://pandas.pydata.org/pandas-docs/stable/user_guide/indexing.html#returning-a-view-versus-a-copy\n",
      "  \"\"\"Entry point for launching an IPython kernel.\n"
     ]
    }
   ],
   "source": [
    "data_modified['Country'] = [str(i).lower() for i in data_modified['Country']]"
   ]
  },
  {
   "cell_type": "code",
   "execution_count": 470,
   "metadata": {},
   "outputs": [
    {
     "data": {
      "text/html": [
       "<div>\n",
       "<style scoped>\n",
       "    .dataframe tbody tr th:only-of-type {\n",
       "        vertical-align: middle;\n",
       "    }\n",
       "\n",
       "    .dataframe tbody tr th {\n",
       "        vertical-align: top;\n",
       "    }\n",
       "\n",
       "    .dataframe thead th {\n",
       "        text-align: right;\n",
       "    }\n",
       "</style>\n",
       "<table border=\"1\" class=\"dataframe\">\n",
       "  <thead>\n",
       "    <tr style=\"text-align: right;\">\n",
       "      <th></th>\n",
       "      <th>Case Number</th>\n",
       "      <th>Year</th>\n",
       "      <th>Type</th>\n",
       "      <th>Country</th>\n",
       "      <th>Area</th>\n",
       "      <th>Location</th>\n",
       "      <th>Activity</th>\n",
       "      <th>Sex</th>\n",
       "      <th>Age</th>\n",
       "      <th>Fatal (Y/N)</th>\n",
       "      <th>Time</th>\n",
       "      <th>Species</th>\n",
       "      <th>Investigator or Source</th>\n",
       "    </tr>\n",
       "  </thead>\n",
       "  <tbody>\n",
       "    <tr>\n",
       "      <td>0</td>\n",
       "      <td>2018.06.25</td>\n",
       "      <td>2018.0</td>\n",
       "      <td>Boating</td>\n",
       "      <td>usa</td>\n",
       "      <td>California</td>\n",
       "      <td>Oceanside, San Diego County</td>\n",
       "      <td>Paddling</td>\n",
       "      <td>F</td>\n",
       "      <td>57</td>\n",
       "      <td>N</td>\n",
       "      <td>18h00</td>\n",
       "      <td>White shark</td>\n",
       "      <td>R. Collier, GSAF</td>\n",
       "    </tr>\n",
       "    <tr>\n",
       "      <td>1</td>\n",
       "      <td>2018.06.18</td>\n",
       "      <td>2018.0</td>\n",
       "      <td>Unprovoked</td>\n",
       "      <td>usa</td>\n",
       "      <td>Georgia</td>\n",
       "      <td>St. Simon Island, Glynn County</td>\n",
       "      <td>Standing</td>\n",
       "      <td>F</td>\n",
       "      <td>11</td>\n",
       "      <td>N</td>\n",
       "      <td>14h00  -15h00</td>\n",
       "      <td>NaN</td>\n",
       "      <td>K.McMurray, TrackingSharks.com</td>\n",
       "    </tr>\n",
       "    <tr>\n",
       "      <td>2</td>\n",
       "      <td>2018.06.09</td>\n",
       "      <td>2018.0</td>\n",
       "      <td>Invalid</td>\n",
       "      <td>usa</td>\n",
       "      <td>Hawaii</td>\n",
       "      <td>Habush, Oahu</td>\n",
       "      <td>Surfing</td>\n",
       "      <td>M</td>\n",
       "      <td>48</td>\n",
       "      <td>N</td>\n",
       "      <td>07h45</td>\n",
       "      <td>NaN</td>\n",
       "      <td>K.McMurray, TrackingSharks.com</td>\n",
       "    </tr>\n",
       "    <tr>\n",
       "      <td>3</td>\n",
       "      <td>2018.06.08</td>\n",
       "      <td>2018.0</td>\n",
       "      <td>Unprovoked</td>\n",
       "      <td>australia</td>\n",
       "      <td>New South Wales</td>\n",
       "      <td>Arrawarra Headland</td>\n",
       "      <td>Surfing</td>\n",
       "      <td>M</td>\n",
       "      <td>NaN</td>\n",
       "      <td>N</td>\n",
       "      <td>NaN</td>\n",
       "      <td>2 m shark</td>\n",
       "      <td>B. Myatt, GSAF</td>\n",
       "    </tr>\n",
       "    <tr>\n",
       "      <td>4</td>\n",
       "      <td>2018.06.04</td>\n",
       "      <td>2018.0</td>\n",
       "      <td>Provoked</td>\n",
       "      <td>mexico</td>\n",
       "      <td>Colima</td>\n",
       "      <td>La Ticla</td>\n",
       "      <td>Free diving</td>\n",
       "      <td>M</td>\n",
       "      <td>NaN</td>\n",
       "      <td>N</td>\n",
       "      <td>NaN</td>\n",
       "      <td>Tiger shark, 3m</td>\n",
       "      <td>A .Kipper</td>\n",
       "    </tr>\n",
       "    <tr>\n",
       "      <td>...</td>\n",
       "      <td>...</td>\n",
       "      <td>...</td>\n",
       "      <td>...</td>\n",
       "      <td>...</td>\n",
       "      <td>...</td>\n",
       "      <td>...</td>\n",
       "      <td>...</td>\n",
       "      <td>...</td>\n",
       "      <td>...</td>\n",
       "      <td>...</td>\n",
       "      <td>...</td>\n",
       "      <td>...</td>\n",
       "      <td>...</td>\n",
       "    </tr>\n",
       "    <tr>\n",
       "      <td>6297</td>\n",
       "      <td>ND.0005</td>\n",
       "      <td>0.0</td>\n",
       "      <td>Unprovoked</td>\n",
       "      <td>australia</td>\n",
       "      <td>Western Australia</td>\n",
       "      <td>Roebuck Bay</td>\n",
       "      <td>Diving</td>\n",
       "      <td>M</td>\n",
       "      <td>NaN</td>\n",
       "      <td>Y</td>\n",
       "      <td>NaN</td>\n",
       "      <td>NaN</td>\n",
       "      <td>H. Taunton; N. Bartlett,  p. 234</td>\n",
       "    </tr>\n",
       "    <tr>\n",
       "      <td>6298</td>\n",
       "      <td>ND.0004</td>\n",
       "      <td>0.0</td>\n",
       "      <td>Unprovoked</td>\n",
       "      <td>australia</td>\n",
       "      <td>Western Australia</td>\n",
       "      <td>NaN</td>\n",
       "      <td>Pearl diving</td>\n",
       "      <td>M</td>\n",
       "      <td>NaN</td>\n",
       "      <td>Y</td>\n",
       "      <td>NaN</td>\n",
       "      <td>NaN</td>\n",
       "      <td>H. Taunton; N. Bartlett,  pp. 233-234</td>\n",
       "    </tr>\n",
       "    <tr>\n",
       "      <td>6299</td>\n",
       "      <td>ND.0003</td>\n",
       "      <td>0.0</td>\n",
       "      <td>Unprovoked</td>\n",
       "      <td>usa</td>\n",
       "      <td>North Carolina</td>\n",
       "      <td>Ocracoke Inlet</td>\n",
       "      <td>Swimming</td>\n",
       "      <td>M</td>\n",
       "      <td>NaN</td>\n",
       "      <td>Y</td>\n",
       "      <td>NaN</td>\n",
       "      <td>NaN</td>\n",
       "      <td>F. Schwartz, p.23; C. Creswell, GSAF</td>\n",
       "    </tr>\n",
       "    <tr>\n",
       "      <td>6300</td>\n",
       "      <td>ND.0002</td>\n",
       "      <td>0.0</td>\n",
       "      <td>Unprovoked</td>\n",
       "      <td>panama</td>\n",
       "      <td>NaN</td>\n",
       "      <td>Panama Bay 8ºN, 79ºW</td>\n",
       "      <td>NaN</td>\n",
       "      <td>M</td>\n",
       "      <td>NaN</td>\n",
       "      <td>Y</td>\n",
       "      <td>NaN</td>\n",
       "      <td>NaN</td>\n",
       "      <td>The Sun, 10/20/1938</td>\n",
       "    </tr>\n",
       "    <tr>\n",
       "      <td>6301</td>\n",
       "      <td>ND.0001</td>\n",
       "      <td>0.0</td>\n",
       "      <td>Unprovoked</td>\n",
       "      <td>ceylon (sri lanka)</td>\n",
       "      <td>Eastern Province</td>\n",
       "      <td>Below the English fort, Trincomalee</td>\n",
       "      <td>Swimming</td>\n",
       "      <td>M</td>\n",
       "      <td>15</td>\n",
       "      <td>Y</td>\n",
       "      <td>NaN</td>\n",
       "      <td>NaN</td>\n",
       "      <td>S.W. Baker</td>\n",
       "    </tr>\n",
       "  </tbody>\n",
       "</table>\n",
       "<p>6252 rows × 13 columns</p>\n",
       "</div>"
      ],
      "text/plain": [
       "     Case Number    Year        Type             Country               Area  \\\n",
       "0     2018.06.25  2018.0     Boating                 usa         California   \n",
       "1     2018.06.18  2018.0  Unprovoked                 usa            Georgia   \n",
       "2     2018.06.09  2018.0     Invalid                 usa             Hawaii   \n",
       "3     2018.06.08  2018.0  Unprovoked           australia    New South Wales   \n",
       "4     2018.06.04  2018.0    Provoked              mexico             Colima   \n",
       "...          ...     ...         ...                 ...                ...   \n",
       "6297     ND.0005     0.0  Unprovoked           australia  Western Australia   \n",
       "6298     ND.0004     0.0  Unprovoked           australia  Western Australia   \n",
       "6299     ND.0003     0.0  Unprovoked                 usa     North Carolina   \n",
       "6300     ND.0002     0.0  Unprovoked              panama                NaN   \n",
       "6301     ND.0001     0.0  Unprovoked  ceylon (sri lanka)   Eastern Province   \n",
       "\n",
       "                                 Location      Activity Sex   Age Fatal (Y/N)  \\\n",
       "0             Oceanside, San Diego County      Paddling    F   57           N   \n",
       "1          St. Simon Island, Glynn County      Standing    F   11           N   \n",
       "2                            Habush, Oahu       Surfing    M   48           N   \n",
       "3                      Arrawarra Headland       Surfing    M  NaN           N   \n",
       "4                                La Ticla   Free diving    M  NaN           N   \n",
       "...                                   ...           ...  ...  ...         ...   \n",
       "6297                          Roebuck Bay        Diving    M  NaN           Y   \n",
       "6298                                  NaN  Pearl diving    M  NaN           Y   \n",
       "6299                       Ocracoke Inlet      Swimming    M  NaN           Y   \n",
       "6300                 Panama Bay 8ºN, 79ºW           NaN    M  NaN           Y   \n",
       "6301  Below the English fort, Trincomalee      Swimming    M   15           Y   \n",
       "\n",
       "               Time         Species                  Investigator or Source  \n",
       "0             18h00      White shark                       R. Collier, GSAF  \n",
       "1     14h00  -15h00              NaN         K.McMurray, TrackingSharks.com  \n",
       "2             07h45              NaN         K.McMurray, TrackingSharks.com  \n",
       "3               NaN        2 m shark                         B. Myatt, GSAF  \n",
       "4               NaN  Tiger shark, 3m                              A .Kipper  \n",
       "...             ...              ...                                    ...  \n",
       "6297            NaN              NaN       H. Taunton; N. Bartlett,  p. 234  \n",
       "6298            NaN              NaN  H. Taunton; N. Bartlett,  pp. 233-234  \n",
       "6299            NaN              NaN   F. Schwartz, p.23; C. Creswell, GSAF  \n",
       "6300            NaN              NaN                    The Sun, 10/20/1938  \n",
       "6301            NaN              NaN                             S.W. Baker  \n",
       "\n",
       "[6252 rows x 13 columns]"
      ]
     },
     "execution_count": 470,
     "metadata": {},
     "output_type": "execute_result"
    }
   ],
   "source": [
    "data_modified"
   ]
  },
  {
   "cell_type": "code",
   "execution_count": 471,
   "metadata": {},
   "outputs": [],
   "source": [
    "def dicionario (df):\n",
    "    country = list(df)\n",
    "    dicionario = {}\n",
    "    for t in country:\n",
    "       dicionario[t] = country.count(t)\n",
    "    return dicionario"
   ]
  },
  {
   "cell_type": "code",
   "execution_count": 472,
   "metadata": {},
   "outputs": [],
   "source": [
    "country= dicionario(data_modified['Country'])\n"
   ]
  },
  {
   "cell_type": "code",
   "execution_count": null,
   "metadata": {},
   "outputs": [],
   "source": []
  },
  {
   "cell_type": "code",
   "execution_count": null,
   "metadata": {},
   "outputs": [],
   "source": []
  },
  {
   "cell_type": "code",
   "execution_count": null,
   "metadata": {},
   "outputs": [],
   "source": []
  },
  {
   "cell_type": "code",
   "execution_count": 371,
   "metadata": {},
   "outputs": [
    {
     "name": "stdout",
     "output_type": "stream",
     "text": [
      "M      5052\n",
      "F       634\n",
      "M         2\n",
      "N         1\n",
      ".         1\n",
      "lli       1\n",
      "Name: Sex , dtype: int64\n"
     ]
    }
   ],
   "source": [
    "def funcao(string):\n",
    "    if string != 'F':\n",
    "        if string != 'M':\n",
    "            return 'Unknown'\n",
    "data_modified['Sex '].apply(lambda x: funcao(x))\n",
    "print(data_modified['Sex '].value_counts())"
   ]
  },
  {
   "cell_type": "code",
   "execution_count": 372,
   "metadata": {},
   "outputs": [],
   "source": [
    "data_modified[\"Sex \"].replace(\"N\", \"Unknown\", inplace=True)"
   ]
  },
  {
   "cell_type": "code",
   "execution_count": 373,
   "metadata": {},
   "outputs": [],
   "source": [
    "data_modified[\"Sex \"].replace(\".\", \"Unknown\", inplace=True)"
   ]
  },
  {
   "cell_type": "code",
   "execution_count": 374,
   "metadata": {},
   "outputs": [],
   "source": [
    "data_modified[\"Sex \"].replace(\"M \", \"Unknown\", inplace=True)"
   ]
  },
  {
   "cell_type": "code",
   "execution_count": 375,
   "metadata": {},
   "outputs": [],
   "source": [
    "data_modified[\"Sex \"].replace(\"lli\", \"Unknown\", inplace=True)"
   ]
  },
  {
   "cell_type": "code",
   "execution_count": 376,
   "metadata": {},
   "outputs": [
    {
     "data": {
      "text/plain": [
       "M          5052\n",
       "F           634\n",
       "Unknown       5\n",
       "Name: Sex , dtype: int64"
      ]
     },
     "execution_count": 376,
     "metadata": {},
     "output_type": "execute_result"
    }
   ],
   "source": [
    "data_modified[\"Sex \"].value_counts()"
   ]
  },
  {
   "cell_type": "code",
   "execution_count": 377,
   "metadata": {},
   "outputs": [
    {
     "data": {
      "text/plain": [
       "N          4274\n",
       "Y          1364\n",
       "UNKNOWN      69\n",
       " N            7\n",
       "N             1\n",
       "2017          1\n",
       "y             1\n",
       "M             1\n",
       "Name: Fatal (Y/N), dtype: int64"
      ]
     },
     "execution_count": 377,
     "metadata": {},
     "output_type": "execute_result"
    }
   ],
   "source": [
    "data_modified[\"Fatal (Y/N)\"].value_counts()"
   ]
  },
  {
   "cell_type": "code",
   "execution_count": 378,
   "metadata": {},
   "outputs": [],
   "source": [
    "data_modified[\"Fatal (Y/N)\"].replace(\" N\", \"Unknown\", inplace=True) #limpando a coluna Fatal (Y/N)"
   ]
  },
  {
   "cell_type": "code",
   "execution_count": 226,
   "metadata": {},
   "outputs": [],
   "source": [
    "data_modified[\"Fatal (Y/N)\"].replace(\"N \", \"Unknown\", inplace=True)"
   ]
  },
  {
   "cell_type": "code",
   "execution_count": 227,
   "metadata": {},
   "outputs": [],
   "source": [
    "data_modified[\"Fatal (Y/N)\"].replace(\"UNKNOWN\", \"Unknown\", inplace=True)"
   ]
  },
  {
   "cell_type": "code",
   "execution_count": 229,
   "metadata": {},
   "outputs": [],
   "source": [
    "data_modified[\"Fatal (Y/N)\"].replace(\"2017\", \"Unknown\", inplace=True)"
   ]
  },
  {
   "cell_type": "code",
   "execution_count": 230,
   "metadata": {},
   "outputs": [],
   "source": [
    "data_modified[\"Fatal (Y/N)\"].replace(\"y\", \"Unknown\", inplace=True)"
   ]
  },
  {
   "cell_type": "code",
   "execution_count": 232,
   "metadata": {},
   "outputs": [],
   "source": [
    "data_modified[\"Fatal (Y/N)\"].replace(\"M\", \"Unknown\", inplace=True)"
   ]
  },
  {
   "cell_type": "code",
   "execution_count": 233,
   "metadata": {},
   "outputs": [
    {
     "data": {
      "text/plain": [
       "N          4274\n",
       "Y          1364\n",
       "Unknown      80\n",
       "Name: Fatal (Y/N), dtype: int64"
      ]
     },
     "execution_count": 233,
     "metadata": {},
     "output_type": "execute_result"
    }
   ],
   "source": [
    "data_modified[\"Fatal (Y/N)\"].value_counts()"
   ]
  },
  {
   "cell_type": "code",
   "execution_count": 522,
   "metadata": {},
   "outputs": [],
   "source": [
    "data_modified[\"Species \"].replace( { r\"[\\d]*\": '' }, inplace= True, regex = True) #tirando os números\n"
   ]
  },
  {
   "cell_type": "code",
   "execution_count": 523,
   "metadata": {},
   "outputs": [],
   "source": [
    "data_modified[\"Species \"].replace( { r\"\\d*m\": '' }, inplace= True, regex = True) #tirando as unidades de metro"
   ]
  },
  {
   "cell_type": "code",
   "execution_count": 524,
   "metadata": {},
   "outputs": [],
   "source": [
    "data_modified[\"Species \"].replace( { r\"\\[(.*?)\\]\": '' }, inplace= True, regex = True) #tirando o que está entre colchetes"
   ]
  },
  {
   "cell_type": "code",
   "execution_count": 525,
   "metadata": {},
   "outputs": [],
   "source": [
    "data_modified[\"Species \"].replace( { r\"[.,'']*\": '' }, inplace= True, regex = True) #tirando pontuação e outros"
   ]
  },
  {
   "cell_type": "code",
   "execution_count": 526,
   "metadata": {},
   "outputs": [],
   "source": [
    "data_modified[\"Species \"].replace( { r\"\\d*kg\": '' }, inplace= True, regex = True) #tirando unidades de kg"
   ]
  },
  {
   "cell_type": "code",
   "execution_count": 527,
   "metadata": {},
   "outputs": [],
   "source": [
    "data_modified[\"Species \"].replace( { r\"\\w*to\\w*\": '' }, inplace= True, regex = True) #tirando \"to\""
   ]
  },
  {
   "cell_type": "code",
   "execution_count": 528,
   "metadata": {},
   "outputs": [],
   "source": [
    "data_modified[\"Species \"].replace( { r\"\\w*&\\w*\": '' }, inplace= True, regex = True) #tirando \"$\""
   ]
  },
  {
   "cell_type": "code",
   "execution_count": 529,
   "metadata": {},
   "outputs": [],
   "source": [
    "data_modified[\"Species \"].replace( { r\"\\w*[?]\\w*\": '' }, inplace= True, regex = True) #tirando \"?\""
   ]
  },
  {
   "cell_type": "code",
   "execution_count": 530,
   "metadata": {},
   "outputs": [],
   "source": [
    "data_modified[\"Species \"].replace( { r\"\\w*[<]\\w*\": '' }, inplace= True, regex = True) #tirando \"<\""
   ]
  },
  {
   "cell_type": "code",
   "execution_count": 531,
   "metadata": {},
   "outputs": [],
   "source": [
    "data_modified[\"Species \"].replace( { r\"\\w*[>]\\w*\": '' }, inplace= True, regex = True) #tirando \">\""
   ]
  },
  {
   "cell_type": "code",
   "execution_count": 532,
   "metadata": {},
   "outputs": [],
   "source": [
    "data_modified[\"Species \"].replace( { r\"\\w*[+]\\w*\": '' }, inplace= True, regex = True) #tirando \"+\""
   ]
  },
  {
   "cell_type": "code",
   "execution_count": 533,
   "metadata": {},
   "outputs": [
    {
     "ename": "SyntaxError",
     "evalue": "invalid syntax (<ipython-input-533-8168acd410e6>, line 1)",
     "output_type": "error",
     "traceback": [
      "\u001b[0;36m  File \u001b[0;32m\"<ipython-input-533-8168acd410e6>\"\u001b[0;36m, line \u001b[0;32m1\u001b[0m\n\u001b[0;31m    Thought  involve [?][<][>]\u001b[0m\n\u001b[0m                   ^\u001b[0m\n\u001b[0;31mSyntaxError\u001b[0m\u001b[0;31m:\u001b[0m invalid syntax\n"
     ]
    }
   ],
   "source": [
    "Thought  involve [?][<][>]"
   ]
  },
  {
   "cell_type": "code",
   "execution_count": 534,
   "metadata": {},
   "outputs": [
    {
     "data": {
      "text/plain": [
       "0        White shark\n",
       "1                NaN\n",
       "2                NaN\n",
       "3              shark\n",
       "4       Tiger shark \n",
       "            ...     \n",
       "6297             NaN\n",
       "6298             NaN\n",
       "6299             NaN\n",
       "6300             NaN\n",
       "6301             NaN\n",
       "Name: Species , Length: 6252, dtype: object"
      ]
     },
     "execution_count": 534,
     "metadata": {},
     "output_type": "execute_result"
    }
   ],
   "source": [
    "data_modified[\"Species \"]"
   ]
  },
  {
   "cell_type": "code",
   "execution_count": 549,
   "metadata": {},
   "outputs": [
    {
     "name": "stdout",
     "output_type": "stream",
     "text": [
      "{nan, '', '  haerhead shark', 'Unknown', 'Sall dusky shark or blackfin shark', 'Spinner shark ', 'Blacktip reef shark pup', ' ', 'Juvenile bull shark', '   -  shark ', '\"black tipped\" shark', 'White shark    juvenile ', 'reef shark ', 'Goblin shark ', 'White shark    fragent  recovered fro the hull', 'Blacktip shark   ', '   blue whaler', 'Tooth fragents recovered fro hull', 'White shark identified by  fragents in surfboard', 'Shark involveent prior  death reains unconfired', 'Juvenile white shark     ', 'Sand shark', 'Thought  involve a    grey nurse shark', ' shark -  ', 'Leon shark ', 'Blacktip shark pup', 'White shark    feale', '      shark seen in the vicinity', 'Leon shark    identified  by the surfer', '   Zabezi shark', 'Sevengill shark', '\"sand shark\"', 'Angel shark', '   blacktip or sandbar shark', '\"Dog shark\"', 'Shark involveent highly doubtful', ' scalloped haerhead sharks      ', 'Bronze whaler ', 'Haerhead shark    according  lifeguard Sa Barrows', 'Blue shark    feet', '       white shark ', 'Bull shark or leon shark', 'White shark        ', 'Nurse shark     identified by Dr E Clark on description of shark', 'Believed white shark and other saller species of sharks involved', 'Mako shark (aka  shark)    ', 'Shark involveent prior  death not confired', 'Seven-gill shark', 'Tooth fragents of \\x93whaler\\x94 shark were recovered a bull shark according  Edwards', 'Porbeagle shark', 'Reported  involve a    shark possibly a white shark', 'Nurse shark     ', 'Shark was said  \\x93have a very rough ½\\x94-thick skin\\x94', '  white shark  fragents recovered', 'Possibly a spinner shark', 'Blacktip reef shark ', 'Said  be a    shark', 'Sall bull shark', '   bull or leon shark', 'Shovelnose shark ', 'Bull shark', 'Bull shark  ', 'White shark     ale ', 'C acrurus captured  hours after attack with tissue reoved fro an in its gut; species identified by GP Whitley  reported as C obscurus by  R Steel', 'Unidentified species', '      sixgill or sevengill shark', '   \"blue\" shark', 'White shark x ', ' Leon shark  ', 'Said  involve a   shark', 'Thought  involve a    bull shark', 'Oceanic whitetip sharks were in the vicinity', 'Mako shark ', 'Bronze whaler shark    ', '    shark', '   grey reef shark', '    C albiarginatus', 'White shark        according  witnesses', 'No shark invovleent - it ws a publicity stunt', ' sandtiger shark', ' Bull shark ', 'Said  involve an  shark but ore likely daage caused by debris', 'Leon shark        ', ' c   c  blacktip or spinner shark', 'A haerhead shark then    other sharks were said  be  involved', 'Thought  involve a juvenile haerhead shark', 'Carpet shark  ', '  shark possibly a dusky or blacktip shark', 'Whitetip reef shark', 'Dooley believed his Injury was caused by stingray (Dasyatidae faily)', '      sharks ost were oceanic whitetip sharks', 'Sandtiger shark    ', 'nurse shark', 'A bull shark according  soe of the divers on the boat', '\\x93sall brown shark\\x94', 'Thought  involve an oceanic whitetip shark or a white shark', 'Bronze whaler shark  ', 'Grey reef shark   ', 'White shark species identity confired by  pattern', 'Tiger shark less than ', 'Tiger shark      fragents retrieved fro his wounds', '\" shark', 'Two       sharks', 'Caribbean reef shark', 'Mako shark -lb', ' Tiger shark ', 'Sandbar shark', '   bull shark identified by Capt W Gray', 'Unknown but it was reported that a shark  was recovered fro the wound', 'Mako shark    Tooth fragent recovered  identified by JT Nichols', 'Blacktip reef shark', 'Said  involve a       white shark', 'Grey nurse shark    -lb ', 'Mako shark   ', 'Less than   ', 'Blacktip or spinner shark ', 'Reains recovered fro  sharks', '   \"grey-colored shark\"', '\"sall brown-colored shark\"', '  - shark', 'White shark   rk', '   shark with black-tipped  fins', 'According  Benjain the injury was inflicted by a barracuda not a shark', ' shark     ', 'Thought  involve a Bronze whale shark ', 'Nurse shark  ', ' Grey nurse shark     ', ' \"blue nosed\" shark', '   - shark', 'Blue shark   ', '\"juvenile shark\"', 'Shark involveent not confired injury ay have been caused by a bluefish', 'a sall haerhead shark', 'Said  involve a    white shark', '  grey shark', 'Possibly  a blacktip or spinner shark', 'Shark involveent prior  death was not confired', 'White shark     fragent fro wounds identified as that of a white shark', 'Haerhead shark -llb ', 'White shark     ', 'Thought  involve a ako or grey nurse shark', '   shark later captured by Mitchell-Hedges', 'White shark -lb feale ', 'Blue Shark ', '   -lb reef shark', 'Said  involve a Grey nurse shark    ', 'Possibly a   bull shark', 'Nurse shark    ', 'Oceanic whitetip shark    ', '\"sall sharks\"', 'White shark - ', '   shark captured', 'Carpet shark   ', 'Identified as carcharinid shark (based on its behavior) by Dr DP L Schultz; ako shark according  Huges', 'Said  involve a    white shark but thought  that it was ore likely a blue shark', 'Bull sharks x ', 'Dusky shark   ', 'Tiger shark    captured', 'White shark    an iature feale previously injured', 'Broadnose sevengill shark  ', '   feale shark', 'Possibly white sharks', 'Questionable Incident', '\"The fish was harpooned dried and presented  the sailor who went round Europe exhibiting it  It was said  be  feet long', 'Grey reef shark  ', 'Reains recovered  days later', 'Thought  involve a   white shark naed Kong', 'Wobbegong ', 'A \\x93sall\\x94 shark', 'Bull shark suspected due  freshwater habitat', 'Bronze whaler shark     k', 'a school of sharks', 'Thought  involve a ako shark but possibly a sea lion', 'Tiger shark  feale', '  copper shark', 'Wobbegong shark c', 'Nurse shark  c  identified by Dr LP L Schultz on ', 'Reported  involve a haerhead shark', ' sharks teeth found ebedded in the woodwork of the boat', '\"a large shark\"', 'Several sharks involved', '  shark possibly whitetip reef shark', 'A pack of  sharks', ' great haerhead shark', 'Shark involveent not confired injury ay be due  a stingray', 'White shark identification by K Nakaya', '   shark  probably a blacktip or spinner shark', 'Possibly a haerhead shark', 'Salon shark suspected but unlikely', '       shark', 'Tiger shark ', 'Blacktip or spinner ', ' sall bull sharks', 'Grey nurse ', 'White shark or thresher shark', 'Though  involve a white shark', 'Basking shark', 'Miai a  c blacktip  shark and two  c baboo catsharks', 'Corades saw sharks tail appear about  away', 'Shortfin ako shark       ', 'Wobbegong shark ', '   shark  ay have been another shark nearby', 'Blue shark - blue shark', '   \"whaler shark\"', 'Shark involveent prior  death unconfired', 'Possibly a tiger shark', 'Thresher shark', 'Tiger shark  others', 'Tiger shark     ', '   -  hooked  shot white shark', 'Galapagos shark', 'Wobbegong', 'Sandbar shark ', 'Unidentified shark', 'Juvenile dusky shark', '   shark possibly a blacktip', '   \"yellow belly\" captive shark Shark destroyed by aquariu staff next day', 'Said  be \\x93leopard sharks\\x94 ore probably tiger sharks', 'Bull shark -  ', '      shark possibly a ako shark', 'Possibly a wobbegong', 'Shark involveent not confired  highly unlikely', 'Silvertip shark', 'Tiger shark    ( fragent recovered fro wound)', 'Possibly a bull shark or tiger shark', 'Cow shark', '- \"blackfin\" shark', 'Said  involve a grey nurse shark that leapt out of the water and  seized the boy but species identification is questionable', ' bull shark or Caribbean reef shark', 'A \"sall shark\"', 'Nurse shark   ', '*  \" dog shark', 'White shark ', 'Bull shark    was speared  killed', 'Two sharks seen in vicinity:        TL', 'Possibly a sall blacktip shark', '   -lb shark Shark caught  its jaw exhibited at the Carnegie Museu', 'Leopard shark', 'dogfish shark', '   tiger shark', '     shark seen in vicinity', 'Mako shark ( fragents recovered)', 'Said  involve      white shark', 'Sevengill shark    ', '   shark probable bull shark', 'Blue sharks', 'Soe drowned but other ay have been killed by blue sharks', 'Haerhead shark  ', '   sharks attacked survivors in the water', '   shark seen in area previous week', '     copper shark', 'Thresher shark    ', 'Possibly a bronze whaler shark', 'Lesser spotted dogfish Scyliorhinus canicula less than  c in length', 'Two    sharks', '   copper shark', 'Bronze whaler or tiger shark', ' shark    ', 'White sharks', 'Thought  involve a blacktip shark', 'Grey reef shark', 'Said  involve a large ako shark', 'Shark involveent prior  death suspected but not confired', ' White shark', 'White shark (identified by Dr Hugh Sith) ', 'Oceanic whitetip shark ', '   white shark identified by M Sale', ' a sall shark', 'C aculpinnis or C libatus', '      sharks', 'Hand found in gut of       Galapagos shark C galapagensis', '   blacktip shark or Caribbean reef shark', 'Bull shark caught leg recovered  buried beside the ans body', 'Galapagos ', '   -   shark', 'Nurse shark  -lb ', '\"a dog shark\"', 'A sall spinner shark', '   shark - shark T', 'Wobbegongs', 'shark involveent not confired', 'Spurdog', 'Sevengill shark   ', 'Caribbean reef shark       ', 'Blacktip or spinner shark', 'Tiger shark       ', 'Grey nurse shark   ', 'Mako shark', '   possibly  larger shark', 'a sand shark', 'White shark    -lb ', 'Possibly a leon shark', '  haerhead', '\"A sall shark\"', 'White shark  fragent recovered fro ankle  identified by Dr W I Follett', 'reef ', 'Possibly a bull shark', 'Questionable incident; reported as shark attack but thought  involve a pinniped instead ', 'Sall shark with white-tipped dorsal fin', 'Leon shark    ale N breviostris identified by WA Stark II later the sae day a \" pregnant feale leon shark bit the bow of the boat', '\"a young shark\"', 'Moreno\\x92s leg   part of his swi suit found in  shark caught two hours after the attack Identified as carcharhinid shark by L Schultz  C Libaugh on ', ' shark probably a sooth hound', 'A  shark known as \"Old To\"', 'Bronze whaler sharks x ', 'Caribbean reef shark   ', ' tiger shark', 'White shark     ale', 'Longfin ako shark    -  ', ' shark   ', '      bull sandbar or dusky shark', 'Description of shark does not ring true', 'Oceanic whitetip shark  ', 'Mr Burgess of ISAF announced the injury was the bite of a    -  -year old white shark Subsequent investigation revealed there was  no shark involveent in this incident', '      grey colored shark', '  silky shark', ' haerhead shark', 'White shark    species identity confired by  fragent', '\"whiptail shark\" (thresher )', 'Thought  involve a sall sand shark', ' \"ground shark\"', 'Invalid', '\"  \" shark', 'Wobbegong shark    k', 'Tiger shark        ', '   feale white shark naed \"Notchfin\"', 'Tiger shark  ', ' silvertip shark', 'Though  involve a tiger shark', 'Nurse shark -ft', 'Said  involve a    \"red shark\"', 'sall catsharks', 'Doubtful / Unconfired attack / Unable  verify in local records', 'White shark according  witnesses', 'White shark    identity confired by witness   pattern', '\"sand\" shark', 'Caribbean reef sharks', 'Haerhead shark    ', 'possibly a bronze whaler shark', 'Gray reef shark', 'Blacktip reef shark    ', 'Two    oceanic whitetip sharks', '   silky shark', 'Blue shark    ', 'Tiger ', 'a sall shark', 'Tiger shark   TL', 'Said  involve   blue shark', ' shark       ', '\"Blue nose shark\"', 'Reef shark ', 'Shark involveent not confired; officials considered barracua', ' bull sharks', '   carpet shark', ' feale shark', 'Wobbegong shark    ', 'Tiger shark -  ', 'Tiger sharks       ', '   whaler', 'Bull sharks      in length', 'Shark involveent prior  deaths unconfired', 'Sandtiger shark   ale ', 'White shark      ale', 'Zabesi shark    ', 'Cookiecutter shark', ' Bull shark  ', 'Whitetip reef shark   ', 'Zabesi shark', '     bull shark', 'His hand was found in a    tiger shark caught //', 'Six Zabesi sharks seen     in length', 'Silky shark ', '   porbeagle shark', 'Porbeagle shark   rk', 'Said  involve white shark but species identify questionable', '   shark x ', 'Bronze whaler', 'Considered a \"Doubtful\" incident', 'Bronze whaler shark    -lb', ' shark ', 'Mako shark   -  ', '-foot shark', '   reef shark - or a       grey-colored shark', 'Tawny nurse shark c', ' shark    ( fragent recovered)', 'A  \"blue-nosed shark\"', 'White shark        according  Shreuder and a witness', ' tp  shark', 'White shark      ', '   whaler shark captured  days later with his reains in its gut', 'Two sharks teeth recovered fro canoe', 'Fisheren recovered partial reains fro shark a week later', 'sall blacktip shark', '-lb \"dog shark\"', '-lb shark', '-lb hooked shark', 'Bull shark   ', 'Blacktip shark  ', 'Reported by edia as shark attack but shark involveent prior  death was not confired', '   juvenile shark', 'White shark  k', 'Local authorities speculated that the water was  cold for sharks but a    -lb pregnant sandbar shark was caught next day', 'White shark \" ', 'Porbeagle or white shark', 'Oceanic whitetip shark x ', 'Blacktip Reef shark ', 'Blue ', 'Possibly a juvenile blacktip shark', 'Questionable  shark suspected', 'Possibly a Caribbean reef shark', 'Injury believed caused by an eel not a shark', 'Invalid incident', '      shark', '        shark', '      Zabesi shark', '\"a very large shark\"', 'Shark involveent  questionable', ' c  shark ', 'Thought  involve a white bull or tiger shark', '   leon shark or bull shark', 'Sandtiger shark', 'blacktip or spinner shark', 'sall blue shark', '   spinner shark', 'Whaler shark    -  -lb  identified by GP Whitley', 'Shark involveent prior  death still  be deterined', 'Sand ', 'Nurse shark  c -lb ale ', 'Possiby white shark', '   shark possibly a dusky shark', 'Haerhead shark    S zygena identified by C Libaugh on description', 'a sall reef shark', 'Silky shark   ', 'Unidentified', 'Atkins reains were recovered fro a dusky shark C obscurus by Capt W F Young shark fisheran', '\"Shark caught later\"', 'said  involve a tiger shark', ' shark -lb ', 'Allegedly a   tiger shark', '     white shark', 'White ', 'Shark involveent doubtful', 'Death ay have been due  drowning', ' oceanic whitetip shark', 'Tiger shark   -lb feale', 'Carpet shark', 'Nurse shark juvenile ', 'Grey nurse shark ', 'Possibly a  bull shark', 'Haerhead shark', 'Dusky shark    dusky shark C obscurus identified by S Springer on  recovered', 'White shark     (Tooth fragent recovered fro victis shoulder  identified by JT Nicholls)', 'White shark -  identity confired by  pattern', 'A large haerhead shark', 'Haerhead sp', 'Bull shark  feale', '  grey reef shark', '  shark ', '\"A pack of sharks\"', 'White shark  seen in area and hooked  days later', '   -  bull shark', 'Leon shark  feale ', 'Bronze whaler shark', 'Mako shark     ', 'Haerhead ', 'White shark    (or bronze whaler)', 'Sall shark', 'sall shark', 'Bronze whaler shark    identified by GP Whitley based on description', '   shark landed  hours later', 'Mako shark - ', 'Tiger shark caught  days later with diver\\x92s reains in its gut', ' shark possibly a blactip or spinner shark', ' \"guy\" shark (Rhizoprionodon or Loxodon)   ', 'Questionable incident', 'White shark     based on  pattern', '      shark; Tooth fragent recovered fro hand', 'Possibily a      sandtiger shark', 'Shark involveent not confired', 'Possibly a Bull shark ', 'Possibly a blacktip shark', ' c  carpet shark', '   \"cocktail shark', 'Thought  involve a    white shark', 'Mako shark   gaffed ', '   -lb shark', '-  -foot shark', 'A -year-old -pound pregnant blacktip reef shark', 'Thought  involve a Zabesi shark', 'Said  involve a white shark but shark involveent not confired', ' days later a -lb shark was caught  yards fro the site', 'Bull shark ', 'Tawny nurse shark', '\" white shark', 'Possibly a white shark', 'Zabesi shark  ', 'Thought  involve a tiger shark', 'Believed  involve a    white shark', 'Grey nurse shark     ', 'White shark naed \\x93Spotty\\x94', 'Tiger shark (pregnant)', ' thresher or blue shark The shark  was killed following the incident', '\"Shark had a very large girth\"', 'White shark -lb ', '   sevengill  shark', 'White shark \" -lb feale ', ' blue shark', 'juvenile white shark', 'Sandtiger shark  ', 'Thought  involve bull sharks', 'Bull shark   bull shark', 'Species unknown possibly a white shark', 'White shark feale ', 'Juvenile dusky or blacktip shark', 'Teeth in hull identified as those fro a white shark    in length', 'Broadnose sevengill shark', ' Sevengill  shark    ', 'Sevengill shark  ', ' white shark:   \"\"', 'Sandtiger shark ', 'Species unknown possible white shark', 'Goblin shark', 'Reains recovered fro shark caught days later', 'Grey reef shark    ', '      haerhead shark', 'Blacktip shark       ', ' -lb thresher shark', 'Copper shark -  ', 'Shark involveent suspected but not confired', '   Caribbean reef shark', 'Identified as C gangeticus by Dr J Fayrer', 'Species unidentified', 'Thought  involve a porbeagle or ako shark', 'Possibly a    sandtiger shark', ' sall spotted catshark Scyliorhinus canicula', ' shark      ', 'White shark ( fragents recovered fro hull of boat)', '\"Attacked by a nuber of sharks\"', '   white shark ', 'Possibly a sandbar shark or sall blacktip shark', 'Tiger shark feale', 'Wobbegong shark O barbatus     identified by GP Whitley', 'White shark \" -lb ', 'White shark based on  teeth retrieved fro rudder', 'Blacktail reef shark', 'Shark involveent probable', 'Soupfin shark', 'Shortfin ako shark    ', '  cow shark', '   Caribbean reef shark (Carcharhinus  perezi)', 'Reported  involve a bull shark', 'Shortfin ako shark', '   white shark species identity confired by witnesses   pattern in surfboard', 'White shark    species identity confired by witnesses   pattern in leg  board ', 'Porbeagle shark ', 'Possibly a    blacktip or spinner shark', 'Survivors said  species of sharks were involved:  oceanic whitetip sharks and another species', '\"grey-colored shark\"', '\"Blue nose sharks\"', 'Mako shark       ', '   Zabesi shark', ' c   c  bite diaeter just below left knee', '     \\xa0 Caribbean Reef Shark ', 'Blue pointer ', '\"a black-tipped shark\"', 'Tiger shark    feet', 'Said  be    shark', 'Not a shark attack; it was a hoax', 'Possibly a blue shark', '-  dead blue shark', '   spinner or bull shark', '  white-tipped reef shark', '   blacktip shark or spinner shark', ' shark -', '  white shark according  witnesses', 'Grey reef shark ', ' reef shark ', 'Possibly a sand shark', 'Questionable incident - shark bite ay have precipitated drowning', '  shark possibly a bronze whaler', 'White shark      -  identified by W C Shroeder based on  fragent ebedded in gunwale', '   gaffed shark', 'Said  involve a tiger shark or a haerhead shark', 'Shark involveent  not confired', ' shark possibly  a blacktip or spinner shark', '   white shark  (or bronze whaler)', 'white shark', '     white shark ', '   white shark or sevengill shark', 'shark', ' c  blind or brown shark', 'White shark according   pattern and witnesses', '\"A long thin brown-colored shark\"', 'Shark involveent questionable', 'Nurse shark \" -lb ', 'Possibly a juvenile blacktip or spinner shark', 'Mako shark        with hook  wire leader caught in outh', 'Blue pointer', 'Mako shark  ', '       blacktip shark', '\"reef shark\"', 'Blue shark', '    bull shark or Caribbean reef shark', 'Blue shark  ', 'Questionable incident said  involve a  shark', 'No shark invovleent ', '      Caribbean reef shark ', 'Shark involveent probable but not confired', 'Haerhead shark   ', ' spinner shark', 'Thought  involve a Tiger shark     ', 'Reported as a shark attack the  was a hoax', '   sharks', 'Leon shark        fragent recovered', 'Reported  involve a White shark      ', 'Zabezi shark ( fragents recovered)', 'Leon shark   iature ale identified by  VG Springer', 'Bull shark -lb ', '-gill shark', 'Shortfin ako shark -lb ', 'Spinner shark or blacktip shark', 'Zabesi ', 'Starry soothhound shark ', 'Bull ', 'Porbeagle  ', '-  shark', 'Bronze whaler shark        ', 'On -Jan- his reains washed ashore A    tiger shark thought  be involved', '\"sall shark\"', 'Bronze whaler shark a  juvenile ', 'Spinner or blacktip sharks', 'Bronze whaler shark   ', 'Thought  involve a bull shark', 'White shark ( fragent recovered)', 'Tiger shark      -lb  ', 'Said  be a \\x93sall shark\\x94', '   shark with \"a very flat head\\x94 that had followed the boat for  days', 'White shark     according  witnesses', 'Oceanic whitetip shark  feale', ' c   c  shark', '\"sandshark\"', 'possibly a bull shark', '-lb sand shark', 'According  Carlsith the sharks outh was  wide', 'a \"sall sli brown shark\"', ' white shark or -gill shark', 'Alleged  involve a White shark    ', 'Salon shark', 'Nurse shark  c   c  ', ' Sandbar shark   ', 'Whaler shark    ', 'Tiger sharks in area', 'Spinner shark    feet', 'Leon shark -lb ', 'reef shark', 'Blue or porbeagle shark', ' sharks', 'White shark   ', '   grey-colored shark', ' sharks involved', 'Allegedly a -foot shark', '   bull shark', 'Tiger shark   k', '\\xa0 ', 'Said  involve a    shark', ' c   shark', 'Tawny nurse shark ', '    bull shark', '   haerhead or bonnethed shark', '   shark either a bronze whaler or a grey nurse shark', '      shark possibly a bull shark', '      shark  fragents recovered ', 'Shark involveent prior  deaths was not confired', '\"a blue shark\"', 'sall haerhead shark', 'Leon shark  ', '\"a sall shark\"', '   whaler shark', 'Thought  involve a    leon shark; two   leon sharks caught within  yds of the site a week prior   a week after this incident', 'Tiger shark   ', 'Spinner shark', 'Mako shark    -lb identified by Dr LP L Schultz on ', 'Bronze whaler shark    Identified by Clyde Buttery', ' White shark  ', ' Tawney nurse shark ', 'White shark    rk', '      \\x93spear-eye\\x94 shark ', '   white shark identified by witnesses   arks', '      shark observed in area', 'Possibly a     Zabezi shark', 'Whitetip reef shark ', 'Tiger sharks  bull sharks ( sharks in all)', '   shark ', 'Possibly a    blacktip shark', 'White shark ( fragents recovered)', ' etre shark', 'C leucas  fragent recovered fro kayak', 'sall nurse shark', '-gill ', '   dogfish', 'Leopard shark  Triakis seifasciata identified by JW DeWitt ()', ' white shark', 'unknown possibly a white shark', 'sandtiger shark', 'Blacktip shark ', 'Thought  involve a  white shark', 'Blue pointers', 'Nurse shark       ', 'Spinner shark       ', 'White shark     fragent recovered', ' \"banjo shark\"', 'Dusky shark ', 'Leon shark   ', 'Thought  involve a   bull or tiger shark', 'Reported  involve a white shark', '\"A pack of  sharks\"', 'Nurse ', 'Blacktip shark    ', 'Leon shark', 'Oceanic whitetip shar; identified by Dr WC Schoeder on   Dr LP L Schultz on sketch by observer', 'A sall shark', 'A  shark was seen in the area by witnesses', 'Tiger shark      ', 'Sharks averaged    in length', ' blacktip shark', 'White shark       ', 'Copper shark', 'said  involve an oceanic whitetip shark', 'Grey nurse shark  ', '    tiger shark  a  shark', 'Mako shark -  ', '   shark possibly a spinner shark', 'Possibly a sall haerhead shark', 'Mako shark    ', ' shark    -year-old captive feale ', ' shark  ', ' white shark  ', 'White shark   ; identifed by Dr WI Follett on  arks', '\"Blue whaler\" (Galeolana)', 'White shark    identified by W I  Follett on  fragents', '  \"grey-colored\" shark', 'Possibly a blacktip reef shark', 'Grey nurse shark', 'Dusky shark  ', 'White shark  -lb ', 'sall carpet shark', 'Leon shark or sandtiger shark', '\"a school of sharks\"', 'Angel shark  ', 'Port Jackson shark ', '   tiger shark caught  hours later with shorts of the boy in its gut', 'Large tiger shark seen in the vicinity the following orning', ' sharks      ', 'Nurse shark     identified by Dr E Clark on color   ipressions', 'Bronze whaler shark ', '   shark (spinner )', 'Mako shark    -  ', '   white shark', '    dusky shark', 'Leon shark    ', 'Blue shark ', 'juvenile shark', 'Spinner shark    ', 'White shark  ', 'Not authenticated', 'Shark seen feeding on turtle scraps thrown overboard prior  incident', 'Reportedly: oceanic whitetip sharks blue sharks tiger sharks  bull sharks', 'Tiger shark    feale', 'Shark involveent not confired; thought  be a barracuda bite', '   reef shark', 'Zabesi shark \"', 'Shovelnose guitarfish adult ale ', 'sand shark', ' Wobbegong shark    ', 'Bronze whaler shark      ', 'Sandtiger shark   ', '   white shark identification by K Nakaya', 'Leon shark pup', 'Questionable', ' shark -     gaffed ', 'White shark    identified by Dr W I Follett on  arks', 'Nurse shark', 'Alleged  involve a white shark \"with little yellow eyes\"', 'White shark', '      \"reef shark\"', 'Next orning a    shark was caught that had Andrews leg in its gut', '   sand shark', 'Reains recovered fro    white shark', 'Caribbean reef shark ', '   blacktip shark', '     shark', 'Juvenile nurse shark', '      white shark', '   white shark species identity confired by  fragent', 'Whtietip reef shark', 'whaler shark', 'Said  involve a       shark', 'White shark  identity confired by  fragent witness and  of captured shark ', '    white shark', 'White shark    k', 'bull shark', 'Tiger shark    ', ' -lb shark', ' Galapagos shark ', '      bull shark', 'Possibly a  leon shark', '  white shark', ' shark   - ', 'White shark    ', 'Nurse shark ', 'Bull shark       ', 'Wobbegong shark', '      spinner or blacktip shark', 'Thought  involve a    -lb bull shark', 'Horn shark Heterodontus francisci    ', 'Grey reef shark    grey reef shark identified by Dr LP L Schultz based on ; identified as C elanopterus by Stewart', '\"A  ( ) brown shark\"', 'Bonita sharkk -lb', 'Possibly a    bull shark', 'Bronze whaler shark    a  was ebedded in the speargun ', 'sall blacktip ', 'Blue shark   -lb ', 'Oceanic whitetip shark', 'Tiger shark', '   shark seen in vicinity', '  blacktip \"reef\" shark', '       white shark', 'Thought  involve a cookie cutter shark', 'Shark involveent unconfired', 'White shark or oceanic whitetip shark', 'Bitten by several    sharks', ' Blacktip shark C aculipinnis       ', 'Grey nurse shark    ', 'White shark based on bite pattern', '      \"black finned shark\"', ' c  captive shark', 'Tooth fragent of a white shark recovered Authorities believed shark was      length', 'White shark identified by  pattern', 'Said  involve a    haerhead shark', '   white shark (Tooth  recovered fro boat)', '   dusky shark', 'Tiger shark said  be      ', '-   shark', '   shark species identity questionable', 'Porbeagle shark  ', 'Possibly a broadnose -gill shark', 'White shark or bronze whaler', 'Said  involve  sharks', 'sall sharks', 'White shark    ( fragent recovered)', 'Reported  involve a   white shark', 'Mako shark -lb ', 'Most likely a sall shark', 'White shark   white shark', '\"a little shark\"', '\"gray shark\"', 'Unknown but the shark was caught and put on exhibition', '      sandbar shark', 'Possibly C leucas', 'No shark involveent', 'Shovelnose shark    ', 'Blacktip shark', '   haerhead shark', 'Tiger shark  fragent recovered', 'Said  involve  sharks:       ', 'Bronze whaler shark    shark', 'Sevengill shark  was caught in the vicinity', '-  -lb Zabesi shark', 'Oceanic whitetip shark   ', 'Wobbegong shark   ', 'Whale shark', 'Thought  involve a    shark but shark involveent not confired', 'Possibly juvenile tiger shark', 'Bull shark    was captured  dragged on the sand where tissue taken fro Eggink was found in its gut Species identification  was ade by S Springer based on   of the shark ', 'On // anglers fro New Zealand caught a    -  shark at the sae spot It was believed this was the sae shark that killed Alysha', 'said  involve   haerhead sharks', 'Mako shark    identified by  fragents by GP Whitley', 'Thought  involve a white shark', '   shark possibly a tiger shark', 'Shark involveent not cofired', '   - white shark', 'Wobbegong shark  ', 'Shark involveent prior  death could not be deterined', 'Tiger shark     -  feale contained Girvans reains ', 'Bull shark    ', 'Blue pointer  ', '   sandtiger shark', 'Bull or tiger shark', '\"  shark', '\"grey shark\"', 'A large white shark was filed by divers on a local wreck  days prior  the incident'}\n"
     ]
    }
   ],
   "source": [
    "species = list(data_modified[\"Species \"])\n",
    "print(set(species))"
   ]
  },
  {
   "cell_type": "code",
   "execution_count": 570,
   "metadata": {},
   "outputs": [
    {
     "data": {
      "text/plain": [
       "shark                                                                      703\n",
       "White shark                                                                346\n",
       "Shark involveent prior  death was not confired                             103\n",
       "Invalid                                                                    102\n",
       "Shark involveent not confired                                               86\n",
       "                                                                          ... \n",
       " shark -lb                                                                   1\n",
       " shark    -year-old captive feale                                            1\n",
       "said  involve a tiger shark                                                  1\n",
       "On -Jan- his reains washed ashore A    tiger shark thought  be involved      1\n",
       "a sall reef shark                                                            1\n",
       "Name: Species , Length: 885, dtype: int64"
      ]
     },
     "execution_count": 570,
     "metadata": {},
     "output_type": "execute_result"
    }
   ],
   "source": [
    "data_modified[\"Species \"].value_counts()"
   ]
  },
  {
   "cell_type": "code",
   "execution_count": 563,
   "metadata": {},
   "outputs": [],
   "source": [
    "data_modified[\"Species \"].replace(\"   shark\", \"shark\", inplace=True)"
   ]
  },
  {
   "cell_type": "code",
   "execution_count": 564,
   "metadata": {},
   "outputs": [],
   "source": [
    "data_modified[\"Species \"].replace(\"    shark\", \"shark\", inplace=True)"
   ]
  },
  {
   "cell_type": "code",
   "execution_count": 565,
   "metadata": {},
   "outputs": [],
   "source": [
    "data_modified[\"Species \"].replace(\" shark\", \"shark\", inplace=True)"
   ]
  },
  {
   "cell_type": "code",
   "execution_count": 566,
   "metadata": {},
   "outputs": [],
   "source": [
    "data_modified[\"Species \"].replace(\"White shark \", \"White shark\", inplace=True)"
   ]
  },
  {
   "cell_type": "code",
   "execution_count": 567,
   "metadata": {},
   "outputs": [],
   "source": [
    "data_modified[\"Species \"].replace(\"White shark    \", \"White shark\", inplace=True)"
   ]
  },
  {
   "cell_type": "code",
   "execution_count": 568,
   "metadata": {},
   "outputs": [],
   "source": [
    "data_modified[\"Species \"].replace(\"   white shark\", \"White shark\", inplace=True)"
   ]
  },
  {
   "cell_type": "code",
   "execution_count": 569,
   "metadata": {},
   "outputs": [],
   "source": [
    "data_modified[\"Species \"].replace(\"White shark       \", \"White shark\", inplace=True)"
   ]
  },
  {
   "cell_type": "code",
   "execution_count": 550,
   "metadata": {},
   "outputs": [
    {
     "name": "stdout",
     "output_type": "stream",
     "text": [
      "[('Invalid incident', 1), ('Tawny nurse shark ', 1), ('Juvenile bull shark', 1), ('Juvenile white shark     ', 1), ('Possibly a wobbegong', 1), ('Injury believed caused by an eel not a shark', 1), ('Galapagos ', 1), ('Juvenile nurse shark', 1), ('Soe drowned but other ay have been killed by blue sharks', 1), ('Cookiecutter shark', 1), ('Spinner shark    feet', 1), ('Death ay have been due  drowning', 1), ('Porbeagle  ', 1), ('Possibly a juvenile blacktip shark', 1), ('Oceanic whitetip shark    ', 1), ('Sandtiger shark  ', 1), ('No shark invovleent ', 1), (' shark probably a sooth hound', 1), ('Shark involveent highly doubtful', 1), ('No shark invovleent - it ws a publicity stunt', 1), ('Leon shark pup', 1), ('White shark feale ', 1), ('Broadnose sevengill shark  ', 1), ('dogfish shark', 1), ('Tawny nurse shark', 1), ('Said  involve an  shark but ore likely daage caused by debris', 1), ('Bronze whaler sharks x ', 1), ('Nurse shark -ft', 1), ('Reef shark ', 1), ('Bull sharks x ', 1), ('Silky shark ', 1), ('Haerhead sp', 1), ('Haerhead shark   ', 1), ('Blacktip or spinner shark ', 1), ('Thought  involve a    shark but shark involveent not confired', 1), ('Mako shark -lb', 1), ('-  -foot shark', 1), ('Blue shark    feet', 1), ('White shark or oceanic whitetip shark', 1), ('Shark involveent prior  death still  be deterined', 1), ('Shark involveent not confired  highly unlikely', 1), ('Goblin shark', 1), (' white shark:   \"\"', 1), ('Spinner shark or blacktip shark', 1), (' tp  shark', 1), ('Possibly juvenile tiger shark', 1), (' etre shark', 1), (' White shark  ', 1), ('Caribbean reef shark   ', 1), (' Leon shark  ', 1), (' Sandbar shark   ', 1), (' Tawney nurse shark ', 1), (' white shark  ', 1), ('Cow shark', 1), ('  shark ', 1), ('Blacktip or spinner ', 1), ('-gill ', 1), ('Reported  involve a bull shark', 1), (' Wobbegong shark    ', 1), ('Reported  involve a white shark', 1), ('Reported  involve a   white shark', 1), ('Whitetip reef shark   ', 1), ('Nurse ', 1), ('Sall bull shark', 1), ('Possibly a Bull shark ', 1), ('Possibly a blacktip reef shark', 1), ('shark involveent not confired', 1), ('Possibly a   bull shark', 1), ('Porbeagle shark ', 1), ('White shark or bronze whaler', 1), ('Salon shark suspected but unlikely', 1), ('possibly a bull shark', 1), ('a sall reef shark', 1), ('Possibly a    bull shark', 1), ('Tawny nurse shark c', 1), ('Blue shark - blue shark', 1), ('Allegedly a   tiger shark', 1), ('Port Jackson shark ', 1), (' shark possibly a blactip or spinner shark', 1), ('Possibly a    sandtiger shark', 1), ('Grey reef shark ', 1), ('Bull shark  feale', 1), ('White shark  k', 1), ('Sevengill shark   ', 1), ('Sandbar shark ', 1), ('possibly a bronze whaler shark', 1), ('Blacktip shark pup', 1), ('White shark x ', 1), ('Oceanic whitetip shark  ', 1), ('Porbeagle shark  ', 1), ('Possibly a  leon shark', 1), ('Possibly a sall blacktip shark', 1), ('Sandtiger shark   ', 1), ('A sall spinner shark', 1), ('Nurse shark juvenile ', 1), ('Possibly a blue shark', 1), ('Thought  involve a juvenile haerhead shark', 1), ('Whitetip reef shark ', 1), ('Zabesi shark  ', 1), ('Sandtiger shark ', 1), ('Thresher shark', 1), ('Spurdog', 1), ('White shark    juvenile ', 1), ('Thought  involve a Bronze whale shark ', 1), ('Shark involveent probable but not confired', 1), ('White shark    feale', 1), ('Blacktip reef shark pup', 1), ('Thought  involve a cookie cutter shark', 1), ('Wobbegong shark c', 1), ('Dusky shark ', 1), ('Broadnose sevengill shark', 1), (' reef shark ', 1), ('   juvenile shark', 1), (' bull shark or Caribbean reef shark', 1), (' white shark or -gill shark', 1), ('   reef shark', 1), ('Starry soothhound shark ', 1), ('Tiger sharks in area', 1), (' sall bull sharks', 1), ('Reported by edia as shark attack but shark involveent prior  death was not confired', 1), ('Shark involveent not confired; thought  be a barracuda bite', 1), ('A bull shark according  soe of the divers on the boat', 1), ('Goblin shark ', 1), ('Possibly a haerhead shark', 1), ('Not a shark attack; it was a hoax', 1), ('Oceanic whitetip sharks were in the vicinity', 1), ('Gray reef shark', 1), (' sall spotted catshark Scyliorhinus canicula', 1), ('Leon shark  feale ', 1), ('A -year-old -pound pregnant blacktip reef shark', 1), ('Lesser spotted dogfish Scyliorhinus canicula less than  c in length', 1), ('   shark possibly a tiger shark', 1), (' shark -', 1), ('sall catsharks', 1), ('Thought  involve a ako shark but possibly a sea lion', 1), ('Angel shark  ', 1), ('Shark involveent not confired injury ay have been caused by a bluefish', 1), ('   spinner or bull shark', 1), ('Wobbegong shark   ', 1), ('Bull shark   bull shark', 1), ('Bronze whaler shark a  juvenile ', 1), (' shark      ', 1), ('Said  involve a   shark', 1), ('Whitetip reef shark', 1), ('Tiger shark less than ', 1), ('Caribbean reef sharks', 1), ('   shark - shark T', 1), ('juvenile white shark', 1), ('Possibly a sandbar shark or sall blacktip shark', 1), ('On // anglers fro New Zealand caught a    -  shark at the sae spot It was believed this was the sae shark that killed Alysha', 1), ('Unknown but it was reported that a shark  was recovered fro the wound', 1), ('Mr Burgess of ISAF announced the injury was the bite of a    -  -year old white shark Subsequent investigation revealed there was  no shark involveent in this incident', 1), ('   copper shark', 1), ('sall haerhead shark', 1), ('Bronze whaler shark        ', 1), ('     white shark ', 1), (' shark     ', 1), ('Thought  involve a   bull or tiger shark', 1), ('Longfin ako shark    -  ', 1), (' sharks      ', 1), ('\"black tipped\" shark', 1), ('\" white shark', 1), ('   Caribbean reef shark (Carcharhinus  perezi)', 1), ('Wobbegong shark    k', 1), ('   sevengill  shark', 1), (' c  blind or brown shark', 1), ('Possibily a      sandtiger shark', 1), ('Bull shark    was speared  killed', 1), ('Bull shark -  ', 1), ('Mako shark       ', 1), ('Shortfin ako shark', 1), (' oceanic whitetip shark', 1), ('Nurse shark  c   c  ', 1), ('   shark either a bronze whaler or a grey nurse shark', 1), ('   \"grey-colored shark\"', 1), ('  cow shark', 1), ('    bull shark', 1), (' great haerhead shark', 1), (' c   shark', 1), ('\\x93sall brown shark\\x94', 1), ('   reef shark - or a       grey-colored shark', 1), (' c   c  bite diaeter just below left knee', 1), (' c  captive shark', 1), ('Species unidentified', 1), ('Thought  involve a    grey nurse shark', 1), ('Thought  involve a    bull shark', 1), ('White shark   white shark', 1), ('Shark involveent not confired injury ay be due  a stingray', 1), ('      grey colored shark', 1), ('     \\xa0 Caribbean Reef Shark ', 1), ('Tiger shark   k', 1), ('   haerhead or bonnethed shark', 1), ('   blacktip or sandbar shark', 1), ('      shark possibly a bull shark', 1), ('      shark; Tooth fragent recovered fro hand', 1), ('     copper shark', 1), ('Bull shark -lb ', 1), ('Spinner shark    ', 1), ('   \"whaler shark\"', 1), ('C leucas  fragent recovered fro kayak', 1), ('Questionable incident - shark bite ay have precipitated drowning', 1), (' sandtiger shark', 1), ('Possibly  a blacktip or spinner shark', 1), (' shark possibly  a blacktip or spinner shark', 1), ('Mako shark  ', 1), ('  shark possibly whitetip reef shark', 1), ('Spinner shark       ', 1), ('Bronze whaler shark     k', 1), ('      \"black finned shark\"', 1), ('Porbeagle shark   rk', 1), ('Blacktip shark  ', 1), ('-  dead blue shark', 1), (' c   c  shark', 1), ('White shark     ale ', 1), ('A  shark was seen in the area by witnesses', 1), ('Thought  involve a    -lb bull shark', 1), ('Shark involveent  not confired', 1), ('   grey-colored shark', 1), ('Leon shark        ', 1), ('   shark  probably a blacktip or spinner shark', 1), ('Tiger sharks  bull sharks ( sharks in all)', 1), ('Shark involveent  questionable', 1), ('Shortfin ako shark       ', 1), ('Miai a  c blacktip  shark and two  c baboo catsharks', 1), ('Thought  involve a white bull or tiger shark', 1), ('    bull shark or Caribbean reef shark', 1), ('Grey reef shark   ', 1), (' bull sharks', 1), ('Sevengill shark    ', 1), ('Mako shark   gaffed ', 1), ('      shark seen in the vicinity', 1), ('Bronze whaler or tiger shark', 1), ('Possibly a white shark', 1), ('A \"sall shark\"', 1), ('Though  involve a white shark', 1), ('Dusky shark  ', 1), ('Caribbean reef shark       ', 1), ('Sandtiger shark   ale ', 1), ('Thought  involve a   white shark naed Kong', 1), ('Leon shark    identified  by the surfer', 1), ('   shark possibly a blacktip', 1), ('Sall dusky shark or blackfin shark', 1), ('sandtiger shark', 1), ('Possibly a blacktip shark', 1), ('Soupfin shark', 1), ('Thought  involve an oceanic whitetip shark or a white shark', 1), ('\"juvenile shark\"', 1), ('   shark (spinner )', 1), ('Possibly a Caribbean reef shark', 1), ('\"a young shark\"', 1), ('said  involve an oceanic whitetip shark', 1), ('   white shark ', 1), (' c   c  blacktip or spinner shark', 1), ('nurse shark', 1), ('\"reef shark\"', 1), ('Nurse shark     ', 1), ('Possibly a tiger shark', 1), ('Tiger shark -  ', 1), ('        shark', 1), ('      bull shark', 1), ('Two       sharks', 1), ('Though  involve a tiger shark', 1), ('Leopard shark', 1), ('Thought  involve a sall sand shark', 1), ('Sall shark', 1), ('     bull shark', 1), ('   spinner shark', 1), ('   -  bull shark', 1), ('Tiger shark said  be      ', 1), ('On -Jan- his reains washed ashore A    tiger shark thought  be involved', 1), ('Tiger shark caught  days later with diver\\x92s reains in its gut', 1), ('   blacktip shark or Caribbean reef shark', 1), ('  white shark according  witnesses', 1), ('      shark  fragents recovered ', 1), ('Reains recovered fro    white shark', 1), ('Possiby white shark', 1), ('Tiger shark    ( fragent recovered fro wound)', 1), ('Two    oceanic whitetip sharks', 1), ('Mako shark     ', 1), ('Unidentified shark', 1), ('       white shark ', 1), ('Nurse shark  -lb ', 1), ('Bull shark or leon shark', 1), ('White shark identification by K Nakaya', 1), ('   - white shark', 1), ('   white shark identification by K Nakaya', 1), ('Said  involve a       white shark', 1), ('  grey shark', 1), ('Possibly a    blacktip shark', 1), ('sand shark', 1), ('Leon shark -lb ', 1), ('   -lb reef shark', 1), ('Tiger shark      ', 1), ('   bull or leon shark', 1), ('   feale white shark naed \"Notchfin\"', 1), ('-   shark', 1), (' feale shark', 1), ('\"Shark had a very large girth\"', 1), ('Shark involveent prior  death could not be deterined', 1), ('   white shark identified by witnesses   arks', 1), ('   white shark identified by M Sale', 1), ('Two sharks seen in vicinity:        TL', 1), ('  shark possibly a bronze whaler', 1), ('White shark identified by  pattern', 1), ('Sandbar shark', 1), ('Blue Shark ', 1), ('   gaffed shark', 1), (' silvertip shark', 1), ('Sand ', 1), ('  \"grey-colored\" shark', 1), ('Zabezi shark ( fragents recovered)', 1), ('Mako shark    -  ', 1), ('  copper shark', 1), ('   sharks attacked survivors in the water', 1), ('Bronze whaler shark      ', 1), ('Doubtful / Unconfired attack / Unable  verify in local records', 1), ('      spinner or blacktip shark', 1), (' shark   - ', 1), ('Leon shark        fragent recovered', 1), ('Tooth fragent of a white shark recovered Authorities believed shark was      length', 1), ('      sixgill or sevengill shark', 1), ('Thought  involve a Tiger shark     ', 1), ('  silky shark', 1), ('Possibly a sall haerhead shark', 1), ('  white shark  fragents recovered', 1), ('Shark involveent not confired; officials considered barracua', 1), ('Haerhead ', 1), ('sall blue shark', 1), (' shark -  ', 1), ('    dusky shark', 1), ('  white-tipped reef shark', 1), (' haerhead shark', 1), (' shark    ( fragent recovered)', 1), ('   Zabezi shark', 1), ('Blue sharks', 1), ('Believed  involve a    white shark', 1), ('Questionable incident; reported as shark attack but thought  involve a pinniped instead ', 1), ('   shark possibly a spinner shark', 1), ('   white shark species identity confired by  fragent', 1), ('Reported as a shark attack the  was a hoax', 1), ('   white shark species identity confired by witnesses   pattern in surfboard', 1), ('      \"reef shark\"', 1), ('   -  hooked  shot white shark', 1), ('   shark with \"a very flat head\\x94 that had followed the boat for  days', 1), ('Said  involve a tiger shark or a haerhead shark', 1), ('   shark species identity questionable', 1), ('Shark involveent prior  death reains unconfired', 1), ('Mako shark ( fragents recovered)', 1), ('\"sandshark\"', 1), ('Possibly a     Zabezi shark', 1), ('\"gray shark\"', 1), (' -lb thresher shark', 1), ('      bull sandbar or dusky shark', 1), ('C aculpinnis or C libatus', 1), ('Juvenile dusky or blacktip shark', 1), ('   Zabesi shark', 1), ('   dogfish', 1), ('Said  involve a white shark but shark involveent not confired', 1), (' shark -     gaffed ', 1), ('White shark     fragent recovered', 1), ('Sevengill shark  ', 1), ('Thought  involve a blacktip shark', 1), ('   white shark (Tooth  recovered fro boat)', 1), ('Mako shark   -  ', 1), ('   leon shark or bull shark', 1), ('White shark    species identity confired by  fragent', 1), ('Mako shark - ', 1), ('Shark involveent unconfired', 1), ('   whaler shark', 1), ('Copper shark -  ', 1), ('Shortfin ako shark    ', 1), ('       blacktip shark', 1), ('  shark possibly a dusky or blacktip shark', 1), ('      shark observed in area', 1), ('Oceanic whitetip shark x ', 1), ('  grey reef shark', 1), ('   grey reef shark', 1), ('White shark   rk', 1), ('White shark    species identity confired by witnesses   pattern in leg  board ', 1), ('   porbeagle shark', 1), ('White shark according   pattern and witnesses', 1), ('    C albiarginatus', 1), ('\"Dog shark\"', 1), (' shark    -year-old captive feale ', 1), ('Considered a \"Doubtful\" incident', 1), ('White shark identified by  fragents in surfboard', 1), ('Carpet shark', 1), (' scalloped haerhead sharks      ', 1), ('- \"blackfin\" shark', 1), ('White shark    ( fragent recovered)', 1), ('a sall haerhead shark', 1), ('Not authenticated', 1), ('      Caribbean reef shark ', 1), ('   silky shark', 1), ('\"Blue whaler\" (Galeolana)', 1), ('Nurse shark  c -lb ale ', 1), ('      sandbar shark', 1), ('White shark or thresher shark', 1), ('Bronze whaler shark    a  was ebedded in the speargun ', 1), ('Spinner or blacktip sharks', 1), ('Leon shark or sandtiger shark', 1), ('Local authorities speculated that the water was  cold for sharks but a    -lb pregnant sandbar shark was caught next day', 1), ('Believed white shark and other saller species of sharks involved', 1), ('Alleged  involve a White shark    ', 1), ('White shark    an iature feale previously injured', 1), ('Copper shark', 1), ('      Zabesi shark', 1), (' c  carpet shark', 1), ('   carpet shark', 1), (' sharks involved', 1), ('Tiger shark  fragent recovered', 1), ('   -  shark ', 1), ('   whaler', 1), ('Nurse shark       ', 1), ('Sall shark with white-tipped dorsal fin', 1), ('      shark possibly a ako shark', 1), ('Less than   ', 1), ('white shark', 1), ('Tiger shark   -lb feale', 1), ('Wobbegong', 1), ('-  -lb Zabesi shark', 1), ('Possibly a broadnose -gill shark', 1), ('Silky shark   ', 1), ('Dooley believed his Injury was caused by stingray (Dasyatidae faily)', 1), ('White shark    rk', 1), ('Hand found in gut of       Galapagos shark C galapagensis', 1), ('     shark seen in vicinity', 1), ('Tooth fragents of \\x93whaler\\x94 shark were recovered a bull shark according  Edwards', 1), ('White shark  -lb ', 1), ('White shark    (or bronze whaler)', 1), ('   blue whaler', 1), (' Blacktip shark C aculipinnis       ', 1), ('\"A long thin brown-colored shark\"', 1), ('Horn shark Heterodontus francisci    ', 1), ('Unknown', 1), (' Sevengill  shark    ', 1), (' c  shark ', 1), ('Said  involve a    \"red shark\"', 1), (' Grey nurse shark     ', 1), ('Bronze whaler shark    shark', 1), ('Said  involve a Grey nurse shark    ', 1), ('\"  shark', 1), ('Next orning a    shark was caught that had Andrews leg in its gut', 1), ('Two sharks teeth recovered fro canoe', 1), ('Oceanic whitetip shar; identified by Dr WC Schoeder on   Dr LP L Schultz on sketch by observer', 1), ('Haerhead shark -llb ', 1), ('   \"yellow belly\" captive shark Shark destroyed by aquariu staff next day', 1), ('Wobbegong shark O barbatus     identified by GP Whitley', 1), (' \"guy\" shark (Rhizoprionodon or Loxodon)   ', 1), ('Grey nurse shark    -lb ', 1), ('Bronze whaler shark    Identified by Clyde Buttery', 1), ('Grey reef shark    grey reef shark identified by Dr LP L Schultz based on ; identified as C elanopterus by Stewart', 1), ('Zabesi shark \"', 1), (' \"banjo shark\"', 1), ('   - shark', 1), ('White shark based on bite pattern', 1), ('Six Zabesi sharks seen     in length', 1), ('White shark     fragent fro wounds identified as that of a white shark', 1), ('White shark ( fragents recovered fro hull of boat)', 1), ('White shark    fragent  recovered fro the hull', 1), ('Leon shark   iature ale identified by  VG Springer', 1), ('-lb hooked shark', 1), ('Mako shark        with hook  wire leader caught in outh', 1), ('Dusky shark    dusky shark C obscurus identified by S Springer on  recovered', 1), ('Leon shark    ale N breviostris identified by WA Stark II later the sae day a \" pregnant feale leon shark bit the bow of the boat', 1), ('White shark     based on  pattern', 1), ('Bronze whaler shark    -lb', 1), (' shark -lb ', 1), ('Bronze whaler shark    identified by GP Whitley based on description', 1), ('White shark ( fragents recovered)', 1), ('   possibly  larger shark', 1), ('Two    sharks', 1), ('According  Benjain the injury was inflicted by a barracuda not a shark', 1), ('Tiger shark    captured', 1), ('Shark involveent prior  deaths was not confired', 1), ('   shark captured', 1), ('Blacktail reef shark', 1), ('Blacktip reef shark', 1), ('Thresher shark    ', 1), ('Carpet shark   ', 1), ('White shark    identified by Dr W I Follett on  arks', 1), ('A haerhead shark then    other sharks were said  be  involved', 1), ('Said  involve white shark but species identify questionable', 1), ('White shark    identified by W I  Follett on  fragents', 1), ('White shark based on  teeth retrieved fro rudder', 1), ('Haerhead shark    S zygena identified by C Libaugh on description', 1), ('Blue ', 1), ('Nurse shark  c  identified by Dr LP L Schultz on ', 1), ('Reported  involve a White shark      ', 1), ('White shark   ; identifed by Dr WI Follett on  arks', 1), ('Mako shark    -lb identified by Dr LP L Schultz on ', 1), ('Bitten by several    sharks', 1), ('Said  involve  sharks:       ', 1), ('White shark        according  Shreuder and a witness', 1), ('Nurse shark     identified by Dr E Clark on description of shark', 1), ('Tiger shark   TL', 1), ('Nurse shark     identified by Dr E Clark on color   ipressions', 1), ('Mako shark -  ', 1), ('Several sharks involved', 1), ('Identified as carcharinid shark (based on its behavior) by Dr DP L Schultz; ako shark according  Huges', 1), ('   bull shark identified by Capt W Gray', 1), ('Said  involve a    white shark but thought  that it was ore likely a blue shark', 1), ('Shark seen feeding on turtle scraps thrown overboard prior  incident', 1), ('Said  involve a large ako shark', 1), ('   tiger shark caught  hours later with shorts of the boy in its gut', 1), ('a sand shark', 1), ('White shark \" -lb feale ', 1), ('Porbeagle or white shark', 1), ('   shark  ay have been another shark nearby', 1), (' thresher or blue shark The shark  was killed following the incident', 1), ('Tooth fragents recovered fro hull', 1), ('   sand shark', 1), ('\"sall brown-colored shark\"', 1), ('Leopard shark  Triakis seifasciata identified by JW DeWitt ()', 1), ('   white shark  (or bronze whaler)', 1), ('   shark x ', 1), ('\"a little shark\"', 1), ('Blacktip reef shark    ', 1), ('   shark possibly a dusky shark', 1), ('White shark  fragent recovered fro ankle  identified by Dr W I Follett', 1), ('White shark      -  identified by W C Shroeder based on  fragent ebedded in gunwale', 1), ('\"A  ( ) brown shark\"', 1), ('White shark \" -lb ', 1), ('a \"sall sli brown shark\"', 1), ('Bull shark    was captured  dragged on the sand where tissue taken fro Eggink was found in its gut Species identification  was ade by S Springer based on   of the shark ', 1), ('\"Attacked by a nuber of sharks\"', 1), ('White shark  seen in area and hooked  days later', 1), ('unknown possibly a white shark', 1), ('      \\x93spear-eye\\x94 shark ', 1), ('sall carpet shark', 1), ('White shark     according  witnesses', 1), ('White shark      ale', 1), ('Possibly a leon shark', 1), ('Whtietip reef shark', 1), ('Alleged  involve a white shark \"with little yellow eyes\"', 1), ('   shark with black-tipped  fins', 1), ('Grey nurse shark     ', 1), ('Bonita sharkk -lb', 1), ('Whaler shark    -  -lb  identified by GP Whitley', 1), ('His hand was found in a    tiger shark caught //', 1), ('Said  be    shark', 1), ('\"grey shark\"', 1), ('Most likely a sall shark', 1), ('Tiger shark      -lb  ', 1), ('   blacktip shark or spinner shark', 1), ('Bull sharks      in length', 1), ('White shark     (Tooth fragent recovered fro victis shoulder  identified by JT Nicholls)', 1), ('White shark     ale', 1), ('      sharks ost were oceanic whitetip sharks', 1), ('White shark        according  witnesses', 1), ('Tiger shark  others', 1), ('Porbeagle shark', 1), ('Said  be \\x93leopard sharks\\x94 ore probably tiger sharks', 1), ('Reportedly: oceanic whitetip sharks blue sharks tiger sharks  bull sharks', 1), ('Mako shark (aka  shark)    ', 1), ('White shark species identity confired by  pattern', 1), ('White shark -  identity confired by  pattern', 1), (' White shark', 1), ('Questionable incident said  involve a  shark', 1), ('   shark landed  hours later', 1), ('whaler shark', 1), ('Tiger shark      fragents retrieved fro his wounds', 1), ('Thought  involve bull sharks', 1), ('\"grey-colored shark\"', 1), ('Tiger shark     -  feale contained Girvans reains ', 1), ('Whaler shark    ', 1), (' days later a -lb shark was caught  yards fro the site', 1), (' \"blue nosed\" shark', 1), ('Thought  involve a  white shark', 1), ('Large tiger shark seen in the vicinity the following orning', 1), ('Shovelnose shark    ', 1), ('White shark (identified by Dr Hugh Sith) ', 1), ('Blue shark   -lb ', 1), ('\"Blue nose shark\"', 1), ('Blue pointer  ', 1), ('A  \"blue-nosed shark\"', 1), ('Mako shark    identified by  fragents by GP Whitley', 1), ('    tiger shark  a  shark', 1), ('   shark seen in area previous week', 1), ('Thought  involve a    leon shark; two   leon sharks caught within  yds of the site a week prior   a week after this incident', 1), ('Thought  involve a ako or grey nurse shark', 1), ('Teeth in hull identified as those fro a white shark    in length', 1), ('-lb \"dog shark\"', 1), (' shark       ', 1), ('Haerhead shark    according  lifeguard Sa Barrows', 1), ('\"a school of sharks\"', 1), ('   \"cocktail shark', 1), (' sharks teeth found ebedded in the woodwork of the boat', 1), ('White shark    identity confired by witness   pattern', 1), ('\"Blue nose sharks\"', 1), ('Moreno\\x92s leg   part of his swi suit found in  shark caught two hours after the attack Identified as carcharhinid shark by L Schultz  C Libaugh on ', 1), ('Species unknown possibly a white shark', 1), ('Said  involve      white shark', 1), ('\"whiptail shark\" (thresher )', 1), ('   white shark or sevengill shark', 1), ('Questionable  shark suspected', 1), ('According  Carlsith the sharks outh was  wide', 1), ('\"a blue shark\"', 1), ('Tiger shark    feale', 1), ('Said  be a \\x93sall shark\\x94', 1), ('Mako shark    Tooth fragent recovered  identified by JT Nichols', 1), ('\"a very large shark\"', 1), ('Atkins reains were recovered fro a dusky shark C obscurus by Capt W F Young shark fisheran', 1), ('   \"blue\" shark', 1), ('\"A pack of  sharks\"', 1), ('White shark  identity confired by  fragent witness and  of captured shark ', 1), ('   shark later captured by Mitchell-Hedges', 1), ('Corades saw sharks tail appear about  away', 1), ('*  \" dog shark', 1), ('   -lb shark Shark caught  its jaw exhibited at the Carnegie Museu', 1), ('Tiger sharks       ', 1), ('Reported  involve a    shark possibly a white shark', 1), ('A  shark known as \"Old To\"', 1), ('said  involve a tiger shark', 1), ('Said  involve a    haerhead shark', 1), ('   whaler shark captured  days later with his reains in its gut', 1), ('C acrurus captured  hours after attack with tissue reoved fro an in its gut; species identified by GP Whitley  reported as C obscurus by  R Steel', 1), ('Said  involve   blue shark', 1), ('Reains recovered fro  sharks', 1), ('Species unknown possible white shark', 1), ('Allegedly a -foot shark', 1), ('Shortfin ako shark -lb ', 1), ('Reains recovered  days later', 1), ('Fisheren recovered partial reains fro shark a week later', 1), ('Shovelnose shark ', 1), ('Sevengill shark  was caught in the vicinity', 1), ('   feale shark', 1), ('Unknown but the shark was caught and put on exhibition', 1), ('Shark was said  \\x93have a very rough ½\\x94-thick skin\\x94', 1), ('Said  involve  sharks', 1), ('a school of sharks', 1), (' a sall shark', 1), ('Blue or porbeagle shark', 1), ('Wobbegongs', 1), ('Identified as C gangeticus by Dr J Fayrer', 1), ('\"Shark caught later\"', 1), (' \"ground shark\"', 1), ('Reains recovered fro shark caught days later', 1), ('Shark involveent prior  deaths unconfired', 1), ('Tiger shark (pregnant)', 1), ('Said  involve a       shark', 1), ('Said  be a    shark', 1), ('Thought  involve a porbeagle or ako shark', 1), ('Description of shark does not ring true', 1), ('\"The fish was harpooned dried and presented  the sailor who went round Europe exhibiting it  It was said  be  feet long', 1), ('White shark -lb feale ', 1), ('Possibly white sharks', 1), (' Galapagos shark ', 1), ('said  involve   haerhead sharks', 1), ('Silvertip shark', 1), ('A large haerhead shark', 1), ('Shovelnose guitarfish adult ale ', 1), ('\"A pack of sharks\"', 1), ('White shark -lb ', 1), ('Bull shark caught leg recovered  buried beside the ans body', 1), ('\"a black-tipped shark\"', 1), (' tiger shark', 1), ('Blue pointers', 1), ('Said  involve a grey nurse shark that leapt out of the water and  seized the boy but species identification is questionable', 1), ('Tiger shark feale', 2), ('Tiger shark    feet', 2), ('A sall shark', 2), ('Seven-gill shark', 2), ('reef shark ', 2), ('Caribbean reef shark ', 2), ('Bronze whaler', 2), ('Shark involveent not cofired', 2), ('sall nurse shark', 2), ('Blacktip Reef shark ', 2), ('reef shark', 2), (' Bull shark ', 2), (' Bull shark  ', 2), ('Thought  involve a bull shark', 2), ('Salon shark', 2), ('sall blacktip ', 2), ('Possibly a bull shark', 2), ('Oceanic whitetip shark ', 2), (' Tiger shark ', 2), ('Oceanic whitetip shark  feale', 2), ('Bull ', 2), ('Oceanic whitetip shark   ', 2), ('Zabesi ', 2), ('Tiger shark  feale', 2), ('Possibly a spinner shark', 2), ('Sand shark', 2), ('Possibly a  bull shark', 2), ('Leon shark   ', 2), ('  blacktip \"reef\" shark', 2), ('Possibly a    blacktip or spinner shark', 2), ('', 2), ('Shark involveent doubtful', 2), ('Tiger shark     ', 2), ('A \\x93sall\\x94 shark', 2), ('Reported  involve a haerhead shark', 2), ('Possibly a bull shark or tiger shark', 2), ('Bull shark       ', 2), ('Mako shark -lb ', 2), ('Tiger shark        ', 2), ('\\xa0 ', 2), (' blacktip shark', 2), ('A large white shark was filed by divers on a local wreck  days prior  the incident', 2), ('Said  involve a    white shark', 2), (' spinner shark', 2), ('Shark involveent prior  death suspected but not confired', 2), ('sall blacktip shark', 2), ('Possibly a sand shark', 2), ('\"sand\" shark', 2), ('White shark ( fragent recovered)', 2), ('Thought  involve a tiger shark', 2), ('  haerhead shark', 2), ('   -   shark', 2), ('  haerhead', 2), ('   sandtiger shark', 2), ('   dusky shark', 2), (' -lb shark', 2), ('   haerhead shark', 2), ('White shark    k', 2), ('Blue shark  ', 2), ('Whale shark', 2), ('White shark naed \\x93Spotty\\x94', 2), ('Juvenile dusky shark', 2), ('White shark - ', 2), ('Carpet shark  ', 2), ('   sharks', 2), ('A pack of  sharks', 2), ('Dusky shark   ', 2), ('   tiger shark', 2), ('White shark \" ', 2), ('      sharks', 2), ('Possibly a bronze whaler shark', 2), ('Blue shark    ', 2), ('Haerhead shark  ', 2), ('Blue shark   ', 2), ('Sharks averaged    in length', 2), ('White shark according  witnesses', 2), ('-lb sand shark', 2), ('Survivors said  species of sharks were involved:  oceanic whitetip sharks and another species', 2), ('Nurse shark \" -lb ', 2), ('   shark probable bull shark', 2), ('Possibly C leucas', 2), ('Blue pointer ', 2), ('\"a large shark\"', 2), ('-foot shark', 2), ('Grey nurse ', 2), ('Thought  involve a    white shark', 2), ('Shark involveent probable', 2), ('Grey reef shark  ', 3), ('\"A sall shark\"', 3), ('Spinner shark ', 3), ('Blacktip shark   ', 3), ('juvenile shark', 3), (' shark  ', 3), ('reef ', 3), ('Blacktip reef shark ', 3), ('-gill shark', 3), ('\"sall sharks\"', 3), ('Leon shark    ', 3), ('Bronze whaler ', 3), (' shark ', 3), ('Questionable Incident', 3), ('Bull or tiger shark', 3), ('  - shark', 3), ('Sandtiger shark    ', 3), ('   Caribbean reef shark', 3), ('sall sharks', 3), ('bull shark', 3), ('Unidentified', 3), ('Blacktip shark    ', 3), ('Blacktip shark       ', 3), ('White shark        ', 3), ('Leon shark  ', 3), ('-  shark', 3), (' blue shark', 3), ('White shark      ', 3), ('Grey nurse shark   ', 3), ('White shark    -lb ', 3), ('Blue pointer', 3), ('Bull shark suspected due  freshwater habitat', 3), ('Said  involve a    shark', 3), ('   shark seen in vicinity', 3), ('\"a dog shark\"', 3), ('Wobbegong ', 4), ('Wobbegong shark  ', 4), ('Shark involveent questionable', 4), ('Blue shark ', 4), ('Caribbean reef shark', 4), ('Galapagos shark', 4), ('Thought  involve a white shark', 4), ('Mako shark ', 4), ('blacktip or spinner shark', 4), ('White sharks', 4), ('White ', 4), ('Grey reef shark    ', 4), ('Bronze whaler shark  ', 4), ('Mako shark   ', 4), ('Nurse shark   ', 4), ('Sevengill shark', 4), ('      haerhead shark', 4), ('Zabesi shark    ', 4), ('Shark involveent suspected but not confired', 4), (' shark   ', 4), ('   -lb shark', 4), ('\" shark', 4), ('Grey reef shark', 5), ('sall shark', 5), ('Nurse shark ', 5), ('Wobbegong shark ', 5), ('Angel shark', 5), ('Bull shark    ', 5), ('     white shark', 5), ('Grey nurse shark ', 5), ('\"  \" shark', 5), ('   shark ', 5), (' white shark', 5), ('Nurse shark  ', 5), ('\"sand shark\"', 5), ('Blacktip or spinner shark', 5), ('Possibly a juvenile blacktip or spinner shark', 5), ('Grey nurse shark  ', 5), ('    white shark', 5), ('Haerhead shark    ', 5), ('Mako shark    ', 6), ('Spinner shark', 6), ('Tiger ', 6), ('Bronze whaler shark   ', 6), ('       shark', 6), ('Thought  involve a Zabesi shark', 6), ('Grey nurse shark    ', 6), (' sharks', 6), ('Leon shark ', 7), ('Leon shark', 7), ('Blacktip shark ', 7), ('Sandtiger shark', 7), ('Oceanic whitetip shark', 7), ('Basking shark', 7), ('       white shark', 7), ('Wobbegong shark    ', 7), ('Bronze whaler shark ', 8), (' ', 8), ('White shark     ', 8), ('\"sall shark\"', 8), ('Unidentified species', 8), ('Haerhead shark', 10), ('Nurse shark    ', 10), ('   blacktip shark', 10), (' shark    ', 10), ('-lb shark', 10), ('Grey nurse shark', 11), ('Zabesi shark', 11), ('Bull shark   ', 12), ('Nurse shark', 12), ('a sall shark', 12), ('Mako shark', 12), ('     shark', 12), ('Bronze whaler shark', 12), ('   bull shark', 12), ('Shark involveent prior  death not confired', 13), ('Blue shark', 13), ('\"a sall shark\"', 13), ('Bronze whaler shark    ', 14), ('Blacktip shark', 15), ('Bull shark  ', 15), ('  white shark', 16), ('Tiger shark  ', 20), ('Tiger shark       ', 20), ('White shark       ', 20), ('Wobbegong shark', 21), ('No shark involveent', 21), ('Tiger shark ', 22), ('Bull shark ', 24), ('White shark ', 27), ('    shark', 27), ('Tiger shark    ', 27), ('      white shark', 27), ('Questionable', 33), ('White shark  ', 34), ('Questionable incident', 35), ('Tiger shark   ', 36), ('White shark   ', 39), ('      shark', 45), ('Bull shark', 52), ('White shark    ', 61), ('Shark involveent prior  death unconfired', 68), ('Tiger shark', 73), ('   white shark', 75), ('Shark involveent not confired', 86), ('Invalid', 102), ('Shark involveent prior  death was not confired', 103), ('White shark', 163), ('shark', 676), (nan, 2800)]\n"
     ]
    }
   ],
   "source": [
    "from operator import itemgetter\n",
    "dicionario = {}\n",
    "for t in species:\n",
    "   dicionario[t] = species.count(t)#print(dicionario)\n",
    "dict_ordenado = sorted(dicionario.items(), key=itemgetter(1))\n",
    "print(dict_ordenado)"
   ]
  },
  {
   "cell_type": "code",
   "execution_count": null,
   "metadata": {},
   "outputs": [],
   "source": []
  }
 ],
 "metadata": {
  "kernelspec": {
   "display_name": "Python 3",
   "language": "python",
   "name": "python3"
  },
  "language_info": {
   "codemirror_mode": {
    "name": "ipython",
    "version": 3
   },
   "file_extension": ".py",
   "mimetype": "text/x-python",
   "name": "python",
   "nbconvert_exporter": "python",
   "pygments_lexer": "ipython3",
   "version": "3.6.8"
  }
 },
 "nbformat": 4,
 "nbformat_minor": 4
}
