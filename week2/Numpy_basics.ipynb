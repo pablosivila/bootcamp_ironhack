{
 "cells": [
  {
   "cell_type": "markdown",
   "metadata": {},
   "source": [
    "\n",
    "<p>Agora que começa a brincadeira, o primeiro passo é importar o numpy, usando o famoso:</p>\n"
   ]
  },
  {
   "cell_type": "code",
   "execution_count": 1,
   "metadata": {},
   "outputs": [],
   "source": [
    "\n",
    "import numpy as np\n",
    "\n"
   ]
  },
  {
   "cell_type": "markdown",
   "metadata": {},
   "source": [
    "\n",
    "<h1 id=\"CRIANDO-ARRAYS\">CRIANDO ARRAYS<a class=\"anchor-link\" href=\"#CRIANDO-ARRAYS\">¶</a></h1>\n"
   ]
  },
  {
   "cell_type": "markdown",
   "metadata": {},
   "source": [
    "\n",
    "<p>Existem várias formas de criar arrays, pode ser através do método np.array(), usando uma lista ou tupla do python:</p>\n"
   ]
  },
  {
   "cell_type": "code",
   "execution_count": 8,
   "metadata": {},
   "outputs": [
    {
     "name": "stdout",
     "output_type": "stream",
     "text": [
      "arr =  [-2.   4.3  7.   9. ]\n",
      "arr2 =  [ 8.  -5.   0.   3.2]\n"
     ]
    }
   ],
   "source": [
    "\n",
    "arr = np.array([-2, 4.3, 7, 9])\n",
    "\n",
    "my_tuple = (8, -5, 0, 3.2)\n",
    "arr2 = np.array(my_tuple)\n",
    "\n",
    "print('arr = ', arr)\n",
    "print('arr2 = ', arr2)\n",
    "\n"
   ]
  },
  {
   "cell_type": "markdown",
   "metadata": {},
   "source": [
    "\n",
    "<p>Usando o método arange (similar ao range do python)</p>\n"
   ]
  },
  {
   "cell_type": "code",
   "execution_count": 9,
   "metadata": {},
   "outputs": [
    {
     "name": "stdout",
     "output_type": "stream",
     "text": [
      "[0 1 2 3 4 5 6 7 8 9] \n",
      "\n",
      "[[ 1  3  5  7]\n",
      " [ 9 11 13 15]\n",
      " [17 19 21 23]\n",
      " [25 27 29 31]]\n"
     ]
    }
   ],
   "source": [
    "\n",
    "arr = np.arange(10)\n",
    "print(arr, '\\n')\n",
    "\n",
    "# Lembrando que arrays podem ter mais de uma dimensão\n",
    "# cria uma array começando em 2 e até 32 (sem incluí-lo),  pulando cada dois números\n",
    "\n",
    "arr2 = np.arange(1, 32, 2).reshape(4, 4) # reshape muda o formato da array - nesse caso de (16) para (4x4)\n",
    "print(arr2)\n",
    "\n"
   ]
  },
  {
   "cell_type": "markdown",
   "metadata": {},
   "source": [
    "\n",
    "<p>Usando os métodos 'zeros()' e 'ones()' para criar arrays de 0 e 1, respectivamente:</p>\n"
   ]
  },
  {
   "cell_type": "code",
   "execution_count": 10,
   "metadata": {},
   "outputs": [
    {
     "name": "stdout",
     "output_type": "stream",
     "text": [
      "[ 0.  0.  0.  0.  0.  0.  0.  0.]\n",
      "[[ 1.  1.  1.]\n",
      " [ 1.  1.  1.]\n",
      " [ 1.  1.  1.]\n",
      " [ 1.  1.  1.]]\n"
     ]
    }
   ],
   "source": [
    "\n",
    "arr = np.zeros(8) # array contendo 8 'zeros'\n",
    "print (arr)\n",
    "\n",
    "arr2 = np.ones((4,3)) # array contendo 12 'uns', no formato 4 x 3\n",
    "print(arr2)\n",
    "\n"
   ]
  },
  {
   "cell_type": "code",
   "execution_count": 11,
   "metadata": {},
   "outputs": [
    {
     "name": "stdout",
     "output_type": "stream",
     "text": [
      "[   1.   12.   23.   34.   45.   56.   67.   78.   89.  100.] \n",
      "\n",
      "[[  6.94175906e-310   2.63421731e-316   7.18150915e-299   7.18150915e-299]\n",
      " [  7.18150915e-299   7.18150915e-299   7.18150915e-299   7.18150915e-299]\n",
      " [  7.18150915e-299   7.18150915e-299   7.18150915e-299   7.18150915e-299]\n",
      " [  7.18150915e-299   7.18150915e-299   7.18150915e-299   7.18150915e-299]\n",
      " [  3.72885274e-265   7.17217651e-299   7.17217651e-299   7.17217651e-299]\n",
      " [  7.17334309e-299   7.16867678e-299   7.16867678e-299   2.48672696e-316]] \n",
      "\n",
      "[[ 1.  0.  0.  0.]\n",
      " [ 0.  1.  0.  0.]\n",
      " [ 0.  0.  1.  0.]\n",
      " [ 0.  0.  0.  1.]]\n"
     ]
    }
   ],
   "source": [
    "\n",
    "# Método linspace()\n",
    "\n",
    "arr = np.linspace(1, 100, 10) # de 1 a 100, contendo 10 valores\n",
    "print(arr, '\\n')\n",
    "\n",
    "\n",
    "# Array vazia com o método empty()\n",
    "\n",
    "arr2 = np.empty((6,4)) # normalmente a saída é lixo de memória ou zeros\n",
    "print(arr2, '\\n')\n",
    "\n",
    "\n",
    "# Np.Eye\n",
    "#matriz identidade:\n",
    "\n",
    "arr3 = np.eye(4) # eye cria uma array de duas dimensões com 1 na da diagnoal e 0 nos outros elementos\n",
    "print(arr3)\n",
    "\n"
   ]
  },
  {
   "cell_type": "markdown",
   "metadata": {},
   "source": [
    "\n",
    "<h2 id=\"ATRIBUTOS-DAS-ARRAYS\">ATRIBUTOS DAS ARRAYS<a class=\"anchor-link\" href=\"#ATRIBUTOS-DAS-ARRAYS\">¶</a></h2>\n"
   ]
  },
  {
   "cell_type": "markdown",
   "metadata": {},
   "source": [
    "\n",
    "<p>Existem vários atributos, mas o três principais são .shape , .size e .dtype</p>\n"
   ]
  },
  {
   "cell_type": "code",
   "execution_count": 12,
   "metadata": {},
   "outputs": [
    {
     "name": "stdout",
     "output_type": "stream",
     "text": [
      ".shape:  (10,)\n",
      ".size:  10\n",
      ".dtype:  float64\n"
     ]
    }
   ],
   "source": [
    "\n",
    "arr = np.linspace(.5, 50, 10)\n",
    "\n",
    "print('.shape: ', arr.shape)    # imprime o formato da array\n",
    "print('.size: ', arr.size)      # imprime o tamanho da array\n",
    "print('.dtype: ', arr.dtype)    # imprime o tipo de dado dos elementos\n",
    "\n"
   ]
  },
  {
   "cell_type": "markdown",
   "metadata": {},
   "source": [
    "\n",
    "<p>Outros atributos:</p>\n"
   ]
  },
  {
   "cell_type": "code",
   "execution_count": 13,
   "metadata": {},
   "outputs": [
    {
     "name": "stdout",
     "output_type": "stream",
     "text": [
      ".ndim:  1\n",
      ".itemsize:  8\n"
     ]
    }
   ],
   "source": [
    "\n",
    "print('.ndim: ', arr.ndim)          # número de dimensões\n",
    "print('.itemsize: ', arr.itemsize)      # tamanho de cada elemento em bytes\n",
    "\n"
   ]
  },
  {
   "cell_type": "markdown",
   "metadata": {},
   "source": [
    "\n",
    "<h2 id=\"OPERAÇÕES-BÁSICAS\">OPERAÇÕES BÁSICAS<a class=\"anchor-link\" href=\"#OPERAÇÕES-BÁSICAS\">¶</a></h2>\n"
   ]
  },
  {
   "cell_type": "markdown",
   "metadata": {},
   "source": [
    "\n",
    "<p>É bem fácil realizar operações matemáticas com arrays</p>\n"
   ]
  },
  {
   "cell_type": "code",
   "execution_count": 14,
   "metadata": {},
   "outputs": [
    {
     "name": "stdout",
     "output_type": "stream",
     "text": [
      " A:  [0 1 2 3 4 5 6 7 8 9] \n",
      " B:  [10 13 16 19 22 25 28 31 34 37] \n",
      "\n",
      " C: [[0 1 2]\n",
      " [3 4 5]\n",
      " [6 7 8]] \n",
      "\n",
      " D: [[10 13 16]\n",
      " [19 22 25]\n",
      " [28 31 34]]\n"
     ]
    }
   ],
   "source": [
    "\n",
    "# vamos criar as arrays A e B para fazer operações com elas\n",
    "\n",
    "A = np.arange(10)\n",
    "B = np.arange(10,38,3)\n",
    "C = np.arange(9).reshape(3,3)\n",
    "D = np.arange(10,37,3).reshape(3,3)\n",
    "\n",
    "print (' A: ', A, '\\n', 'B: ', B,'\\n\\n','C:',C,'\\n\\n','D:',D)\n",
    "\n"
   ]
  },
  {
   "cell_type": "code",
   "execution_count": 15,
   "metadata": {},
   "outputs": [
    {
     "name": "stdout",
     "output_type": "stream",
     "text": [
      "somar:  [10 14 18 22 26 30 34 38 42 46]\n",
      "subtrair:  [-10 -12 -14 -16 -18 -20 -22 -24 -26 -28]\n",
      "dividir:  [ 0.          0.07692308  0.125       0.15789474  0.18181818  0.2\n",
      "  0.21428571  0.22580645  0.23529412  0.24324324]\n",
      "multiplicar:  [  0  13  32  57  88 125 168 217 272 333]\n"
     ]
    }
   ],
   "source": [
    "\n",
    "somar = A + B\n",
    "subtrair = A - B\n",
    "dividir = A / B\n",
    "multiplicar = A * B\n",
    "\n",
    "print('somar: ', somar )\n",
    "print('subtrair: ', subtrair )\n",
    "print('dividir: ', dividir )\n",
    "print('multiplicar: ', multiplicar)\n",
    "\n"
   ]
  },
  {
   "cell_type": "code",
   "execution_count": 16,
   "metadata": {},
   "outputs": [
    {
     "name": "stdout",
     "output_type": "stream",
     "text": [
      "soma1:  [0, 1, 2, 3, 4, 5, 6, 7, 8, 9, 10, 13, 16, 19, 22, 25, 28, 31, 34, 37]\n",
      "soma2:  [10, 14, 18, 22, 26, 30, 34, 38, 42, 46]\n"
     ]
    }
   ],
   "source": [
    "\n",
    "a = list(range(10))\n",
    "b = list(range(10,38,3))\n",
    "soma1 = a + b\n",
    "print(\"soma1: \", soma1)\n",
    "soma2 = [a[i] + b[i] for i in range(len(a))]\n",
    "print(\"soma2: \", soma2)\n",
    "\n"
   ]
  },
  {
   "cell_type": "code",
   "execution_count": 17,
   "metadata": {},
   "outputs": [
    {
     "name": "stdout",
     "output_type": "stream",
     "text": [
      "somar:\n",
      " [[10 14 18]\n",
      " [22 26 30]\n",
      " [34 38 42]]\n",
      "\n",
      "\n",
      " subtrair:\n",
      " [[-10 -12 -14]\n",
      " [-16 -18 -20]\n",
      " [-22 -24 -26]]\n",
      "\n",
      "\n",
      " dividir:\n",
      " [[ 0.          0.07692308  0.125     ]\n",
      " [ 0.15789474  0.18181818  0.2       ]\n",
      " [ 0.21428571  0.22580645  0.23529412]]\n",
      "\n",
      "\n",
      " multiplicar:\n",
      " [[  0  13  32]\n",
      " [ 57  88 125]\n",
      " [168 217 272]]\n"
     ]
    }
   ],
   "source": [
    "\n",
    "somar = C + D\n",
    "subtrair = C - D\n",
    "dividir = C / D\n",
    "multiplicar = C * D\n",
    "\n",
    "print('somar:\\n', somar )\n",
    "print('\\n\\n subtrair:\\n', subtrair )\n",
    "print('\\n\\n dividir:\\n', dividir )\n",
    "print('\\n\\n multiplicar:\\n', multiplicar)\n",
    "\n"
   ]
  },
  {
   "cell_type": "code",
   "execution_count": 18,
   "metadata": {},
   "outputs": [
    {
     "name": "stdout",
     "output_type": "stream",
     "text": [
      "[[ 75  84  93]\n",
      " [246 282 318]\n",
      " [417 480 543]]\n",
      "\n",
      " 75\n"
     ]
    }
   ],
   "source": [
    "\n",
    "# para realmente fazer uma multiplicação de matrizes, devemos utilizar o comando numpy.dot()\n",
    "\n",
    "print(C.dot(D))\n",
    "print(\"\\n\",0*10 + 1*19 + 2* 28) #elemento: linha 1 x coluna 1\n",
    "\n"
   ]
  },
  {
   "cell_type": "markdown",
   "metadata": {},
   "source": [
    "\n",
    "<h4 id=\"Perceba-que-se-você-dividir-por-zero,-numpy-não-vai-dar-erro-(o-código-vai-rodar),-porém-vai-emitir-uma-advertência!\">Perceba que se você dividir por zero, numpy não vai dar erro (o código vai rodar), porém vai emitir uma advertência!<a class=\"anchor-link\" href=\"#Perceba-que-se-você-dividir-por-zero,-numpy-não-vai-dar-erro-(o-código-vai-rodar),-porém-vai-emitir-uma-advertência!\">¶</a></h4>\n"
   ]
  },
  {
   "cell_type": "code",
   "execution_count": 19,
   "metadata": {},
   "outputs": [
    {
     "name": "stderr",
     "output_type": "stream",
     "text": [
      "/home/fernanda/.local/lib/python3.6/site-packages/ipykernel_launcher.py:1: RuntimeWarning: divide by zero encountered in true_divide\n",
      "  \"\"\"Entry point for launching an IPython kernel.\n"
     ]
    },
    {
     "data": {
      "text/plain": [
       "array([         inf,  13.        ,   8.        ,   6.33333333,\n",
       "         5.5       ,   5.        ,   4.66666667,   4.42857143,\n",
       "         4.25      ,   4.11111111])"
      ]
     },
     "execution_count": 19,
     "metadata": {},
     "output_type": "execute_result"
    }
   ],
   "source": [
    "\n",
    "B/A     # a array A contém um zero como primeiro elemento\n",
    "\n"
   ]
  },
  {
   "cell_type": "markdown",
   "metadata": {},
   "source": [
    "\n",
    "<p>BROADCAST = transmissão</p>\n"
   ]
  },
  {
   "cell_type": "code",
   "execution_count": 20,
   "metadata": {},
   "outputs": [
    {
     "data": {
      "text/plain": [
       "array([  0, 100, 200, 300, 400, 500, 600, 700, 800, 900])"
      ]
     },
     "execution_count": 20,
     "metadata": {},
     "output_type": "execute_result"
    }
   ],
   "source": [
    "\n",
    "''' Você pode fazer operações envolvendo arrays e um único elemento, dessa forma numpy itera a operação \n",
    "do elemento único com todos os componentes da array, exemplo: ''' \n",
    "\n",
    "A * 100    # retorna um array com a multiplicação de todos elementos da array por 100\n",
    "\n"
   ]
  },
  {
   "cell_type": "code",
   "execution_count": 21,
   "metadata": {},
   "outputs": [
    {
     "name": "stdout",
     "output_type": "stream",
     "text": [
      " A + 1:  [ 1  2  3  4  5  6  7  8  9 10]\n",
      " a + 1:  [0, 1, 2, 3, 4, 5, 6, 7, 8, 9, 1]\n"
     ]
    }
   ],
   "source": [
    "\n",
    "print(\" A + 1: \", A + 1)\n",
    "print(\" a + 1: \", a + [1])\n",
    "# Este comando gerará um erro conceitual, pois estamos tentando concatenar uma lista com um inteiro \n",
    "# não soma 1, e sim, concatena\n",
    "# print(\" a + 1: \", a + 1)\n",
    "\n"
   ]
  },
  {
   "cell_type": "markdown",
   "metadata": {},
   "source": [
    "\n",
    "<h2 id=\"INDEXAÇÃO-E-FATIAMENTO-(SLICING)\">INDEXAÇÃO E FATIAMENTO (SLICING)<a class=\"anchor-link\" href=\"#INDEXAÇÃO-E-FATIAMENTO-(SLICING)\">¶</a></h2>\n"
   ]
  },
  {
   "cell_type": "markdown",
   "metadata": {},
   "source": [
    "\n",
    "<p>O acesso de elementos de uma array, funciona de forma similar ao das listas do Python:</p>\n"
   ]
  },
  {
   "cell_type": "code",
   "execution_count": 39,
   "metadata": {},
   "outputs": [
    {
     "data": {
      "text/plain": [
       "array([ 1,  4,  9, 16, 25, 36, 49, 64, 81])"
      ]
     },
     "execution_count": 39,
     "metadata": {},
     "output_type": "execute_result"
    }
   ],
   "source": [
    "\n",
    "# criar uma array com o quadrado dos números de 1 a 10\n",
    "arr = np.arange(1, 10) **2\n",
    "arr\n",
    "\n"
   ]
  },
  {
   "cell_type": "code",
   "execution_count": 40,
   "metadata": {},
   "outputs": [
    {
     "name": "stdout",
     "output_type": "stream",
     "text": [
      "1º elemento:  1\n",
      "5º elemento:  25\n"
     ]
    }
   ],
   "source": [
    "\n",
    "# acessando o primeiro elemento\n",
    "print('1º elemento: ', arr[0])    # lembrar que índice começa do 0\n",
    "\n",
    "# acessando o quinto elemento\n",
    "print ('5º elemento: ', arr[4])   # O quinto elemento é acessado pelo índice 4\n",
    "\n"
   ]
  },
  {
   "cell_type": "code",
   "execution_count": 41,
   "metadata": {},
   "outputs": [
    {
     "name": "stdout",
     "output_type": "stream",
     "text": [
      "[[ 1  4  9]\n",
      " [16 25 36]\n",
      " [49 64 81]] \n",
      "\n",
      "Acessando o elemento 25:  25\n",
      "Acessando o elemento 25:  25\n"
     ]
    },
    {
     "data": {
      "text/plain": [
       "81"
      ]
     },
     "execution_count": 41,
     "metadata": {},
     "output_type": "execute_result"
    }
   ],
   "source": [
    "\n",
    "# Em um array de duas dimensões (ou mais) existem duas formas de acessar o índice:\n",
    "\n",
    "arr = arr.reshape((3,3))\n",
    "print (arr, '\\n')\n",
    "\n",
    "#Para acessar um elemento, pode-se usar essas duas formas de sintaxe:\n",
    "\n",
    "# Usando colchetes duplos [][]\n",
    "print ('Acessando o elemento 25: ', arr[1][1])\n",
    "\n",
    "# Ou minha preferência pessoal - separando índices por vírgula\n",
    "print ('Acessando o elemento 25: ', arr[1,1])\n",
    "\n",
    "# acessando o último elemento usando o -1\n",
    "arr[-1, -1] \n",
    "\n"
   ]
  },
  {
   "cell_type": "code",
   "execution_count": 42,
   "metadata": {},
   "outputs": [
    {
     "name": "stdout",
     "output_type": "stream",
     "text": [
      "[[ 1  4  9]\n",
      " [16 25 36]] \n",
      "\n",
      "[[ 1  4  9]\n",
      " [16 25 36]]\n"
     ]
    }
   ],
   "source": [
    "\n",
    "# Para acessar fatias de elementos, usamos o slice [i:i], exemplo\n",
    "\n",
    "# linha: acessar da linha de índice 0 a linha de índice 2 (excluindo esta) = [0:2]\n",
    "# coluna: acessar da coluna de índice 0 a coluna de 3 (excluindo esta) = [0:3] - no nosso caso, todas as colunas\n",
    "print(arr[0:2 , 0:3],'\\n')\n",
    "\n",
    "# outra forma de obter o mesmo resultado é usando [:], que pega todos os elementos\n",
    "print(arr[0:2 , 0:])\n",
    "\n"
   ]
  },
  {
   "cell_type": "code",
   "execution_count": 36,
   "metadata": {},
   "outputs": [
    {
     "data": {
      "text/plain": [
       "array([[ 4,  9],\n",
       "       [25, 36],\n",
       "       [64, 81]])"
      ]
     },
     "execution_count": 36,
     "metadata": {},
     "output_type": "execute_result"
    }
   ],
   "source": [
    "\n",
    "# Podemos criar uma nova array com slice de outra\n",
    "\n",
    "arr2 = arr[ : , 1:3]\n",
    "arr2\n",
    "\n"
   ]
  },
  {
   "cell_type": "code",
   "execution_count": 37,
   "metadata": {},
   "outputs": [
    {
     "data": {
      "text/plain": [
       "array([[  1,   4,   9],\n",
       "       [-99, -99, -99],\n",
       "       [ 49,  64,  81]])"
      ]
     },
     "execution_count": 37,
     "metadata": {},
     "output_type": "execute_result"
    }
   ],
   "source": [
    "\n",
    "# Podemor atribuir novos elementos a nossa array, usando slice\n",
    "\n",
    "arr[1:2, :] = -99\n",
    "arr\n",
    "\n"
   ]
  },
  {
   "cell_type": "markdown",
   "metadata": {},
   "source": [
    "\n",
    "<h2 id=\"Uma-imagem-vale-mais-que-mil-palavras:\">Uma imagem vale mais que mil palavras:<a class=\"anchor-link\" href=\"#Uma-imagem-vale-mais-que-mil-palavras:\">¶</a></h2>\n"
   ]
  },
  {
   "cell_type": "markdown",
   "metadata": {},
   "source": [
    "\n",
    "<p><img alt=\"Image of Yaktocat\" src=\"http://www.scipy-lectures.org/_images/numpy_indexing.png\"/></p>\n"
   ]
  },
  {
   "cell_type": "markdown",
   "metadata": {},
   "source": [
    "\n",
    "<h4 id=\"SELEÇÃO-CONDICIONAL:\">SELEÇÃO CONDICIONAL:<a class=\"anchor-link\" href=\"#SELEÇÃO-CONDICIONAL:\">¶</a></h4>\n"
   ]
  },
  {
   "cell_type": "markdown",
   "metadata": {},
   "source": [
    "\n",
    "<p>Uma forma interessante de selecionar elementos baseado em alguma condição</p>\n"
   ]
  },
  {
   "cell_type": "code",
   "execution_count": 43,
   "metadata": {},
   "outputs": [
    {
     "name": "stdout",
     "output_type": "stream",
     "text": [
      "A:  [0 1 2 3 4 5 6 7 8 9]\n"
     ]
    }
   ],
   "source": [
    "\n",
    "A = np.arange(10)\n",
    "print ('A: ', A)\n",
    "\n"
   ]
  },
  {
   "cell_type": "code",
   "execution_count": 44,
   "metadata": {},
   "outputs": [
    {
     "data": {
      "text/plain": [
       "array([False, False, False, False, False, False,  True,  True,  True,  True], dtype=bool)"
      ]
     },
     "execution_count": 44,
     "metadata": {},
     "output_type": "execute_result"
    }
   ],
   "source": [
    "\n",
    "A > 5 # retorna uma array de variáveis booleanas de acordo com a condição\n",
    "\n"
   ]
  },
  {
   "cell_type": "code",
   "execution_count": 45,
   "metadata": {},
   "outputs": [],
   "source": [
    "\n",
    "# Também podemos criar uma array a partir dessa condição\n",
    "B = A > 5\n",
    "\n"
   ]
  },
  {
   "cell_type": "code",
   "execution_count": 46,
   "metadata": {},
   "outputs": [
    {
     "name": "stdout",
     "output_type": "stream",
     "text": [
      "[6 7 8 9]\n",
      "[6 7 8 9]\n"
     ]
    }
   ],
   "source": [
    "\n",
    "# Isso nos dá 2 opções para fazer seleção condicional, passando a condição ou passando o array como índice  \n",
    "\n",
    "print (A [A > 5])\n",
    "\n",
    "print (A [B])\n",
    "\n",
    "# em ambos os casos só retorna os valores que admitem essa condição \n",
    "\n"
   ]
  },
  {
   "cell_type": "markdown",
   "metadata": {},
   "source": [
    "\n",
    "<h2 id=\"MÉTODOS\">MÉTODOS<a class=\"anchor-link\" href=\"#MÉTODOS\">¶</a></h2>\n"
   ]
  },
  {
   "cell_type": "markdown",
   "metadata": {},
   "source": [
    "\n",
    "<p>Existem inúmeros métodos que nos ajudam a trabalhar com numpy arrays, vou mostrar os mais usados:</p>\n"
   ]
  },
  {
   "cell_type": "code",
   "execution_count": 47,
   "metadata": {},
   "outputs": [
    {
     "name": "stdout",
     "output_type": "stream",
     "text": [
      "array original:  [1 2 3 4 5 6 7 8 9] \n",
      "\n",
      "formato 3x3: \n",
      " [[1 2 3]\n",
      " [4 5 6]\n",
      " [7 8 9]] \n",
      "\n"
     ]
    }
   ],
   "source": [
    "\n",
    "arr = np.arange(1,10)\n",
    "print('array original: ', arr, '\\n')\n",
    "\n",
    "# Como já vimos 'reshape()' muda o formato da array, MAS o número de elementos dos dois formatos tem que coincidir, exemplo:\n",
    "arr2 = arr.reshape((3,3))\n",
    "print ('formato 3x3: \\n' , arr2, '\\n')\n",
    "\n"
   ]
  },
  {
   "cell_type": "code",
   "execution_count": 48,
   "metadata": {},
   "outputs": [
    {
     "data": {
      "text/plain": [
       "9"
      ]
     },
     "execution_count": 48,
     "metadata": {},
     "output_type": "execute_result"
    }
   ],
   "source": [
    "\n",
    "arr.max() # retorna o valor máximo\n",
    "\n"
   ]
  },
  {
   "cell_type": "code",
   "execution_count": 49,
   "metadata": {},
   "outputs": [
    {
     "name": "stdout",
     "output_type": "stream",
     "text": [
      "8\n"
     ]
    },
    {
     "data": {
      "text/plain": [
       "True"
      ]
     },
     "execution_count": 49,
     "metadata": {},
     "output_type": "execute_result"
    }
   ],
   "source": [
    "\n",
    "print(arr.argmax()) # retorna o índice que contém o valor máximo\n",
    "arr[8] == arr[arr.argmax()]\n",
    "\n"
   ]
  },
  {
   "cell_type": "code",
   "execution_count": 50,
   "metadata": {},
   "outputs": [
    {
     "data": {
      "text/plain": [
       "1"
      ]
     },
     "execution_count": 50,
     "metadata": {},
     "output_type": "execute_result"
    }
   ],
   "source": [
    "\n",
    "arr.min() # retorna o mínimo\n",
    "\n"
   ]
  },
  {
   "cell_type": "code",
   "execution_count": 51,
   "metadata": {},
   "outputs": [
    {
     "name": "stdout",
     "output_type": "stream",
     "text": [
      "0\n"
     ]
    },
    {
     "data": {
      "text/plain": [
       "True"
      ]
     },
     "execution_count": 51,
     "metadata": {},
     "output_type": "execute_result"
    }
   ],
   "source": [
    "\n",
    "print(arr.argmin()) # retorna o índice que contém o valor máximo\n",
    "arr[0] == arr[arr.argmin()]\n",
    "\n"
   ]
  },
  {
   "cell_type": "code",
   "execution_count": 52,
   "metadata": {},
   "outputs": [
    {
     "data": {
      "text/plain": [
       "5.0"
      ]
     },
     "execution_count": 52,
     "metadata": {},
     "output_type": "execute_result"
    }
   ],
   "source": [
    "\n",
    "arr.mean() # retorna a média\n",
    "\n"
   ]
  },
  {
   "cell_type": "code",
   "execution_count": 53,
   "metadata": {},
   "outputs": [
    {
     "data": {
      "text/plain": [
       "2.5819888974716112"
      ]
     },
     "execution_count": 53,
     "metadata": {},
     "output_type": "execute_result"
    }
   ],
   "source": [
    "\n",
    "arr.std() # retorna o desvio padrão\n",
    "\n"
   ]
  },
  {
   "cell_type": "code",
   "execution_count": 54,
   "metadata": {},
   "outputs": [
    {
     "data": {
      "text/plain": [
       "45"
      ]
     },
     "execution_count": 54,
     "metadata": {},
     "output_type": "execute_result"
    }
   ],
   "source": [
    "\n",
    "arr.sum() #retorna a soma de todos os elementos da array\n",
    "\n"
   ]
  },
  {
   "cell_type": "code",
   "execution_count": 55,
   "metadata": {},
   "outputs": [
    {
     "data": {
      "text/plain": [
       "array([ 1.        ,  1.41421356,  1.73205081,  2.        ,  2.23606798,\n",
       "        2.44948974,  2.64575131,  2.82842712,  3.        ])"
      ]
     },
     "execution_count": 55,
     "metadata": {},
     "output_type": "execute_result"
    }
   ],
   "source": [
    "\n",
    "### FUNÇÕES UNIVERSAIS ###\n",
    "\n",
    "np.sqrt(arr) # retorna um array com a raiz quadrada de cada elemento\n",
    "\n"
   ]
  },
  {
   "cell_type": "code",
   "execution_count": 56,
   "metadata": {},
   "outputs": [
    {
     "data": {
      "text/plain": [
       "array([ 0.84147098,  0.90929743,  0.14112001, -0.7568025 , -0.95892427,\n",
       "       -0.2794155 ,  0.6569866 ,  0.98935825,  0.41211849])"
      ]
     },
     "execution_count": 56,
     "metadata": {},
     "output_type": "execute_result"
    }
   ],
   "source": [
    "\n",
    "np.sin(arr) # retorna um array com o seno de cada elemento\n",
    "\n"
   ]
  },
  {
   "cell_type": "code",
   "execution_count": 57,
   "metadata": {},
   "outputs": [
    {
     "data": {
      "text/plain": [
       "array([ 0.54030231, -0.41614684, -0.9899925 , -0.65364362,  0.28366219,\n",
       "        0.96017029,  0.75390225, -0.14550003, -0.91113026])"
      ]
     },
     "execution_count": 57,
     "metadata": {},
     "output_type": "execute_result"
    }
   ],
   "source": [
    "\n",
    "np.cos(arr) # retorna um array com o cosseno de cada elemento\n",
    "\n"
   ]
  },
  {
   "cell_type": "code",
   "execution_count": 58,
   "metadata": {},
   "outputs": [
    {
     "data": {
      "text/plain": [
       "array([  2.71828183e+00,   7.38905610e+00,   2.00855369e+01,\n",
       "         5.45981500e+01,   1.48413159e+02,   4.03428793e+02,\n",
       "         1.09663316e+03,   2.98095799e+03,   8.10308393e+03])"
      ]
     },
     "execution_count": 58,
     "metadata": {},
     "output_type": "execute_result"
    }
   ],
   "source": [
    "\n",
    "np.exp(arr) # retorna um array com o exponencial cada elemento (e^x)\n",
    "\n"
   ]
  },
  {
   "cell_type": "markdown",
   "metadata": {},
   "source": [
    "\n",
    "<h2 id=\"NÚMEROS-ALEATÓRIOS:\">NÚMEROS ALEATÓRIOS:<a class=\"anchor-link\" href=\"#NÚMEROS-ALEATÓRIOS:\">¶</a></h2>\n"
   ]
  },
  {
   "cell_type": "markdown",
   "metadata": {},
   "source": [
    "\n",
    "<p>np.random</p>\n"
   ]
  },
  {
   "cell_type": "code",
   "execution_count": 59,
   "metadata": {},
   "outputs": [
    {
     "name": "stdout",
     "output_type": "stream",
     "text": [
      "[ 0.80091316  0.24841337] \n",
      "\n",
      "[ 0.47808105  0.11640412  0.44931564  0.78102133]\n"
     ]
    }
   ],
   "source": [
    "\n",
    "# random ou random_sample cria floats aleatórios entre 0 e 1\n",
    "\n",
    "print (np.random.random(2), '\\n')         # passar a quantidade de números desejada\n",
    "print(np.random.random_sample(4)) \n",
    "\n"
   ]
  },
  {
   "cell_type": "code",
   "execution_count": 60,
   "metadata": {},
   "outputs": [
    {
     "name": "stdout",
     "output_type": "stream",
     "text": [
      "[-0.45987918 -0.22267994] \n",
      "\n",
      "[ 1.14890581 -0.75145727  2.01802619  0.49301326 -0.75460907]\n"
     ]
    }
   ],
   "source": [
    "\n",
    "# randn cria números aleatórios entre -1 e 1 (distribuição normal)\n",
    "# média 0,variância 1\n",
    "\n",
    "print (np.random.randn(2), '\\n')         # passar a quantidade de números desejada\n",
    "print (np.random.randn(5)) \n",
    "\n"
   ]
  },
  {
   "cell_type": "code",
   "execution_count": 61,
   "metadata": {},
   "outputs": [
    {
     "name": "stdout",
     "output_type": "stream",
     "text": [
      "[4 1 2 3] \n",
      "\n",
      "[17 10 11 18 15 13 16 12]\n"
     ]
    }
   ],
   "source": [
    "\n",
    "# randint cria números inteiros aleatórios\n",
    "\n",
    "print (np.random.randint(1,5,4), '\\n')   # passar menor valor, maior valor e a quantidade de números desejada\n",
    "print (np.random.randint(10,20,8)) \n",
    "\n"
   ]
  },
  {
   "cell_type": "markdown",
   "metadata": {},
   "source": [
    "\n",
    "<p>Para criar números aleatórios em outro intervalo, basta usar multiplicação e soma para atingir o objetivo</p>\n"
   ]
  },
  {
   "cell_type": "code",
   "execution_count": 62,
   "metadata": {},
   "outputs": [
    {
     "data": {
      "text/plain": [
       "array([ 3.71150636,  3.1423876 ,  3.04292747,  2.45272688,  1.74936619,\n",
       "        3.86799733,  0.94209788,  4.12163146,  2.58562756,  0.4893965 ])"
      ]
     },
     "execution_count": 62,
     "metadata": {},
     "output_type": "execute_result"
    }
   ],
   "source": [
    "\n",
    "# 10 números aleatórios entre 0 e 5\n",
    "5 * np.random.random(10)\n",
    "\n"
   ]
  },
  {
   "cell_type": "code",
   "execution_count": 63,
   "metadata": {},
   "outputs": [
    {
     "data": {
      "text/plain": [
       "array([ 7.69009536,  8.4480332 ,  9.80766937,  5.28601928,  8.11588987,\n",
       "        8.70627923,  5.39802589,  8.06830133,  7.76925346,  8.85503097])"
      ]
     },
     "execution_count": 63,
     "metadata": {},
     "output_type": "execute_result"
    }
   ],
   "source": [
    "\n",
    "# 10 números aleatórios entre 5 e 10\n",
    "5 * np.random.random(10)  + 5\n",
    "\n"
   ]
  },
  {
   "cell_type": "code",
   "execution_count": null,
   "metadata": {},
   "outputs": [],
   "source": []
  }
 ],
 "metadata": {
  "kernelspec": {
   "display_name": "Python 3",
   "language": "python",
   "name": "python3"
  },
  "language_info": {
   "codemirror_mode": {
    "name": "ipython",
    "version": 3
   },
   "file_extension": ".py",
   "mimetype": "text/x-python",
   "name": "python",
   "nbconvert_exporter": "python",
   "pygments_lexer": "ipython3",
   "version": "3.6.8"
  }
 },
 "nbformat": 4,
 "nbformat_minor": 4
}
