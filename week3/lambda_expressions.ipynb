{
 "cells": [
  {
   "cell_type": "markdown",
   "metadata": {},
   "source": [
    "## Expressões lambda em Python com map, reduce e filter\n",
    "\n",
    "## O que são expressões lambda?\n",
    "\n",
    "São funções anônimas que podem ser criadas com a palavra-chave lambda. Elas podem ser utilizadas sempre, ou quase sempre, que funções sejam necessárias em seu código.\n",
    "\n",
    "Porém, estas expressões são restritas a uma única linha. \n",
    "\n",
    "Outra característa, e a mais notável, é que sua sintaxe é muito mais curta do que uma função normal em Python.\n",
    "\n",
    "Um ponto importante é que estas funções possuem um return implicito, ou seja, toda função lambda retornará o resultado final da operação.\n",
    "\n",
    "## Hello World nas funções lambda\n",
    "\n",
    "Antes de mais nada vamos por a mão na massa, e já executar uma função lambda!"
   ]
  },
  {
   "cell_type": "code",
   "execution_count": 1,
   "metadata": {},
   "outputs": [
    {
     "data": {
      "text/plain": [
       "10"
      ]
     },
     "execution_count": 1,
     "metadata": {},
     "output_type": "execute_result"
    }
   ],
   "source": [
    "# Nossa primeira função lambda\n",
    "f = lambda a, b: a * b\n",
    "\n",
    "# Passando os argumentos para executar a função\n",
    "f(5,2)"
   ]
  },
  {
   "cell_type": "markdown",
   "metadata": {},
   "source": [
    "## O que acabou de acontecer?\n",
    "\n",
    "Perceba que definimos a função lambda na primeira sentença, atribuímos a função a uma variável e por fim executamos a função com os dois argumentos necessários para ela.\n",
    "\n",
    "Vamos entender agora como construiremos nossas funções\n",
    "\n",
    "## Sintaxe da função lambda\n",
    "\n",
    "O passo a passo para formação de uma função lambda\n",
    "\n",
    "1. Definimos a função com a palavra **lambda**\n",
    "2. Após definir a função os parâmetros devem ser inseridos\n",
    "3. Colocamos **:** após os parâmetros\n",
    "4. Inserimos a lógica da função\n",
    "5. Podemos definir uma variável para a função lambda ( opcional )"
   ]
  },
  {
   "cell_type": "code",
   "execution_count": 2,
   "metadata": {},
   "outputs": [
    {
     "data": {
      "text/plain": [
       "3"
      ]
     },
     "execution_count": 2,
     "metadata": {},
     "output_type": "execute_result"
    }
   ],
   "source": [
    "# Veja mais um exemplo\n",
    "soma = lambda x, y: x + y\n",
    "\n",
    "soma(1,2)"
   ]
  },
  {
   "cell_type": "markdown",
   "metadata": {},
   "source": [
    "## Definir a variável é opcional\n",
    "\n",
    "Como dito antes, podemos fazer uma função lambda sem a utilização de variável.\n",
    "\n",
    "Assim ela vai ser executada assim que for definida, confira a sintaxe da função lambda soma sem variável:"
   ]
  },
  {
   "cell_type": "code",
   "execution_count": 3,
   "metadata": {},
   "outputs": [
    {
     "data": {
      "text/plain": [
       "3"
      ]
     },
     "execution_count": 3,
     "metadata": {},
     "output_type": "execute_result"
    }
   ],
   "source": [
    "(lambda x, y: x + y)(1,2)"
   ]
  },
  {
   "cell_type": "markdown",
   "metadata": {},
   "source": [
    "Nós envolvemos tanto a função, quanto os parâmetros entre parênteses, assim ela não vai necessitar de estar numa variável. Em outras linguagens temos funções anônimas que também seguem este padrão para serem 'autoexecutadas' sem precisar a chamada.\n",
    "\n",
    "## Diferença de uma função normal\n",
    "\n",
    "Vamos fazer agora um rapido comparativo entre função lambda e função normal:"
   ]
  },
  {
   "cell_type": "code",
   "execution_count": 6,
   "metadata": {},
   "outputs": [
    {
     "data": {
      "text/plain": [
       "3"
      ]
     },
     "execution_count": 6,
     "metadata": {},
     "output_type": "execute_result"
    }
   ],
   "source": [
    "# Função normal definição e execução\n",
    "def subtrair(x,y):\n",
    "    return x - y\n",
    "\n",
    "subtrair(5,2)"
   ]
  },
  {
   "cell_type": "code",
   "execution_count": 7,
   "metadata": {},
   "outputs": [
    {
     "data": {
      "text/plain": [
       "3"
      ]
     },
     "execution_count": 7,
     "metadata": {},
     "output_type": "execute_result"
    }
   ],
   "source": [
    "# Função lambda definição e execução\n",
    "s = lambda x,y: x - y\n",
    "\n",
    "s(5,2)"
   ]
  },
  {
   "cell_type": "markdown",
   "metadata": {},
   "source": [
    "As diferenças são:\n",
    "\n",
    "- Não precisamos do **def** para definir\n",
    "- Não precisamos do **return**\n",
    "- Podemos formar a função lambda e executar na mesma linha"
   ]
  },
  {
   "cell_type": "markdown",
   "metadata": {},
   "source": [
    "## O real poder das funções lambda\n",
    "\n",
    "Agora que vimos como ela é construída e como pode ser utilizada, vamos ver aonde elas realmente se sobressaem.\n",
    "\n",
    "Em conjunto de outras funções como map, reduce e filter lambda mostra toda sua utilidade, vamos ver os exemplos:\n",
    "\n",
    "## lambda com map:\n",
    "\n",
    "A função map() serve para aplicarmos uma função a cada um dos elementos passado em lista como argumento a ela.\n",
    "\n",
    "Observe a sintaxe:"
   ]
  },
  {
   "cell_type": "code",
   "execution_count": null,
   "metadata": {},
   "outputs": [],
   "source": [
    "map(funcao_aplicada, lista_de_elementos)"
   ]
  },
  {
   "cell_type": "markdown",
   "metadata": {},
   "source": [
    "Agora vamos observar alguns casos utilizando a função lambda para nos auxiliar"
   ]
  },
  {
   "cell_type": "code",
   "execution_count": 1,
   "metadata": {},
   "outputs": [
    {
     "name": "stdout",
     "output_type": "stream",
     "text": [
      "[2, 4, 6, 8, 10]\n"
     ]
    }
   ],
   "source": [
    "items = [1, 2, 3, 4, 5]\n",
    "\n",
    "double = list(map(lambda x: x*2, items))\n",
    "\n",
    "print(double)"
   ]
  },
  {
   "cell_type": "markdown",
   "metadata": {},
   "source": [
    "No exemplo acima usamos uma lista de números, e aplicamos uma função lambda em x, que seria cada um dos números presentes na lista.\n",
    "\n",
    "Assim é retornado o dobro deles com a operação: x\\*2, e como a operação irá nos retornar um *map object* utilizamos o metodo list para voltar a ter um array.\n",
    "\n",
    "### Podemos abstrair mais:\n",
    "\n",
    "Veja que podemos passar a lista diretamente na função map, sem ter que criar uma variável:"
   ]
  },
  {
   "cell_type": "code",
   "execution_count": 5,
   "metadata": {},
   "outputs": [
    {
     "name": "stdout",
     "output_type": "stream",
     "text": [
      "[1, 2, 3, 4]\n"
     ]
    }
   ],
   "source": [
    "numbers = list(map(lambda x : x-1, [2, 3, 4, 5]))\n",
    "\n",
    "print(numbers)"
   ]
  },
  {
   "cell_type": "markdown",
   "metadata": {},
   "source": [
    "Inserimos o array diretamente como argumento, assim reduzimos mais ainda o código.\n",
    "\n",
    "### map com dicionários\n",
    "\n",
    "Podemos iterar dicionários com map também, confira o exemplo:"
   ]
  },
  {
   "cell_type": "code",
   "execution_count": 9,
   "metadata": {
    "scrolled": true
   },
   "outputs": [
    {
     "name": "stdout",
     "output_type": "stream",
     "text": [
      "[False, True, True]\n"
     ]
    }
   ],
   "source": [
    "# Criando contas de banco fictícias\n",
    "accounts = [{'name': 'João', 'balance': 100}, {'name': 'Roberto', 'balance': 5000}, {'name': 'Augusto', 'balance': 2350}]\n",
    "  \n",
    "# Verificação com lambda\n",
    "print(list(map(lambda x : x['balance'] > 1000, accounts)))"
   ]
  },
  {
   "cell_type": "markdown",
   "metadata": {},
   "source": [
    "No exemplo acima verificamos quais contas possuem mais de 1000 reais, a função *lambda* retornou os booleanos para cada uma das contas.\n",
    "\n",
    "## lambda com reduce:\n",
    "\n",
    "reduce() outra função nativa do python, ela vai aplicar uma função em todos os valores passados em forma de lista, e retornar apenas um valor. \n",
    "\n",
    "Sintaxe de reduce:"
   ]
  },
  {
   "cell_type": "code",
   "execution_count": null,
   "metadata": {},
   "outputs": [],
   "source": [
    "reduce(funcao_aplicada, lista_de_elementos)"
   ]
  },
  {
   "cell_type": "markdown",
   "metadata": {},
   "source": [
    "**Curiosidade:** reduce faz parte da lib *functools*, ou seja, precisamos importar esta biblioteca antes de utilizá-la. A função foi 'dropada' do core quando Python passou para a versão 3.\n",
    "\n",
    "Vamos observar como podemos utilizar reduce():"
   ]
  },
  {
   "cell_type": "code",
   "execution_count": 14,
   "metadata": {},
   "outputs": [
    {
     "name": "stdout",
     "output_type": "stream",
     "text": [
      "10\n"
     ]
    }
   ],
   "source": [
    "from functools import reduce\n",
    "\n",
    "soma = reduce((lambda x, y: x + y), [1, 2, 3, 4])\n",
    "\n",
    "print(soma)"
   ]
  },
  {
   "cell_type": "markdown",
   "metadata": {},
   "source": [
    "No exemplo acima vimos a soma de todos os elementos de uma lista, que foi passada diretamente como argumento para a função reduce.\n",
    "\n",
    "A função lambda executou a soma de cada um dos elementos, fazendo reduce retornar 10.\n",
    "\n",
    "### Determinando maior número da lista com reduce():\n",
    "\n",
    "Outro caso para o reduce seria eleger o maior número de uma lista, confira:"
   ]
  },
  {
   "cell_type": "code",
   "execution_count": 17,
   "metadata": {},
   "outputs": [
    {
     "name": "stdout",
     "output_type": "stream",
     "text": [
      "3224\n"
     ]
    }
   ],
   "source": [
    "lista = [12,43,3224,3,123,483,999,13,44,1000]\n",
    "\n",
    "maior = reduce((lambda x,y: x if(x > y) else y), lista)\n",
    "\n",
    "print(maior)"
   ]
  },
  {
   "cell_type": "markdown",
   "metadata": {},
   "source": [
    "Usamos uma condicional if nesta função lambda.\n",
    "\n",
    "O if funciona da seguinte maneira: depois dos parâmetros x e y, colocamos o resultado que satisfaz a condição de if no lado esquerdo, e após o else o resultado que desejamos se a condição for falsa.\n",
    "\n",
    "## lambad com filter:\n",
    "\n",
    "Com o nome autoexplicativo, a função filter() filtra os elementos passados na função, de acordo com a função passada como primeiro argumento.\n",
    "\n",
    "Sintaxe de filter:"
   ]
  },
  {
   "cell_type": "markdown",
   "metadata": {},
   "source": [
    "filter(funcao_aplicada, lista_de_elementos)"
   ]
  },
  {
   "cell_type": "markdown",
   "metadata": {},
   "source": [
    "filter se parece muito com as outras em questão de argumentos, função para aplicar e lista de elementos.\n",
    "\n",
    "Vamos ver como podemos utilizar filter:"
   ]
  },
  {
   "cell_type": "code",
   "execution_count": 21,
   "metadata": {},
   "outputs": [
    {
     "name": "stdout",
     "output_type": "stream",
     "text": [
      "[2, 4, 6, 8, 10, 32, 44, 54, 12, 4]\n"
     ]
    }
   ],
   "source": [
    "lista = [1,2,3,4,5,6,7,8,10,11,41,123,43,32,44,54,12,4,5,17,99]\n",
    "\n",
    "numeros_pares = list(filter(lambda x: x % 2 == 0, lista))\n",
    "\n",
    "print(numeros_pares)"
   ]
  },
  {
   "cell_type": "markdown",
   "metadata": {},
   "source": [
    "Neste exemplo vimos como retornar uma lista de valores pares com o auxílio de filter e lambda.\n",
    "\n",
    "Agora veremos outra situação, retornar os números menores que 0 de uma lista:"
   ]
  },
  {
   "cell_type": "code",
   "execution_count": 26,
   "metadata": {},
   "outputs": [
    {
     "name": "stdout",
     "output_type": "stream",
     "text": [
      "[-5, -4, -3, -2, -1]\n"
     ]
    }
   ],
   "source": [
    "lista = range(-5, 5)\n",
    "\n",
    "menor_que_zero = list(filter(lambda x: x < 0, lista))\n",
    "\n",
    "print(menor_que_zero)"
   ]
  },
  {
   "cell_type": "markdown",
   "metadata": {},
   "source": [
    "Utilizamos o método range, que nos gerou uma lista de números de -5 a 4, pois o último argumento de range não é incluído, que no caso é 5.\n",
    "\n",
    "## Conclusão\n",
    "\n",
    "Vimos o que são e como construir uma função lambda, desde a sua sintaxe até a comparação com uma função normal.\n",
    "\n",
    "Apresentamos alguns casos de uso, e vimos que não precisamos definir ela por uma variável.\n",
    "\n",
    "Depois aplicamos ela em três metodos muito conhecidos do Python map, reduce e filter.\n",
    "\n",
    "Vimos em detalhes como cada um deles funcionam:\n",
    "\n",
    "- map(): aplicar uma função em cada um dos elementos de uma lista;\n",
    "- reduce(): aplicar uma função nos elementos da lista, reduzindo a um elemento só;\n",
    "- filter(): filtrar elementos de uma lista por meio de uma função;\n",
    "\n",
    "Agora quando vermos uma função lambda em um código de terceiros, vamos conseguir interpretar o que está acontecendo naquela linha e também caso você queira aplicar em um código seu estará apto!"
   ]
  }
 ],
 "metadata": {
  "kernelspec": {
   "display_name": "Python 3",
   "language": "python",
   "name": "python3"
  },
  "language_info": {
   "codemirror_mode": {
    "name": "ipython",
    "version": 3
   },
   "file_extension": ".py",
   "mimetype": "text/x-python",
   "name": "python",
   "nbconvert_exporter": "python",
   "pygments_lexer": "ipython3",
   "version": "3.6.8"
  }
 },
 "nbformat": 4,
 "nbformat_minor": 4
}
