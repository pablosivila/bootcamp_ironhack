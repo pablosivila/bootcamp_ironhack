{
 "cells": [
  {
   "cell_type": "code",
   "execution_count": 1,
   "metadata": {},
   "outputs": [],
   "source": [
    "import requests\n",
    "from bs4 import BeautifulSoup\n",
    "import time\n",
    "import pandas as pd\n",
    "url =\"https://www.reddit.com/subreddits/\""
   ]
  },
  {
   "cell_type": "code",
   "execution_count": 2,
   "metadata": {},
   "outputs": [],
   "source": [
    "class listsubreddits:\n",
    "    def __init__(self, url, numpag): #Inicia a classe para poder pegar a lista de subreddits com o numero de paginas a pegar\n",
    "        self.initial_url = url\n",
    "        self.url = url\n",
    "        self.subrelist = []\n",
    "        self.subs = 0\n",
    "        self.numpag = numpag\n",
    "        self.soup = None\n",
    "        \n",
    "    def getreddit(self): #Pega o conteudo da pagina atual\n",
    "        page = requests.get(self.url)\n",
    "        self.soup = BeautifulSoup(page.content, 'html.parser')\n",
    "    \n",
    "    def findnexturl(self): #Encontra a url da proxima pagina\n",
    "        self.url = self.soup.find(\"a\", {\"rel\":\"nofollow next\"})[\"href\"]\n",
    "        \n",
    "        \n",
    "    def listsubreddit(self): #Separa o conteudo em uma lista de dicionarios para depois passar para um Dataframe\n",
    "        for i in self.soup.find_all(\"div\", {\"data-type\":\"subreddit\"}):\n",
    "            self.subrelist.append({})\n",
    "            self.subrelist[self.subs][\"name\"] = i.find(\"a\", class_=\"title\").get_text().split(\":\")[0].strip(\"r/\")\n",
    "            self.subrelist[self.subs][\"title\"] = i.find(\"a\", class_=\"title\").get_text()\n",
    "            self.subrelist[self.subs][\"description\"] = i.find(\"p\", class_=False).get_text()\n",
    "            assinantes = i.find(\"p\", class_=\"tagline\").get_text().split(\",\")[0]\n",
    "            self.subage = i.find(\"p\", class_=\"tagline\").get_text().split(\",\")[1]\n",
    "            self.subrelist[self.subs][\"subscribed\"] = assinantes\n",
    "            self.subrelist[self.subs][\"age\"] = subage\n",
    "            self.subs += 1\n",
    "            \n",
    "    def kickstart(self): #Junta os outros metodos para ir adicionando os subreddits à lista e verificando se foi bloqueado pelo reddit\n",
    "        for i in range(self.numpag):\n",
    "            self.getreddit()\n",
    "            print(\" \")\n",
    "            print(self.url)\n",
    "            self.listsubreddit()\n",
    "            try:\n",
    "                self.findnexturl()\n",
    "            except:\n",
    "                print(\"reddit miseravel\")\n",
    "                break\n",
    "            time.sleep(60)\n",
    "        print(\"done\")\n",
    "            \n",
    "    def getsubrelist(self): #Retorna a lista de subreddits\n",
    "        return self.subrelist"
   ]
  },
  {
   "cell_type": "code",
   "execution_count": 3,
   "metadata": {},
   "outputs": [
    {
     "name": "stdout",
     "output_type": "stream",
     "text": [
      " \n",
      "https://www.reddit.com/subreddits/\n",
      "reddit miseravel\n",
      "done\n"
     ]
    }
   ],
   "source": [
    "data = listsubreddits(url, 5)\n",
    "data.kickstart()\n"
   ]
  },
  {
   "cell_type": "code",
   "execution_count": 4,
   "metadata": {},
   "outputs": [
    {
     "data": {
      "text/plain": [
       "[]"
      ]
     },
     "execution_count": 4,
     "metadata": {},
     "output_type": "execute_result"
    }
   ],
   "source": [
    "df = pd.DataFrame(data.getsubrelist())"
   ]
  },
  {
   "cell_type": "code",
   "execution_count": 5,
   "metadata": {},
   "outputs": [
    {
     "data": {
      "text/plain": [
       "'https://www.reddit.com/subreddits/'"
      ]
     },
     "execution_count": 5,
     "metadata": {},
     "output_type": "execute_result"
    }
   ],
   "source": [
    "df.to_csv(\"subreddit_list\")"
   ]
  }
 ],
 "metadata": {
  "kernelspec": {
   "display_name": "Python 3",
   "language": "python",
   "name": "python3"
  },
  "language_info": {
   "codemirror_mode": {
    "name": "ipython",
    "version": 3
   },
   "file_extension": ".py",
   "mimetype": "text/x-python",
   "name": "python",
   "nbconvert_exporter": "python",
   "pygments_lexer": "ipython3",
   "version": "3.7.4"
  }
 },
 "nbformat": 4,
 "nbformat_minor": 2
}
