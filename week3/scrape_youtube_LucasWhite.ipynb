{
 "cells": [
  {
   "cell_type": "code",
   "execution_count": null,
   "metadata": {},
   "outputs": [],
   "source": [
    "import requests\n",
    "\n",
    "from bs4 import BeautifulSoup\n",
    "\n",
    "    \n",
    "\n",
    "def youtube_title_scraper(word):\n",
    "\n",
    "    url = 'https://www.youtube.com/results?search_query=' + str(word)\n",
    "\n",
    "    data = requests.get(url)\n",
    "\n",
    "    soup = BeautifulSoup(data.content, 'html.parser')\n",
    "\n",
    "    titles = soup.find_all('a')\n",
    "\n",
    "    titles2 = [title.get_text() for title in titles if 'rel=\"spf-prefetch\"' in str(title)]\n",
    "\n",
    "    return titles2"
   ]
  }
 ],
 "metadata": {
  "kernelspec": {
   "display_name": "Python 3",
   "language": "python",
   "name": "python3"
  },
  "language_info": {
   "name": ""
  }
 },
 "nbformat": 4,
 "nbformat_minor": 4
}
