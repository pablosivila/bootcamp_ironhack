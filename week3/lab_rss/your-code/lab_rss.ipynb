{
 "cells": [
  {
   "cell_type": "markdown",
   "metadata": {},
   "source": [
    "# Working with RSS Feeds Lab\n",
    "\n",
    "Complete the following set of exercises to solidify your knowledge of parsing RSS feeds and extracting information from them."
   ]
  },
  {
   "cell_type": "code",
   "execution_count": 1,
   "metadata": {},
   "outputs": [],
   "source": [
    "import feedparser"
   ]
  },
  {
   "cell_type": "markdown",
   "metadata": {},
   "source": [
    "### 1. Use feedparser to parse the following RSS feed URL."
   ]
  },
  {
   "cell_type": "code",
   "execution_count": 6,
   "metadata": {},
   "outputs": [],
   "source": [
    "url = 'http://feeds.feedburner.com/oreilly/radar/atom'"
   ]
  },
  {
   "cell_type": "code",
   "execution_count": 7,
   "metadata": {},
   "outputs": [],
   "source": [
    "data = feedparser.parse(url)"
   ]
  },
  {
   "cell_type": "code",
   "execution_count": null,
   "metadata": {},
   "outputs": [],
   "source": []
  },
  {
   "cell_type": "markdown",
   "metadata": {},
   "source": [
    "### 2. Obtain a list of components (keys) that are available for this feed."
   ]
  },
  {
   "cell_type": "code",
   "execution_count": 8,
   "metadata": {},
   "outputs": [
    {
     "data": {
      "text/plain": [
       "dict_keys(['feed', 'entries', 'bozo', 'headers', 'etag', 'updated', 'updated_parsed', 'href', 'status', 'encoding', 'version', 'namespaces'])"
      ]
     },
     "execution_count": 8,
     "metadata": {},
     "output_type": "execute_result"
    }
   ],
   "source": [
    "data.keys()"
   ]
  },
  {
   "cell_type": "markdown",
   "metadata": {},
   "source": [
    "### 3. Obtain a list of components (keys) that are available for the *feed* component of this RSS feed."
   ]
  },
  {
   "cell_type": "code",
   "execution_count": 22,
   "metadata": {},
   "outputs": [
    {
     "data": {
      "text/plain": [
       "dict_keys(['title', 'title_detail', 'links', 'link', 'subtitle', 'subtitle_detail', 'updated', 'updated_parsed', 'language', 'sy_updateperiod', 'sy_updatefrequency', 'generator_detail', 'generator', 'feedburner_info', 'geo_lat', 'geo_long', 'feedburner_emailserviceid', 'feedburner_feedburnerhostname'])"
      ]
     },
     "execution_count": 22,
     "metadata": {},
     "output_type": "execute_result"
    }
   ],
   "source": [
    "data.feed.keys()"
   ]
  },
  {
   "cell_type": "markdown",
   "metadata": {},
   "source": [
    "### 4. Extract and print the feed title, subtitle, author, and link."
   ]
  },
  {
   "cell_type": "code",
   "execution_count": 32,
   "metadata": {},
   "outputs": [
    {
     "data": {
      "text/plain": [
       "'Radar'"
      ]
     },
     "execution_count": 32,
     "metadata": {},
     "output_type": "execute_result"
    }
   ],
   "source": [
    "data.feed.title"
   ]
  },
  {
   "cell_type": "code",
   "execution_count": 33,
   "metadata": {},
   "outputs": [
    {
     "data": {
      "text/plain": [
       "'Now, next, and beyond: Tracking need-to-know trends at the intersection of business and technology'"
      ]
     },
     "execution_count": 33,
     "metadata": {},
     "output_type": "execute_result"
    }
   ],
   "source": [
    "data.feed.subtitle"
   ]
  },
  {
   "cell_type": "code",
   "execution_count": 37,
   "metadata": {},
   "outputs": [
    {
     "data": {
      "text/plain": [
       "'oreilly/radar/atom'"
      ]
     },
     "execution_count": 37,
     "metadata": {},
     "output_type": "execute_result"
    }
   ],
   "source": [
    "data.feed.feedburner_emailserviceid"
   ]
  },
  {
   "cell_type": "code",
   "execution_count": 38,
   "metadata": {},
   "outputs": [
    {
     "data": {
      "text/plain": [
       "'https://www.oreilly.com/radar'"
      ]
     },
     "execution_count": 38,
     "metadata": {},
     "output_type": "execute_result"
    }
   ],
   "source": [
    "data.feed.link"
   ]
  },
  {
   "cell_type": "code",
   "execution_count": null,
   "metadata": {},
   "outputs": [],
   "source": []
  },
  {
   "cell_type": "code",
   "execution_count": null,
   "metadata": {},
   "outputs": [],
   "source": []
  },
  {
   "cell_type": "markdown",
   "metadata": {},
   "source": [
    "### 5. Count the number of entries that are contained in this RSS feed."
   ]
  },
  {
   "cell_type": "code",
   "execution_count": 45,
   "metadata": {},
   "outputs": [
    {
     "name": "stdout",
     "output_type": "stream",
     "text": [
      "['Four short links: 2 October 2019', 'Four short links: 1 October 2019', 'TinyML: The challenges and opportunities of low-power ML applications', 'Four short links: 30 September 2019', 'Highlights from the Strata Data Conference in New York 2019', 'Four short links: 27 September 2019', 'Data Science Pioneers: Conquering the next frontier, a documentary investigating the future of data science', 'Postrevolutionary big data: Promoting the general welfare', 'Say what? The ethical challenges of designing for humanlike interaction', 'RL in real life: Bringing reinforcement learning to the enterprise', 'Strata Data Awards winners 2019', 'Staying safe in the AI era', 'Data sonification: Making music from the yield curve', 'Unlocking the value of your data', 'Four Short Links: 26 September 2019', 'The future of Google Cloud data processing', 'Interactive sports analytics', 'AI isn’t magic. It’s computer science.']\n"
     ]
    }
   ],
   "source": [
    "titles = [data.entries[i].title for i in range(len(data.entries))]\n",
    "print(titles)"
   ]
  },
  {
   "cell_type": "code",
   "execution_count": 46,
   "metadata": {},
   "outputs": [
    {
     "name": "stdout",
     "output_type": "stream",
     "text": [
      "Number of entries:  18\n"
     ]
    }
   ],
   "source": [
    "print(\"Number of entries: \",len(titles))"
   ]
  },
  {
   "cell_type": "markdown",
   "metadata": {},
   "source": [
    "### 6. Obtain a list of components (keys) available for an entry.\n",
    "\n",
    "*Hint: Remember to index first before requesting the keys*"
   ]
  },
  {
   "cell_type": "code",
   "execution_count": 44,
   "metadata": {},
   "outputs": [
    {
     "data": {
      "text/plain": [
       "dict_keys(['title', 'title_detail', 'links', 'link', 'comments', 'published', 'published_parsed', 'authors', 'author', 'author_detail', 'tags', 'id', 'guidislink', 'summary', 'summary_detail', 'content', 'wfw_commentrss', 'slash_comments', 'feedburner_origlink'])"
      ]
     },
     "execution_count": 44,
     "metadata": {},
     "output_type": "execute_result"
    }
   ],
   "source": [
    "data.entries[0].keys()"
   ]
  },
  {
   "cell_type": "markdown",
   "metadata": {},
   "source": [
    "### 7. Extract a list of entry titles."
   ]
  },
  {
   "cell_type": "code",
   "execution_count": 47,
   "metadata": {},
   "outputs": [
    {
     "name": "stdout",
     "output_type": "stream",
     "text": [
      "['Four short links: 2 October 2019', 'Four short links: 1 October 2019', 'TinyML: The challenges and opportunities of low-power ML applications', 'Four short links: 30 September 2019', 'Highlights from the Strata Data Conference in New York 2019', 'Four short links: 27 September 2019', 'Data Science Pioneers: Conquering the next frontier, a documentary investigating the future of data science', 'Postrevolutionary big data: Promoting the general welfare', 'Say what? The ethical challenges of designing for humanlike interaction', 'RL in real life: Bringing reinforcement learning to the enterprise', 'Strata Data Awards winners 2019', 'Staying safe in the AI era', 'Data sonification: Making music from the yield curve', 'Unlocking the value of your data', 'Four Short Links: 26 September 2019', 'The future of Google Cloud data processing', 'Interactive sports analytics', 'AI isn’t magic. It’s computer science.']\n"
     ]
    }
   ],
   "source": [
    "print(titles)"
   ]
  },
  {
   "cell_type": "markdown",
   "metadata": {},
   "source": [
    "### 8. Calculate the percentage of \"Four short links\" entry titles."
   ]
  },
  {
   "cell_type": "code",
   "execution_count": 55,
   "metadata": {},
   "outputs": [
    {
     "name": "stdout",
     "output_type": "stream",
     "text": [
      "5\n"
     ]
    }
   ],
   "source": [
    "count=0\n",
    "for title in titles:\n",
    "    title=title.lower()\n",
    "    if \"four short links\" in title:\n",
    "        count+=1\n",
    "print(count)"
   ]
  },
  {
   "cell_type": "code",
   "execution_count": 73,
   "metadata": {},
   "outputs": [
    {
     "name": "stdout",
     "output_type": "stream",
     "text": [
      "Percentage: 13.16 %.\n"
     ]
    }
   ],
   "source": [
    "percentage=round(count/len(title)*100,2) #arredondando para 2 casas decimais\n",
    "\n",
    "print(\"Percentage:\",percentage,\"%.\")"
   ]
  },
  {
   "cell_type": "markdown",
   "metadata": {},
   "source": [
    "### 9. Create a Pandas data frame from the feed's entries."
   ]
  },
  {
   "cell_type": "code",
   "execution_count": 74,
   "metadata": {},
   "outputs": [],
   "source": [
    "import pandas as pd"
   ]
  },
  {
   "cell_type": "code",
   "execution_count": 76,
   "metadata": {},
   "outputs": [
    {
     "data": {
      "text/html": [
       "<div>\n",
       "<style scoped>\n",
       "    .dataframe tbody tr th:only-of-type {\n",
       "        vertical-align: middle;\n",
       "    }\n",
       "\n",
       "    .dataframe tbody tr th {\n",
       "        vertical-align: top;\n",
       "    }\n",
       "\n",
       "    .dataframe thead th {\n",
       "        text-align: right;\n",
       "    }\n",
       "</style>\n",
       "<table border=\"1\" class=\"dataframe\">\n",
       "  <thead>\n",
       "    <tr style=\"text-align: right;\">\n",
       "      <th></th>\n",
       "      <th>title</th>\n",
       "      <th>title_detail</th>\n",
       "      <th>links</th>\n",
       "      <th>link</th>\n",
       "      <th>comments</th>\n",
       "      <th>published</th>\n",
       "      <th>published_parsed</th>\n",
       "      <th>authors</th>\n",
       "      <th>author</th>\n",
       "      <th>author_detail</th>\n",
       "      <th>tags</th>\n",
       "      <th>id</th>\n",
       "      <th>guidislink</th>\n",
       "      <th>summary</th>\n",
       "      <th>summary_detail</th>\n",
       "      <th>content</th>\n",
       "      <th>wfw_commentrss</th>\n",
       "      <th>slash_comments</th>\n",
       "      <th>feedburner_origlink</th>\n",
       "    </tr>\n",
       "  </thead>\n",
       "  <tbody>\n",
       "    <tr>\n",
       "      <td>0</td>\n",
       "      <td>Four short links: 2 October 2019</td>\n",
       "      <td>{'type': 'text/plain', 'language': None, 'base...</td>\n",
       "      <td>[{'rel': 'alternate', 'type': 'text/html', 'hr...</td>\n",
       "      <td>http://feedproxy.google.com/~r/oreilly/radar/a...</td>\n",
       "      <td>https://www.oreilly.com/radar/four-short-links...</td>\n",
       "      <td>Wed, 02 Oct 2019 04:01:09 +0000</td>\n",
       "      <td>(2019, 10, 2, 4, 1, 9, 2, 275, 0)</td>\n",
       "      <td>[{'email': 'jwebb@oreilly.com'}]</td>\n",
       "      <td>jwebb@oreilly.com</td>\n",
       "      <td>{'email': 'jwebb@oreilly.com'}</td>\n",
       "      <td>[{'term': 'Four Short Links', 'scheme': None, ...</td>\n",
       "      <td>https://www.oreilly.com/radar/?p=9832</td>\n",
       "      <td>False</td>\n",
       "      <td>Data Fallacies to Avoid &amp;#8212; nifty infograp...</td>\n",
       "      <td>{'type': 'text/html', 'language': None, 'base'...</td>\n",
       "      <td>[{'type': 'text/html', 'language': None, 'base...</td>\n",
       "      <td>https://www.oreilly.com/radar/four-short-links...</td>\n",
       "      <td>0</td>\n",
       "      <td>https://www.oreilly.com/radar/four-short-links...</td>\n",
       "    </tr>\n",
       "    <tr>\n",
       "      <td>1</td>\n",
       "      <td>Four short links: 1 October 2019</td>\n",
       "      <td>{'type': 'text/plain', 'language': None, 'base...</td>\n",
       "      <td>[{'rel': 'alternate', 'type': 'text/html', 'hr...</td>\n",
       "      <td>http://feedproxy.google.com/~r/oreilly/radar/a...</td>\n",
       "      <td>https://www.oreilly.com/radar/four-short-links...</td>\n",
       "      <td>Tue, 01 Oct 2019 04:05:11 +0000</td>\n",
       "      <td>(2019, 10, 1, 4, 5, 11, 1, 274, 0)</td>\n",
       "      <td>[{'email': 'jwebb@oreilly.com'}]</td>\n",
       "      <td>jwebb@oreilly.com</td>\n",
       "      <td>{'email': 'jwebb@oreilly.com'}</td>\n",
       "      <td>[{'term': 'Four Short Links', 'scheme': None, ...</td>\n",
       "      <td>https://www.oreilly.com/radar/?p=9792</td>\n",
       "      <td>False</td>\n",
       "      <td>Just Enough Research &amp;#8212; a book that comes...</td>\n",
       "      <td>{'type': 'text/html', 'language': None, 'base'...</td>\n",
       "      <td>[{'type': 'text/html', 'language': None, 'base...</td>\n",
       "      <td>https://www.oreilly.com/radar/four-short-links...</td>\n",
       "      <td>0</td>\n",
       "      <td>https://www.oreilly.com/radar/four-short-links...</td>\n",
       "    </tr>\n",
       "    <tr>\n",
       "      <td>2</td>\n",
       "      <td>TinyML: The challenges and opportunities of lo...</td>\n",
       "      <td>{'type': 'text/plain', 'language': None, 'base...</td>\n",
       "      <td>[{'rel': 'alternate', 'type': 'text/html', 'hr...</td>\n",
       "      <td>http://feedproxy.google.com/~r/oreilly/radar/a...</td>\n",
       "      <td>https://www.oreilly.com/radar/tinyml-the-chall...</td>\n",
       "      <td>Tue, 01 Oct 2019 04:01:53 +0000</td>\n",
       "      <td>(2019, 10, 1, 4, 1, 53, 1, 274, 0)</td>\n",
       "      <td>[{'name': 'Mac Slocum'}]</td>\n",
       "      <td>Mac Slocum</td>\n",
       "      <td>{'name': 'Mac Slocum'}</td>\n",
       "      <td>[{'term': '~home', 'scheme': None, 'label': No...</td>\n",
       "      <td>https://www.oreilly.com/radar/?p=9378</td>\n",
       "      <td>False</td>\n",
       "      <td>Pete Warden has an ambitious goal: he wants to...</td>\n",
       "      <td>{'type': 'text/html', 'language': None, 'base'...</td>\n",
       "      <td>[{'type': 'text/html', 'language': None, 'base...</td>\n",
       "      <td>https://www.oreilly.com/radar/tinyml-the-chall...</td>\n",
       "      <td>0</td>\n",
       "      <td>https://www.oreilly.com/radar/tinyml-the-chall...</td>\n",
       "    </tr>\n",
       "    <tr>\n",
       "      <td>3</td>\n",
       "      <td>Four short links: 30 September 2019</td>\n",
       "      <td>{'type': 'text/plain', 'language': None, 'base...</td>\n",
       "      <td>[{'rel': 'alternate', 'type': 'text/html', 'hr...</td>\n",
       "      <td>http://feedproxy.google.com/~r/oreilly/radar/a...</td>\n",
       "      <td>https://www.oreilly.com/radar/four-short-links...</td>\n",
       "      <td>Mon, 30 Sep 2019 04:01:40 +0000</td>\n",
       "      <td>(2019, 9, 30, 4, 1, 40, 0, 273, 0)</td>\n",
       "      <td>[{'name': 'Mac Slocum'}]</td>\n",
       "      <td>Mac Slocum</td>\n",
       "      <td>{'name': 'Mac Slocum'}</td>\n",
       "      <td>[{'term': 'Four Short Links', 'scheme': None, ...</td>\n",
       "      <td>https://www.oreilly.com/radar/?p=9768</td>\n",
       "      <td>False</td>\n",
       "      <td>Stamos on CLOUD Act — cogent and informative s...</td>\n",
       "      <td>{'type': 'text/html', 'language': None, 'base'...</td>\n",
       "      <td>[{'type': 'text/html', 'language': None, 'base...</td>\n",
       "      <td>https://www.oreilly.com/radar/four-short-links...</td>\n",
       "      <td>0</td>\n",
       "      <td>https://www.oreilly.com/radar/four-short-links...</td>\n",
       "    </tr>\n",
       "    <tr>\n",
       "      <td>4</td>\n",
       "      <td>Highlights from the Strata Data Conference in ...</td>\n",
       "      <td>{'type': 'text/plain', 'language': None, 'base...</td>\n",
       "      <td>[{'rel': 'alternate', 'type': 'text/html', 'hr...</td>\n",
       "      <td>http://feedproxy.google.com/~r/oreilly/radar/a...</td>\n",
       "      <td>https://www.oreilly.com/radar/highlights-from-...</td>\n",
       "      <td>Fri, 27 Sep 2019 12:00:52 +0000</td>\n",
       "      <td>(2019, 9, 27, 12, 0, 52, 4, 270, 0)</td>\n",
       "      <td>[{'name': 'Mac Slocum'}]</td>\n",
       "      <td>Mac Slocum</td>\n",
       "      <td>{'name': 'Mac Slocum'}</td>\n",
       "      <td>[{'term': 'AI &amp; ML', 'scheme': None, 'label': ...</td>\n",
       "      <td>https://www.oreilly.com/radar/?p=9487</td>\n",
       "      <td>False</td>\n",
       "      <td>People from across the data world came togethe...</td>\n",
       "      <td>{'type': 'text/html', 'language': None, 'base'...</td>\n",
       "      <td>[{'type': 'text/html', 'language': None, 'base...</td>\n",
       "      <td>https://www.oreilly.com/radar/highlights-from-...</td>\n",
       "      <td>0</td>\n",
       "      <td>https://www.oreilly.com/radar/highlights-from-...</td>\n",
       "    </tr>\n",
       "  </tbody>\n",
       "</table>\n",
       "</div>"
      ],
      "text/plain": [
       "                                               title  \\\n",
       "0                   Four short links: 2 October 2019   \n",
       "1                   Four short links: 1 October 2019   \n",
       "2  TinyML: The challenges and opportunities of lo...   \n",
       "3                Four short links: 30 September 2019   \n",
       "4  Highlights from the Strata Data Conference in ...   \n",
       "\n",
       "                                        title_detail  \\\n",
       "0  {'type': 'text/plain', 'language': None, 'base...   \n",
       "1  {'type': 'text/plain', 'language': None, 'base...   \n",
       "2  {'type': 'text/plain', 'language': None, 'base...   \n",
       "3  {'type': 'text/plain', 'language': None, 'base...   \n",
       "4  {'type': 'text/plain', 'language': None, 'base...   \n",
       "\n",
       "                                               links  \\\n",
       "0  [{'rel': 'alternate', 'type': 'text/html', 'hr...   \n",
       "1  [{'rel': 'alternate', 'type': 'text/html', 'hr...   \n",
       "2  [{'rel': 'alternate', 'type': 'text/html', 'hr...   \n",
       "3  [{'rel': 'alternate', 'type': 'text/html', 'hr...   \n",
       "4  [{'rel': 'alternate', 'type': 'text/html', 'hr...   \n",
       "\n",
       "                                                link  \\\n",
       "0  http://feedproxy.google.com/~r/oreilly/radar/a...   \n",
       "1  http://feedproxy.google.com/~r/oreilly/radar/a...   \n",
       "2  http://feedproxy.google.com/~r/oreilly/radar/a...   \n",
       "3  http://feedproxy.google.com/~r/oreilly/radar/a...   \n",
       "4  http://feedproxy.google.com/~r/oreilly/radar/a...   \n",
       "\n",
       "                                            comments  \\\n",
       "0  https://www.oreilly.com/radar/four-short-links...   \n",
       "1  https://www.oreilly.com/radar/four-short-links...   \n",
       "2  https://www.oreilly.com/radar/tinyml-the-chall...   \n",
       "3  https://www.oreilly.com/radar/four-short-links...   \n",
       "4  https://www.oreilly.com/radar/highlights-from-...   \n",
       "\n",
       "                         published                     published_parsed  \\\n",
       "0  Wed, 02 Oct 2019 04:01:09 +0000    (2019, 10, 2, 4, 1, 9, 2, 275, 0)   \n",
       "1  Tue, 01 Oct 2019 04:05:11 +0000   (2019, 10, 1, 4, 5, 11, 1, 274, 0)   \n",
       "2  Tue, 01 Oct 2019 04:01:53 +0000   (2019, 10, 1, 4, 1, 53, 1, 274, 0)   \n",
       "3  Mon, 30 Sep 2019 04:01:40 +0000   (2019, 9, 30, 4, 1, 40, 0, 273, 0)   \n",
       "4  Fri, 27 Sep 2019 12:00:52 +0000  (2019, 9, 27, 12, 0, 52, 4, 270, 0)   \n",
       "\n",
       "                            authors             author  \\\n",
       "0  [{'email': 'jwebb@oreilly.com'}]  jwebb@oreilly.com   \n",
       "1  [{'email': 'jwebb@oreilly.com'}]  jwebb@oreilly.com   \n",
       "2          [{'name': 'Mac Slocum'}]         Mac Slocum   \n",
       "3          [{'name': 'Mac Slocum'}]         Mac Slocum   \n",
       "4          [{'name': 'Mac Slocum'}]         Mac Slocum   \n",
       "\n",
       "                    author_detail  \\\n",
       "0  {'email': 'jwebb@oreilly.com'}   \n",
       "1  {'email': 'jwebb@oreilly.com'}   \n",
       "2          {'name': 'Mac Slocum'}   \n",
       "3          {'name': 'Mac Slocum'}   \n",
       "4          {'name': 'Mac Slocum'}   \n",
       "\n",
       "                                                tags  \\\n",
       "0  [{'term': 'Four Short Links', 'scheme': None, ...   \n",
       "1  [{'term': 'Four Short Links', 'scheme': None, ...   \n",
       "2  [{'term': '~home', 'scheme': None, 'label': No...   \n",
       "3  [{'term': 'Four Short Links', 'scheme': None, ...   \n",
       "4  [{'term': 'AI & ML', 'scheme': None, 'label': ...   \n",
       "\n",
       "                                      id  guidislink  \\\n",
       "0  https://www.oreilly.com/radar/?p=9832       False   \n",
       "1  https://www.oreilly.com/radar/?p=9792       False   \n",
       "2  https://www.oreilly.com/radar/?p=9378       False   \n",
       "3  https://www.oreilly.com/radar/?p=9768       False   \n",
       "4  https://www.oreilly.com/radar/?p=9487       False   \n",
       "\n",
       "                                             summary  \\\n",
       "0  Data Fallacies to Avoid &#8212; nifty infograp...   \n",
       "1  Just Enough Research &#8212; a book that comes...   \n",
       "2  Pete Warden has an ambitious goal: he wants to...   \n",
       "3  Stamos on CLOUD Act — cogent and informative s...   \n",
       "4  People from across the data world came togethe...   \n",
       "\n",
       "                                      summary_detail  \\\n",
       "0  {'type': 'text/html', 'language': None, 'base'...   \n",
       "1  {'type': 'text/html', 'language': None, 'base'...   \n",
       "2  {'type': 'text/html', 'language': None, 'base'...   \n",
       "3  {'type': 'text/html', 'language': None, 'base'...   \n",
       "4  {'type': 'text/html', 'language': None, 'base'...   \n",
       "\n",
       "                                             content  \\\n",
       "0  [{'type': 'text/html', 'language': None, 'base...   \n",
       "1  [{'type': 'text/html', 'language': None, 'base...   \n",
       "2  [{'type': 'text/html', 'language': None, 'base...   \n",
       "3  [{'type': 'text/html', 'language': None, 'base...   \n",
       "4  [{'type': 'text/html', 'language': None, 'base...   \n",
       "\n",
       "                                      wfw_commentrss slash_comments  \\\n",
       "0  https://www.oreilly.com/radar/four-short-links...              0   \n",
       "1  https://www.oreilly.com/radar/four-short-links...              0   \n",
       "2  https://www.oreilly.com/radar/tinyml-the-chall...              0   \n",
       "3  https://www.oreilly.com/radar/four-short-links...              0   \n",
       "4  https://www.oreilly.com/radar/highlights-from-...              0   \n",
       "\n",
       "                                 feedburner_origlink  \n",
       "0  https://www.oreilly.com/radar/four-short-links...  \n",
       "1  https://www.oreilly.com/radar/four-short-links...  \n",
       "2  https://www.oreilly.com/radar/tinyml-the-chall...  \n",
       "3  https://www.oreilly.com/radar/four-short-links...  \n",
       "4  https://www.oreilly.com/radar/highlights-from-...  "
      ]
     },
     "execution_count": 76,
     "metadata": {},
     "output_type": "execute_result"
    }
   ],
   "source": [
    "df = pd.DataFrame(data.entries)\n",
    "df.head()"
   ]
  },
  {
   "cell_type": "markdown",
   "metadata": {},
   "source": [
    "### 10. Count the number of entries per author and sort them in descending order."
   ]
  },
  {
   "cell_type": "code",
   "execution_count": 77,
   "metadata": {},
   "outputs": [
    {
     "data": {
      "text/html": [
       "<div>\n",
       "<style scoped>\n",
       "    .dataframe tbody tr th:only-of-type {\n",
       "        vertical-align: middle;\n",
       "    }\n",
       "\n",
       "    .dataframe tbody tr th {\n",
       "        vertical-align: top;\n",
       "    }\n",
       "\n",
       "    .dataframe thead th {\n",
       "        text-align: right;\n",
       "    }\n",
       "</style>\n",
       "<table border=\"1\" class=\"dataframe\">\n",
       "  <thead>\n",
       "    <tr style=\"text-align: right;\">\n",
       "      <th></th>\n",
       "      <th>author</th>\n",
       "      <th>entries</th>\n",
       "    </tr>\n",
       "  </thead>\n",
       "  <tbody>\n",
       "    <tr>\n",
       "      <td>0</td>\n",
       "      <td>Mac Slocum</td>\n",
       "      <td>16</td>\n",
       "    </tr>\n",
       "    <tr>\n",
       "      <td>1</td>\n",
       "      <td>jwebb@oreilly.com</td>\n",
       "      <td>2</td>\n",
       "    </tr>\n",
       "  </tbody>\n",
       "</table>\n",
       "</div>"
      ],
      "text/plain": [
       "              author  entries\n",
       "0         Mac Slocum       16\n",
       "1  jwebb@oreilly.com        2"
      ]
     },
     "execution_count": 77,
     "metadata": {},
     "output_type": "execute_result"
    }
   ],
   "source": [
    "authors = df.groupby('author', as_index=False).agg({'title':'count'})\n",
    "authors.columns = ['author', 'entries']\n",
    "authors.sort_values('entries', ascending=False)"
   ]
  },
  {
   "cell_type": "markdown",
   "metadata": {},
   "source": [
    "### 11. Add a new column to the data frame that contains the length (number of characters) of each entry title. Return a data frame that contains the title, author, and title length of each entry in descending order (longest title length at the top)."
   ]
  },
  {
   "cell_type": "code",
   "execution_count": 82,
   "metadata": {},
   "outputs": [
    {
     "data": {
      "text/plain": [
       "[32, 32, 69, 35, 59, 35, 107, 57, 71, 66, 31, 26, 52, 32, 35, 42, 28, 38]"
      ]
     },
     "execution_count": 82,
     "metadata": {},
     "output_type": "execute_result"
    }
   ],
   "source": [
    "[len(tit) for tit in df[\"title\"]]"
   ]
  },
  {
   "cell_type": "code",
   "execution_count": 86,
   "metadata": {},
   "outputs": [],
   "source": [
    "df[\"length\"]=[len(tit) for tit in df[\"title\"]]"
   ]
  },
  {
   "cell_type": "code",
   "execution_count": 94,
   "metadata": {},
   "outputs": [
    {
     "data": {
      "text/html": [
       "<div>\n",
       "<style scoped>\n",
       "    .dataframe tbody tr th:only-of-type {\n",
       "        vertical-align: middle;\n",
       "    }\n",
       "\n",
       "    .dataframe tbody tr th {\n",
       "        vertical-align: top;\n",
       "    }\n",
       "\n",
       "    .dataframe thead th {\n",
       "        text-align: right;\n",
       "    }\n",
       "</style>\n",
       "<table border=\"1\" class=\"dataframe\">\n",
       "  <thead>\n",
       "    <tr style=\"text-align: right;\">\n",
       "      <th></th>\n",
       "      <th>author</th>\n",
       "      <th>title</th>\n",
       "      <th>length</th>\n",
       "    </tr>\n",
       "  </thead>\n",
       "  <tbody>\n",
       "    <tr>\n",
       "      <td>6</td>\n",
       "      <td>Mac Slocum</td>\n",
       "      <td>Data Science Pioneers: Conquering the next fro...</td>\n",
       "      <td>107</td>\n",
       "    </tr>\n",
       "    <tr>\n",
       "      <td>8</td>\n",
       "      <td>Mac Slocum</td>\n",
       "      <td>Say what? The ethical challenges of designing ...</td>\n",
       "      <td>71</td>\n",
       "    </tr>\n",
       "    <tr>\n",
       "      <td>2</td>\n",
       "      <td>Mac Slocum</td>\n",
       "      <td>TinyML: The challenges and opportunities of lo...</td>\n",
       "      <td>69</td>\n",
       "    </tr>\n",
       "    <tr>\n",
       "      <td>9</td>\n",
       "      <td>Mac Slocum</td>\n",
       "      <td>RL in real life: Bringing reinforcement learni...</td>\n",
       "      <td>66</td>\n",
       "    </tr>\n",
       "    <tr>\n",
       "      <td>4</td>\n",
       "      <td>Mac Slocum</td>\n",
       "      <td>Highlights from the Strata Data Conference in ...</td>\n",
       "      <td>59</td>\n",
       "    </tr>\n",
       "    <tr>\n",
       "      <td>7</td>\n",
       "      <td>Mac Slocum</td>\n",
       "      <td>Postrevolutionary big data: Promoting the gene...</td>\n",
       "      <td>57</td>\n",
       "    </tr>\n",
       "    <tr>\n",
       "      <td>12</td>\n",
       "      <td>Mac Slocum</td>\n",
       "      <td>Data sonification: Making music from the yield...</td>\n",
       "      <td>52</td>\n",
       "    </tr>\n",
       "    <tr>\n",
       "      <td>15</td>\n",
       "      <td>Mac Slocum</td>\n",
       "      <td>The future of Google Cloud data processing</td>\n",
       "      <td>42</td>\n",
       "    </tr>\n",
       "    <tr>\n",
       "      <td>17</td>\n",
       "      <td>Mac Slocum</td>\n",
       "      <td>AI isn’t magic. It’s computer science.</td>\n",
       "      <td>38</td>\n",
       "    </tr>\n",
       "    <tr>\n",
       "      <td>5</td>\n",
       "      <td>Mac Slocum</td>\n",
       "      <td>Four short links: 27 September 2019</td>\n",
       "      <td>35</td>\n",
       "    </tr>\n",
       "    <tr>\n",
       "      <td>14</td>\n",
       "      <td>Mac Slocum</td>\n",
       "      <td>Four Short Links: 26 September 2019</td>\n",
       "      <td>35</td>\n",
       "    </tr>\n",
       "    <tr>\n",
       "      <td>3</td>\n",
       "      <td>Mac Slocum</td>\n",
       "      <td>Four short links: 30 September 2019</td>\n",
       "      <td>35</td>\n",
       "    </tr>\n",
       "    <tr>\n",
       "      <td>1</td>\n",
       "      <td>jwebb@oreilly.com</td>\n",
       "      <td>Four short links: 1 October 2019</td>\n",
       "      <td>32</td>\n",
       "    </tr>\n",
       "    <tr>\n",
       "      <td>13</td>\n",
       "      <td>Mac Slocum</td>\n",
       "      <td>Unlocking the value of your data</td>\n",
       "      <td>32</td>\n",
       "    </tr>\n",
       "    <tr>\n",
       "      <td>0</td>\n",
       "      <td>jwebb@oreilly.com</td>\n",
       "      <td>Four short links: 2 October 2019</td>\n",
       "      <td>32</td>\n",
       "    </tr>\n",
       "    <tr>\n",
       "      <td>10</td>\n",
       "      <td>Mac Slocum</td>\n",
       "      <td>Strata Data Awards winners 2019</td>\n",
       "      <td>31</td>\n",
       "    </tr>\n",
       "    <tr>\n",
       "      <td>16</td>\n",
       "      <td>Mac Slocum</td>\n",
       "      <td>Interactive sports analytics</td>\n",
       "      <td>28</td>\n",
       "    </tr>\n",
       "    <tr>\n",
       "      <td>11</td>\n",
       "      <td>Mac Slocum</td>\n",
       "      <td>Staying safe in the AI era</td>\n",
       "      <td>26</td>\n",
       "    </tr>\n",
       "  </tbody>\n",
       "</table>\n",
       "</div>"
      ],
      "text/plain": [
       "               author                                              title  \\\n",
       "6          Mac Slocum  Data Science Pioneers: Conquering the next fro...   \n",
       "8          Mac Slocum  Say what? The ethical challenges of designing ...   \n",
       "2          Mac Slocum  TinyML: The challenges and opportunities of lo...   \n",
       "9          Mac Slocum  RL in real life: Bringing reinforcement learni...   \n",
       "4          Mac Slocum  Highlights from the Strata Data Conference in ...   \n",
       "7          Mac Slocum  Postrevolutionary big data: Promoting the gene...   \n",
       "12         Mac Slocum  Data sonification: Making music from the yield...   \n",
       "15         Mac Slocum         The future of Google Cloud data processing   \n",
       "17         Mac Slocum             AI isn’t magic. It’s computer science.   \n",
       "5          Mac Slocum                Four short links: 27 September 2019   \n",
       "14         Mac Slocum                Four Short Links: 26 September 2019   \n",
       "3          Mac Slocum                Four short links: 30 September 2019   \n",
       "1   jwebb@oreilly.com                   Four short links: 1 October 2019   \n",
       "13         Mac Slocum                   Unlocking the value of your data   \n",
       "0   jwebb@oreilly.com                   Four short links: 2 October 2019   \n",
       "10         Mac Slocum                    Strata Data Awards winners 2019   \n",
       "16         Mac Slocum                       Interactive sports analytics   \n",
       "11         Mac Slocum                         Staying safe in the AI era   \n",
       "\n",
       "    length  \n",
       "6      107  \n",
       "8       71  \n",
       "2       69  \n",
       "9       66  \n",
       "4       59  \n",
       "7       57  \n",
       "12      52  \n",
       "15      42  \n",
       "17      38  \n",
       "5       35  \n",
       "14      35  \n",
       "3       35  \n",
       "1       32  \n",
       "13      32  \n",
       "0       32  \n",
       "10      31  \n",
       "16      28  \n",
       "11      26  "
      ]
     },
     "execution_count": 94,
     "metadata": {},
     "output_type": "execute_result"
    }
   ],
   "source": [
    "df2 = df[['author', 'title', 'length']]\n",
    "df2.sort_values('length', ascending=False)"
   ]
  },
  {
   "cell_type": "markdown",
   "metadata": {},
   "source": [
    "### 12. Create a list of entry titles whose summary includes the phrase \"machine learning.\""
   ]
  },
  {
   "cell_type": "code",
   "execution_count": 111,
   "metadata": {},
   "outputs": [],
   "source": [
    "df[\"summary\"]=[y.lower() for y in df[\"summary\"]]"
   ]
  },
  {
   "cell_type": "code",
   "execution_count": 113,
   "metadata": {},
   "outputs": [
    {
     "data": {
      "text/html": [
       "<div>\n",
       "<style scoped>\n",
       "    .dataframe tbody tr th:only-of-type {\n",
       "        vertical-align: middle;\n",
       "    }\n",
       "\n",
       "    .dataframe tbody tr th {\n",
       "        vertical-align: top;\n",
       "    }\n",
       "\n",
       "    .dataframe thead th {\n",
       "        text-align: right;\n",
       "    }\n",
       "</style>\n",
       "<table border=\"1\" class=\"dataframe\">\n",
       "  <thead>\n",
       "    <tr style=\"text-align: right;\">\n",
       "      <th></th>\n",
       "      <th>title</th>\n",
       "      <th>title_detail</th>\n",
       "      <th>links</th>\n",
       "      <th>link</th>\n",
       "      <th>comments</th>\n",
       "      <th>published</th>\n",
       "      <th>published_parsed</th>\n",
       "      <th>authors</th>\n",
       "      <th>author</th>\n",
       "      <th>author_detail</th>\n",
       "      <th>tags</th>\n",
       "      <th>id</th>\n",
       "      <th>guidislink</th>\n",
       "      <th>summary</th>\n",
       "      <th>summary_detail</th>\n",
       "      <th>content</th>\n",
       "      <th>wfw_commentrss</th>\n",
       "      <th>slash_comments</th>\n",
       "      <th>feedburner_origlink</th>\n",
       "      <th>length</th>\n",
       "    </tr>\n",
       "  </thead>\n",
       "  <tbody>\n",
       "    <tr>\n",
       "      <td>0</td>\n",
       "      <td>Four short links: 2 October 2019</td>\n",
       "      <td>{'type': 'text/plain', 'language': None, 'base...</td>\n",
       "      <td>[{'rel': 'alternate', 'type': 'text/html', 'hr...</td>\n",
       "      <td>http://feedproxy.google.com/~r/oreilly/radar/a...</td>\n",
       "      <td>https://www.oreilly.com/radar/four-short-links...</td>\n",
       "      <td>Wed, 02 Oct 2019 04:01:09 +0000</td>\n",
       "      <td>(2019, 10, 2, 4, 1, 9, 2, 275, 0)</td>\n",
       "      <td>[{'email': 'jwebb@oreilly.com'}]</td>\n",
       "      <td>jwebb@oreilly.com</td>\n",
       "      <td>{'email': 'jwebb@oreilly.com'}</td>\n",
       "      <td>[{'term': 'Four Short Links', 'scheme': None, ...</td>\n",
       "      <td>https://www.oreilly.com/radar/?p=9832</td>\n",
       "      <td>False</td>\n",
       "      <td>data fallacies to avoid &amp;#8212; nifty infograp...</td>\n",
       "      <td>{'type': 'text/html', 'language': None, 'base'...</td>\n",
       "      <td>[{'type': 'text/html', 'language': None, 'base...</td>\n",
       "      <td>https://www.oreilly.com/radar/four-short-links...</td>\n",
       "      <td>0</td>\n",
       "      <td>https://www.oreilly.com/radar/four-short-links...</td>\n",
       "      <td>32</td>\n",
       "    </tr>\n",
       "    <tr>\n",
       "      <td>1</td>\n",
       "      <td>Four short links: 1 October 2019</td>\n",
       "      <td>{'type': 'text/plain', 'language': None, 'base...</td>\n",
       "      <td>[{'rel': 'alternate', 'type': 'text/html', 'hr...</td>\n",
       "      <td>http://feedproxy.google.com/~r/oreilly/radar/a...</td>\n",
       "      <td>https://www.oreilly.com/radar/four-short-links...</td>\n",
       "      <td>Tue, 01 Oct 2019 04:05:11 +0000</td>\n",
       "      <td>(2019, 10, 1, 4, 5, 11, 1, 274, 0)</td>\n",
       "      <td>[{'email': 'jwebb@oreilly.com'}]</td>\n",
       "      <td>jwebb@oreilly.com</td>\n",
       "      <td>{'email': 'jwebb@oreilly.com'}</td>\n",
       "      <td>[{'term': 'Four Short Links', 'scheme': None, ...</td>\n",
       "      <td>https://www.oreilly.com/radar/?p=9792</td>\n",
       "      <td>False</td>\n",
       "      <td>just enough research &amp;#8212; a book that comes...</td>\n",
       "      <td>{'type': 'text/html', 'language': None, 'base'...</td>\n",
       "      <td>[{'type': 'text/html', 'language': None, 'base...</td>\n",
       "      <td>https://www.oreilly.com/radar/four-short-links...</td>\n",
       "      <td>0</td>\n",
       "      <td>https://www.oreilly.com/radar/four-short-links...</td>\n",
       "      <td>32</td>\n",
       "    </tr>\n",
       "    <tr>\n",
       "      <td>2</td>\n",
       "      <td>TinyML: The challenges and opportunities of lo...</td>\n",
       "      <td>{'type': 'text/plain', 'language': None, 'base...</td>\n",
       "      <td>[{'rel': 'alternate', 'type': 'text/html', 'hr...</td>\n",
       "      <td>http://feedproxy.google.com/~r/oreilly/radar/a...</td>\n",
       "      <td>https://www.oreilly.com/radar/tinyml-the-chall...</td>\n",
       "      <td>Tue, 01 Oct 2019 04:01:53 +0000</td>\n",
       "      <td>(2019, 10, 1, 4, 1, 53, 1, 274, 0)</td>\n",
       "      <td>[{'name': 'Mac Slocum'}]</td>\n",
       "      <td>Mac Slocum</td>\n",
       "      <td>{'name': 'Mac Slocum'}</td>\n",
       "      <td>[{'term': '~home', 'scheme': None, 'label': No...</td>\n",
       "      <td>https://www.oreilly.com/radar/?p=9378</td>\n",
       "      <td>False</td>\n",
       "      <td>pete warden has an ambitious goal: he wants to...</td>\n",
       "      <td>{'type': 'text/html', 'language': None, 'base'...</td>\n",
       "      <td>[{'type': 'text/html', 'language': None, 'base...</td>\n",
       "      <td>https://www.oreilly.com/radar/tinyml-the-chall...</td>\n",
       "      <td>0</td>\n",
       "      <td>https://www.oreilly.com/radar/tinyml-the-chall...</td>\n",
       "      <td>69</td>\n",
       "    </tr>\n",
       "    <tr>\n",
       "      <td>3</td>\n",
       "      <td>Four short links: 30 September 2019</td>\n",
       "      <td>{'type': 'text/plain', 'language': None, 'base...</td>\n",
       "      <td>[{'rel': 'alternate', 'type': 'text/html', 'hr...</td>\n",
       "      <td>http://feedproxy.google.com/~r/oreilly/radar/a...</td>\n",
       "      <td>https://www.oreilly.com/radar/four-short-links...</td>\n",
       "      <td>Mon, 30 Sep 2019 04:01:40 +0000</td>\n",
       "      <td>(2019, 9, 30, 4, 1, 40, 0, 273, 0)</td>\n",
       "      <td>[{'name': 'Mac Slocum'}]</td>\n",
       "      <td>Mac Slocum</td>\n",
       "      <td>{'name': 'Mac Slocum'}</td>\n",
       "      <td>[{'term': 'Four Short Links', 'scheme': None, ...</td>\n",
       "      <td>https://www.oreilly.com/radar/?p=9768</td>\n",
       "      <td>False</td>\n",
       "      <td>stamos on cloud act — cogent and informative s...</td>\n",
       "      <td>{'type': 'text/html', 'language': None, 'base'...</td>\n",
       "      <td>[{'type': 'text/html', 'language': None, 'base...</td>\n",
       "      <td>https://www.oreilly.com/radar/four-short-links...</td>\n",
       "      <td>0</td>\n",
       "      <td>https://www.oreilly.com/radar/four-short-links...</td>\n",
       "      <td>35</td>\n",
       "    </tr>\n",
       "    <tr>\n",
       "      <td>4</td>\n",
       "      <td>Highlights from the Strata Data Conference in ...</td>\n",
       "      <td>{'type': 'text/plain', 'language': None, 'base...</td>\n",
       "      <td>[{'rel': 'alternate', 'type': 'text/html', 'hr...</td>\n",
       "      <td>http://feedproxy.google.com/~r/oreilly/radar/a...</td>\n",
       "      <td>https://www.oreilly.com/radar/highlights-from-...</td>\n",
       "      <td>Fri, 27 Sep 2019 12:00:52 +0000</td>\n",
       "      <td>(2019, 9, 27, 12, 0, 52, 4, 270, 0)</td>\n",
       "      <td>[{'name': 'Mac Slocum'}]</td>\n",
       "      <td>Mac Slocum</td>\n",
       "      <td>{'name': 'Mac Slocum'}</td>\n",
       "      <td>[{'term': 'AI &amp; ML', 'scheme': None, 'label': ...</td>\n",
       "      <td>https://www.oreilly.com/radar/?p=9487</td>\n",
       "      <td>False</td>\n",
       "      <td>people from across the data world came togethe...</td>\n",
       "      <td>{'type': 'text/html', 'language': None, 'base'...</td>\n",
       "      <td>[{'type': 'text/html', 'language': None, 'base...</td>\n",
       "      <td>https://www.oreilly.com/radar/highlights-from-...</td>\n",
       "      <td>0</td>\n",
       "      <td>https://www.oreilly.com/radar/highlights-from-...</td>\n",
       "      <td>59</td>\n",
       "    </tr>\n",
       "  </tbody>\n",
       "</table>\n",
       "</div>"
      ],
      "text/plain": [
       "                                               title  \\\n",
       "0                   Four short links: 2 October 2019   \n",
       "1                   Four short links: 1 October 2019   \n",
       "2  TinyML: The challenges and opportunities of lo...   \n",
       "3                Four short links: 30 September 2019   \n",
       "4  Highlights from the Strata Data Conference in ...   \n",
       "\n",
       "                                        title_detail  \\\n",
       "0  {'type': 'text/plain', 'language': None, 'base...   \n",
       "1  {'type': 'text/plain', 'language': None, 'base...   \n",
       "2  {'type': 'text/plain', 'language': None, 'base...   \n",
       "3  {'type': 'text/plain', 'language': None, 'base...   \n",
       "4  {'type': 'text/plain', 'language': None, 'base...   \n",
       "\n",
       "                                               links  \\\n",
       "0  [{'rel': 'alternate', 'type': 'text/html', 'hr...   \n",
       "1  [{'rel': 'alternate', 'type': 'text/html', 'hr...   \n",
       "2  [{'rel': 'alternate', 'type': 'text/html', 'hr...   \n",
       "3  [{'rel': 'alternate', 'type': 'text/html', 'hr...   \n",
       "4  [{'rel': 'alternate', 'type': 'text/html', 'hr...   \n",
       "\n",
       "                                                link  \\\n",
       "0  http://feedproxy.google.com/~r/oreilly/radar/a...   \n",
       "1  http://feedproxy.google.com/~r/oreilly/radar/a...   \n",
       "2  http://feedproxy.google.com/~r/oreilly/radar/a...   \n",
       "3  http://feedproxy.google.com/~r/oreilly/radar/a...   \n",
       "4  http://feedproxy.google.com/~r/oreilly/radar/a...   \n",
       "\n",
       "                                            comments  \\\n",
       "0  https://www.oreilly.com/radar/four-short-links...   \n",
       "1  https://www.oreilly.com/radar/four-short-links...   \n",
       "2  https://www.oreilly.com/radar/tinyml-the-chall...   \n",
       "3  https://www.oreilly.com/radar/four-short-links...   \n",
       "4  https://www.oreilly.com/radar/highlights-from-...   \n",
       "\n",
       "                         published                     published_parsed  \\\n",
       "0  Wed, 02 Oct 2019 04:01:09 +0000    (2019, 10, 2, 4, 1, 9, 2, 275, 0)   \n",
       "1  Tue, 01 Oct 2019 04:05:11 +0000   (2019, 10, 1, 4, 5, 11, 1, 274, 0)   \n",
       "2  Tue, 01 Oct 2019 04:01:53 +0000   (2019, 10, 1, 4, 1, 53, 1, 274, 0)   \n",
       "3  Mon, 30 Sep 2019 04:01:40 +0000   (2019, 9, 30, 4, 1, 40, 0, 273, 0)   \n",
       "4  Fri, 27 Sep 2019 12:00:52 +0000  (2019, 9, 27, 12, 0, 52, 4, 270, 0)   \n",
       "\n",
       "                            authors             author  \\\n",
       "0  [{'email': 'jwebb@oreilly.com'}]  jwebb@oreilly.com   \n",
       "1  [{'email': 'jwebb@oreilly.com'}]  jwebb@oreilly.com   \n",
       "2          [{'name': 'Mac Slocum'}]         Mac Slocum   \n",
       "3          [{'name': 'Mac Slocum'}]         Mac Slocum   \n",
       "4          [{'name': 'Mac Slocum'}]         Mac Slocum   \n",
       "\n",
       "                    author_detail  \\\n",
       "0  {'email': 'jwebb@oreilly.com'}   \n",
       "1  {'email': 'jwebb@oreilly.com'}   \n",
       "2          {'name': 'Mac Slocum'}   \n",
       "3          {'name': 'Mac Slocum'}   \n",
       "4          {'name': 'Mac Slocum'}   \n",
       "\n",
       "                                                tags  \\\n",
       "0  [{'term': 'Four Short Links', 'scheme': None, ...   \n",
       "1  [{'term': 'Four Short Links', 'scheme': None, ...   \n",
       "2  [{'term': '~home', 'scheme': None, 'label': No...   \n",
       "3  [{'term': 'Four Short Links', 'scheme': None, ...   \n",
       "4  [{'term': 'AI & ML', 'scheme': None, 'label': ...   \n",
       "\n",
       "                                      id  guidislink  \\\n",
       "0  https://www.oreilly.com/radar/?p=9832       False   \n",
       "1  https://www.oreilly.com/radar/?p=9792       False   \n",
       "2  https://www.oreilly.com/radar/?p=9378       False   \n",
       "3  https://www.oreilly.com/radar/?p=9768       False   \n",
       "4  https://www.oreilly.com/radar/?p=9487       False   \n",
       "\n",
       "                                             summary  \\\n",
       "0  data fallacies to avoid &#8212; nifty infograp...   \n",
       "1  just enough research &#8212; a book that comes...   \n",
       "2  pete warden has an ambitious goal: he wants to...   \n",
       "3  stamos on cloud act — cogent and informative s...   \n",
       "4  people from across the data world came togethe...   \n",
       "\n",
       "                                      summary_detail  \\\n",
       "0  {'type': 'text/html', 'language': None, 'base'...   \n",
       "1  {'type': 'text/html', 'language': None, 'base'...   \n",
       "2  {'type': 'text/html', 'language': None, 'base'...   \n",
       "3  {'type': 'text/html', 'language': None, 'base'...   \n",
       "4  {'type': 'text/html', 'language': None, 'base'...   \n",
       "\n",
       "                                             content  \\\n",
       "0  [{'type': 'text/html', 'language': None, 'base...   \n",
       "1  [{'type': 'text/html', 'language': None, 'base...   \n",
       "2  [{'type': 'text/html', 'language': None, 'base...   \n",
       "3  [{'type': 'text/html', 'language': None, 'base...   \n",
       "4  [{'type': 'text/html', 'language': None, 'base...   \n",
       "\n",
       "                                      wfw_commentrss slash_comments  \\\n",
       "0  https://www.oreilly.com/radar/four-short-links...              0   \n",
       "1  https://www.oreilly.com/radar/four-short-links...              0   \n",
       "2  https://www.oreilly.com/radar/tinyml-the-chall...              0   \n",
       "3  https://www.oreilly.com/radar/four-short-links...              0   \n",
       "4  https://www.oreilly.com/radar/highlights-from-...              0   \n",
       "\n",
       "                                 feedburner_origlink  length  \n",
       "0  https://www.oreilly.com/radar/four-short-links...      32  \n",
       "1  https://www.oreilly.com/radar/four-short-links...      32  \n",
       "2  https://www.oreilly.com/radar/tinyml-the-chall...      69  \n",
       "3  https://www.oreilly.com/radar/four-short-links...      35  \n",
       "4  https://www.oreilly.com/radar/highlights-from-...      59  "
      ]
     },
     "execution_count": 113,
     "metadata": {},
     "output_type": "execute_result"
    }
   ],
   "source": [
    "df.head()"
   ]
  },
  {
   "cell_type": "code",
   "execution_count": 125,
   "metadata": {},
   "outputs": [
    {
     "data": {
      "text/plain": [
       "array(['TinyML: The challenges and opportunities of low-power ML applications'], dtype=object)"
      ]
     },
     "execution_count": 125,
     "metadata": {},
     "output_type": "execute_result"
    }
   ],
   "source": [
    "df[df[\"summary\"].str.contains(\"machine learning\")][\"title\"].values"
   ]
  },
  {
   "cell_type": "code",
   "execution_count": 126,
   "metadata": {},
   "outputs": [
    {
     "data": {
      "text/plain": [
       "0     False\n",
       "1     False\n",
       "2      True\n",
       "3     False\n",
       "4     False\n",
       "5     False\n",
       "6     False\n",
       "7     False\n",
       "8     False\n",
       "9     False\n",
       "10    False\n",
       "11    False\n",
       "12    False\n",
       "13    False\n",
       "14    False\n",
       "15    False\n",
       "16    False\n",
       "17    False\n",
       "Name: summary, dtype: bool"
      ]
     },
     "execution_count": 126,
     "metadata": {},
     "output_type": "execute_result"
    }
   ],
   "source": [
    "df[\"summary\"].str.contains(\"machine learning\")"
   ]
  },
  {
   "cell_type": "code",
   "execution_count": 129,
   "metadata": {},
   "outputs": [
    {
     "data": {
      "text/html": [
       "<div>\n",
       "<style scoped>\n",
       "    .dataframe tbody tr th:only-of-type {\n",
       "        vertical-align: middle;\n",
       "    }\n",
       "\n",
       "    .dataframe tbody tr th {\n",
       "        vertical-align: top;\n",
       "    }\n",
       "\n",
       "    .dataframe thead th {\n",
       "        text-align: right;\n",
       "    }\n",
       "</style>\n",
       "<table border=\"1\" class=\"dataframe\">\n",
       "  <thead>\n",
       "    <tr style=\"text-align: right;\">\n",
       "      <th></th>\n",
       "      <th>title</th>\n",
       "      <th>title_detail</th>\n",
       "      <th>links</th>\n",
       "      <th>link</th>\n",
       "      <th>comments</th>\n",
       "      <th>published</th>\n",
       "      <th>published_parsed</th>\n",
       "      <th>authors</th>\n",
       "      <th>author</th>\n",
       "      <th>author_detail</th>\n",
       "      <th>tags</th>\n",
       "      <th>id</th>\n",
       "      <th>guidislink</th>\n",
       "      <th>summary</th>\n",
       "      <th>summary_detail</th>\n",
       "      <th>content</th>\n",
       "      <th>wfw_commentrss</th>\n",
       "      <th>slash_comments</th>\n",
       "      <th>feedburner_origlink</th>\n",
       "      <th>length</th>\n",
       "    </tr>\n",
       "  </thead>\n",
       "  <tbody>\n",
       "    <tr>\n",
       "      <td>2</td>\n",
       "      <td>TinyML: The challenges and opportunities of lo...</td>\n",
       "      <td>{'type': 'text/plain', 'language': None, 'base...</td>\n",
       "      <td>[{'rel': 'alternate', 'type': 'text/html', 'hr...</td>\n",
       "      <td>http://feedproxy.google.com/~r/oreilly/radar/a...</td>\n",
       "      <td>https://www.oreilly.com/radar/tinyml-the-chall...</td>\n",
       "      <td>Tue, 01 Oct 2019 04:01:53 +0000</td>\n",
       "      <td>(2019, 10, 1, 4, 1, 53, 1, 274, 0)</td>\n",
       "      <td>[{'name': 'Mac Slocum'}]</td>\n",
       "      <td>Mac Slocum</td>\n",
       "      <td>{'name': 'Mac Slocum'}</td>\n",
       "      <td>[{'term': '~home', 'scheme': None, 'label': No...</td>\n",
       "      <td>https://www.oreilly.com/radar/?p=9378</td>\n",
       "      <td>False</td>\n",
       "      <td>pete warden has an ambitious goal: he wants to...</td>\n",
       "      <td>{'type': 'text/html', 'language': None, 'base'...</td>\n",
       "      <td>[{'type': 'text/html', 'language': None, 'base...</td>\n",
       "      <td>https://www.oreilly.com/radar/tinyml-the-chall...</td>\n",
       "      <td>0</td>\n",
       "      <td>https://www.oreilly.com/radar/tinyml-the-chall...</td>\n",
       "      <td>69</td>\n",
       "    </tr>\n",
       "  </tbody>\n",
       "</table>\n",
       "</div>"
      ],
      "text/plain": [
       "                                               title  \\\n",
       "2  TinyML: The challenges and opportunities of lo...   \n",
       "\n",
       "                                        title_detail  \\\n",
       "2  {'type': 'text/plain', 'language': None, 'base...   \n",
       "\n",
       "                                               links  \\\n",
       "2  [{'rel': 'alternate', 'type': 'text/html', 'hr...   \n",
       "\n",
       "                                                link  \\\n",
       "2  http://feedproxy.google.com/~r/oreilly/radar/a...   \n",
       "\n",
       "                                            comments  \\\n",
       "2  https://www.oreilly.com/radar/tinyml-the-chall...   \n",
       "\n",
       "                         published                    published_parsed  \\\n",
       "2  Tue, 01 Oct 2019 04:01:53 +0000  (2019, 10, 1, 4, 1, 53, 1, 274, 0)   \n",
       "\n",
       "                    authors      author           author_detail  \\\n",
       "2  [{'name': 'Mac Slocum'}]  Mac Slocum  {'name': 'Mac Slocum'}   \n",
       "\n",
       "                                                tags  \\\n",
       "2  [{'term': '~home', 'scheme': None, 'label': No...   \n",
       "\n",
       "                                      id  guidislink  \\\n",
       "2  https://www.oreilly.com/radar/?p=9378       False   \n",
       "\n",
       "                                             summary  \\\n",
       "2  pete warden has an ambitious goal: he wants to...   \n",
       "\n",
       "                                      summary_detail  \\\n",
       "2  {'type': 'text/html', 'language': None, 'base'...   \n",
       "\n",
       "                                             content  \\\n",
       "2  [{'type': 'text/html', 'language': None, 'base...   \n",
       "\n",
       "                                      wfw_commentrss slash_comments  \\\n",
       "2  https://www.oreilly.com/radar/tinyml-the-chall...              0   \n",
       "\n",
       "                                 feedburner_origlink  length  \n",
       "2  https://www.oreilly.com/radar/tinyml-the-chall...      69  "
      ]
     },
     "execution_count": 129,
     "metadata": {},
     "output_type": "execute_result"
    }
   ],
   "source": [
    "df[df[\"summary\"].str.contains(\"machine learning\")]"
   ]
  },
  {
   "cell_type": "code",
   "execution_count": 107,
   "metadata": {},
   "outputs": [],
   "source": [
    "b=[y for y in a if \"machine learning\" in y]"
   ]
  },
  {
   "cell_type": "code",
   "execution_count": 108,
   "metadata": {},
   "outputs": [
    {
     "data": {
      "text/plain": [
       "['pete warden has an ambitious goal: he wants to build machine learning (ml) applications that can run on a microcontroller for a year using only a hearing aid battery for power. this goal means that the system&#8217;s power consumption has to be under a milliwatt, ideally a few tens of microwatts. this power level places [&#8230;]']"
      ]
     },
     "execution_count": 108,
     "metadata": {},
     "output_type": "execute_result"
    }
   ],
   "source": [
    "b"
   ]
  },
  {
   "cell_type": "code",
   "execution_count": null,
   "metadata": {},
   "outputs": [],
   "source": []
  },
  {
   "cell_type": "code",
   "execution_count": null,
   "metadata": {},
   "outputs": [],
   "source": []
  },
  {
   "cell_type": "code",
   "execution_count": null,
   "metadata": {},
   "outputs": [],
   "source": []
  }
 ],
 "metadata": {
  "kernelspec": {
   "display_name": "Python 3",
   "language": "python",
   "name": "python3"
  },
  "language_info": {
   "codemirror_mode": {
    "name": "ipython",
    "version": 3
   },
   "file_extension": ".py",
   "mimetype": "text/x-python",
   "name": "python",
   "nbconvert_exporter": "python",
   "pygments_lexer": "ipython3",
   "version": "3.6.8"
  }
 },
 "nbformat": 4,
 "nbformat_minor": 4
}
